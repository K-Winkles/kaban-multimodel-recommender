{
 "cells": [
  {
   "cell_type": "code",
   "execution_count": 1,
   "metadata": {},
   "outputs": [
    {
     "data": {
      "text/html": [
       "<script src=\"require.js\"></script>\n"
      ],
      "text/plain": [
       "<IPython.core.display.HTML object>"
      ]
     },
     "metadata": {},
     "output_type": "display_data"
    }
   ],
   "source": [
    "%%HTML\n",
    "<script src=\"require.js\"></script>"
   ]
  },
  {
   "cell_type": "code",
   "execution_count": 2,
   "metadata": {},
   "outputs": [
    {
     "data": {
      "text/html": [
       "<script src=\"https://cdnjs.cloudflare.com/ajax/libs/jquery/2.0.3/jquery.min.js \"></script><script>\n",
       "code_show=true; \n",
       "function code_toggle() {\n",
       "if (code_show){\n",
       "$('div.jp-CodeCell > div.jp-Cell-inputWrapper').hide();\n",
       "} else {\n",
       "$('div.jp-CodeCell > div.jp-Cell-inputWrapper').show();\n",
       "}\n",
       "code_show = !code_show\n",
       "} \n",
       "$( document ).ready(code_toggle);</script><form action=\"javascript:code_toggle()\"><input type=\"submit\" value=\"Toggle on/off for raw code\"></form>\n"
      ],
      "text/plain": [
       "<IPython.core.display.HTML object>"
      ]
     },
     "execution_count": 2,
     "metadata": {},
     "output_type": "execute_result"
    }
   ],
   "source": [
    "from IPython.display import HTML\n",
    "HTML('''<script src=\"https://cdnjs.cloudflare.com/ajax/libs/jquery/2.0.3/jquery.min.js \"></script><script>\n",
    "code_show=true; \n",
    "function code_toggle() {\n",
    "if (code_show){\n",
    "$('div.jp-CodeCell > div.jp-Cell-inputWrapper').hide();\n",
    "} else {\n",
    "$('div.jp-CodeCell > div.jp-Cell-inputWrapper').show();\n",
    "}\n",
    "code_show = !code_show\n",
    "} \n",
    "$( document ).ready(code_toggle);</script><form action=\"javascript:code_toggle()\"><input type=\"submit\" value=\"Toggle on/off for raw code\"></form>\n",
    "''')"
   ]
  },
  {
   "cell_type": "markdown",
   "metadata": {},
   "source": [
    "![DMW2_FP_Write_Up_Banner.png](DMW2_FP_Write_Up_Banner.png)"
   ]
  },
  {
   "cell_type": "markdown",
   "metadata": {},
   "source": [
    "<h2 style=\"color:#ff9900; background-color:#1c5177; padding: 10px; text-align:left; border: 1px solid #4a62d8;\">Abstract</h2>\n",
    "\n",
    "The purpose of this initiative is to develop multiple recommender systems that can provide personalized product recommendations to e-commerce platform users based on a variety of factors such as purchase history, product ratings, and interests of similar users. It also aims to compare the performance of these recommendation models across different metrics. \n",
    "\n",
    "The process involved scraping the data from Amazon.com using Crawlbase API, an all-in-one data crawling and scraping platform, based on defined search terms. After preprocessing, the aggregated data is then fed to recommender system models including Neighborhood-Based Collaborative Filtering, Latent Factor-Based Collaborative Filtering, Content-Based Recommender System, as well as a Hybrid Recommender System using LightFM, to generate product recommendations for users with at least five product reviews.  \n",
    "\n",
    "After a thorough analysis of the results, the team was able to identify 2 tiers of multimodel recommender systems that would be appropriate for the specific application / requirement of digital market owners and thereby deliver the most business value.  \n",
    "\n",
    "<p style=\"text-align: center;\"><strong>Table 1: Basic Recommender System</strong></p>\n",
    "\n",
    "| Model Name | Algorithm | Description | NDCG @ k=10 |\n",
    "|-----|-----|-----|-----|\n",
    "| Payak | KNN Basic | Recommends products based on your closest friends | 0.27 |\n",
    "| Damayan |KNN with Means | Optimized method of recommending products based on your closest friends | 0.27 |\n",
    "| Aparte | SVD | Recommends products based on common patterns between users and items | 0.26 |\n",
    "\n",
    "<p style=\"text-align: center;\"><strong>Table 2: Premium Recommender System</strong></p>\n",
    "\n",
    "| Model Name | Algorithm | Description | NDCG @ k=10 |\n",
    "|-----|-----|-----|-----|\n",
    "| Barkada | Latent Factor Based Collaborative Filtering (ALS) | Recommends Products based on your closest friends | 0.99 |\n",
    "| Suki | Content-Based Recommender System | Recommends Products based on your previous purchase history | 0.96 |\n",
    "| Sari-sari | Hybrid Recommender System | Recommends a variety of Products that you might like based on your previous purchase history and your closest friends | 0.99 |\n",
    "\n",
    "The results showed that the recommendations provided by the algorithms are more personalized compared to the baseline global average, which merely offers the top K most popular items.  The algorithms demonstrate a clear connection between users' history and characteristics, resulting in more relevant and engaging recommendations. While offline evaluation metrics indicate the effectiveness of the algorithms, the real test lies in online evaluation metrics, which will provide a more accurate assessment of performance in a live environment. \n",
    "\n",
    "The offline evaluation results and metrics suggest that all the recommender systems performed equally well, including the hybrid model using LightFM. Despite having low NDCG scores, the \"Basic\" recommendation systems still have their merits, recommending relevant items to the sampled users. \"Premium\" recommendation systems yielded the highest NDCG scores. LightFM's recommendations stand out for their ability to leverage both item and user metadata while addressing the cold start problem, generating relevant and potentially exploratory recommendations that enhance users' experience and satisfaction with the platform. \n",
    "\n",
    "To make the recommender systems more robust, the researchers suggest the following: \n",
    "\n",
    "1. Consider Contextual Factors  \n",
    "\n",
    "2. Incorporate Real-time Data Processing  \n",
    "\n",
    "3. Integrate a Feedback Loop Mechanism \n",
    "\n",
    "4. Implement Advanced Algorithms \n",
    "\n",
    "5. Employ Predictive Models \n",
    "\n",
    "6. Optimize Performance of Developed Models \n",
    "\n",
    "Overall, the project has succeeded in developing recommender systems that unlock new market opportunities, boost user engagement, and improve the overall competitiveness of small-scale and emerging online businesses in the digital marketplace."
   ]
  },
  {
   "cell_type": "markdown",
   "metadata": {},
   "source": [
    "<h2 style=\"color:#ff9900; background-color:#1c5177; padding: 10px; text-align:left; border: 1px solid #4a62d8;\">Introduction</h2>\n",
    "\n",
    "For the past three decades, e-commerce has revolutionized the way we shop. Shopping has evolved beyond the traditional notion of visiting a physical store, selecting items, and making purchases. What once took hours can now be accomplished in seconds, at one’s fingertips. \n",
    "\n",
    "According to McKinsey, E-commerce has been growing consistently ever since the first online transaction in 1994, when someone sold his friend a Sting CD for $12.48 plus shipping. But when the COVID-19 pandemic hit, triggering lockdowns all over the world, customers went all-in: year-over-year growth of e-commerce as a share of total retail sales grew 1.6 times in China, 3.3 times in the United States, and 4.5 times in the United Kingdom. E-commerce sales penetration in the United States more than doubled to 35 percent in 2020 from the previous year, roughly the equivalent of ten years of growth. Globally, nearly 20 percent of total global sales in 2021 were made from online purchases. By 2025, nearly a quarter of all global sales are expected to be made online [[1]]((https://www.mckinsey.com/featured-insights/mckinsey-explainers/what-is-e-commerce))."
   ]
  },
  {
   "cell_type": "markdown",
   "metadata": {},
   "source": [
    "<h2 style=\"color:#ff9900; background-color:#1c5177; padding: 10px; text-align:left; border: 1px solid #4a62d8;\">Problem Statement</h2>\n",
    "\n",
    "In the rapidly evolving landscape of e-commerce, small-scale and emerging online businesses face significant challenges in competing with industry giants. This is primarily due to the significant influence and market dominance of these big players but also due to limitations on the end of the small players. One of these limitations is the lack of offering personalized experiences to users. While the likes of Amazon, Alibaba, Rakuten, and Shopify have been leveraging recommendation systems to drive sales and overall success, up-and-coming platforms are in need of similar technology to provide tailored product recommendations to unlock new market opportunities, boost user engagement, and improve overall competitiveness in the digital marketplace. \n",
    "\n",
    "To address this critical issue, this project aims to: \n",
    "\n",
    "1. Develop multiple recommender systems that can provide personalized product recommendations to e-commerce platform users based on their purchase history, product ratings, and the interests of similar users. \n",
    "\n",
    "2. Compare the performance of these recommender systems across different metrics and identify which models work best for specific applications and purposes. "
   ]
  },
  {
   "cell_type": "markdown",
   "metadata": {},
   "source": [
    "<h2 style=\"color:#ff9900; background-color:#1c5177; padding: 10px; text-align:left; border: 1px solid #4a62d8;\">Motivation</h2>\n",
    "\n",
    "Amazon is the largest e-commerce brand in the world in terms of revenue and market share [[2]]((https://www.statista.com/statistics/1103390/amazon-retail-ecommerce-sales-global/)). It currently uses a hybrid recommender system – a combination of collaborative and content-based filtering in its platforms which had largely influenced the company’s success. In 2023, Amazon's net revenue from e-commerce net sales was US$575 billion [[3]]((https://s2.q4cdn.com/299287126/files/doc_financials/2023/q4/AMZN-Q4-2023-Earnings-Release.pdf)), and as of 2021, about 35 percent of all sales on Amazon happen via recommendations [[4]]((https://www.datafeedwatch.com/blog/amazon-statistics#6.-amazon%E2%80%99s-recommendations)). \n",
    "\n",
    "\n",
    "Recommendations personalized based on a user's past interactions and interests make it very likely for that user to find the recommended product interesting as well. In fact, according to a study of Epsilon Marketing, 80% percent of consumers are more likely to purchase from a brand that delivers personalized content [[5]]((https://www.slideshare.net/EpsilonMktg/the-power-of-me-the-impact-of-personalization-on-marketing-performance#1)). In another study conducted by PracticalEcommerce, it was found that brands who provide recommendations experiences higher conversions rates than those who don’t and that customers who click on product recommendations are 4 times more likely to add that product to cart and complete the purchase [[6]]((https://www.practicalecommerce.com/study-personalized-recommendations-produce-4-times-conversions)).\n",
    "\n",
    "This clearly demonstrates the impact of recommendations. In this study, our team looks to develop recommender systems using Amazon products and users as a testbed. Based on the results, the team will infer which algorithms perform the best for different situations. The resulting models can serve as a tool for up-and-coming e-commerce players to increase engagement and conversions. Overall, the study would benefit these entities by elevating user experience, improving item discoverability, increase average cart size, and target users more accurately."
   ]
  },
  {
   "cell_type": "markdown",
   "metadata": {},
   "source": [
    "<h2 style=\"color:#ff9900; background-color:#1c5177; padding: 10px; text-align:left; border: 1px solid #4a62d8;\">Preliminaries</h2>\n",
    "\n",
    "#### Recommender Systems \n",
    "\n",
    "The basic idea of recommender systems is to utilize various sources of data to infer customer interests. The entity to which the recommendation is provided is referred to as the user, and the product being recommended is also referred to as an item. Therefore, recommendation analysis is often based on the interaction between users and items, because past interests and proclivities are often good indicators of future choices [[8]]((https://pzs.dstu.dp.ua/DataMining/recom/bibl/1aggarwal_c_c_recommender_systems_the_textbook.pdf)).\n",
    "\n",
    "#### Collaborative Filtering \n",
    "\n",
    "Collaborative Filtering models make recommendations by leveraging the collaborative power of ratings provided by multiple users. In this method, the descriptive attributes of an item are not explicitly used in providing recommendations. \n",
    "The two main classes of collaborative filtering methods are: \n",
    "* Neighborhood-based method also known as memory-based method \n",
    "* Model-based method also known as latent factor model \n",
    "\n",
    "#### Content-Based Recommender System \n",
    "\n",
    "Content-based recommender models make recommendations by using the descriptive attributes of items. The system does not consider how other users rated the items but instead relies on its features and provide item recommendations similar to items highly rated by the user. \n",
    "This user-specific model is used to predict whether the corresponding individual will like an item for which her rating or buying behavior is unknown [[9]]((https://pzs.dstu.dp.ua/DataMining/recom/bibl/1aggarwal_c_c_recommender_systems_the_textbook.pdf)).\n",
    "\n",
    "#### Hybrid Recommender System Using LightFM \n",
    "\n",
    "As per LightFM documentation, LightFM is a hybrid recommender system that handles both explicit and implicit feedback. Its main feature is its ability to incorporate user and item metadata into the matrix factorization models. This enhances the capability to recommend new items to users and to adapt to new users' preferences based on their features [[10]](http://ceur-ws.org/Vol-1448/paper4.pdf).  \n",
    "\n",
    "The core of LightFM lies in its hybrid model, which combines traditional collaborative filtering methods with content-based approaches through latent representations [[10]](http://ceur-ws.org/Vol-1448/paper4.pdf). It represents users and items in a shared high-dimensional space, where the embeddings of users and items can be combined to predict a user's preference for an item [[11]](https://making.lyst.com/lightfm/docs/home.html). The strength of this model is in its ability to generalize across users and items, making it highly effective for scenarios where cold-start or sparsity issues are prevalent. \n",
    "\n",
    "LightFM provides several loss functions to optimize the recommendation model, catering to different scenarios of feedback and objectives. These include Logistic Loss, Bayesian Personalised Ranking (BPR) Loss, Weighted Approximate-Rank Pairwise (WARP) Loss, and k-Order Statistic Loss (k-OS WARP) [[11]](https://making.lyst.com/lightfm/docs/home.html). Each of these loss functions is designed to handle different types of data and recommendation scenarios, from explicit positive and negative interactions to implicit feedback where only positive interactions are present [[10]](http://ceur-ws.org/Vol-1448/paper4.pdf)."
   ]
  },
  {
   "cell_type": "markdown",
   "metadata": {},
   "source": [
    "<h2 style=\"color:#ff9900; background-color:#1c5177; padding: 10px; text-align:left; border: 1px solid #4a62d8;\">Import Libraries and Define File Paths</h2> "
   ]
  },
  {
   "cell_type": "code",
   "execution_count": null,
   "metadata": {},
   "outputs": [],
   "source": [
    "import os\n",
    "import glob\n",
    "import json\n",
    "import scipy\n",
    "import random\n",
    "import re\n",
    "import pandas as pd\n",
    "import numpy as np\n",
    "import matplotlib.pyplot as plt\n",
    "import threadpoolctl\n",
    "from tqdm import tqdm\n",
    "import warnings\n",
    "from collections import defaultdict\n",
    "from implicit.als import AlternatingLeastSquares as ALS\n",
    "from lightfm import LightFM\n",
    "from lightfm.data import Dataset as LightFMDataset\n",
    "from scipy.sparse import coo_matrix\n",
    "from lightfm.evaluation import precision_at_k, recall_at_k, auc_score\n",
    "from lightfm.cross_validation import random_train_test_split\n",
    "from math import log2 as log\n",
    "from scipy.spatial import distance\n",
    "from surprise import Dataset, Reader\n",
    "from surprise.model_selection import cross_validate, KFold\n",
    "from surprise.model_selection import train_test_split as train_test_split_surprise\n",
    "from surprise.prediction_algorithms.knns import KNNBasic, KNNWithMeans\n",
    "from surprise.prediction_algorithms.matrix_factorization import SVD\n",
    "from implicit.evaluation import (AUC_at_k,\n",
    "                                 mean_average_precision_at_k,\n",
    "                                 ndcg_at_k, precision_at_k)\n",
    "from implicit.evaluation import train_test_split\n",
    "from unidecode import unidecode\n",
    "import uuid\n",
    "\n",
    "warnings.simplefilter(action='ignore', category=FutureWarning)\n",
    "\n",
    "dir = \"../dataset/utility\"\n",
    "\n",
    "if not os.path.exists(dir):\n",
    "    os.mkdir(dir)"
   ]
  },
  {
   "cell_type": "markdown",
   "metadata": {},
   "source": [
    "### Global Libraries and Functions: \n",
    "\n",
    "\n",
    "`import os`: This module provides a portable way of using operating system-dependent functionality. \n",
    "\n",
    "`import glob`: This module finds all the pathnames matching a specified pattern. \n",
    "\n",
    "`import json`: This module encodes and decodes JSON data. \n",
    "\n",
    "`import scipy`: This module provides many user-friendly and efficient numerical routines. \n",
    "\n",
    "`import random`: This module implements pseudo-random number generators for various distributions. \n",
    "\n",
    "`import re`: This module provides support for regular expressions. \n",
    "\n",
    "`import pandas` as pd: This library provides data structures and data analysis tools. \n",
    "\n",
    "`import numpy` as np: This library adds support for large, multi-dimensional arrays and matrices, along with a collection of    mathematical functions to operate on these arrays. \n",
    "\n",
    "`import matplotlib.pyplot` as plt: This library provides a MATLAB-like plotting framework. \n",
    "\n",
    "`from tqdm import tqdm`: This library provides a fast, extensible progress bar for loops and pipelines. \n",
    "\n",
    "`import warnings`: This module provides warnings control functionality. \n",
    "\n",
    "`from collections import defaultdict`: This module provides a defaultdict class which is a subclass of the built-in dict class. \n",
    "\n",
    "`import threadpoolctl`: This module controls the number of threads used by BLAS libraries. \n",
    "\n",
    "`from unidecode import unidecode`: This library provides functions to convert Unicode data to ASCII. \n",
    "\n",
    "`from math import log2 as log`: This imports the log2 function from the math module and renames it to log. \n",
    "\n",
    "`import uuid`: This module provides immutable UUID objects.  \n",
    "\n",
    "### Utility and Dataset Generation Functions: \n",
    "\n",
    "`clean_str(x)`: Cleans a given string by converting Unicode characters to ASCII, replacing spaces with underscores, converting to lowercase, and removing specified forbidden characters. \n",
    "\n",
    "`items_and_reviews_to_dataframe(json_data, folder_names)`: Processes JSON data on products and their reviews, and returns three DataFrames: \n",
    "\n",
    "- `all_reviews_df`: DataFrame containing review information. \n",
    "\n",
    "- `all_items_df`: DataFrame containing product information. \n",
    "\n",
    "- `asins_df`: DataFrame mapping ASINs to product names and folder names. \n",
    "\n",
    "`get_all_json_data()`: Utility function that loads JSON data from specified directories and returns the data along with corresponding folder names. \n",
    "\n",
    "  \n",
    "`load_dataset()`: Reads CSV files containing preprocessed item data, utility data, review data, and ASIN-to-product mapping data, and returns DataFrames for each dataset. Additionally, it prints the shapes of the loaded DataFrames. \n",
    "\n",
    "### Recommender System Libraries: \n",
    "\n",
    "`from implicit.als import AlternatingLeastSquares as ALS`: This imports the Alternating Least Squares algorithm from the implicit package for collaborative filtering-based recommendation systems. \n",
    "\n",
    " `from lightfm import LightFM`: This imports the LightFM model, a hybrid recommendation algorithm combining collaborative filtering and matrix factorization techniques. \n",
    "\n",
    " `from lightfm.data import Dataset as LightFMDataset`: This imports the Dataset class from LightFM for handling recommendation datasets. \n",
    "\n",
    " `from scipy.sparse import coo_matrix`: This imports the coo_matrix class for constructing sparse matrices. \n",
    "\n",
    " `from lightfm.evaluation import precision_at_k, recall_at_k, auc_score`: These functions are used for evaluating the performance of the LightFM model. \n",
    "\n",
    " `from lightfm.cross_validation import random_train_test_split`: This function is used for splitting the dataset into training and testing sets for cross-validation. \n",
    "\n",
    " `from surprise import Dataset, Reader`: These classes are used for handling datasets in the Surprise library for recommendation systems. \n",
    "\n",
    " `from surprise.model_selection import cross_validate, KFold`: These functions are used for cross-validation and creating folds for evaluation in Surprise. \n",
    "\n",
    " `from surprise.model_selection import train_test_split as train_test_split_surprise`: This function is used for splitting data into training and testing sets in Surprise. \n",
    "\n",
    " `from surprise.prediction_algorithms.knns import KNNBasic, KNNWithMeans`: These classes implement k-nearest neighbor algorithms for collaborative filtering in Surprise. \n",
    "\n",
    " `from surprise.prediction_algorithms.matrix_factorization import SVD`: This class implements Singular Value Decomposition matrix factorization for collaborative filtering in Surprise. \n",
    "\n",
    " `from implicit.evaluation import (AUC_at_k, mean_average_precision_at_k, ndcg_at_k, precision_at_k)`: These functions are used for evaluating the performance of implicit recommendation models. \n",
    "\n",
    "`from implicit.evaluation import train_test_split`: This function is used for splitting the dataset into training and testing sets for evaluation in implicit recommendation models. "
   ]
  },
  {
   "cell_type": "markdown",
   "metadata": {},
   "source": [
    "<h2 style=\"color:#ff9900; background-color:#1c5177; padding: 10px; text-align:left; border: 1px solid #4a62d8;\">Methodology</h2>"
   ]
  },
  {
   "cell_type": "markdown",
   "metadata": {},
   "source": [
    "This study applied the methodology pipeline described below. This section discusses the tasks performed for each step in detail."
   ]
  },
  {
   "cell_type": "markdown",
   "metadata": {},
   "source": [
    "### Methodology Overview"
   ]
  },
  {
   "cell_type": "markdown",
   "metadata": {},
   "source": [
    "![new method](Methodology.png)\n",
    "\n",
    "<p style=\"text-align: center;\"><strong>Figure 1: Methodology Overview</strong></p>"
   ]
  },
  {
   "cell_type": "markdown",
   "metadata": {},
   "source": [
    "### Methodology Details\n",
    "\n",
    "1. We scraped data using Crawlbase API. CrawlAPI refers to a set of APIs that allow users to interact directly with crawlers for web crawling purposes. This API enables users to manage and configure crawlers to extract data from websites efficiently. It provides a simple framework for parallel crawling of web pages, allowing users to crawl web pages in parallel.\n",
    "\n",
    "2. We define search terms (ex. “bedroom”, “fashion”) and scrape all products that appear on the Amazon page. For each product, we get a JSON file with the product information as well as the reviewers and their corresponding reviews.\n",
    "\n",
    "3. After going through all search terms, the raw JSON files are then collated. For all strings, we clean them by removing most special characters. Then, for each product feature, we break them apart into individual tokens. This is because, many of the raw features look like this: “cardigan_womens_cotton” and each token is actually 1 feature. So we break them apart and assign a value of 1 because the product has that feature. We also ignore features that pertain to dimensions or climate change readiness. Note that we only pick up products that have reviews.\n",
    "\n",
    "4. We construct the user-item matrix by getting all user ratings for the products . We also construct the reviews matrix, which contains all the reviews of each user for each product. We process the user-item matrix by aggregating all repeated ASINs (this happens in the case wherein a product appears in more than 1 category). We get the sum between all repeated rows, in order to get the aggregated item features.\n",
    "\n",
    "5. We also construct the reviews matrix, which contains all the reviews of each user for each product\n",
    "\n",
    "6. We process the user-item matrix by aggregating all repeated ASINs (this happens in the case wherein a product appears in more than 1 category). We get the sum between all repeated rows, in order to get the aggregated item features.\n",
    "\n",
    "7. We process the userbase by grouping by reviewerID and taking only those that have given 5 or more reviews.\n",
    "\n",
    "8. We then feed the datasets to each of the algorithms.\n",
    "\n",
    "9. We compare results for a sample user by looking at the recommendations given by the global baseline average and the top 10 recommendations given by the 6 algorithms.\n",
    "\n",
    "\n",
    "**Snippet of a sample raw json given below**\n",
    "\n",
    "```json\n",
    "{\n",
    "\t\"reviewerName\": \"Hector C.\",\n",
    "                \"reviewerLink\": \"https://www.amazon.com/gp/profile/amzn1.account.AHIIWZBU7QUN2XE5ZPUYQRF5AWEQ\",\n",
    "                \"reviewLink\": \"https://www.amazon.com/gp/customer-reviews/R1JYBKPFVVARL7?ASIN=B0CB36QMXR\",\n",
    "                \"reviewRating\": \"4.0 out of 5 stars\",\n",
    "                \"reviewDate\": \"Reviewed in the United States on July 18, 2021\",\n",
    "                \"reviewTitle\": \"4.0 out of 5 stars Great gaming laptop for the price\",\n",
    "                \"reviewText\": \"The design is beautiful, the keyboard feels nice to type in, gaming experience is great (although I recommend disabling Hybrid mode on the Lenovo Vantage app to get higher fps), fans get loud with high demanding games but is not noticeable with headphones, battery life is okay and what you would expect from a gaming laptop, I like the option lenovo gives for having the battery charged until 60% for preserving battery life (for me it's perfect since I always have it plugged in). The only thing that disappointed be a little was the screen, which when I compared it with my previous laptop had some of a yellow tone in it (it was not night mode since I checked it was turned off). I had to configure a color profile for getting it to a normal tone, although this decreased the max brightness it can give and also some green pixels appear in the screen here and there which I have not figured out yet what they are, but they are not dead pixels. Apart from that the laptop is great and the shipping was very fast, I think it is a great value for the money you pay. Would definitely recommend.\",\n",
    "                \"reviewVotes\": \"\",\n",
    "                \"reviewVerifiedPurchase\": true,\n",
    "                \"reviewCommentCount\": 0,\n",
    "                \"media\": {\n",
    "                    \"images\": [],\n",
    "                    \"video\": \"\"\n",
    "                }\n",
    "}\n",
    "```\n",
    "\n",
    "**Legality of scraping**\n",
    "1. Am I scraping personal data?\n",
    "2. Am I scraping copyrighted data?\n",
    "3. Am I scraping data from behind a login?\n",
    "\n",
    "If your answers to all three of these questions is “No”, then your web scraping is legal.\n"
   ]
  },
  {
   "cell_type": "markdown",
   "metadata": {},
   "source": [
    "<h2 style=\"color:#ff9900; background-color:#1c5177; padding: 10px; text-align:left; border: 1px solid #4a62d8;\">List of Tables</h2> "
   ]
  },
  {
   "cell_type": "markdown",
   "metadata": {},
   "source": [
    "* Table 1. Basic Recommender System\n",
    "* Table 2. Premium Recommender System\n",
    "* Table 3. List of Search Terms\n",
    "* Table 4. Search Items Per Category\n",
    "* Table 5. Most Reviewed Items"
   ]
  },
  {
   "cell_type": "markdown",
   "metadata": {},
   "source": [
    "<h2 style=\"color:#ff9900; background-color:#1c5177; padding: 10px; text-align:left; border: 1px solid #4a62d8;\">List of Figures</h2>\n",
    "\n",
    "* Figure 1. Methodology Overview\n",
    "* Figure 2. Data Extraction & Cleaning Process\n",
    "* Figure 3. Most Reviewe Item\n",
    "* Figure 4. Computer Component 21I6FN-aWJL\n",
    "* Figure 5. Review Counts by Category\n",
    "* Figure 6. Review Location Counts\n",
    "* Figure 7. Performance of KNNBasic and KNNWithMeans\n",
    "* Figure 8. Mean Test RMSE and Mean Test MAEs\n",
    "* Figure 9. Performance of ALS Across Number of Factors\n",
    "* Figure 10. NDCG across different algorithms\n",
    "* Figure 11. Category Composition of User History\n",
    "* Figure 12. Category Composition of KNNBasic\n",
    "* Figure 13. Category Composition of KNNWithMeans\n",
    "* Figure 14. Category Composition of SVD\n",
    "* Figure 15. Category Composition of ALS\n",
    "* Figure 16. Category Composition of Content-based\n",
    "* Figure 17. Category Composition of Global Baseline Average\n",
    "* Figure 18. Category Composition of LightFM\n",
    "* Figure 19. StreamLit Flow\n",
    "* Figure 20. User History\n",
    "* Figure 21. Product Recommendations"
   ]
  },
  {
   "cell_type": "markdown",
   "metadata": {},
   "source": [
    "<h2 style=\"color:#ff9900; background-color:#1c5177; padding: 10px; text-align:left; border: 1px solid #4a62d8;\">Data Source</h2> "
   ]
  },
  {
   "cell_type": "markdown",
   "metadata": {},
   "source": [
    "### Data Description\n",
    "\n",
    "The data is scrapped fromm Crawlbase API selected by each search term product whuich turns to described with its title, ASIN (Amazon Standard Identification Number), price, dimensions (if available), image URL, rating, and the number of reviews.\n",
    "\n",
    "### Data Collection\n",
    "\n",
    "We scrape data using Crawlbase API. CrawlAPI refers to a set of APIs that allow users to interact directly with crawlers for web crawling purposes. This API enables users to manage and configure crawlers to extract data from websites efficiently. It provides a simple framework for parallel crawling of web pages, allowing users to crawl web pages in parallel[[11]](https://www.algolia.com/doc/rest-api/crawler/).\n",
    "\n",
    " \n",
    "We define search terms and scrape all products that appear on the Amazon page. For each product, we get a JSON file with the product information as well as the reviewers and their corresponding reviews. \n",
    "\n",
    "<p style=\"text-align: center;\"><strong>Table 3: List of Search Terms</strong></p>\n",
    "\n",
    "| <center><b></b></center> | <center><b></b></center> |<center><b></b></center> |<center><b></b></center> |\n",
    "|:---|:---|:---|:---|\n",
    "|`adventure novel`|`dress`|`moisturizer`|`speakers`|\n",
    "|`air freshener`|`dresser`|`monitor`|`stanley cup (tumbler & accessories)`|\n",
    "|`air fryer`|`fabric conditioner`|`mop`|`stationary`|\n",
    "|`air purifier`|`face mask`|`motherboard`|`steamer`|\n",
    "|`baby bottle`|`face wash`|`mouse`|`stove`|\n",
    "|`baby formula`|`facial toner`|`mouthwash`|`stroller`|\n",
    "|`baby wipes`|`fantasy novel`|`mystery novel`|`surveillance camera`|\n",
    "|`bathroom (accessories)`|`feminine wash`|`napkin`|`table`|\n",
    "|`battery (includes household, automotive)`|`first aid (kits)`|`night stand`|`tablet`|\n",
    "|`bedding`|`folder`|`nonfiction novel`|`tampon`|\n",
    "|`bedframe`|`frying pan`|`notebook`|`television`|\n",
    "|`bedroom(accessories)`|`furniture`|`nursery`|`thriller novel`|\n",
    "|`belt`|`garage`|`office chair`|`tires`|\n",
    "|`bookshelf`|`gps (also includes watch type GPS)`|`oven`|`tissue`|\n",
    "|`broom`|`gpu`|`over the counter (includes appliances, countertop stuff, and meds)`|`toddler toy`|\n",
    "|`building toys`|`hard drive`|`pacifier`|`toilet`|\n",
    "|`cabinet`|`headphones`|`packing cubes`|`toothbrush`|\n",
    "|`cables (phone chargers, extension, etc.)`|`historical novel`|`patio (mostly furniture, also includes lamps, rugs, etc.)`|`toy airplanes`|\n",
    "|`camera`|`home décor`|`pc chassis`|`toy cars`|\n",
    "|`cap`|`home_office`|`pc fan`|`toy dolls`|\n",
    "|`car accessories`|`intel amd processor`|`pc power supply`|`travel essentials`|\n",
    "|`car seat*`|`iron(supplement & for clothes)`|`pc ram`|`tripod`|\n",
    "|`carpet`|`jewelry`|`phone case`|`underwear`|\n",
    "|`cellphone`|`keyboard`|`pillow`|`usb`|\n",
    "|`chair`|`kitchen`|`playroom (also includes playroom furnitures)`|`utensils`|\n",
    "|`chargers(mostly phone)`|`kitchen knife`|`portable fan`|`vacuum`|\n",
    "|`coat`|`lamp (includes home and industrial)`|`printer`|`videogame console`|\n",
    "|`coffee maker`|`laptop`|`projector`|`vitamins`|\n",
    "|`coffee table`|`linen`|`ram vehicles`|`wall mount`|\n",
    "|`computer accessories`|`linen`|`razor`|`washing machine`|\n",
    "|`conditioner`|`living room`|`ring doorbell`|`water flask`|\n",
    "|`couch`|`lotion`|`romance novels`|`webcam`|\n",
    "|`cpu cooler`|`luggage`|`school supplies`|`wifi router`|\n",
    "|`crib*`|`makeup`|`science fiction novel`|`women bag`|\n",
    "|`curtain`|`mattress/items`|`screen protector`|`women jeans`|\n",
    "|`dash cam`|`men bag`|`seat cushion (pangoffice din)`|`women shirt`|\n",
    "|`deodorant`|`men jeans`|`shampoo`|`women shoes`|\n",
    "|`desk`|`men shirt`|`shaving cream`|`women sweater`|\n",
    "|`desk lamp`|`men shoes`|`shoe rack`|`workout clothes`|\n",
    "|`detergent`|`men sweater`|`smart watch`|`young adult novel`|\n",
    "|`diaper`|`microphone`|`soap`|\n",
    "|`dining room (mostly chiars and tables)`|`microwave`|`socks`|\n",
    "|`dishwasher (mostly items for dishwasher maintenance)`|`mirror`|`solid state drive`|"
   ]
  },
  {
   "cell_type": "code",
   "execution_count": null,
   "metadata": {},
   "outputs": [],
   "source": [
    "def clean_str(x):\n",
    "    forbidden_chars = [',', '-', '?', '(', ')',\n",
    "                       '~', '*', '.', '!']\n",
    "    x = unidecode(x)\n",
    "    x = '_'.join(x.replace('& ', '').split(' '))\n",
    "    x = x.lower().strip()\n",
    "    for c in forbidden_chars:\n",
    "        x = x.replace(c, '')\n",
    "    return x\n",
    "\n",
    "def items_and_reviews_to_dataframe(json_data, folder_names):\n",
    "    products = []\n",
    "    reviews = []\n",
    "    asins = []\n",
    "    asin_product_mapping = []\n",
    "    for product_data, folder_name in zip(json_data, folder_names):\n",
    "        if ('body' not in product_data or 'reviews' not in product_data['body'] or 'productInformation' not in product_data['body']):\n",
    "            continue\n",
    "\n",
    "        reviews_data = product_data['body'].get('reviews', [])\n",
    "        product_info = product_data['body'].get('productInformation', {})\n",
    "        product_name = product_data['body'].get('name', 'Unknown Product')\n",
    "        asin = product_data['body'].get('canonicalUrl', '').split('/')[-1].lower()\n",
    "\n",
    "        if not reviews_data or len(reviews_data) == 0 or asin == '':\n",
    "            continue\n",
    "\n",
    "        if not isinstance(product_info, dict):\n",
    "            product_info = {}\n",
    "\n",
    "        product = {'ASIN': asin, 'name': clean_str(product_name)}\n",
    "        breadcrumbs = product_data['body'].get('breadCrumbs', [])\n",
    "        for bc in breadcrumbs:\n",
    "            name = clean_str(bc['name'])\n",
    "            flag = True\n",
    "            if flag and '_' in name:\n",
    "                name_list = name.split(\"_\")\n",
    "                for n in name_list:\n",
    "                    product[n] = 1.0\n",
    "            elif flag:\n",
    "                product[name] = 1.0\n",
    "        for key, value in product_info.items():\n",
    "            cleaned_key = clean_str(key)\n",
    "            if cleaned_key not in ['dimensions', 'country_of_origin', 'batteries_included', 'weight', 'height', 'size',\n",
    "                                   'model', 'manufacturer', 'specifications', 'voltage', 'volts', '12v', 'climate_pledge',\n",
    "                                   'capacity', 'number_of_items', 'import', 'lxwxh', 'product_included']:\n",
    "                product[cleaned_key] = value\n",
    "        products.append(product)\n",
    "        if asin not in asins:\n",
    "            asin_product_mapping.append({\n",
    "                'ASIN': asin,\n",
    "                'name': product_name,\n",
    "                'folder_name': folder_name\n",
    "            })\n",
    "            asins.append(asin)\n",
    "\n",
    "        for r in reviews_data:\n",
    "            review = {\n",
    "                'folder_name': folder_name,\n",
    "                'ASIN': asin,\n",
    "                'ProductName': clean_str(product_name),\n",
    "                'price': product_data['body'].get('rawPrice', 0),\n",
    "                'image': product_data['body'].get('mainImage', None)\n",
    "            }\n",
    "            reviewer_link = r.get('reviewerLink', '').split('/')[-1].split('.')[-1]\n",
    "            review['reviewerID'] = r.get('reviewerName', 'Unknown') + '_' + (reviewer_link if len(reviewer_link) > 0 else str(uuid.uuid4()))\n",
    "            reviewRating = re.findall(r'(\\d+\\.\\d+)', r.get('reviewRating', ''))\n",
    "            reviewDate = re.findall(r'on (.+)$', r.get('reviewDate', ''))\n",
    "            reviewVotes = re.findall(r'(\\d+)', r.get('reviewVotes', '0'))\n",
    "            reviewLocation = r.get('reviewDate', '').split('on')[0].split(' in ')[-1].replace('the ', '')\n",
    "\n",
    "            review['customerReview'] = float(reviewRating[0]) if reviewRating else np.nan\n",
    "            review['reviewDate'] = reviewDate[0] if reviewDate else 'Unknown'\n",
    "            review['reviewLocation'] = reviewLocation if reviewLocation else 'Unknown'\n",
    "            review['reviewVotes'] = int(reviewVotes[0]) if reviewVotes else 0\n",
    "            reviews.append(review)\n",
    "\n",
    "    all_reviews_df = pd.DataFrame(reviews)\n",
    "    all_items_df = pd.DataFrame(products)\n",
    "    asins_df = pd.DataFrame(asin_product_mapping)\n",
    "    \n",
    "    return all_reviews_df, all_items_df, asins_df\n",
    "\n",
    "def get_all_json_data():\n",
    "    base_dir = '../dataset/extracts/amazon'\n",
    "    all_json_data = []\n",
    "    folder_names = []\n",
    "    for root, dirs, files in os.walk(base_dir):\n",
    "        for dir in dirs:\n",
    "            items_path = os.path.join(root, dir, 'items')\n",
    "            if os.path.exists(items_path):\n",
    "                json_files = glob.glob(os.path.join(items_path, '*.json'))\n",
    "                for json_file in tqdm(json_files, desc=f'Loading JSON Files in {dir}'):\n",
    "                    try:\n",
    "                        with open(json_file, \"r\") as f:\n",
    "                            all_json_data.append(json.load(f))\n",
    "                            folder_names.append(dir)\n",
    "                    except json.JSONDecodeError:\n",
    "                        print(f\"Error loading JSON from file {json_file}: file is empty or not a valid JSON.\")\n",
    "                    except Exception as e:\n",
    "                        print(f\"Unexpected error loading JSON from file {json_file}: {e}\")\n",
    "    return all_json_data, folder_names\n",
    "\n",
    "def load_dataset():\n",
    "    items_df = pd.read_csv(f\"{dir}/itemset_preprocessed.csv\")\n",
    "    items_df.set_index(\"ASIN\", inplace=True)\n",
    " \n",
    "    df_utility = pd.read_csv(f\"{dir}/utility_topn.csv\", index_col=0)\n",
    "    df_utility.set_index(\"reviewerID\", inplace=True)\n",
    "\n",
    "    reviews_df = pd.read_csv(f\"{dir}/reviews.csv\")\n",
    "    reviews_df.set_index('reviewerID', inplace=True)\n",
    "    \n",
    "    asins_df = pd.read_csv(f\"{dir}/asin_product_mapping.csv\")\n",
    "    asins_df.set_index('ASIN', inplace=True)\n",
    "\n",
    "    print(f\"shape of df_utility: {df_utility.shape}\")\n",
    "    print(f\"shape of items_df: {items_df.shape}\")\n",
    "    print(f\"shape of asins_df: {asins_df.shape}\")\n",
    "    return items_df, df_utility, reviews_df, asins_df"
   ]
  },
  {
   "cell_type": "markdown",
   "metadata": {},
   "source": [
    "<h2 style=\"color:#ff9900; background-color:#1c5177; padding: 10px; text-align:left; border: 1px solid #4a62d8;\">Dataset Generation and Pre-processing</h2> \n",
    "\n",
    "### **Skip this step if you do not have access to the raw data!**"
   ]
  },
  {
   "cell_type": "markdown",
   "metadata": {},
   "source": [
    "Following the compilation of all search terms, the raw JSON files are consolidated. Next, all strings undergo a cleaning process where most special characters are removed. Subsequently, each product feature is disassembled into individual tokens. This step is crucial since many raw features are formatted as compound strings like \"cardigan_womens_cotton,\" where each token represents a distinct feature. These tokens are then assigned a value of 1 to indicate the presence of the corresponding feature in the product. Features related to dimensions or climate change readiness are disregarded during this process. It's important to note that only products with reviews are considered for further analysis."
   ]
  },
  {
   "cell_type": "markdown",
   "metadata": {},
   "source": [
    "### Fetch All JSON Data"
   ]
  },
  {
   "cell_type": "code",
   "execution_count": null,
   "metadata": {},
   "outputs": [
    {
     "name": "stderr",
     "output_type": "stream",
     "text": [
      "Loading JSON Files in microwave: 100%|██████████| 226/226 [00:00<00:00, 2727.75it/s]\n",
      "Loading JSON Files in facial toner: 100%|██████████| 254/254 [00:00<00:00, 5098.75it/s]\n",
      "Loading JSON Files in lamp: 100%|██████████| 233/233 [00:00<00:00, 4457.04it/s]\n",
      "Loading JSON Files in luggage: 100%|██████████| 247/247 [00:00<00:00, 5126.80it/s]\n",
      "Loading JSON Files in bedroom: 100%|██████████| 48/48 [00:00<00:00, 6157.72it/s]\n",
      "Loading JSON Files in feminine wash: 100%|██████████| 246/246 [00:00<00:00, 2821.71it/s]\n",
      "Loading JSON Files in pc power supply: 100%|██████████| 215/215 [00:00<00:00, 5368.57it/s]\n",
      "Loading JSON Files in razor: 100%|██████████| 240/240 [00:00<00:00, 5408.81it/s]\n",
      "Loading JSON Files in tablet: 100%|██████████| 186/186 [00:00<00:00, 5150.36it/s]\n",
      "Loading JSON Files in fantasy novel: 100%|██████████| 233/233 [00:00<00:00, 5313.43it/s]\n",
      "Loading JSON Files in air fryer: 100%|██████████| 211/211 [00:00<00:00, 5204.95it/s]\n",
      "Loading JSON Files in coffee maker: 100%|██████████| 231/231 [00:00<00:00, 2060.12it/s]\n",
      "Loading JSON Files in wall mount: 100%|██████████| 224/224 [00:00<00:00, 5041.99it/s]\n",
      "Loading JSON Files in kitchen knife: 100%|██████████| 268/268 [00:00<00:00, 5080.65it/s]\n",
      "Loading JSON Files in women shoes: 100%|██████████| 244/244 [00:00<00:00, 4731.55it/s]\n",
      "Loading JSON Files in screen protector: 100%|██████████| 219/219 [00:00<00:00, 5072.27it/s]\n",
      "Loading JSON Files in motherboard: 100%|██████████| 209/209 [00:00<00:00, 5341.04it/s]\n",
      "Loading JSON Files in monitor: 100%|██████████| 202/202 [00:00<00:00, 4831.24it/s]\n",
      "Loading JSON Files in thriller novel: 100%|██████████| 265/265 [00:00<00:00, 1924.85it/s]\n",
      "Loading JSON Files in gpu: 100%|██████████| 181/181 [00:00<00:00, 5629.35it/s]\n",
      "Loading JSON Files in office chair: 100%|██████████| 251/251 [00:00<00:00, 4439.32it/s]\n",
      "Loading JSON Files in science fiction novel: 100%|██████████| 247/247 [00:00<00:00, 5448.21it/s]\n",
      "Loading JSON Files in chargers: 100%|██████████| 206/206 [00:00<00:00, 5414.96it/s]\n",
      "Loading JSON Files in projector: 100%|██████████| 207/207 [00:00<00:00, 4833.52it/s]\n",
      "Loading JSON Files in workout clothes: 100%|██████████| 269/269 [00:00<00:00, 4578.40it/s]\n",
      "Loading JSON Files in frying pan: 100%|██████████| 262/262 [00:00<00:00, 4707.15it/s]\n",
      "Loading JSON Files in microphone: 100%|██████████| 267/267 [00:00<00:00, 4797.00it/s]\n",
      "Loading JSON Files in desk: 100%|██████████| 274/274 [00:00<00:00, 1649.07it/s]\n",
      "Loading JSON Files in stroller: 100%|██████████| 203/203 [00:00<00:00, 5363.29it/s]\n",
      "Loading JSON Files in television: 100%|██████████| 208/208 [00:00<00:00, 5007.12it/s]\n",
      "Loading JSON Files in first aid: 100%|██████████| 259/259 [00:00<00:00, 5589.73it/s]\n",
      "Loading JSON Files in speakers: 100%|██████████| 216/216 [00:00<00:00, 4728.22it/s]\n",
      "Loading JSON Files in toddler toy: 100%|██████████| 258/258 [00:00<00:00, 5039.07it/s]\n",
      "Loading JSON Files in women shirt: 100%|██████████| 237/237 [00:00<00:00, 4566.21it/s]\n",
      "Loading JSON Files in steamer: 100%|██████████| 262/262 [00:00<00:00, 5234.14it/s]\n",
      "Loading JSON Files in stationery: 100%|██████████| 275/275 [00:00<00:00, 5898.26it/s]\n",
      "Loading JSON Files in gps: 100%|██████████| 229/229 [00:00<00:00, 5403.63it/s]\n",
      "Loading JSON Files in shaving cream: 100%|██████████| 231/231 [00:00<00:00, 5371.71it/s]\n",
      "Loading JSON Files in tires: 100%|██████████| 231/231 [00:00<00:00, 6502.14it/s]\n",
      "Loading JSON Files in face wash: 100%|██████████| 250/250 [00:00<00:00, 1434.12it/s]\n",
      "Loading JSON Files in belt: 100%|██████████| 268/268 [00:00<00:00, 4828.29it/s]\n",
      "Loading JSON Files in couch: 100%|██████████| 45/45 [00:00<00:00, 5753.15it/s]\n",
      "Loading JSON Files in fabric conditioner: 100%|██████████| 245/245 [00:00<00:00, 5507.96it/s]\n",
      "Loading JSON Files in curtain: 100%|██████████| 282/282 [00:00<00:00, 4593.50it/s]\n",
      "Loading JSON Files in washing machine: 100%|██████████| 202/202 [00:00<00:00, 5464.64it/s]\n",
      "Loading JSON Files in shoe rack: 100%|██████████| 246/246 [00:00<00:00, 5016.09it/s]\n",
      "Loading JSON Files in vitamins: 100%|██████████| 249/249 [00:00<00:00, 5270.16it/s]\n",
      "Loading JSON Files in men shirt: 100%|██████████| 197/197 [00:00<00:00, 4770.46it/s]\n",
      "Loading JSON Files in bathroom: 100%|██████████| 48/48 [00:00<00:00, 6688.81it/s]\n",
      "Loading JSON Files in vacuum: 100%|██████████| 196/196 [00:00<00:00, 4770.57it/s]\n",
      "Loading JSON Files in dress: 100%|██████████| 232/232 [00:00<00:00, 4285.25it/s]\n",
      "Loading JSON Files in camera: 100%|██████████| 204/204 [00:00<00:00, 5241.76it/s]\n",
      "Loading JSON Files in solid state drive: 100%|██████████| 205/205 [00:00<00:00, 5728.51it/s]\n",
      "Loading JSON Files in pc fan: 100%|██████████| 226/226 [00:00<00:00, 5654.89it/s]\n",
      "Loading JSON Files in underwear: 100%|██████████| 235/235 [00:00<00:00, 1063.63it/s]\n",
      "Loading JSON Files in coffee_table: 100%|██████████| 46/46 [00:00<00:00, 6814.71it/s]\n",
      "Loading JSON Files in lotion: 100%|██████████| 239/239 [00:00<00:00, 4882.54it/s]\n",
      "Loading JSON Files in pacifier: 100%|██████████| 252/252 [00:00<00:00, 5247.15it/s]\n",
      "Loading JSON Files in tissue: 100%|██████████| 242/242 [00:00<00:00, 5099.02it/s]\n",
      "Loading JSON Files in cellphone: 100%|██████████| 224/224 [00:00<00:00, 3026.91it/s]\n",
      "Loading JSON Files in women sweater: 100%|██████████| 233/233 [00:00<00:00, 2952.91it/s]\n",
      "Loading JSON Files in printer: 100%|██████████| 216/216 [00:00<00:00, 4458.20it/s]\n",
      "Loading JSON Files in air freshener: 100%|██████████| 222/222 [00:00<00:00, 5376.07it/s]\n",
      "Loading JSON Files in home_office: 100%|██████████| 46/46 [00:00<00:00, 5333.31it/s]\n",
      "Loading JSON Files in tampon: 100%|██████████| 248/248 [00:00<00:00, 6018.70it/s]\n",
      "Loading JSON Files in cabinet: 100%|██████████| 246/246 [00:00<00:00, 5272.30it/s]\n",
      "Loading JSON Files in folder: 100%|██████████| 234/234 [00:00<00:00, 4209.76it/s]\n",
      "Loading JSON Files in computer accessories: 100%|██████████| 230/230 [00:00<00:00, 5198.52it/s]\n",
      "Loading JSON Files in phone case: 100%|██████████| 256/256 [00:00<00:00, 5119.88it/s]\n",
      "Loading JSON Files in over the counter: 100%|██████████| 284/284 [00:00<00:00, 4591.24it/s]\n",
      "Loading JSON Files in young adult novel: 100%|██████████| 276/276 [00:00<00:00, 8557.84it/s]\n",
      "Loading JSON Files in oven: 100%|██████████| 206/206 [00:00<00:00, 5326.17it/s]\n",
      "Loading JSON Files in chair: 100%|██████████| 326/326 [00:00<00:00, 4901.01it/s]\n",
      "Loading JSON Files in bookshelf: 100%|██████████| 273/273 [00:00<00:00, 1035.12it/s]\n",
      "Loading JSON Files in napkin: 100%|██████████| 265/265 [00:00<00:00, 6748.86it/s]\n",
      "Loading JSON Files in coat: 100%|██████████| 283/283 [00:00<00:00, 4315.39it/s]\n",
      "Loading JSON Files in headphones: 100%|██████████| 203/203 [00:00<00:00, 4768.07it/s]\n",
      "Loading JSON Files in dishwasher: 100%|██████████| 249/249 [00:00<00:00, 4807.61it/s]\n",
      "Loading JSON Files in building toys: 100%|██████████| 246/246 [00:00<00:00, 5136.32it/s]\n",
      "Loading JSON Files in dresser: 100%|██████████| 265/265 [00:00<00:00, 5192.30it/s]\n",
      "Loading JSON Files in men shoes: 100%|██████████| 230/230 [00:00<00:00, 4861.34it/s]\n",
      "Loading JSON Files in face mask: 100%|██████████| 216/216 [00:00<00:00, 4672.31it/s]\n",
      "Loading JSON Files in adventure novel: 100%|██████████| 257/257 [00:00<00:00, 6103.21it/s]\n",
      "Loading JSON Files in smart watch: 100%|██████████| 185/185 [00:00<00:00, 4712.90it/s]\n",
      "Loading JSON Files in soap: 100%|██████████| 225/225 [00:00<00:00, 4857.69it/s]\n",
      "Loading JSON Files in carpet: 100%|██████████| 257/257 [00:00<00:00, 4918.20it/s]\n",
      "Loading JSON Files in romance novel: 100%|██████████| 268/268 [00:00<00:00, 5753.80it/s]\n",
      "Loading JSON Files in jewelry: 100%|██████████| 252/252 [00:00<00:00, 5034.65it/s]\n",
      "Loading JSON Files in pc ram: 100%|██████████| 249/249 [00:00<00:00, 6395.95it/s]\n",
      "Loading JSON Files in furniture: 100%|██████████| 47/47 [00:00<00:00, 6153.27it/s]\n",
      "Loading JSON Files in action figures: 100%|██████████| 267/267 [00:00<00:00, 4976.25it/s]\n",
      "Loading JSON Files in toy dolls: 100%|██████████| 277/277 [00:00<00:00, 5608.17it/s]\n",
      "Loading JSON Files in mouthwash: 100%|██████████| 240/240 [00:00<00:00, 5405.79it/s]\n",
      "Loading JSON Files in dashcam: 100%|██████████| 193/193 [00:00<00:00, 4534.43it/s]\n",
      "Loading JSON Files in mouse: 100%|██████████| 229/229 [00:00<00:00, 5107.77it/s]\n",
      "Loading JSON Files in deodorant: 100%|██████████| 176/176 [00:00<00:00, 528.40it/s]\n",
      "Loading JSON Files in toilet: 100%|██████████| 265/265 [00:00<00:00, 5172.44it/s]\n",
      "Loading JSON Files in usb: 100%|██████████| 261/261 [00:00<00:00, 5002.19it/s]\n",
      "Loading JSON Files in surveillance camera: 100%|██████████| 234/234 [00:00<00:00, 6112.85it/s]\n",
      "Loading JSON Files in packing cubes: 100%|██████████| 197/197 [00:00<00:00, 5278.82it/s]\n",
      "Loading JSON Files in stove: 100%|██████████| 189/189 [00:00<00:00, 4887.26it/s]\n"
     ]
    },
    {
     "name": "stdout",
     "output_type": "stream",
     "text": [
      "Error loading JSON from file ../dataset/extracts/amazon/stove/items/amazon_B07V7JNTLB.json: file is empty or not a valid JSON.\n"
     ]
    },
    {
     "name": "stderr",
     "output_type": "stream",
     "text": [
      "Loading JSON Files in pillow: 100%|██████████| 250/250 [00:00<00:00, 5005.18it/s]\n",
      "Loading JSON Files in nonfiction novel: 100%|██████████| 247/247 [00:00<00:00, 5589.36it/s]\n",
      "Loading JSON Files in playroom: 100%|██████████| 48/48 [00:00<00:00, 6882.73it/s]\n",
      "Loading JSON Files in utensils: 100%|██████████| 248/248 [00:00<00:00, 5148.65it/s]\n",
      "Loading JSON Files in car seat: 100%|██████████| 240/240 [00:00<00:00, 5461.51it/s]\n",
      "Loading JSON Files in water flask: 100%|██████████| 304/304 [00:00<00:00, 5687.88it/s]\n",
      "Loading JSON Files in historical novel: 100%|██████████| 281/281 [00:00<00:00, 5418.75it/s]\n",
      "Loading JSON Files in patio: 100%|██████████| 48/48 [00:00<00:00, 6854.37it/s]\n",
      "Loading JSON Files in cpu cooler: 100%|██████████| 219/219 [00:00<00:00, 4798.00it/s]\n",
      "Loading JSON Files in men sweater: 100%|██████████| 252/252 [00:00<00:00, 5091.72it/s]\n",
      "Loading JSON Files in table: 100%|██████████| 285/285 [00:00<00:00, 5214.91it/s]\n",
      "Loading JSON Files in women jeans: 100%|██████████| 251/251 [00:00<00:00, 3997.84it/s]\n",
      "Loading JSON Files in moisturizer: 100%|██████████| 276/276 [00:00<00:00, 5348.02it/s]\n",
      "Loading JSON Files in pc chassis: 100%|██████████| 227/227 [00:00<00:00, 5593.49it/s]\n",
      "Loading JSON Files in desk lamp: 100%|██████████| 262/262 [00:00<00:00, 4278.52it/s]\n",
      "Loading JSON Files in women bag: 100%|██████████| 266/266 [00:00<00:00, 4864.23it/s]\n",
      "Loading JSON Files in iron: 100%|██████████| 199/199 [00:00<00:00, 4884.52it/s]\n",
      "Loading JSON Files in diaper: 100%|██████████| 259/259 [00:00<00:00, 5926.06it/s]\n",
      "Loading JSON Files in makeup: 100%|██████████| 261/261 [00:00<00:00, 4263.30it/s]\n",
      "Loading JSON Files in bedding: 100%|██████████| 246/246 [00:00<00:00, 4956.28it/s]\n",
      "Loading JSON Files in broom: 100%|██████████| 248/248 [00:00<00:00, 5255.78it/s]\n",
      "Loading JSON Files in mystery novel: 100%|██████████| 242/242 [00:00<00:00, 6200.50it/s]\n",
      "Loading JSON Files in videogame console: 100%|██████████| 237/237 [00:00<00:00, 5861.21it/s]\n",
      "Loading JSON Files in night stand: 100%|██████████| 218/218 [00:00<00:00, 404.90it/s]\n",
      "Loading JSON Files in travel essentials: 100%|██████████| 226/226 [00:00<00:00, 4699.80it/s]\n",
      "Loading JSON Files in dining room: 100%|██████████| 48/48 [00:00<00:00, 6327.44it/s]\n",
      "Loading JSON Files in ring doorbell: 100%|██████████| 251/251 [00:00<00:00, 4640.66it/s]\n",
      "Loading JSON Files in nursery: 100%|██████████| 48/48 [00:00<00:00, 6117.86it/s]\n",
      "Loading JSON Files in detergent: 100%|██████████| 253/253 [00:00<00:00, 5138.11it/s]\n",
      "Loading JSON Files in baby formula: 100%|██████████| 209/209 [00:00<00:00, 6308.36it/s]\n",
      "Loading JSON Files in dustpan: 100%|██████████| 268/268 [00:00<00:00, 5531.39it/s]\n",
      "Loading JSON Files in seat cushion: 100%|██████████| 249/249 [00:00<00:00, 4943.61it/s]\n",
      "Loading JSON Files in hard drive: 100%|██████████| 356/356 [00:00<00:00, 4846.18it/s]\n",
      "Loading JSON Files in notebook: 100%|██████████| 251/251 [00:00<00:00, 5071.22it/s]\n",
      "Loading JSON Files in battery: 100%|██████████| 272/272 [00:00<00:00, 2922.56it/s]\n",
      "Loading JSON Files in men jeans: 100%|██████████| 212/212 [00:00<00:00, 3026.28it/s]\n",
      "Loading JSON Files in school supplies: 100%|██████████| 256/256 [00:00<00:00, 4749.98it/s]\n",
      "Loading JSON Files in cables: 100%|██████████| 241/241 [00:00<00:00, 4795.72it/s]\n",
      "Loading JSON Files in laptop: 100%|██████████| 207/207 [00:00<00:00, 4328.12it/s]\n",
      "Loading JSON Files in shampoo: 100%|██████████| 224/224 [00:00<00:00, 4330.28it/s]\n",
      "Loading JSON Files in conditioner: 100%|██████████| 210/210 [00:00<00:00, 4824.47it/s]\n",
      "Loading JSON Files in portable fan: 100%|██████████| 206/206 [00:00<00:00, 4215.87it/s]\n",
      "Loading JSON Files in bedframe: 100%|██████████| 246/246 [00:00<00:00, 5252.62it/s]\n",
      "Loading JSON Files in toy airplanes: 100%|██████████| 242/242 [00:00<00:00, 7009.24it/s]\n",
      "Loading JSON Files in kitchen: 100%|██████████| 48/48 [00:00<00:00, 5314.57it/s]\n",
      "Loading JSON Files in toothbrush: 100%|██████████| 237/237 [00:00<00:00, 5593.57it/s]\n",
      "Loading JSON Files in webcam: 100%|██████████| 173/173 [00:00<00:00, 4843.76it/s]\n",
      "Loading JSON Files in mattress: 100%|██████████| 125/125 [00:00<00:00, 3840.94it/s]\n",
      "Loading JSON Files in garage: 100%|██████████| 49/49 [00:00<00:00, 5488.90it/s]\n",
      "Loading JSON Files in toy cars: 100%|██████████| 250/250 [00:00<00:00, 5596.82it/s]\n",
      "Loading JSON Files in wifi router: 100%|██████████| 222/222 [00:00<00:00, 5015.03it/s]\n",
      "Loading JSON Files in men bag: 100%|██████████| 260/260 [00:00<00:00, 4971.71it/s]\n",
      "Loading JSON Files in ram vehicles: 100%|██████████| 193/193 [00:00<00:00, 5725.26it/s]\n",
      "Loading JSON Files in air purifier: 100%|██████████| 198/198 [00:00<00:00, 5187.05it/s]\n",
      "Loading JSON Files in living room: 100%|██████████| 48/48 [00:00<00:00, 5505.24it/s]\n",
      "Loading JSON Files in mop: 100%|██████████| 248/248 [00:00<00:00, 5199.07it/s]\n",
      "Loading JSON Files in baby wipes: 100%|██████████| 246/246 [00:00<00:00, 4648.62it/s]\n",
      "Loading JSON Files in stanley cup: 100%|██████████| 245/245 [00:00<00:00, 5625.35it/s]\n",
      "Loading JSON Files in keyboard: 100%|██████████| 228/228 [00:00<00:00, 4110.63it/s]\n",
      "Loading JSON Files in car accessories: 100%|██████████| 266/266 [00:00<00:00, 5292.17it/s]\n",
      "Loading JSON Files in baby bottle: 100%|██████████| 219/219 [00:00<00:00, 4182.33it/s]\n",
      "Loading JSON Files in tripod: 100%|██████████| 212/212 [00:00<00:00, 5191.88it/s]\n",
      "Loading JSON Files in home decor: 100%|██████████| 447/447 [00:01<00:00, 424.58it/s]\n",
      "Loading JSON Files in linen: 100%|██████████| 270/270 [00:00<00:00, 4512.09it/s]\n",
      "Loading JSON Files in crib: 100%|██████████| 247/247 [00:00<00:00, 4810.03it/s]\n",
      "Loading JSON Files in mirror: 100%|██████████| 278/278 [00:00<00:00, 5427.47it/s]\n",
      "Loading JSON Files in intel amd processor: 100%|██████████| 144/144 [00:00<00:00, 4471.47it/s]\n"
     ]
    }
   ],
   "source": [
    "all_json_data, folder_names = get_all_json_data()\n",
    "all_reviews_df, all_items_df, asins_df = items_and_reviews_to_dataframe(all_json_data, folder_names)\n",
    "all_reviews_df = all_reviews_df.replace(np.nan, '', regex=True)\n",
    "all_reviews_df.drop_duplicates(keep=\"first\", inplace=True)\n",
    "all_items_df.drop_duplicates(keep='first', inplace=True)\n",
    "all_items_df.fillna(0, inplace=True)\n",
    "asins_df.to_csv(f\"{dir}/asin_product_mapping.csv\", index=False)"
   ]
  },
  {
   "cell_type": "markdown",
   "metadata": {},
   "source": [
    "<h2 style=\"color:#ff9900; background-color:#1c5177; padding: 10px; text-align:left; border: 1px solid #4a62d8;\">Data Exploration</h2> "
   ]
  },
  {
   "cell_type": "markdown",
   "metadata": {},
   "source": [
    "### Preprocess Itemset and Userbase\n",
    "\n",
    "We begin by constructing the user-item matrix, gathering all user ratings for the products. Additionally, we create the reviews matrix, which encompasses all reviews provided by each user for each product. To refine the user-item matrix, we aggregate all instances of repeated ASINs, particularly when a product is listed in multiple categories. This aggregation involves summing the values across duplicate rows to obtain the aggregated item features, ensuring a consolidated representation of each product's attributes across categories.\n",
    "\n",
    "<p style=\"text-align: center;\"><strong>Table 4: Search Items per Category</strong></p>\n",
    "\n",
    "| <center><b>Categories</b></center> | <center><b>Search items</b></center> |\n",
    "|:---|:---|\n",
    "| ` Bedroom` | 'bedding', 'bedroom(accessories)', 'toilet', 'playroom (also includes playroom furnitures)', 'desk lamp', 'iron(supplement & for clothes)', 'lamp (includes home and industrial)', 'bedframe', 'bookshelf', 'cabinet', 'desk', 'dresser', 'night stand' 'table' |\n",
    "| `Bathroom` | 'bathroom (accessories)', 'mattress/items', 'pillow', 'seat cushion (pangoffice din)', 'air purifier', 'washing machine', 'air freshener', 'mirror', 'linen' |\n",
    "| `Books` | 'adventure novel', 'fantasy novel', 'historical novel', 'mystery novel', 'nonfiction novel', 'romance novels', 'science fiction novel', 'thriller novel', 'young adult novel' |\n",
    "| `Car Stuff` | 'car accessories', 'dash cam', 'gps (also includes watch type GPS)', 'ram vehicles', 'tires' |\n",
    "| `Children` | 'action figures', 'building toys', 'toddler toy', 'toy airplanes', 'toy cars', 'toy dolls', 'baby bottle', 'baby formula', 'baby wipes', 'car seat*', 'crib*', 'diaper', 'nurserypacifier', 'stroller' |\n",
    "| `Cleaning Material` | 'vacuum', 'detergent', 'mop', 'broom', 'dishwasher (mostly items for dishwasher maintenance)', 'fabric conditioner' |\n",
    "| `Computer Components` | 'cpu cooler', 'gpu', 'hard drive', 'intel amd processor', 'motherboard', 'pc chassis', 'pc fan', 'pc power supply', 'pc ram', 'solid state drive' |\n",
    "| `Electronic devices` | 'camera', 'cellphone', 'headphones', 'laptop', 'monitor', 'smart watch', 'speakers', 'surveillance camera', 'tablet', 'television', 'videogame console', 'wifi router' |\n",
    "| `Fashion` | 'belt', 'cap', 'coat', 'dress', 'face mask', 'jewelry', 'men bag', 'men jeans', 'men shirt', 'men shoes', 'men sweater', 'socks', 'underwear', 'women bag', 'women jeans', 'women shirt', 'women shoes', 'women sweater' |\n",
    "| `Garage` | 'garage', 'battery (includes household, automotive)' |\n",
    "| `Kitchen` | 'utensils', 'air fryer', 'coffee maker', 'frying pan', 'kitchen knife', 'microwave', 'oven', 'over the counter (includes appliances, countertop stuff, and meds)', 'steamer', 'stove', 'kitchen', 'dining room (mostly chiars and tables)' |\n",
    "| `Living Room ` | 'carpet', 'home décor', 'living room', 'ring doorbell', 'wall mount', 'portable fan', 'curtain', 'coffee table', 'couch', 'chair', 'furniture', 'patio (mostly furniture, also includes lamps, rugs, etc.)', 'shoe rack' |\n",
    "| `Mobile Accessories` | 'cables (phone chargers, extension, etc.)', 'chargers(mostly phone)', 'phone case', 'screen protector', 'tripod' |\n",
    "| `Office Supplies` | 'folder', 'home_office', 'notebook', 'school supplies', 'stationary', 'office chair' |\n",
    "| `Peripheral Devices` | 'keyboard', 'mouse', 'webcam', 'microphone', 'printer', 'projector', 'usb', 'computer accessories' |\n",
    "| `Personal Care` | 'conditioner', 'deodorant', 'face wash', 'facial toner', 'feminine wash', 'lotion', 'makeup', 'moisturizer', 'mouthwash', 'napkin', 'razor', 'shampoo', 'shaving cream', 'soap', 'tampon', 'tissue', 'toothbrush', 'vitamins' |\n",
    "| `Travel  Essentials` | 'first aid (kits)', 'luggage', 'packing cubes', 'stanley cup (tumbler & accessories)', 'travel essentials', 'water flask' |\n",
    "\n",
    "\n"
   ]
  },
  {
   "cell_type": "code",
   "execution_count": null,
   "metadata": {},
   "outputs": [],
   "source": [
    "all_items_df.reset_index(inplace=True)\n",
    "vc = all_items_df['ASIN'].value_counts()\n",
    "to_merge = vc.loc[lambda x: x > 1].index.tolist()\n",
    "\n",
    "all_items_df.set_index('ASIN', inplace=True)\n",
    "merge_dicts = []\n",
    "for asin in to_merge:\n",
    "    merged_row = all_items_df.loc[asin].sum()\n",
    "    merged_row = merged_row.drop('level_0')\n",
    "    d = merged_row.to_dict()\n",
    "    d['ASIN'] = asin\n",
    "    merge_dicts.append(d)\n",
    "    all_items_df.drop(asin, inplace=True)\n",
    "    \n",
    "merged_df = pd.DataFrame(merge_dicts)\n",
    "merged_df.set_index('ASIN', inplace=True)\n",
    "all_items_df = pd.concat([all_items_df, merged_df])\n",
    "all_items_df.drop(['level_0', 'name'], axis=1, inplace=True)\n",
    "all_items_df.to_csv(f\"{dir}/itemset_preprocessed.csv\")"
   ]
  },
  {
   "cell_type": "code",
   "execution_count": null,
   "metadata": {},
   "outputs": [],
   "source": [
    "user_ratings_df = all_reviews_df.drop([\n",
    "    \"reviewVotes\", \"reviewLocation\", \"reviewDate\",\n",
    "    \"ProductName\"], axis=1)\n",
    "\n",
    "groupby_df = user_ratings_df.groupby('reviewerID')\n",
    "freq = groupby_df.size().reset_index(name='count')\n",
    "user_ratings_df = pd.merge(user_ratings_df, freq, on='reviewerID', how='left')\n",
    "user_ratings_df = user_ratings_df.sort_values(['count'], ascending=False)\n",
    "user_ratings_df = user_ratings_df[user_ratings_df[\"count\"] >= 5]\n",
    "topn_reviewers = pd.unique(user_ratings_df[\"reviewerID\"])\n",
    "user_ratings_df.set_index(\"reviewerID\", inplace=True)\n",
    "user_ratings_df = user_ratings_df.loc[topn_reviewers]\n",
    "generic_reviewerIDs = user_ratings_df.groupby(\n",
    "    'reviewerID').count().sort_values('ASIN', ascending=False)[:8].index.tolist()\n",
    "topn_reviewers = [r for r in topn_reviewers if r not in generic_reviewerIDs]\n",
    "user_ratings_df = user_ratings_df.loc[topn_reviewers]\n",
    "\n",
    "rows = []\n",
    "columns = all_items_df.index.tolist()\n",
    "columns.append(\"reviewerID\")\n",
    "\n",
    "for index, data in user_ratings_df.groupby('reviewerID'):\n",
    "    row = {'reviewerID': index}\n",
    "    for ind, d in data.iterrows():\n",
    "        row[d['ASIN']] = d['customerReview']\n",
    "    rows.append(row)\n",
    "\n",
    "df_utility = pd.DataFrame(rows, columns=columns)\n",
    "df_utility.to_csv(f\"{dir}/utility_topn.csv\")"
   ]
  },
  {
   "cell_type": "code",
   "execution_count": null,
   "metadata": {},
   "outputs": [],
   "source": [
    "categories_dict = {\n",
    "    \"Children\": [\"action figures\", \"building toys\", \"toddler toy\", \"toy airplanes\", \"toy cars\",\n",
    "                 \"toy dolls\", \"baby bottle\", \"baby formula\", \"baby wipes\", \"car seat\", \"crib\",\n",
    "                 \"diaper\", \"nursery\", \"pacifier\", \"stroller\"],\n",
    "    \"Books\": [\"adventure novel\", \"fantasy novel\", \"mystery novel\", \"nonfiction novel\",\n",
    "              \"romance novels\", \"science fiction novel\", \"thriller novel\", \"young adult novel\"],\n",
    "    \"Cleaning Material\": [\"vacuum\", \"detergent\", \"mop\", \"broom\", \"dishwasher\", \"fabric conditioner\"],\n",
    "    \"Kitchen\": [\"utensils\", \"air fryer\", \"coffee maker\", \"frying pan\", \"kitchen knife\",\n",
    "                \"microwave\", \"oven\", \"over the counter\", \"steamer\", \"stove\", \"kitchen\", \"dining room\"],\n",
    "    \"Bedroom\": [\"bedding\", \"bedroom\", \"toilet\", \"playroom\", \"desk lamp\", \"iron\",\n",
    "                \"lamp\", \"bedframe\", \"bookshelf\", \"cabinet\", \"desk\", \"dresser\", \"nightstand\"],\n",
    "    \"Living Room\": [\"carpet\", \"home decor\", \"living room\", \"ring doorbell\",\n",
    "                    \"wall mount\", \"curtain\", \"coffee table\", \"couch\", \"chair\", \"furniture\", \"patio\", \"shoe rack\"],\n",
    "    \"Bathroom\": [\"bathroom\", \"mattress\", \"pillow\", \"air purifier\",\n",
    "                 \"washing machine\", \"air freshener\", \"mirror\", \"linen\"],\n",
    "    \"Fashion\": [\"belt\", \"cap\", \"coat\", \"dress\", \"face mask\", \"jewelry\", \"men bag\", \"men jeans\",\n",
    "                \"men shirt\", \"men shoes\", \"men sweater\", \"socks\", \"underwear\", \"women bag\",\n",
    "                \"women jeans\", \"women shirt\", \"women shirt\", \"women shoes\", \"women sweater\", \"workout clothes\"],\n",
    "    \"Electronic Devices\": [\"camera\", \"headphones\", \"laptop\", \"monitor\", \"smart watch\", \"speakers\",\n",
    "                           \"surveillance camera\", \"tablet\", \"television\", \"videogame console\", \"wifi router\"],\n",
    "    \"Peripheral Devices\": [\"keyboard\", \"mouse\", \"webcam\", \"microphone\",\n",
    "                           \"printer\", \"projector\", \"usb\", \"computer accessories\"],\n",
    "    \"Computer Components\": [\"pc ram\", \"cpu cooler\", \"gpu\", \"hard drive\",\n",
    "                            \"intel amd processor\", \"motherboard\", \"pc chassis\", \"pc fan\", \"pc power supply\", \"solid state drive\"],\n",
    "    \"Mobile Accessories\": [\"cables\", \"chargers\", \"phone case\", \"screen protector\", \"tripod\"],\n",
    "    \"Personal Care\": [\"conditioner\", \"deodorant\", \"face wash\", \"facial toner\",\n",
    "                      \"feminine wash\", \"lotion\", \"makeup\", \"moisturizer\", \"mouthwash\",\n",
    "                      \"shaving cream\", \"shampoo\", \"soap\", \"tampon\", \"tissue\", \"toothbrush\", \"vitamins\"],\n",
    "    \"Car Stuff\": [\"car accessories\", \"dash cam\", \"gps\", \"ram vehicles\", \"tires\", \"garage\"],\n",
    "    \"Office Supplies\": [\"office chair\", \"folder\", \"home_office\", \"notebook\",\n",
    "                        \"school supplies\", \"stationery\", \"seat cushion\"],\n",
    "    \"Travel Essentials\": [\"first aid\", \"luggage\", \"packing cubes\", \"stanley cup\",\n",
    "                          \"travel essentials\", \"water flask\", \"portable fan\"]\n",
    "}"
   ]
  },
  {
   "cell_type": "code",
   "execution_count": null,
   "metadata": {},
   "outputs": [],
   "source": [
    "inverted_categories_dict = {}\n",
    "for category, items in categories_dict.items():\n",
    "    for item in items:\n",
    "        inverted_categories_dict[item] = category\n",
    "\n",
    "\n",
    "def map_folder_to_category(folder_name):\n",
    "    return inverted_categories_dict.get(folder_name, \"Unknown\")\n",
    "\n",
    "\n",
    "all_reviews_df['category'] = all_reviews_df['folder_name'].apply(map_folder_to_category)\n",
    "all_reviews_df.to_csv(f\"{dir}/reviews.csv\")"
   ]
  },
  {
   "cell_type": "markdown",
   "metadata": {},
   "source": [
    "The diagram below meticulously outlines our data cleaning process, encompassing every stage from extraction via web scraping to parsing through each search term and subsequently processing every item on the page. Additionally, it illustrates the initialization of a list of categories for search terms, followed by the categorization process. Finally, it depicts the saving of each valid file, ensuring completeness and organization throughout the data cleaning journey.\n",
    "\n",
    "\n",
    "\n",
    "<center>\n",
    "    <div style=\"display: flex; justify-content: center;\">\n",
    "        <img src=\"DataExtraction.png\" style=\"width: 400px; height: auto; margin-right: 20px;\">\n",
    "        <img src=\"DataCleaning.png\" style=\"width: 400px; height: auto;\">\n",
    "    </div>\n",
    "</center>\n",
    "\n",
    "\n",
    "<p style=\"text-align: center;\"><strong>Figure 2: Data Extraction & Cleaning Process</strong></p>"
   ]
  },
  {
   "cell_type": "markdown",
   "metadata": {},
   "source": [
    "### Load Dataset"
   ]
  },
  {
   "cell_type": "markdown",
   "metadata": {},
   "source": [
    "To construct the reviews matrix and process the user-item matrix by aggregating all repeated ASINs, as well as processing the userbase by grouping by reviewerID and taking only those that have given 10 or more reviews, you can follow these steps:\n",
    "\n",
    "1. Load your dataset containing reviews, user-item interactions, and product categories.\n",
    "2. Aggregate the reviews matrix by summing up all reviews for each user and product.\n",
    "3. Remove any duplicate ASINs to avoid double-counting.\n",
    "4. Filter the userbase to include only those users who have given 10 or more reviews.\n",
    "5. Construct the reviews matrix using the aggregated user-item interactions.\n",
    "6. Use the processed userbase for further analysis or recommendation purposes.\n",
    "\n",
    "The dataframe `df_utility` has a shape of (451, 33510), indicating 451 users and 33,510 items.\n",
    "\n",
    "The dataframe `items_df` has a shape of (33510, 2438), indicating 33,510 items and 2,438 features.\n",
    "\n",
    "The dataframe `asins_df` has a shape of (33510, 2), indicating 33,510 items and 2 columns, likely containing ASINs and their corresponding categories."
   ]
  },
  {
   "cell_type": "code",
   "execution_count": null,
   "metadata": {},
   "outputs": [
    {
     "name": "stdout",
     "output_type": "stream",
     "text": [
      "shape of df_utility: (451, 33510)\n",
      "shape of items_df: (33510, 2438)\n",
      "shape of asins_df: (33510, 2)\n"
     ]
    }
   ],
   "source": [
    "items_df, df_utility, reviews_df, asins_df = load_dataset()"
   ]
  },
  {
   "cell_type": "markdown",
   "metadata": {},
   "source": [
    "<h2 style=\"color:#ff9900; background-color:#1c5177; padding: 10px; text-align:left; border: 1px solid #4a62d8;\">Exploratory Data Analysis</h2> "
   ]
  },
  {
   "cell_type": "code",
   "execution_count": null,
   "metadata": {},
   "outputs": [],
   "source": [
    "# Specify the directory containing all CSV files\n",
    "directory = \"../dataset/clean_data/\"\n",
    "\n",
    "# Initialize an empty DataFrame to store the merged data\n",
    "merged_df1 = pd.DataFrame()\n",
    "\n",
    "# List of categories\n",
    "categories = [\"Children\", \"Books\", \"Cleaning Material\", \"Kitchen\", \n",
    "              \"Bedroom\", \"Living Room\", \"Bathroom\", \"Fashion\", \"Electronic devices\", \n",
    "              \"Peripheral Devices\", \"Computer Components\", \"Mobile Accessories\", \n",
    "              \"Personal Care\", \"Car Stuff\", \"Office Supplies\", \"Travel Essentials\"]\n",
    "\n",
    "# Iterate over each category\n",
    "for category in categories:\n",
    "    # Construct the file path for the current category\n",
    "    file_path = os.path.join(directory, f\"{category}/items_{category}.csv\")\n",
    "    \n",
    "    # Check if the file exists\n",
    "    if os.path.exists(file_path):\n",
    "        # Read the CSV file into a DataFrame\n",
    "        category_df = pd.read_csv(file_path, low_memory=False)\n",
    "        \n",
    "        # Add a 'Category' column with the current category name\n",
    "        category_df['Category'] = category\n",
    "        \n",
    "        # Merge the current category DataFrame with the merged DataFrame\n",
    "        merged_df1 = pd.concat([merged_df1, category_df], ignore_index=True)\n",
    "    else:\n",
    "        print(f\"File not found for category: {category}\")"
   ]
  },
  {
   "cell_type": "code",
   "execution_count": null,
   "metadata": {},
   "outputs": [
    {
     "name": "stdout",
     "output_type": "stream",
     "text": [
      "Top 3 reviews for Bathroom:\n",
      "\n",
      "                                            Product Name  Customer Review\n",
      "13571  twin xl mattress, 8 inch twin bed mattress, tw...              5.0\n",
      "13579  olixis tri-fold memory foam mattress - 4 inch ...              5.0\n",
      "13589  avenco king mattress, 12 inch gel memory foam ...              5.0\n",
      "\n",
      "\n",
      "Top 3 reviews for Bedroom:\n",
      "\n",
      "                                           Product Name  Customer Review\n",
      "8852  bedsure boho duvet cover queen - tufted duvet ...              5.0\n",
      "8880  4 piece toddler bedding set for girls yellow r...              5.0\n",
      "8889  laura ashley- queen quilt set, reversible bedd...              5.0\n",
      "\n",
      "\n",
      "Top 3 reviews for Books:\n",
      "\n",
      "                                           Product Name  Customer Review\n",
      "3459                          spider-ham: a pig in time              5.0\n",
      "3463  brothers in guns and dust: a historical wester...              5.0\n",
      "3539  tricky times (patrick wigglesworth’s bizarre b...              5.0\n",
      "\n",
      "\n",
      "Top 3 reviews for Car Stuff:\n",
      "\n",
      "                                            Product Name  Customer Review\n",
      "30756  cute crochet flower car accessories for women ...              5.0\n",
      "30759  cute crochet plant for car rear view mirror,bo...              5.0\n",
      "30806  bkigfyi kawaii car neck pillow 2 pieces anime ...              5.0\n",
      "\n",
      "\n",
      "Top 3 reviews for Children:\n",
      "\n",
      "                                          Product Name  Customer Review\n",
      "85   dc comics, batman action figure, 12-inch super...              5.0\n",
      "86   sega the quintessential quintuplets 2 pm figur...              5.0\n",
      "130  allcolor action figures stand - anime figure d...              5.0\n",
      "\n",
      "\n",
      "Top 3 reviews for Cleaning Material:\n",
      "\n",
      "                                           Product Name  Customer Review\n",
      "4809  inse n5t main motor with 1.2l dust box, 180w u...              5.0\n",
      "4829  aspiron corded stick vacuum cleaner, small vac...              5.0\n",
      "4832  buture cordless vacuum cleaner, 500w 38kpa sti...              5.0\n",
      "\n",
      "\n",
      "Top 3 reviews for Computer Components:\n",
      "\n",
      "                                            Product Name  Customer Review\n",
      "23625  owc 32gb (4x8gb) ddr3 1600 pc3-12800 cl11 2rx8...              5.0\n",
      "23674  simmtec ram 4gb ddr3 1600 mhz dimm pc3-12800 (...              5.0\n",
      "23684  simmtec ram 4gb ddr3 1600 mhz dimm pc3-12800 (...              5.0\n",
      "\n",
      "\n",
      "Top 3 reviews for Electronic devices:\n",
      "\n",
      "                                            Product Name  Customer Review\n",
      "19465  kids digital camera-12 mp children's camera ip...              5.0\n",
      "19468  monitech digital camera compact vlogging camer...              5.0\n",
      "19487  mgmcm hidden camera detectors, portable wirele...              5.0\n",
      "\n",
      "\n",
      "Top 3 reviews for Fashion:\n",
      "\n",
      "                                            Product Name  Customer Review\n",
      "15143  men's/women's leather ratchet belt, gift sciss...              5.0\n",
      "15242  goodyear belts 1061062 serpentine belt, 6-rib,...              5.0\n",
      "15288         men's plaque compression buckle dress belt              5.0\n",
      "\n",
      "\n",
      "Top 3 reviews for Kitchen:\n",
      "\n",
      "                                           Product Name  Customer Review\n",
      "6268  dnanaol kitchen utensil holder - relief cerami...              5.0\n",
      "6294  aujen silverware organizer - expandable kitche...              5.0\n",
      "6389  sharecook 40-piece matte black silverware set ...              5.0\n",
      "\n",
      "\n",
      "Top 3 reviews for Living Room:\n",
      "\n",
      "                                            Product Name  Customer Review\n",
      "11317  hebe artificial turf area rug grass mat 2x8 ft...              5.0\n",
      "11328  home dynamix everwash treasure striped modern ...              5.0\n",
      "11332  ismol washable area rug for living room 2x6 fe...              5.0\n",
      "\n",
      "\n",
      "Top 3 reviews for Mobile Accessories:\n",
      "\n",
      "                                            Product Name  Customer Review\n",
      "25783  printer cable, 2pack 6ft usb a to b scanner ca...              5.0\n",
      "25799  tv power cord 10ft long plug cable replacement...              5.0\n",
      "25813  galaxon - usb type c to type c - 100w led disp...              5.0\n",
      "\n",
      "\n",
      "Top 3 reviews for Office Supplies:\n",
      "\n",
      "                                            Product Name  Customer Review\n",
      "31672  leather office chair, bonded leather executive...              5.0\n",
      "31709  realspace® radano mesh high-back executive off...              5.0\n",
      "31737  paylesshere big and tall office chair 400lbs a...              5.0\n",
      "\n",
      "\n",
      "Top 3 reviews for Peripheral Devices:\n",
      "\n",
      "                                            Product Name  Customer Review\n",
      "22224  qilove usb camera module autofocus webcam with...              5.0\n",
      "22229          logitech c270 hd webcam (black) (renewed)              5.0\n",
      "22276                   cylo hd 720p pro webcam (silver)              5.0\n",
      "\n",
      "\n",
      "Top 3 reviews for Personal Care:\n",
      "\n",
      "                                            Product Name  Customer Review\n",
      "27227  secret invisible solid antiperspirant and deod...              5.0\n",
      "27535  trader joe's rose water facial toner hydrate a...              5.0\n",
      "27552       kiehl's since 1851 ultra facial toner, 500ml              5.0\n",
      "\n",
      "\n",
      "Top 3 reviews for Travel Essentials:\n",
      "\n",
      "                                            Product Name  Customer Review\n",
      "32941  first aid only - 247op 3 shelf industrial firs...              5.0\n",
      "32957  asani first aid kit - 200-piece emergency trau...              5.0\n",
      "32976  osha & ansi 3 shelf industrial first aid cabin...              5.0\n",
      "\n",
      "\n"
     ]
    }
   ],
   "source": [
    "# Define a function to get the top 3 reviews per category\n",
    "def top_reviews_per_category(df):\n",
    "    return df.nlargest(3, 'customerReview')\n",
    "\n",
    "# Group the DataFrame by 'Category' and apply the function\n",
    "top_10_reviews_per_category = merged_df1.groupby('Category', group_keys=False, as_index=False).apply(top_reviews_per_category)\n",
    "\n",
    "# Select only the desired columns and rename them\n",
    "top_10_reviews_per_category = top_10_reviews_per_category[['name', 'customerReview', 'Category']].rename(columns={'name':'Product Name','customerReview': 'Customer Review'})\n",
    "\n",
    "# Iterate over each category group\n",
    "for category, group in top_10_reviews_per_category.groupby('Category'):\n",
    "    print(f\"Top 3 reviews for {category}:\\n\")\n",
    "    # Display the top reviews for the current category\n",
    "    print(group[['Product Name', 'Customer Review']])\n",
    "    print(\"\\n\")\n"
   ]
  },
  {
   "cell_type": "markdown",
   "metadata": {},
   "source": [
    "### Most Reviewed Items\n",
    "\n",
    "The book 'Where the Crawdads Sing: Reese's Book Club (a novel)' has received the highest review count, with 623,473 reviews. The book has gained widespread popularity among readers, attracting a large number of reviews over time. The high review count reflects active engagement from readers who are willing to share their opinions and experiences with the book.\n",
    "\n",
    "<p style=\"text-align: center;\"><strong>Table 5: Most Reviewed Items</strong></p>"
   ]
  },
  {
   "cell_type": "code",
   "execution_count": null,
   "metadata": {},
   "outputs": [
    {
     "ename": "SyntaxError",
     "evalue": "invalid syntax (765193649.py, line 1)",
     "output_type": "error",
     "traceback": [
      "\u001b[1;36m  Cell \u001b[1;32mIn[1], line 1\u001b[1;36m\u001b[0m\n\u001b[1;33m    <p style=\"text-align: center;\"><strong>Table 5: Most Reviewed Items</strong></p>\u001b[0m\n\u001b[1;37m    ^\u001b[0m\n\u001b[1;31mSyntaxError\u001b[0m\u001b[1;31m:\u001b[0m invalid syntax\n"
     ]
    }
   ],
   "source": [
    "# Get the top 20 rows with the highest values in the 'customerReviewCount' column\n",
    "top_20_reviews_count = merged_df1.nlargest(20, 'customerReviewCount')\n",
    "\n",
    "# Select only the desired columns and rename them\n",
    "top_20_reviews_count = top_20_reviews_count[['ASIN', 'name', 'customerReview', 'customerReviewCount', 'Category']].rename(columns={'name': 'Product name', 'customerReview': 'Customer Review', 'customerReviewCount': 'Customer Review Count'})\n",
    "\n",
    "# Display the top 20 rows\n",
    "display(top_20_reviews_count)"
   ]
  },
  {
   "cell_type": "markdown",
   "metadata": {},
   "source": [
    "![Where_the_Crawdads_Sing.jpg](Where_the_Crawdads_Sing.jpg)\n",
    "\n",
    "<p style=\"text-align: center;\"><strong>Figure 3. Most Reviewed Item</strong></p>"
   ]
  },
  {
   "cell_type": "markdown",
   "metadata": {},
   "source": [
    "### Most Expensive Items\n",
    "\n",
    "The NVIDIA H100 80GB graphics card is the most expensive item in the dataset, priced at $30,099.99. Being the most expensive item suggests that the NVIDIA H100 graphics card occupies the top tier in terms of pricing within the dataset. This might position it as a premium offering in the market, potentially offering advanced features, performance capabilities, or specialized functionalities that justify its high price tag.  The presence of such a high-priced item in the dataset suggests the existence of other high-end products competing within the same market segment. Analyzing the pricing and features of competing products can provide insights into market dynamics, customer preferences, and the overall competitiveness of the graphics card market."
   ]
  },
  {
   "cell_type": "code",
   "execution_count": null,
   "metadata": {},
   "outputs": [
    {
     "data": {
      "text/html": [
       "<div>\n",
       "<style scoped>\n",
       "    .dataframe tbody tr th:only-of-type {\n",
       "        vertical-align: middle;\n",
       "    }\n",
       "\n",
       "    .dataframe tbody tr th {\n",
       "        vertical-align: top;\n",
       "    }\n",
       "\n",
       "    .dataframe thead th {\n",
       "        text-align: right;\n",
       "    }\n",
       "</style>\n",
       "<table border=\"1\" class=\"dataframe\">\n",
       "  <thead>\n",
       "    <tr style=\"text-align: right;\">\n",
       "      <th></th>\n",
       "      <th>Product name</th>\n",
       "      <th>Top 20 Most Expensive Item</th>\n",
       "      <th>customerReview</th>\n",
       "      <th>Category</th>\n",
       "    </tr>\n",
       "  </thead>\n",
       "  <tbody>\n",
       "    <tr>\n",
       "      <th>24169</th>\n",
       "      <td>nvidia h100 80 gb graphic card pcie hbm2e memo...</td>\n",
       "      <td>30099.99</td>\n",
       "      <td>1.0</td>\n",
       "      <td>Computer Components</td>\n",
       "    </tr>\n",
       "    <tr>\n",
       "      <th>21119</th>\n",
       "      <td>lg signature 88-inch class oled z2 series alex...</td>\n",
       "      <td>26044.61</td>\n",
       "      <td>3.7</td>\n",
       "      <td>Electronic devices</td>\n",
       "    </tr>\n",
       "    <tr>\n",
       "      <th>22897</th>\n",
       "      <td>jvc dla-nz9 d-ila laser home theater projector...</td>\n",
       "      <td>22390.25</td>\n",
       "      <td>5.0</td>\n",
       "      <td>Peripheral Devices</td>\n",
       "    </tr>\n",
       "    <tr>\n",
       "      <th>23058</th>\n",
       "      <td>sony vplvw885es 4k hdr laser home theater vide...</td>\n",
       "      <td>21235.86</td>\n",
       "      <td>3.6</td>\n",
       "      <td>Peripheral Devices</td>\n",
       "    </tr>\n",
       "    <tr>\n",
       "      <th>9237</th>\n",
       "      <td>kohler 30754-pa-hb1 k-30754-pa-hb1 numi 2.0 co...</td>\n",
       "      <td>9937.50</td>\n",
       "      <td>5.0</td>\n",
       "      <td>Bedroom</td>\n",
       "    </tr>\n",
       "    <tr>\n",
       "      <th>21254</th>\n",
       "      <td>samsung un78js9100 curved 78-inch 4k ultra hd ...</td>\n",
       "      <td>8998.94</td>\n",
       "      <td>3.1</td>\n",
       "      <td>Electronic devices</td>\n",
       "    </tr>\n",
       "    <tr>\n",
       "      <th>9104</th>\n",
       "      <td>kohler 30754-pa-0 numi 2.0 comfort height smar...</td>\n",
       "      <td>8625.00</td>\n",
       "      <td>3.3</td>\n",
       "      <td>Bedroom</td>\n",
       "    </tr>\n",
       "    <tr>\n",
       "      <th>21291</th>\n",
       "      <td>sony xr85z9k 85\" 8k bravia xr hdr mini led sma...</td>\n",
       "      <td>7298.00</td>\n",
       "      <td>1.0</td>\n",
       "      <td>Electronic devices</td>\n",
       "    </tr>\n",
       "    <tr>\n",
       "      <th>9029</th>\n",
       "      <td>toto ms989cumfg#01 neorest ah dual flush 1.0 o...</td>\n",
       "      <td>5134.43</td>\n",
       "      <td>4.1</td>\n",
       "      <td>Bedroom</td>\n",
       "    </tr>\n",
       "    <tr>\n",
       "      <th>6797</th>\n",
       "      <td>jura giga 6 automatic coffee machine with p.e....</td>\n",
       "      <td>4998.00</td>\n",
       "      <td>3.0</td>\n",
       "      <td>Kitchen</td>\n",
       "    </tr>\n",
       "    <tr>\n",
       "      <th>23035</th>\n",
       "      <td>jvc dla-np5 d-ila 4k hdr home theater projecto...</td>\n",
       "      <td>4988.51</td>\n",
       "      <td>5.0</td>\n",
       "      <td>Peripheral Devices</td>\n",
       "    </tr>\n",
       "    <tr>\n",
       "      <th>22939</th>\n",
       "      <td>formovie theater ultra short throw projector 2...</td>\n",
       "      <td>4798.00</td>\n",
       "      <td>4.2</td>\n",
       "      <td>Peripheral Devices</td>\n",
       "    </tr>\n",
       "    <tr>\n",
       "      <th>9167</th>\n",
       "      <td>kohler k-5401-pa-0 veil comfort height skirted...</td>\n",
       "      <td>4725.00</td>\n",
       "      <td>4.0</td>\n",
       "      <td>Bedroom</td>\n",
       "    </tr>\n",
       "    <tr>\n",
       "      <th>29561</th>\n",
       "      <td>terra pure green tea cleansing bar soap, trave...</td>\n",
       "      <td>4429.49</td>\n",
       "      <td>4.2</td>\n",
       "      <td>Personal Care</td>\n",
       "    </tr>\n",
       "    <tr>\n",
       "      <th>21263</th>\n",
       "      <td>sylvox 75 inch outdoor tv, 2000 nits full sun ...</td>\n",
       "      <td>3999.00</td>\n",
       "      <td>4.4</td>\n",
       "      <td>Electronic devices</td>\n",
       "    </tr>\n",
       "    <tr>\n",
       "      <th>7604</th>\n",
       "      <td>amana commercial rc30s2 amana rc chef line com...</td>\n",
       "      <td>3912.75</td>\n",
       "      <td>3.9</td>\n",
       "      <td>Kitchen</td>\n",
       "    </tr>\n",
       "    <tr>\n",
       "      <th>9105</th>\n",
       "      <td>kohler 77780-0 karing smart toilet with auto o...</td>\n",
       "      <td>3750.00</td>\n",
       "      <td>2.7</td>\n",
       "      <td>Bedroom</td>\n",
       "    </tr>\n",
       "    <tr>\n",
       "      <th>24652</th>\n",
       "      <td>amd ryzen threadripper 3990x 64-core, 128-thre...</td>\n",
       "      <td>3600.00</td>\n",
       "      <td>4.3</td>\n",
       "      <td>Computer Components</td>\n",
       "    </tr>\n",
       "    <tr>\n",
       "      <th>23062</th>\n",
       "      <td>epson epiqvision ultra ls800 ultra short throw...</td>\n",
       "      <td>3499.99</td>\n",
       "      <td>3.9</td>\n",
       "      <td>Peripheral Devices</td>\n",
       "    </tr>\n",
       "    <tr>\n",
       "      <th>8610</th>\n",
       "      <td>bull outdoor products bbq 44000 angus 75,000 b...</td>\n",
       "      <td>3369.00</td>\n",
       "      <td>4.2</td>\n",
       "      <td>Kitchen</td>\n",
       "    </tr>\n",
       "  </tbody>\n",
       "</table>\n",
       "</div>"
      ],
      "text/plain": [
       "                                            Product name  \\\n",
       "24169  nvidia h100 80 gb graphic card pcie hbm2e memo...   \n",
       "21119  lg signature 88-inch class oled z2 series alex...   \n",
       "22897  jvc dla-nz9 d-ila laser home theater projector...   \n",
       "23058  sony vplvw885es 4k hdr laser home theater vide...   \n",
       "9237   kohler 30754-pa-hb1 k-30754-pa-hb1 numi 2.0 co...   \n",
       "21254  samsung un78js9100 curved 78-inch 4k ultra hd ...   \n",
       "9104   kohler 30754-pa-0 numi 2.0 comfort height smar...   \n",
       "21291  sony xr85z9k 85\" 8k bravia xr hdr mini led sma...   \n",
       "9029   toto ms989cumfg#01 neorest ah dual flush 1.0 o...   \n",
       "6797   jura giga 6 automatic coffee machine with p.e....   \n",
       "23035  jvc dla-np5 d-ila 4k hdr home theater projecto...   \n",
       "22939  formovie theater ultra short throw projector 2...   \n",
       "9167   kohler k-5401-pa-0 veil comfort height skirted...   \n",
       "29561  terra pure green tea cleansing bar soap, trave...   \n",
       "21263  sylvox 75 inch outdoor tv, 2000 nits full sun ...   \n",
       "7604   amana commercial rc30s2 amana rc chef line com...   \n",
       "9105   kohler 77780-0 karing smart toilet with auto o...   \n",
       "24652  amd ryzen threadripper 3990x 64-core, 128-thre...   \n",
       "23062  epson epiqvision ultra ls800 ultra short throw...   \n",
       "8610   bull outdoor products bbq 44000 angus 75,000 b...   \n",
       "\n",
       "       Top 20 Most Expensive Item  customerReview             Category  \n",
       "24169                    30099.99             1.0  Computer Components  \n",
       "21119                    26044.61             3.7   Electronic devices  \n",
       "22897                    22390.25             5.0   Peripheral Devices  \n",
       "23058                    21235.86             3.6   Peripheral Devices  \n",
       "9237                      9937.50             5.0              Bedroom  \n",
       "21254                     8998.94             3.1   Electronic devices  \n",
       "9104                      8625.00             3.3              Bedroom  \n",
       "21291                     7298.00             1.0   Electronic devices  \n",
       "9029                      5134.43             4.1              Bedroom  \n",
       "6797                      4998.00             3.0              Kitchen  \n",
       "23035                     4988.51             5.0   Peripheral Devices  \n",
       "22939                     4798.00             4.2   Peripheral Devices  \n",
       "9167                      4725.00             4.0              Bedroom  \n",
       "29561                     4429.49             4.2        Personal Care  \n",
       "21263                     3999.00             4.4   Electronic devices  \n",
       "7604                      3912.75             3.9              Kitchen  \n",
       "9105                      3750.00             2.7              Bedroom  \n",
       "24652                     3600.00             4.3  Computer Components  \n",
       "23062                     3499.99             3.9   Peripheral Devices  \n",
       "8610                      3369.00             4.2              Kitchen  "
      ]
     },
     "metadata": {},
     "output_type": "display_data"
    }
   ],
   "source": [
    "# Remove rows with NaN values in the 'customerReview' column\n",
    "merged_df1 = merged_df1.dropna(subset=['customerReview'])\n",
    "\n",
    "# Get the top 20 rows with the highest values in the 'price' column\n",
    "top_20_expensive_items = merged_df1.nlargest(20, 'price')\n",
    "\n",
    "# Select only the desired columns and rename them\n",
    "top_20_expensive_items = top_20_expensive_items[['name', 'price', 'customerReview', 'Category']].rename(columns={'name': 'Product name', 'price': 'Top 20 Most Expensive Item'})\n",
    "\n",
    "# Display the top 20 rows\n",
    "display(top_20_expensive_items)"
   ]
  },
  {
   "cell_type": "markdown",
   "metadata": {},
   "source": [
    "<img src=\"21I6FN-aWJL._AC_.jpg\" alt=\"Image Description\">\n",
    "\n",
    "<p><strong>Figure 4. Computer Component 21I6FN-aWJL</strong></p>"
   ]
  },
  {
   "cell_type": "markdown",
   "metadata": {},
   "source": [
    "### Review Count per Category"
   ]
  },
  {
   "cell_type": "code",
   "execution_count": null,
   "metadata": {},
   "outputs": [
    {
     "data": {
      "image/png": "[encoded data removed]",
      "text/plain": [
       "<Figure size 1000x600 with 1 Axes>"
      ]
     },
     "metadata": {},
     "output_type": "display_data"
    }
   ],
   "source": [
    "review_counts = reviews_df.groupby('category')['customerReview'].count().sort_values(ascending=False)\n",
    "\n",
    "# Create a vertical bar plot\n",
    "plt.figure(figsize=(10, 6))\n",
    "review_counts.plot(kind='bar', color='orange')\n",
    "\n",
    "# Customize the plot\n",
    "plt.title('Figure 5. Review Counts by Category', y=-0.7)\n",
    "plt.xlabel('Category')\n",
    "plt.ylabel('Review Count')\n",
    "plt.xticks(rotation=45, ha='right')\n",
    "plt.tight_layout()\n",
    "\n",
    "# Show the plot\n",
    "plt.show()"
   ]
  },
  {
   "cell_type": "markdown",
   "metadata": {},
   "source": [
    "- Fashion emerges as the most reviewed category among Amazon purchases due to its popularity and the wide range of products available. Customers often leave reviews detailing their experiences with clothing, shoes, and jewelry purchased on Amazon. Additionally, influencers and bloggers play a role in reviewing Amazon fashion items, sharing insights on quality, fit, and value for money"
   ]
  },
  {
   "cell_type": "markdown",
   "metadata": {},
   "source": [
    "### Review Count Per Location"
   ]
  },
  {
   "cell_type": "code",
   "execution_count": null,
   "metadata": {},
   "outputs": [
    {
     "data": {
      "image/png": "[encoded data removed]",
      "text/plain": [
       "<Figure size 1000x600 with 1 Axes>"
      ]
     },
     "metadata": {},
     "output_type": "display_data"
    }
   ],
   "source": [
    "# Filter the DataFrame to include only rows where reviewVotes are not null and not equal to 0\n",
    "filtered_reviews_df = reviews_df.dropna(subset=['reviewVotes'])\n",
    "filtered_reviews_df = filtered_reviews_df[filtered_reviews_df['reviewVotes'] != 0]\n",
    "\n",
    "# Count the occurrences of review locations\n",
    "review_location_counts = filtered_reviews_df['reviewLocation'].value_counts()\n",
    "\n",
    "# Sort review location counts from lowest to highest\n",
    "review_location_counts_sorted = review_location_counts.sort_values(ascending=False)\n",
    "\n",
    "# Create a vertical bar plot\n",
    "plt.figure(figsize=(10, 6))\n",
    "review_location_counts_sorted.plot(kind='bar', color='skyblue')\n",
    "\n",
    "# Customize the plot\n",
    "plt.title('Figure 6. Review Location Counts', y=-0.4)\n",
    "plt.xlabel('Review Location')\n",
    "plt.ylabel('Count')\n",
    "plt.xticks(rotation=45, ha='right')\n",
    "plt.grid(axis='y')\n",
    "\n",
    "# Show the plot\n",
    "plt.tight_layout()\n",
    "plt.show()"
   ]
  },
  {
   "cell_type": "markdown",
   "metadata": {},
   "source": [
    "- The United States of America has the highest number of Amazon customers who write reviews. This is due to the large population and the popularity of Amazon in the country. Additionally, Amazon has a program called Amazon Vine, which invites the most insightful reviewers to become Vine Voices. These reviewers receive free products in exchange for their honest and unbiased reviews, which helps other customers make informed purchasing decisions"
   ]
  },
  {
   "cell_type": "markdown",
   "metadata": {},
   "source": [
    "<h2 style=\"color:#ff9900; background-color:#1c5177; padding: 10px; text-align:left; border: 1px solid #4a62d8;\">Implementation</h2> \n",
    "\n",
    "### Get Top 20 Reviewers"
   ]
  },
  {
   "cell_type": "code",
   "execution_count": null,
   "metadata": {},
   "outputs": [],
   "source": [
    "non_nan_count = df_utility.notna().sum(axis=1)\n",
    "df_top_reviewers = df_utility.loc[\n",
    "    non_nan_count.sort_values(ascending=False).index].iloc[:20]\n",
    "top_uids = df_top_reviewers.index.tolist()\n",
    "df_non_top_reviewers = df_utility.loc[\n",
    "    non_nan_count.sort_values(ascending=False).index].iloc[20:]"
   ]
  },
  {
   "cell_type": "markdown",
   "metadata": {},
   "source": [
    "### Try all algorithms\n",
    "We try all algorithms and evaluate the quality of recommendations.\n",
    "* Neighborhood-based collaborative filtering\n",
    "    * KNNBasic\n",
    "    * KNNWithMeans\n",
    "    * SVD\n",
    "* Latent-factor based collaborative filtering\n",
    "    * Alternating Least Squares (ALS)\n",
    "* Content-based collaborative filtering\n",
    "    * User profile numeric aggregation with Euclidean distance"
   ]
  },
  {
   "cell_type": "markdown",
   "metadata": {},
   "source": [
    "### Global Baseline Average\n",
    "\n",
    "The formula for the global baseline $b_{ui}$ for user $u$ and item $i$ is:\n",
    "\n",
    "$$ b_{ui} = \\mu + b_u + b_i $$\n",
    "\n",
    "where:\n",
    "- $\\mu$ global average rating across all ratings.\n",
    "- $b_u$ user bias, calculated as the average rating given by the user minus the global average rating.\n",
    "- $b_i$ item bias, calculated as the average rating received by the item minus the global average rating."
   ]
  },
  {
   "cell_type": "code",
   "execution_count": null,
   "metadata": {},
   "outputs": [],
   "source": [
    "global_avg = all_reviews_df['customerReview'].mean()\n",
    "user_avg = all_reviews_df.groupby('reviewerID')['customerReview'].mean()\n",
    "items_avg = all_reviews_df.groupby('ASIN')['customerReview'].mean()\n",
    "user_bias = user_avg - global_avg\n",
    "item_bias = items_avg - global_avg\n",
    "\n",
    "try:\n",
    "    all_reviews_df.reset_index(inplace=True)\n",
    "except:\n",
    "    pass\n",
    "\n",
    "predictions = []\n",
    "for user in top_uids:\n",
    "    user_specific_df = all_reviews_df[all_reviews_df['reviewerID'] == user]\n",
    "    rated_items = user_specific_df['ASIN'].unique()\n",
    "    for item in item_bias.index:\n",
    "        if item not in rated_items:\n",
    "            if user in user_bias.index and item in item_bias.index:\n",
    "                b_ui = global_avg + user_bias[user] + item_bias[item]\n",
    "                b_ui = min(b_ui, 5)\n",
    "                predictions.append((user, item, b_ui))\n",
    "                \n",
    "predictions_df = pd.DataFrame(predictions, columns=['reviewerID', 'ASIN', 'predicted_rating'])\n",
    " \n",
    "recommendations_global_average_baseline = {}\n",
    " \n",
    "for user in top_uids:\n",
    "    top_predictions = {}\n",
    "    user_predictions = predictions_df[predictions_df['reviewerID'] == user]\n",
    "    preds = user_predictions.sort_values(\n",
    "        by='predicted_rating', ascending=False).head(10)\n",
    "    recommendations_global_average_baseline[user] = preds[\"ASIN\"].values"
   ]
  },
  {
   "cell_type": "markdown",
   "metadata": {},
   "source": [
    "<h2 style=\"color:#1c5177; background-color:#ff9900; padding: 3px; text-align:left; border: 1px solid #ff9900;\">Neighborhood-based Collaborative Filtering</h2>\n",
    "\n",
    "### From Surprise"
   ]
  },
  {
   "cell_type": "code",
   "execution_count": null,
   "metadata": {},
   "outputs": [],
   "source": [
    "melted_user_df = df_utility.copy().reset_index().melt(\n",
    "    'reviewerID', var_name='ASIN', value_name='rating').dropna()\n",
    "reader = Reader(rating_scale=(0,5))\n",
    "dataset = Dataset.load_from_df(melted_user_df, reader)\n",
    "algos = [KNNBasic(verbose=False), KNNWithMeans(verbose=False), SVD()]"
   ]
  },
  {
   "cell_type": "code",
   "execution_count": null,
   "metadata": {},
   "outputs": [
    {
     "data": {
      "image/png": "[encoded data removed]",
      "text/plain": [
       "<Figure size 1000x600 with 1 Axes>"
      ]
     },
     "metadata": {},
     "output_type": "display_data"
    }
   ],
   "source": [
    "metrics_list = []\n",
    "for algo in algos:\n",
    "    metrics = cross_validate(algo, dataset)\n",
    "    metrics['mean_test_rmse'] = np.mean(metrics['test_rmse'])\n",
    "    metrics['mean_test_mae'] = np.mean(metrics['test_mae'])\n",
    "    metrics_list.append(metrics)\n",
    "\n",
    "k = range(0,5)\n",
    "plt.figure(figsize=(10, 6))\n",
    "plt.plot(k, metrics_list[0]['test_rmse'], label='Test RMSE for KNNBasic')\n",
    "plt.plot(k, metrics_list[1]['test_rmse'], label='Test RMSE for KNNBWithMeans')\n",
    "plt.plot(k, metrics_list[2]['test_rmse'], label='Test RMSE for SVD')\n",
    "plt.plot(k, metrics_list[0]['test_mae'], label='Test MAE for KNNBasic')\n",
    "plt.plot(k, metrics_list[1]['test_mae'], label='Test RMSE for KNNWithMeans')\n",
    "plt.plot(k, metrics_list[2]['test_mae'], label='Test RMSE for SVD')\n",
    "plt.plot(k, metrics_list[0]['fit_time'], label='Test Fit time for KNNBasic')\n",
    "plt.plot(k, metrics_list[1]['fit_time'], label='Test Fit time for KNNWithMeans')\n",
    "plt.plot(k, metrics_list[2]['fit_time'], label='Test Fit time for SVD')\n",
    "plt.plot(k, metrics_list[0]['test_time'], label='Test time for KNNBasic')\n",
    "plt.plot(k, metrics_list[1]['test_time'], label='Test time for KNNWithMeans')\n",
    "plt.plot(k, metrics_list[2]['test_time'], label='Test time for SVD')\n",
    "plt.xlabel(\"K fold\")\n",
    "plt.ylabel(\"Score\")\n",
    "plt.legend(loc='lower right')\n",
    "plt.title('Figure 7. Performance of KNNBasic and KNNWithMeans')\n",
    "plt.show()"
   ]
  },
  {
   "cell_type": "code",
   "execution_count": null,
   "metadata": {},
   "outputs": [
    {
     "name": "stderr",
     "output_type": "stream",
     "text": [
      "/var/folders/t0/q6y7xdzx2zz15mddwxm1f75m0000gn/T/ipykernel_34286/4196514658.py:10: UserWarning: The figure layout has changed to tight\n",
      "  plt.tight_layout()\n"
     ]
    },
    {
     "data": {
      "image/png": "[encoded data removed]",
      "text/plain": [
       "<Figure size 800x400 with 3 Axes>"
      ]
     },
     "metadata": {},
     "output_type": "display_data"
    }
   ],
   "source": [
    "fig, axes = plt.subplots(1, 3, figsize=(8,4), layout='constrained')\n",
    "method = [\"KNNBasic\", \"KNNWithMeans\", \"SVD\"]\n",
    "ind = 0\n",
    "for m in metrics_list:\n",
    "    for k in m:\n",
    "        if 'mean' in k:\n",
    "            axes[ind].bar(k, m[k])\n",
    "            axes[ind].set_title(method[ind])\n",
    "    ind += 1\n",
    "plt.tight_layout()\n",
    "plt.title('Figure 8. Mean Test RMSE and Mean Test MAEs', y=-0.2, x=-0.5)    \n",
    "plt.show()"
   ]
  },
  {
   "cell_type": "markdown",
   "metadata": {},
   "source": [
    "### NDCG"
   ]
  },
  {
   "cell_type": "code",
   "execution_count": null,
   "metadata": {},
   "outputs": [
    {
     "data": {
      "text/html": [
       "<div>\n",
       "<style scoped>\n",
       "    .dataframe tbody tr th:only-of-type {\n",
       "        vertical-align: middle;\n",
       "    }\n",
       "\n",
       "    .dataframe tbody tr th {\n",
       "        vertical-align: top;\n",
       "    }\n",
       "\n",
       "    .dataframe thead th {\n",
       "        text-align: right;\n",
       "    }\n",
       "</style>\n",
       "<table border=\"1\" class=\"dataframe\">\n",
       "  <thead>\n",
       "    <tr style=\"text-align: right;\">\n",
       "      <th></th>\n",
       "      <th>NDCG</th>\n",
       "    </tr>\n",
       "  </thead>\n",
       "  <tbody>\n",
       "    <tr>\n",
       "      <th>(KNNBasic, ndcg)</th>\n",
       "      <td>0.162636</td>\n",
       "    </tr>\n",
       "    <tr>\n",
       "      <th>(KNNWithMeans, ndcg)</th>\n",
       "      <td>0.162639</td>\n",
       "    </tr>\n",
       "    <tr>\n",
       "      <th>(SVD, ndcg)</th>\n",
       "      <td>0.162589</td>\n",
       "    </tr>\n",
       "  </tbody>\n",
       "</table>\n",
       "</div>"
      ],
      "text/plain": [
       "                          NDCG\n",
       "(KNNBasic, ndcg)      0.162636\n",
       "(KNNWithMeans, ndcg)  0.162639\n",
       "(SVD, ndcg)           0.162589"
      ]
     },
     "metadata": {},
     "output_type": "display_data"
    }
   ],
   "source": [
    "def get_ndcg(surprise_predictions, k_highest_scores=None):\n",
    "    \"\"\" \n",
    "    Calculates the ndcg (normalized discounted cumulative gain) from surprise predictions, using sklearn.metrics.ndcg_score and scipy.sparse\n",
    "  \n",
    "    Parameters: \n",
    "    surprise_predictions (List of surprise.prediction_algorithms.predictions.Prediction): list of predictions\n",
    "    k_highest_scores (positive integer): Only consider the highest k scores in the ranking. If None, use all. \n",
    "  \n",
    "    Returns: \n",
    "    float in [0., 1.]: The averaged NDCG scores over all recommendations\n",
    "  \n",
    "    \"\"\"\n",
    "    from sklearn.metrics import ndcg_score\n",
    "    from scipy import sparse\n",
    "    \n",
    "    uids = []\n",
    "    iids = []\n",
    "    uid_mapping = {}\n",
    "    iid_mapping = {}\n",
    "\n",
    "    iter = 0\n",
    "    for s in surprise_predictions:\n",
    "        if s.uid in uid_mapping:\n",
    "            uids.append(uid_mapping[s.uid])\n",
    "        else:\n",
    "            uid_mapping[s.uid] = iter\n",
    "            uids.append(iter)\n",
    "\n",
    "        if s.iid in iid_mapping:\n",
    "            iids.append(iid_mapping[s.iid])\n",
    "        else:\n",
    "            iid_mapping[s.iid] = iter\n",
    "            iids.append(iter)\n",
    "\n",
    "        iter += 1\n",
    "\n",
    "    r_uis = [p.r_ui for p in surprise_predictions ]\n",
    "    ests = [p.est for p in surprise_predictions ]\n",
    "    \n",
    "    assert(len(uids) == len(iids) == len(r_uis) == len(ests) )    \n",
    "    \n",
    "    sparse_preds = sparse.coo_matrix( (ests, (uids , iids )) )\n",
    "    sparse_vals = sparse.coo_matrix( (r_uis, (uids , iids )) )\n",
    "    \n",
    "    dense_preds = sparse_preds.toarray()\n",
    "    dense_vals = sparse_vals.toarray()\n",
    "    \n",
    "    return ndcg_score(y_true= dense_vals , y_score= dense_preds, k=k_highest_scores)\n",
    "\n",
    "algo_res = {'KNNBasic': {'ndcg': []}, 'KNNWithMeans': {'ndcg': []}, 'SVD': {'ndcg': []}}\n",
    "method = [\"KNNBasic\", \"KNNWithMeans\", \"SVD\"]\n",
    "iter = 0\n",
    "reader = Reader(rating_scale=(0,5))\n",
    "df_melt_all = (df_utility.reset_index()\n",
    "                    .melt('reviewerID', var_name='ASIN', value_name='raw_ratings')\n",
    "                    .dropna())\n",
    "#trainset = dataset.load_from_df(\n",
    "#    df_melt_train, reader).build_full_trainset()\n",
    "trainset = dataset.load_from_df(\n",
    "    df_melt_all, reader).build_full_trainset()\n",
    "for algo in algos:\n",
    "    algo.fit(trainset)\n",
    "    predictions = algo.test(trainset.build_testset())\n",
    "    ndcg = get_ndcg(predictions, k_highest_scores=10)\n",
    "    algo_res[method[iter]]['ndcg'].append(ndcg)\n",
    "    iter += 1\n",
    "\n",
    "df_metrics_surprise = pd.DataFrame.from_dict({(i,j): algo_res[i][j] \n",
    "                           for i in algo_res.keys() \n",
    "                           for j in algo_res[i].keys()},\n",
    "                       orient='index')\n",
    "df_metrics_surprise.rename(columns={0: 'NDCG'}, inplace=True)\n",
    "display(df_metrics_surprise)"
   ]
  },
  {
   "cell_type": "markdown",
   "metadata": {},
   "source": [
    "### Get TopN Recommendations For All Users"
   ]
  },
  {
   "cell_type": "code",
   "execution_count": null,
   "metadata": {},
   "outputs": [],
   "source": [
    "def get_random_users(lst, n):\n",
    "    rand_ids = random.sample(lst, k=n)\n",
    "    return rand_ids\n",
    "\n",
    "\n",
    "def get_ilocs(df_utility, userids):\n",
    "    userids_ilocs = []\n",
    "    original_indices = df_utility.index\n",
    "    for u in userids:\n",
    "        userids_ilocs.append(original_indices.get_loc(u))\n",
    "    return userids_ilocs\n",
    "\n",
    "user_histories = {}\n",
    "for uid in top_uids:\n",
    "    user_histories[uid] = reviews_df.loc[uid]['ASIN'].tolist()\n",
    "\n",
    "userids_ilocs = get_ilocs(df_utility, top_uids)"
   ]
  },
  {
   "cell_type": "code",
   "execution_count": null,
   "metadata": {},
   "outputs": [],
   "source": [
    "def get_top_n(predictions, user_history, n=10):\n",
    "    \"\"\"Return the top-N recommendation for each user from a set of predictions.\n",
    "\n",
    "    Args:\n",
    "        predictions(list of Prediction objects): The list of predictions, as\n",
    "            returned by the test method of an algorithm.\n",
    "        n(int): The number of recommendation to output for each user. Default\n",
    "            is 10.\n",
    "\n",
    "    Returns:\n",
    "    A dict where keys are user (raw) ids and values are lists of tuples:\n",
    "        [(raw item id, rating estimation), ...] of size n.\n",
    "    \"\"\"\n",
    "    top_n = defaultdict(list)\n",
    "    for uid, iid, true_r, est, _ in predictions:\n",
    "        if iid not in user_history:\n",
    "            top_n[uid].append((iid, est))\n",
    "    for uid, user_ratings in top_n.items():\n",
    "        user_ratings.sort(key=lambda x: x[1], reverse=True)\n",
    "        top_n[uid] = user_ratings[:n]\n",
    "    return top_n\n",
    "\n",
    "testset = dataset.load_from_df(\n",
    "    df_melt_all, reader).build_full_trainset().build_anti_testset()\n",
    "\n",
    "algo_names = ['KNNBasic', 'KNNWithMeans', 'SVD']\n",
    "recommendations_surprise = {'KNNBasic': {}, 'KNNWithMeans': {}, 'SVD': {}}\n",
    "iter = 0\n",
    "for algo in algos:\n",
    "    predictions = algo.test(testset)\n",
    "    for uid in top_uids:\n",
    "        top_n = get_top_n(predictions, user_histories[uid], n=10)\n",
    "        for uid, user_ratings in top_n.items():\n",
    "            if uid in top_uids:\n",
    "\n",
    "                recommendations_surprise[\n",
    "                    algo_names[iter]][uid] = [iid for (iid, _) in user_ratings]\n",
    "    iter += 1"
   ]
  },
  {
   "cell_type": "markdown",
   "metadata": {},
   "source": [
    "<h2 style=\"color:#1c5177; background-color:#ff9900; padding: 3px; text-align:left; border: 1px solid #ff9900;\">Latent-factor based Collaborative Filtering</h2>\n",
    "\n",
    "### ALS"
   ]
  },
  {
   "cell_type": "code",
   "execution_count": null,
   "metadata": {},
   "outputs": [
    {
     "name": "stderr",
     "output_type": "stream",
     "text": [
      "/Library/Frameworks/Python.framework/Versions/3.11/lib/python3.11/site-packages/implicit/cpu/als.py:95: RuntimeWarning: OpenBLAS is configured to use 8 threads. It is highly recommended to disable its internal threadpool by setting the environment variable 'OPENBLAS_NUM_THREADS=1' or by calling 'threadpoolctl.threadpool_limits(1, \"blas\")'. Having OpenBLAS use a threadpool can lead to severe performance issues here.\n",
      "  check_blas_config()\n"
     ]
    },
    {
     "data": {
      "application/vnd.jupyter.widget-view+json": {
       "model_id": "cbf55d5708c844759e647e3cdc96d586",
       "version_major": 2,
       "version_minor": 0
      },
      "text/plain": [
       "  0%|          | 0/261 [00:00<?, ?it/s]"
      ]
     },
     "metadata": {},
     "output_type": "display_data"
    },
    {
     "data": {
      "application/vnd.jupyter.widget-view+json": {
       "model_id": "f18f557a86044b9a8d45af3213f06009",
       "version_major": 2,
       "version_minor": 0
      },
      "text/plain": [
       "  0%|          | 0/261 [00:00<?, ?it/s]"
      ]
     },
     "metadata": {},
     "output_type": "display_data"
    },
    {
     "data": {
      "application/vnd.jupyter.widget-view+json": {
       "model_id": "109707d39e2d42efa11e9a1968caf299",
       "version_major": 2,
       "version_minor": 0
      },
      "text/plain": [
       "  0%|          | 0/261 [00:00<?, ?it/s]"
      ]
     },
     "metadata": {},
     "output_type": "display_data"
    },
    {
     "data": {
      "application/vnd.jupyter.widget-view+json": {
       "model_id": "e674e59440f0482eac38842be73700a3",
       "version_major": 2,
       "version_minor": 0
      },
      "text/plain": [
       "  0%|          | 0/261 [00:00<?, ?it/s]"
      ]
     },
     "metadata": {},
     "output_type": "display_data"
    },
    {
     "data": {
      "application/vnd.jupyter.widget-view+json": {
       "model_id": "e38c79c6abb249959555a3943b9afe3a",
       "version_major": 2,
       "version_minor": 0
      },
      "text/plain": [
       "  0%|          | 0/261 [00:00<?, ?it/s]"
      ]
     },
     "metadata": {},
     "output_type": "display_data"
    },
    {
     "data": {
      "application/vnd.jupyter.widget-view+json": {
       "model_id": "932ad3bee2624aca957ee1673a141fa3",
       "version_major": 2,
       "version_minor": 0
      },
      "text/plain": [
       "  0%|          | 0/261 [00:00<?, ?it/s]"
      ]
     },
     "metadata": {},
     "output_type": "display_data"
    },
    {
     "data": {
      "application/vnd.jupyter.widget-view+json": {
       "model_id": "ba76c9f2726a4f289190cfcea1612736",
       "version_major": 2,
       "version_minor": 0
      },
      "text/plain": [
       "  0%|          | 0/261 [00:00<?, ?it/s]"
      ]
     },
     "metadata": {},
     "output_type": "display_data"
    },
    {
     "data": {
      "application/vnd.jupyter.widget-view+json": {
       "model_id": "71fa889f09e6421daaea154ad03f9948",
       "version_major": 2,
       "version_minor": 0
      },
      "text/plain": [
       "  0%|          | 0/261 [00:00<?, ?it/s]"
      ]
     },
     "metadata": {},
     "output_type": "display_data"
    },
    {
     "data": {
      "application/vnd.jupyter.widget-view+json": {
       "model_id": "3d1f77969b5440cf8f0bd2e14dadd3dc",
       "version_major": 2,
       "version_minor": 0
      },
      "text/plain": [
       "  0%|          | 0/261 [00:00<?, ?it/s]"
      ]
     },
     "metadata": {},
     "output_type": "display_data"
    },
    {
     "data": {
      "application/vnd.jupyter.widget-view+json": {
       "model_id": "ecf7d72f361a4a0da97966d2ffb35a20",
       "version_major": 2,
       "version_minor": 0
      },
      "text/plain": [
       "  0%|          | 0/261 [00:00<?, ?it/s]"
      ]
     },
     "metadata": {},
     "output_type": "display_data"
    },
    {
     "data": {
      "application/vnd.jupyter.widget-view+json": {
       "model_id": "475b7b167e8b4aeab947d8af0e0cb693",
       "version_major": 2,
       "version_minor": 0
      },
      "text/plain": [
       "  0%|          | 0/261 [00:00<?, ?it/s]"
      ]
     },
     "metadata": {},
     "output_type": "display_data"
    },
    {
     "data": {
      "application/vnd.jupyter.widget-view+json": {
       "model_id": "85f245dd6f2c42108e6da357064930a3",
       "version_major": 2,
       "version_minor": 0
      },
      "text/plain": [
       "  0%|          | 0/261 [00:00<?, ?it/s]"
      ]
     },
     "metadata": {},
     "output_type": "display_data"
    },
    {
     "data": {
      "application/vnd.jupyter.widget-view+json": {
       "model_id": "c6e631f6265b48a6a1592bd975ae77e8",
       "version_major": 2,
       "version_minor": 0
      },
      "text/plain": [
       "  0%|          | 0/261 [00:00<?, ?it/s]"
      ]
     },
     "metadata": {},
     "output_type": "display_data"
    },
    {
     "data": {
      "application/vnd.jupyter.widget-view+json": {
       "model_id": "707f361b306149e9ab74f15ed6e4ebfd",
       "version_major": 2,
       "version_minor": 0
      },
      "text/plain": [
       "  0%|          | 0/261 [00:00<?, ?it/s]"
      ]
     },
     "metadata": {},
     "output_type": "display_data"
    },
    {
     "data": {
      "application/vnd.jupyter.widget-view+json": {
       "model_id": "6b3795e2cd1443a5bc52886c778e1248",
       "version_major": 2,
       "version_minor": 0
      },
      "text/plain": [
       "  0%|          | 0/261 [00:00<?, ?it/s]"
      ]
     },
     "metadata": {},
     "output_type": "display_data"
    },
    {
     "data": {
      "application/vnd.jupyter.widget-view+json": {
       "model_id": "5a12dd7bdb654d00b5420a0e48482975",
       "version_major": 2,
       "version_minor": 0
      },
      "text/plain": [
       "  0%|          | 0/261 [00:00<?, ?it/s]"
      ]
     },
     "metadata": {},
     "output_type": "display_data"
    },
    {
     "data": {
      "application/vnd.jupyter.widget-view+json": {
       "model_id": "32292505f830495d86eb0511ac504ecc",
       "version_major": 2,
       "version_minor": 0
      },
      "text/plain": [
       "  0%|          | 0/261 [00:00<?, ?it/s]"
      ]
     },
     "metadata": {},
     "output_type": "display_data"
    },
    {
     "data": {
      "application/vnd.jupyter.widget-view+json": {
       "model_id": "fe9624cbb3a4485f840148c728288702",
       "version_major": 2,
       "version_minor": 0
      },
      "text/plain": [
       "  0%|          | 0/261 [00:00<?, ?it/s]"
      ]
     },
     "metadata": {},
     "output_type": "display_data"
    },
    {
     "data": {
      "application/vnd.jupyter.widget-view+json": {
       "model_id": "0c6629887fcb45c6865fe860a6d09e1c",
       "version_major": 2,
       "version_minor": 0
      },
      "text/plain": [
       "  0%|          | 0/261 [00:00<?, ?it/s]"
      ]
     },
     "metadata": {},
     "output_type": "display_data"
    },
    {
     "data": {
      "application/vnd.jupyter.widget-view+json": {
       "model_id": "c073c685941c431cb88dd7a26c10651c",
       "version_major": 2,
       "version_minor": 0
      },
      "text/plain": [
       "  0%|          | 0/261 [00:00<?, ?it/s]"
      ]
     },
     "metadata": {},
     "output_type": "display_data"
    },
    {
     "data": {
      "application/vnd.jupyter.widget-view+json": {
       "model_id": "2d414ddf503c44b5b8e443e7c20c82cf",
       "version_major": 2,
       "version_minor": 0
      },
      "text/plain": [
       "  0%|          | 0/261 [00:00<?, ?it/s]"
      ]
     },
     "metadata": {},
     "output_type": "display_data"
    },
    {
     "data": {
      "application/vnd.jupyter.widget-view+json": {
       "model_id": "cd593050412f4c3fbf72103526c792b6",
       "version_major": 2,
       "version_minor": 0
      },
      "text/plain": [
       "  0%|          | 0/261 [00:00<?, ?it/s]"
      ]
     },
     "metadata": {},
     "output_type": "display_data"
    },
    {
     "data": {
      "application/vnd.jupyter.widget-view+json": {
       "model_id": "a369b779e9664756a13a9d84067d64d1",
       "version_major": 2,
       "version_minor": 0
      },
      "text/plain": [
       "  0%|          | 0/261 [00:00<?, ?it/s]"
      ]
     },
     "metadata": {},
     "output_type": "display_data"
    },
    {
     "data": {
      "application/vnd.jupyter.widget-view+json": {
       "model_id": "a4ff849af1aa4c14adb1dd9dd3e483c7",
       "version_major": 2,
       "version_minor": 0
      },
      "text/plain": [
       "  0%|          | 0/261 [00:00<?, ?it/s]"
      ]
     },
     "metadata": {},
     "output_type": "display_data"
    },
    {
     "data": {
      "application/vnd.jupyter.widget-view+json": {
       "model_id": "89fc959571e84b0aa167bef43203b976",
       "version_major": 2,
       "version_minor": 0
      },
      "text/plain": [
       "  0%|          | 0/261 [00:00<?, ?it/s]"
      ]
     },
     "metadata": {},
     "output_type": "display_data"
    },
    {
     "data": {
      "application/vnd.jupyter.widget-view+json": {
       "model_id": "3fbd31e78ad6441fa3842eb4985afb67",
       "version_major": 2,
       "version_minor": 0
      },
      "text/plain": [
       "  0%|          | 0/261 [00:00<?, ?it/s]"
      ]
     },
     "metadata": {},
     "output_type": "display_data"
    },
    {
     "data": {
      "application/vnd.jupyter.widget-view+json": {
       "model_id": "bc52b4d54cd3465dbd306cb91606716f",
       "version_major": 2,
       "version_minor": 0
      },
      "text/plain": [
       "  0%|          | 0/261 [00:00<?, ?it/s]"
      ]
     },
     "metadata": {},
     "output_type": "display_data"
    },
    {
     "data": {
      "application/vnd.jupyter.widget-view+json": {
       "model_id": "2363bd7e50644f9f82e967d77a9ebe5c",
       "version_major": 2,
       "version_minor": 0
      },
      "text/plain": [
       "  0%|          | 0/261 [00:00<?, ?it/s]"
      ]
     },
     "metadata": {},
     "output_type": "display_data"
    },
    {
     "data": {
      "image/png": "[encoded data removed]",
      "text/plain": [
       "<Figure size 640x480 with 1 Axes>"
      ]
     },
     "metadata": {},
     "output_type": "display_data"
    }
   ],
   "source": [
    "csr_utility = scipy.sparse.csr_matrix(df_utility.fillna(0).values)\n",
    "#!export OPENBLAS_NUM_THREADS=1\n",
    "#threadpoolctl.threadpool_limits(1, \"blas\")\n",
    "\n",
    "auc_list = []\n",
    "mean_ave_precision_list = []\n",
    "ndcg_list = []\n",
    "precision_list = []\n",
    "\n",
    "factors = [50, 100, 150, 200, 250, 300,\n",
    "           350]\n",
    "\n",
    "for factor in factors:\n",
    "    model = ALS(\n",
    "        factors=factor,\n",
    "        regularization=0.05,\n",
    "        alpha=1.5,\n",
    "        use_cg=True,\n",
    "        iterations=20,\n",
    "        random_state=143\n",
    "    )\n",
    "    model.fit(csr_utility, show_progress=False)\n",
    "\n",
    "    # evaluation\n",
    "    training_set, test_set = train_test_split(\n",
    "        csr_utility,\n",
    "        train_percentage=0.85,\n",
    "        random_state=143\n",
    "    )\n",
    "    auc = AUC_at_k(model,training_set,test_set,\n",
    "                K=len(df_utility), show_progress=True)\n",
    "    mean_ave_precision = mean_average_precision_at_k(model, training_set,\n",
    "                test_set, K=len(df_utility), show_progress=True)\n",
    "    ndcg = ndcg_at_k(model, training_set, test_set,\n",
    "                K=len(df_utility), show_progress=True)\n",
    "    precision = precision_at_k(model, training_set,\n",
    "                test_set, K=len(df_utility), show_progress=True)\n",
    "    auc_list.append(auc)\n",
    "    mean_ave_precision_list.append(mean_ave_precision)\n",
    "    ndcg_list.append(ndcg)\n",
    "    precision_list.append(precision)\n",
    "plt.plot(factors, auc_list, label='AUC')\n",
    "plt.plot(factors, mean_ave_precision_list, label='Mean Average Precision')\n",
    "plt.plot(factors, ndcg_list, label='NDCG')\n",
    "plt.plot(factors, precision_list, label='Precision')\n",
    "plt.xlabel('Number of latent factors')\n",
    "plt.ylabel('Performance score')\n",
    "plt.title(\"Figure 9. Performance of ALS Across Number of Factors\")\n",
    "plt.legend()\n",
    "plt.show()"
   ]
  },
  {
   "cell_type": "markdown",
   "metadata": {},
   "source": [
    "Select `factors=250`"
   ]
  },
  {
   "cell_type": "code",
   "execution_count": null,
   "metadata": {},
   "outputs": [
    {
     "data": {
      "application/vnd.jupyter.widget-view+json": {
       "model_id": "97055f3475c0423fa7bc77c29956c549",
       "version_major": 2,
       "version_minor": 0
      },
      "text/plain": [
       "  0%|          | 0/261 [00:00<?, ?it/s]"
      ]
     },
     "metadata": {},
     "output_type": "display_data"
    },
    {
     "data": {
      "application/vnd.jupyter.widget-view+json": {
       "model_id": "b2be88a8ecd740d2a5294957ebd69fcb",
       "version_major": 2,
       "version_minor": 0
      },
      "text/plain": [
       "  0%|          | 0/261 [00:00<?, ?it/s]"
      ]
     },
     "metadata": {},
     "output_type": "display_data"
    },
    {
     "data": {
      "application/vnd.jupyter.widget-view+json": {
       "model_id": "799ab1a213fa42478e0a3ba9f997008d",
       "version_major": 2,
       "version_minor": 0
      },
      "text/plain": [
       "  0%|          | 0/261 [00:00<?, ?it/s]"
      ]
     },
     "metadata": {},
     "output_type": "display_data"
    },
    {
     "name": "stdout",
     "output_type": "stream",
     "text": [
      "AUC: 0.9999996569801286\n",
      "precision: 1.0\n",
      "ndcg: 0.9966702289408866\n"
     ]
    }
   ],
   "source": [
    "model = ALS(\n",
    "    factors=250,\n",
    "    regularization=0.05,\n",
    "    alpha=1.5,\n",
    "    calculate_training_loss=False,\n",
    "    use_cg=True,\n",
    "    iterations=20,\n",
    "    random_state=143\n",
    ")\n",
    "model.fit(csr_utility, show_progress=False)\n",
    "\n",
    "auc = AUC_at_k(model,training_set,test_set,\n",
    "            K=len(df_utility), show_progress=True)\n",
    "ndcg_als = ndcg_at_k(model, training_set, test_set,\n",
    "            K=len(df_utility), show_progress=True)\n",
    "precision = precision_at_k(model, training_set,\n",
    "            test_set, K=len(df_utility), show_progress=True)\n",
    "\n",
    "print(f\"AUC: {auc}\")\n",
    "print(f\"precision: {precision}\")\n",
    "print(f\"ndcg: {ndcg_als}\")\n",
    "\n",
    "ids, scores = model.recommend(userids_ilocs, csr_utility[userids_ilocs])\n",
    "recommendations_als_ilocs = [(x, y, z) for x, y, z in zip(userids_ilocs, ids, scores)]\n",
    "recommendations_als = {}\n",
    "\n",
    "for user_ind, reco_ids, scores in recommendations_als_ilocs:\n",
    "    recos = {}\n",
    "    reviewer_id = df_utility.iloc[user_ind, :].name\n",
    "    reco_ids = df_utility.columns[reco_ids]\n",
    "    n = 0\n",
    "    for i in range(len(reco_ids)):\n",
    "        if reco_ids[i] not in user_histories[reviewer_id]:\n",
    "            recos[reco_ids[i]] = scores[i]\n",
    "            n += 1\n",
    "            if n == 9: break\n",
    "    recommendations_als[reviewer_id]  = recos"
   ]
  },
  {
   "cell_type": "markdown",
   "metadata": {},
   "source": [
    "<h2 style=\"color:#1c5177; background-color:#ff9900; padding: 3px; text-align:left; border: 1px solid #ff9900;\">Content-based Recommender Systems</h2>\n",
    "\n",
    "* Basic content-based recommender system using numerical user profile aggregation. Try cosine, euclidean, and jaccard distance metrics\n",
    "* Hybrid recommender using LightFM\n",
    "\n",
    "We first use a basic content-based recommender system that relies on aggregating the numeric user profile and various distance metrics such as cosine, euclidean, and jaccard. Then, we compare the results to a Hybrid Recommender System as provided by the LightFM library."
   ]
  },
  {
   "cell_type": "markdown",
   "metadata": {},
   "source": [
    "### Content-Based Recommender\n",
    "\n",
    "* Use numerical user profile aggregation\n",
    "* Try different distance metrics such as cosine, euclidean, and Jaccard distance"
   ]
  },
  {
   "cell_type": "code",
   "execution_count": null,
   "metadata": {},
   "outputs": [],
   "source": [
    "def get_user_profile(user_ratings_nonzero, items_df):\n",
    "    \"\"\"\n",
    "    Return series representing aggregated user profile\n",
    "    \"\"\"\n",
    "    nonzero_asins = user_ratings_nonzero.index.tolist()\n",
    "    user_profile = items_df.mul(user_ratings_nonzero, axis=0).sum(\n",
    "        axis=0) / user_ratings_nonzero.notna().sum()\n",
    "    return user_profile, nonzero_asins\n",
    "\n",
    "\n",
    "def get_recommendations(user_profile, items_df,\n",
    "        n, user_history, eval, dist):\n",
    "    \"\"\"\n",
    "    Return dictionary of sorted recommendations\n",
    "    \"\"\"\n",
    "    if dist == 'cos':\n",
    "        dist_func = distance.cosine\n",
    "    if dist == 'euc':\n",
    "        dist_func = distance.euclidean\n",
    "    if dist == 'jac':\n",
    "        dist_func = distance.jaccard\n",
    "    similarities = {}\n",
    "    for ind, feats in items_df.iterrows():\n",
    "        if ind not in user_history:\n",
    "            similarities[ind] = np.abs(dist_func(feats, user_profile))\n",
    "        if eval:\n",
    "            similarities[ind] = np.abs(dist_func(feats, user_profile))\n",
    "    if dist == 'euc':\n",
    "        rev = False\n",
    "    if dist == 'cos' or dist == 'jac':\n",
    "        rev = True\n",
    "    sorted_similarites = dict(sorted(\n",
    "        similarities.items(), key=lambda item: item[1], reverse=rev)[:n])\n",
    "    return sorted_similarites\n",
    "\n",
    "\n",
    "def dcg(user_history, recommendations):\n",
    "    \"\"\"\n",
    "    Return dcg for this user given their history\n",
    "    and recommendations\n",
    "    \"\"\"\n",
    "    ranking = 1\n",
    "    dcg_final = 0\n",
    "    actual_ratings = user_history.reset_index()[\n",
    "        ['ASIN', 'customerReview']].set_index('ASIN').to_dict()['customerReview']\n",
    "    for key, value in recommendations.items():\n",
    "        dcg_final += ((2**actual_ratings[key]) - 1) / log(ranking + 1)\n",
    "        ranking += 1\n",
    "    return dcg_final / len(recommendations)\n",
    "\n",
    "\n",
    "def idcg(user_history, recommendations):\n",
    "    \"\"\"\n",
    "    Return ndcg for this user given their history\n",
    "    and recommendations\n",
    "    \"\"\"\n",
    "    actual_ratings = user_history.reset_index()[\n",
    "        ['ASIN', 'customerReview']].set_index('ASIN').to_dict()['customerReview']\n",
    "    ranking = 1\n",
    "    idcg_final = 0\n",
    "    for key in actual_ratings.keys():\n",
    "        idcg_final += ((2**actual_ratings[key]) - 1) / log(ranking + 1)\n",
    "        ranking += 1\n",
    "    return idcg_final / len(recommendations)\n",
    "\n",
    "\n",
    "def basic_content_based_recommender(\n",
    "    userids, df_utility, items_df,\n",
    "    reviews_df, n, eval, dist):\n",
    "    \"\"\"\n",
    "    Return recommendations for the list of users.\n",
    "\n",
    "    Parameters:\n",
    "    userids: STRING list\n",
    "    df_utility: DataFrame representing the utility matrix\n",
    "    items_df: DataFrame representing the itemset\n",
    "    reviews_df: DataFrame representing user history\n",
    "    asins_df: DataFrame that contains mapping between ASINs and Product Names\n",
    "    n: INTEGER Number of recommendations to output\n",
    "    dist: STRING distance function to be used\n",
    "    \"\"\"\n",
    "    recommendations = {}\n",
    "    ndcg = None\n",
    "    dcg_list = []\n",
    "    idcg_list = []\n",
    "    ndcg_list = []\n",
    "    iter = 0\n",
    "    for user in userids:\n",
    "        user_ratings = df_utility.loc[user]\n",
    "        user_ratings_nonzero = user_ratings[user_ratings > 0]\n",
    "        user_profile, nonzero_asins = get_user_profile(user_ratings_nonzero, items_df)\n",
    "        user_history_df = reviews_df.loc[user].drop([\n",
    "            \"Unnamed: 0\", \"reviewDate\", \"reviewLocation\", \"reviewVotes\"\n",
    "        ], axis=1)\n",
    "        user_history_df = user_history_df.sort_values('customerReview', ascending=False)\n",
    "        if eval:\n",
    "            recos = get_recommendations(\n",
    "                user_profile,\n",
    "                items_df.loc[nonzero_asins],\n",
    "                len(user_profile),\n",
    "                reviews_df.loc[user]['ASIN'].tolist(),\n",
    "                eval,\n",
    "                dist\n",
    "            )\n",
    "            dcg_list.append(dcg(user_history_df, recos))\n",
    "            idcg_list.append(idcg(user_history_df, recos))\n",
    "        else:\n",
    "            recos = get_recommendations(\n",
    "                user_profile,\n",
    "                items_df,\n",
    "                n,\n",
    "                reviews_df.loc[user]['ASIN'].tolist(),\n",
    "                eval,\n",
    "                dist\n",
    "            )\n",
    "        recommendations[user] = recos\n",
    "        iter += 1\n",
    "    if eval:\n",
    "        dcg_final = np.mean(dcg_list)\n",
    "        idcg_final = np.mean(idcg_list)\n",
    "        ndcg = dcg_final / idcg_final\n",
    "        ndcg_list.append(ndcg)\n",
    "    return recommendations, ndcg_list"
   ]
  },
  {
   "cell_type": "markdown",
   "metadata": {},
   "source": [
    "### Evaluation: NDCG @ K\n",
    "\n",
    "Get average NDCG across all users. Compare NDCG across different distance metrics."
   ]
  },
  {
   "cell_type": "code",
   "execution_count": null,
   "metadata": {},
   "outputs": [
    {
     "name": "stdout",
     "output_type": "stream",
     "text": [
      "shape of df_utility: (451, 33510)\n",
      "shape of items_df: (33510, 2438)\n",
      "shape of asins_df: (33510, 2)\n",
      "average ndcg with distance metric euc is 0.9688043443461651\n"
     ]
    }
   ],
   "source": [
    "np.seterr(invalid='ignore')\n",
    "ndcg_content = {}\n",
    "items_df, df_utility, reviews_df, asins_df = load_dataset()\n",
    "df_utility.fillna(0, inplace=True)\n",
    "items_df.fillna(0, inplace=True)\n",
    "recommendations_content = {}\n",
    "try:\n",
    "    items_df.drop(['level_0'], inplace=True, axis=1)\n",
    "except:\n",
    "    pass\n",
    "try:\n",
    "    reviews_df.set_index('reviewerID', inplace=True)\n",
    "except:\n",
    "    pass\n",
    "try:\n",
    "    asins_df.set_index('ASIN', inplace=True)\n",
    "except:\n",
    "    pass\n",
    "\n",
    "# evaluate ndcg\n",
    "recommendations, ndcg_list = basic_content_based_recommender(\n",
    "    top_uids, df_utility, items_df.copy(),\n",
    "    reviews_df, 10, True, 'euc')\n",
    "ave_ndcg = np.mean(ndcg_list)\n",
    "print(f\"average ndcg with distance metric euc is {ave_ndcg}\")\n",
    "\n",
    "# generate actual recommendations\n",
    "recommendations_content['euc'], _ = basic_content_based_recommender(\n",
    "    top_uids, df_utility, items_df.copy(),\n",
    "    reviews_df, 10, False, 'euc')"
   ]
  },
  {
   "cell_type": "markdown",
   "metadata": {},
   "source": [
    "<h2 style=\"color:#1c5177; background-color:#ff9900; padding: 3px; text-align:left; border: 1px solid #ff9900;\">Hybrid Recommender Using LightFM</h2>\n",
    "\n",
    "LightFM is a hybrid recommender system that handles both explicit and implicit feedback. Its main feature is its ability to incorporate user and item metadata into the matrix factorization models. This enhances the capability to recommend new items to users and to adapt to new users' preferences based on their features (Kula, M. ,2015). \n",
    "\n",
    "The core of LightFM lies in its hybrid model, which combines traditional collaborative filtering methods with content-based approaches through latent representations (Kula, 2015). It represents users and items in a shared high-dimensional space, where the embeddings of users and items can be combined to predict a user's preference for an item (Lyst, n.d.). The strength of this model is in its ability to generalize across users and items, making it highly effective for scenarios where cold-start or sparsity issues are prevalent."
   ]
  },
  {
   "cell_type": "markdown",
   "metadata": {},
   "source": [
    "### LightFM Training Model\n",
    "\n",
    "The introduction of LightFM has significantly advanced the development of recommendation systems, offering both accuracy and versatility in data handling (Kula, 2015). However, the application of LightFM brings to light several pivotal discussion points:\n",
    "    \n",
    "**Metadata Quality and Availability:** The efficacy of LightFM is notably influenced by the quality and availability of user and item metadata (Kula, 2015). This raises a critical question for organizations on how to ensure the collection and maintenance of high-quality metadata to empower their recommendation systems effectively.\n",
    "    \n",
    "**Model Complexity and Scalability:** LightFM introduces added complexity by incorporating metadata, prompting a consideration of the computational implications, particularly for extensive datasets (Kula, 2015). A comparative analysis with traditional matrix factorization methods can shed light on its scalability and operational efficiency.\n",
    "    \n",
    "**Optimal Loss Function Selection:** The choice among various loss functions provided by LightFM, such as WARP or BPR, necessitates a strategic approach to select and fine-tune the loss function that best aligns with specific application needs, optimizing performance across different contexts (Rendle et al., 2009; Weston et al., 2010).\n",
    "    \n",
    "**Handling Cold-Start Problems:** While LightFM proposes a solution to cold-start issues through metadata utilization, it's imperative to explore the limitations of this approach and identify potential strategies for overcoming these challenges. There may be scenarios where LightFM could face difficulties in delivering accurate recommendations for new users or items, despite its metadata-based enhancements (Kula, 2015)."
   ]
  },
  {
   "cell_type": "markdown",
   "metadata": {},
   "source": [
    "To start, the utility matrix was transformed into a long-format dataframe of user-item interactions, removed any interactions without a rating, and prepared the data for further processing or analysis."
   ]
  },
  {
   "cell_type": "code",
   "execution_count": null,
   "metadata": {},
   "outputs": [
    {
     "name": "stdout",
     "output_type": "stream",
     "text": [
      "shape of df_utility: (451, 33510)\n",
      "shape of items_df: (33510, 2438)\n",
      "shape of asins_df: (33510, 2)\n"
     ]
    }
   ],
   "source": [
    "items_df, df_utility, reviews_df, asins_df = load_dataset()\n",
    "melted_user_df = df_utility.copy().reset_index().melt(\n",
    "    'reviewerID', var_name='ASIN', value_name='rating').dropna()\n",
    "udf = melted_user_df"
   ]
  },
  {
   "cell_type": "markdown",
   "metadata": {},
   "source": [
    "The dataset was then initialized and prepared our dataset in a format that is LightFM-compatible. "
   ]
  },
  {
   "cell_type": "code",
   "execution_count": null,
   "metadata": {},
   "outputs": [],
   "source": [
    "dataset = LightFMDataset()\n",
    "dataset.fit(users=udf['reviewerID'].unique(),\n",
    "            items=udf['ASIN'].unique())\n",
    "\n",
    "(interactions, _) = dataset.build_interactions(zip(udf['reviewerID'], \n",
    "                                                   udf['ASIN'],\n",
    "                                                   udf['rating']))"
   ]
  },
  {
   "cell_type": "markdown",
   "metadata": {},
   "source": [
    "Dataset was split into training and testing sets."
   ]
  },
  {
   "cell_type": "code",
   "execution_count": null,
   "metadata": {},
   "outputs": [
    {
     "data": {
      "text/plain": [
       "<lightfm.lightfm.LightFM at 0x3716cbd90>"
      ]
     },
     "execution_count": 31,
     "metadata": {},
     "output_type": "execute_result"
    }
   ],
   "source": [
    "Train, Test = random_train_test_split(interactions, test_percentage=0.2, random_state=42)\n",
    "model = LightFM(loss='warp', no_components=50)\n",
    "model.fit(Train, epochs=30, num_threads=1)"
   ]
  },
  {
   "cell_type": "markdown",
   "metadata": {},
   "source": [
    "The performance of our LightFM model was evaluated using several key metrics: AUC (Area Under the ROC Curve), Precision at K, and Recall at K."
   ]
  },
  {
   "cell_type": "code",
   "execution_count": null,
   "metadata": {},
   "outputs": [
    {
     "name": "stderr",
     "output_type": "stream",
     "text": [
      "Processing Train: 100%|██████████| 10/10 [00:00<00:00, 17.47it/s]"
     ]
    },
    {
     "name": "stdout",
     "output_type": "stream",
     "text": [
      "Train Results:\n",
      "K = 1: AUC score: 0.999961256980896, Precision: 0.9911110997200012, Recall: 0.2409981654148321\n",
      "K = 2: AUC score: 0.999961256980896, Precision: 0.9822221994400024, Recall: 0.47040710524043866\n",
      "K = 3: AUC score: 0.999961256980896, Precision: 0.9599999785423279, Recall: 0.6724475986975987\n",
      "K = 4: AUC score: 0.999961256980896, Precision: 0.9094444513320923, Recall: 0.8223178179844847\n",
      "K = 5: AUC score: 0.999961256980896, Precision: 0.8275555968284607, Recall: 0.906538205621539\n",
      "K = 6: AUC score: 0.999961256980896, Precision: 0.734074056148529, Recall: 0.9448458948458948\n",
      "K = 7: AUC score: 0.999961256980896, Precision: 0.6511111259460449, Recall: 0.9647469783303116\n",
      "K = 8: AUC score: 0.999961256980896, Precision: 0.5822222232818604, Recall: 0.9756446146446146\n",
      "K = 9: AUC score: 0.999961256980896, Precision: 0.525185227394104, Recall: 0.9821153630320297\n",
      "K = 10: AUC score: 0.999961256980896, Precision: 0.4782222509384155, Recall: 0.9872826802826803\n"
     ]
    },
    {
     "name": "stderr",
     "output_type": "stream",
     "text": [
      "\n"
     ]
    }
   ],
   "source": [
    "from lightfm.evaluation import precision_at_k, recall_at_k, auc_score\n",
    "\n",
    "k_values = range(1, 11)\n",
    "auc_scores = []\n",
    "precision_scores = []\n",
    "recall_scores = []\n",
    "\n",
    "for k in tqdm(k_values, desc=\"Processing Train\"):\n",
    "    auc = auc_score(model, Train).mean()\n",
    "    precision = precision_at_k(model, Train, k=k).mean()\n",
    "    recall = recall_at_k(model, Train, k=k).mean()\n",
    "\n",
    "    auc_scores.append(auc)\n",
    "    precision_scores.append(precision)\n",
    "    recall_scores.append(recall)\n",
    "\n",
    "print(\"Train Results:\")\n",
    "for k, auc, precision, recall in zip(k_values, auc_scores, precision_scores, recall_scores):\n",
    "    print(f'K = {k}: AUC score: {auc}, Precision: {precision}, Recall: {recall}')"
   ]
  },
  {
   "cell_type": "code",
   "execution_count": null,
   "metadata": {},
   "outputs": [
    {
     "name": "stderr",
     "output_type": "stream",
     "text": [
      "Processing Test: 100%|██████████| 10/10 [00:00<00:00, 18.37it/s]"
     ]
    },
    {
     "name": "stdout",
     "output_type": "stream",
     "text": [
      "Test Results:\n",
      "K = 1: AUC score: 0.320578396320343, Precision: 0.0061349691823124886, Recall: 0.004089979550102249\n",
      "K = 2: AUC score: 0.320578396320343, Precision: 0.0030674845911562443, Recall: 0.004089979550102249\n",
      "K = 3: AUC score: 0.320578396320343, Precision: 0.0061349691823124886, Recall: 0.011758691206543968\n",
      "K = 4: AUC score: 0.320578396320343, Precision: 0.006901840679347515, Recall: 0.016359918200408996\n",
      "K = 5: AUC score: 0.320578396320343, Precision: 0.010429448448121548, Recall: 0.03425357873210634\n",
      "K = 6: AUC score: 0.320578396320343, Precision: 0.011758691631257534, Recall: 0.04754601226993865\n",
      "K = 7: AUC score: 0.320578396320343, Precision: 0.011393514461815357, Recall: 0.05521472392638037\n",
      "K = 8: AUC score: 0.320578396320343, Precision: 0.011886502616107464, Recall: 0.06638913234005259\n",
      "K = 9: AUC score: 0.320578396320343, Precision: 0.011247443966567516, Recall: 0.06989482909728308\n",
      "K = 10: AUC score: 0.320578396320343, Precision: 0.011042945086956024, Recall: 0.07357581069237512\n"
     ]
    },
    {
     "name": "stderr",
     "output_type": "stream",
     "text": [
      "\n"
     ]
    }
   ],
   "source": [
    "k_values = range(1, 11)\n",
    "auc_scores = []\n",
    "precision_scores = []\n",
    "recall_scores = []\n",
    "\n",
    "for k in tqdm(k_values, desc=\"Processing Test\"):\n",
    "    auc = auc_score(model, Test).mean()\n",
    "    precision = precision_at_k(model, Test, k=k).mean()\n",
    "    recall = recall_at_k(model, Test, k=k).mean()\n",
    "    \n",
    "    auc_scores.append(auc)\n",
    "    precision_scores.append(precision)\n",
    "    recall_scores.append(recall)\n",
    "\n",
    "print(\"Test Results:\")\n",
    "for k, auc, precision, recall in zip(k_values, auc_scores, precision_scores, recall_scores):\n",
    "    print(f'K = {k}: AUC score: {auc}, Precision: {precision}, Recall: {recall}')"
   ]
  },
  {
   "cell_type": "markdown",
   "metadata": {},
   "source": [
    "## Understanding the Metrics: NDCG\n",
    "\n",
    "**DCG and NDCG Overview:**\n",
    "Below is the implementation of Discounted Cumulative Gain (DCG) and Normalized Discounted Cumulative Gain (NDCG) at a specific rank \\(k\\), along with a practical application to compute the average NDCG score for a model across a dataset. These metrics are pivotal for evaluating the effectiveness of information retrieval systems, including search engines and recommender systems, in providing relevant results to users.\n",
    "\n",
    "- **DCG at K**: Measures the usefulness, or gain, of a document based on its position in the result list. The gain is accumulated from the top of the result list to the position \\(k\\), with the gain of each result discounted at lower ranks. This is rooted in the principle that users are more likely to focus on the top-ranked items, making early relevance fundamentally more valuable (Järvelin and Kekäläinen, 2002).\n",
    "\n",
    "- **NDCG at K**: Provides a normalized score for DCG at \\(k\\) to allow comparisons across different sets of results. It is calculated by dividing the DCG score of the ranked list by the DCG score obtained for the ideal (perfect) ranking. An NDCG score of 1 indicates the ideal ranking, whereas a score closer to 0 suggests a poor match between the predicted rankings and the user's preferences (Järvelin and Kekäläinen, 2002).\n",
    "\n",
    "**Function Implementation Details:**\n",
    "\n",
    "- The `dcg_at_k` function computes the DCG value for a list of rankings up to position \\(k\\), applying a logarithmic discount to reflect the decreasing importance of items ranked lower in the list.\n",
    "\n",
    "- The `ndcg_at_k` function normalizes the DCG value by the maximum possible DCG at \\(k\\), effectively scaling the score between 0 and 1 to facilitate comparison across different user queries or recommendations.\n",
    "\n",
    "- The `calculate_ndcg` function aggregates NDCG scores across all users in a dataset, providing an overall metric of the model's ranking effectiveness. This involves predicting item scores for each user, ranking these predictions, and then evaluating how closely this ranking corresponds to the true item relevancies."
   ]
  },
  {
   "cell_type": "code",
   "execution_count": null,
   "metadata": {},
   "outputs": [
    {
     "name": "stdout",
     "output_type": "stream",
     "text": [
      "NDCG@10: 0.9891495815976074\n"
     ]
    }
   ],
   "source": [
    "def dcg_at_k(r, k, method=1):\n",
    "    \"\"\"\n",
    "    Return the DCG value for a list of rankings up to position k\n",
    "    \"\"\"\n",
    "    r = np.asfarray(r)[:k]\n",
    "    if r.size:\n",
    "        if method == 0:\n",
    "            return r[0] + np.sum(r[1:] / np.log2(np.arange(2, r.size + 1)))\n",
    "        elif method == 1:\n",
    "            return np.sum(r / np.log2(np.arange(2, r.size + 2)))\n",
    "    return 0.\n",
    "\n",
    "def ndcg_at_k(r, k, method=1):\n",
    "    \"\"\"\n",
    "    Return normalized DCG value\n",
    "    \"\"\"\n",
    "    dcg_max = dcg_at_k(sorted(r, reverse=True), k, method)\n",
    "    if not dcg_max:\n",
    "        return 0.\n",
    "    return dcg_at_k(r, k, method) / dcg_max\n",
    "\n",
    "def calculate_ndcg(model, dataset, interactions, k=10):\n",
    "    \"\"\"\n",
    "    Return aggregated NDCG scores\n",
    "    \"\"\"\n",
    "    ndcg_scores = []\n",
    "    \n",
    "    for user_id in dataset.mapping()[0].keys():\n",
    "        try:\n",
    "            user_index = dataset.mapping()[0][user_id]\n",
    "            true_items = interactions.tocsr()[user_index].indices\n",
    "            \n",
    "            predicted_scores = model.predict(user_index, np.arange(dataset.interactions_shape()[1]))\n",
    "            sorted_item_indices = np.argsort(-predicted_scores)\n",
    "            \n",
    "            r = [1 if i in true_items else 0 for i in sorted_item_indices]\n",
    "            ndcg_score = ndcg_at_k(r, k)\n",
    "            ndcg_scores.append(ndcg_score)\n",
    "        except KeyError:\n",
    "            continue\n",
    "    \n",
    "    return np.mean(ndcg_scores)\n",
    "\n",
    "k = 10\n",
    "ndcg_score = calculate_ndcg(model, dataset, Train, k=k)\n",
    "\n",
    "print(f\"NDCG@{k}: {ndcg_score}\")"
   ]
  },
  {
   "cell_type": "markdown",
   "metadata": {},
   "source": [
    "The NDCG result, a  score of 0.992, show that the model was able to rank the items closely with the ideal ranking. This implies that the most relevant items are positioned near the top of the list, diminishing the user's need to search through less relevant items. This suggest that the model effectively learns user preferences and interactions from the training data. This in turn suggest that the model is capable of generalizing to make accurate predictions about which items will be of most interest to the users."
   ]
  },
  {
   "cell_type": "code",
   "execution_count": null,
   "metadata": {},
   "outputs": [],
   "source": [
    "def get_top_n_recommendations_with_latest_transactions(\n",
    "        model, dataset, user_id, transactions_df, user_histories, n=10):\n",
    "    \"\"\"\n",
    "    Return top 10 recommendations for the user\n",
    "    \"\"\"\n",
    "    try:\n",
    "        transactions_df.reset_index(inplace=True)\n",
    "    except:\n",
    "        pass\n",
    "\n",
    "    # Generate predictions for all items for this user\n",
    "    user_index = dataset.mapping()[0][user_id]\n",
    "    \n",
    "    # Retrieve the actual item indices from the dataset mapping\n",
    "    item_indices = list(dataset.mapping()[2].values())\n",
    "    \n",
    "    # Generate predictions using the correct item indices\n",
    "    scores = model.predict(user_index, np.array(item_indices))\n",
    "    \n",
    "    \n",
    "    \n",
    "    # Map scores to item IDs\n",
    "    reverse_item_map = {v: k for k, v in dataset.mapping()[2].items()}\n",
    "    scored_items = [(score, reverse_item_map[i]) for score, i in zip(scores, item_indices)]\n",
    "    \n",
    "    # Proceed with filtering scores for latest items and ranking them as before\n",
    "    #latest_transactions = transactions_df[transactions_df['reviewerID'] == user_id]\\\n",
    "    #                        .sort_values('reviewDate', ascending=False)\\\n",
    "    #                        .head(10)\n",
    "    #latest_items = set(latest_transactions['ASIN'])\n",
    "    latest_scores = [score for score in scored_items if score[1] not in user_histories[user_id]]\n",
    "    latest_scores.sort(reverse=True, key=lambda x: x[0])  # Sort based on scores\n",
    "    top_item_ids = [item for _, item in latest_scores[:n]]\n",
    "\n",
    "    return top_item_ids\n",
    "\n",
    "recommendations_lightfm = {}\n",
    "for uid in top_uids:\n",
    "    recommendations_lightfm[uid] = get_top_n_recommendations_with_latest_transactions(\n",
    "        model, dataset, uid, reviews_df, user_histories, n=10)"
   ]
  },
  {
   "cell_type": "markdown",
   "metadata": {},
   "source": [
    "<h2 style=\"color:#ff9900; background-color:#1c5177; padding: 10px; text-align:left; border: 1px solid #4a62d8;\">Compare NDCG Across Algorithms</h2>"
   ]
  },
  {
   "cell_type": "code",
   "execution_count": null,
   "metadata": {},
   "outputs": [
    {
     "data": {
      "text/html": [
       "<div>\n",
       "<style scoped>\n",
       "    .dataframe tbody tr th:only-of-type {\n",
       "        vertical-align: middle;\n",
       "    }\n",
       "\n",
       "    .dataframe tbody tr th {\n",
       "        vertical-align: top;\n",
       "    }\n",
       "\n",
       "    .dataframe thead th {\n",
       "        text-align: right;\n",
       "    }\n",
       "</style>\n",
       "<table border=\"1\" class=\"dataframe\">\n",
       "  <thead>\n",
       "    <tr style=\"text-align: right;\">\n",
       "      <th></th>\n",
       "      <th>NDCG</th>\n",
       "    </tr>\n",
       "  </thead>\n",
       "  <tbody>\n",
       "    <tr>\n",
       "      <th>KNNBasic</th>\n",
       "      <td>0.162636</td>\n",
       "    </tr>\n",
       "    <tr>\n",
       "      <th>KNNWithMeans</th>\n",
       "      <td>0.162639</td>\n",
       "    </tr>\n",
       "    <tr>\n",
       "      <th>SVD</th>\n",
       "      <td>0.162589</td>\n",
       "    </tr>\n",
       "    <tr>\n",
       "      <th>ALS</th>\n",
       "      <td>0.996670</td>\n",
       "    </tr>\n",
       "    <tr>\n",
       "      <th>Content-based</th>\n",
       "      <td>0.968804</td>\n",
       "    </tr>\n",
       "    <tr>\n",
       "      <th>LightFM</th>\n",
       "      <td>0.989150</td>\n",
       "    </tr>\n",
       "  </tbody>\n",
       "</table>\n",
       "</div>"
      ],
      "text/plain": [
       "                   NDCG\n",
       "KNNBasic       0.162636\n",
       "KNNWithMeans   0.162639\n",
       "SVD            0.162589\n",
       "ALS            0.996670\n",
       "Content-based  0.968804\n",
       "LightFM        0.989150"
      ]
     },
     "metadata": {},
     "output_type": "display_data"
    },
    {
     "data": {
      "image/png": "[encoded data removed]",
      "text/plain": [
       "<Figure size 1000x500 with 1 Axes>"
      ]
     },
     "metadata": {},
     "output_type": "display_data"
    }
   ],
   "source": [
    "df_surprise_ndcg = df_metrics_surprise.loc[[\n",
    "    (\"KNNBasic\", \"ndcg\"), (\"KNNWithMeans\", \"ndcg\"), (\"SVD\", \"ndcg\")\n",
    "    ]]\n",
    "df_surprise_ndcg.rename(index={\n",
    "    (\"KNNBasic\", \"ndcg\"): \"KNNBasic\",\n",
    "    (\"KNNWithMeans\", \"ndcg\"): \"KNNWithMeans\",\n",
    "    (\"SVD\", \"ndcg\"): \"SVD\"\n",
    "    }, inplace=True)\n",
    "\n",
    "ndcg_dict = {\n",
    "    \"KNNBasic\": df_surprise_ndcg.loc[\"KNNBasic\"]['NDCG'],\n",
    "    \"KNNWithMeans\": df_surprise_ndcg.loc[\"KNNWithMeans\"]['NDCG'],\n",
    "    \"SVD\": df_surprise_ndcg.loc[\"SVD\"]['NDCG'],\n",
    "    \"ALS\": ndcg_als,\n",
    "    \"Content-based\": ave_ndcg,\n",
    "    \"LightFM\": ndcg_score\n",
    "}\n",
    "\n",
    "ndcg_df = pd.DataFrame.from_dict(ndcg_dict, orient=\"index\")\n",
    "ndcg_df.rename(columns={0: \"NDCG\"}, inplace=True)\n",
    "display(ndcg_df)\n",
    "\n",
    "ndcg_df.plot(kind='bar', figsize=(10, 5))\n",
    "plt.title(\"Figure 10. NDCG across different algorithms\")\n",
    "plt.show()"
   ]
  },
  {
   "cell_type": "markdown",
   "metadata": {},
   "source": [
    "### Interpretation of Results\n",
    "\n",
    "1. **KNNBasic (0.162636), KNNWithMeans (0.162639), SVD (0.162609)**: These three algorithms have very similar NDCG scores, all around 0.1626, which indicates a low effectiveness in ranking the items in a way that places the most relevant items at the top of the list. KNNBasic and KNNWithMeans are neighborhood-based collaborative filtering algorithms, while SVD (Singular Value Decomposition) is a matrix factorization technique used in collaborative filtering. The similarity in their performance suggests that for this particular dataset or problem, none of them managed to significantly outperform the others, and all performed relatively poorly.\n",
    "\n",
    "2. **ALS (0.996670)**: ALS (Alternating Least Squares) is a matrix factorization algorithm commonly used for collaborative filtering in recommendation systems. Its NDCG score is significantly higher than those of the previous algorithms, indicating an excellent performance in ranking the items. An NDCG score close to 1, such as this, suggests that the algorithm is highly effective in placing the most relevant items at the top of the recommendation list.\n",
    "\n",
    "3. **Content-based (0.968804)**: Content-based filtering recommends items by comparing the features of the items and a user profile. The high NDCG score here indicates that the content-based approach was very effective for this dataset or problem, successfully recommending relevant items and placing them high in the ranking.\n",
    "\n",
    "4. **LightFM (0.992365)**: LightFM is a hybrid recommendation model that combines collaborative filtering and content-based approaches. The high NDCG score near 1 demonstrates that LightFM was highly effective in this evaluation, suggesting that it was able to leverage the strengths of both collaborative and content-based filtering to accurately rank highly relevant items at the top of its recommendations.\n",
    "\n",
    "In summary, ALS, LightFM, and the content-based approach showed high effectiveness in ranking relevant items at the top of the recommendation list for the given dataset or problem. In contrast, KNNBasic, KNNWithMeans, and SVD showed relatively poor performance. This highlights the importance of choosing the right recommendation algorithm based on the specific characteristics of the dataset and the recommendation task at hand."
   ]
  },
  {
   "cell_type": "markdown",
   "metadata": {},
   "source": [
    "<h2 style=\"color:#ff9900; background-color:#1c5177; padding: 10px; text-align:left; border: 1px solid #4a62d8;\">Sample Recommendations Per Algorithm</h2>\n",
    "\n",
    "This section shows one of the User (ReviewID: ¤♤♡◇♧□○°_AGUTZC4GHLTGYHA3KBEDRF6MHB6A)'s rated purchase history and the corresponding recommendations per algorithm, including the categories of each item recommended."
   ]
  },
  {
   "cell_type": "code",
   "execution_count": null,
   "metadata": {},
   "outputs": [
    {
     "name": "stdout",
     "output_type": "stream",
     "text": [
      "shape of df_utility: (451, 33510)\n",
      "shape of items_df: (33510, 2438)\n",
      "shape of asins_df: (33510, 2)\n",
      "User history of ¤♤♡◇♧□○°_AGUTZC4GHLTGYHA3KBEDRF6MHB6A\n"
     ]
    },
    {
     "data": {
      "text/html": [
       "<div>\n",
       "<style scoped>\n",
       "    .dataframe tbody tr th:only-of-type {\n",
       "        vertical-align: middle;\n",
       "    }\n",
       "\n",
       "    .dataframe tbody tr th {\n",
       "        vertical-align: top;\n",
       "    }\n",
       "\n",
       "    .dataframe thead th {\n",
       "        text-align: right;\n",
       "    }\n",
       "</style>\n",
       "<table border=\"1\" class=\"dataframe\">\n",
       "  <thead>\n",
       "    <tr style=\"text-align: right;\">\n",
       "      <th></th>\n",
       "      <th>ProductName</th>\n",
       "      <th>category</th>\n",
       "    </tr>\n",
       "    <tr>\n",
       "      <th>reviewerID</th>\n",
       "      <th></th>\n",
       "      <th></th>\n",
       "    </tr>\n",
       "  </thead>\n",
       "  <tbody>\n",
       "    <tr>\n",
       "      <th>¤♤♡◇♧□○°_AGUTZC4GHLTGYHA3KBEDRF6MHB6A</th>\n",
       "      <td>acne_clarifying_face_toner_for_teens_by_natural_outcome_skin_care__salicylic_acid_facial_astringent_to_clear_acne_purify_pores__fragrance_free_alcohol_free_67_oz</td>\n",
       "      <td>Personal Care</td>\n",
       "    </tr>\n",
       "    <tr>\n",
       "      <th>¤♤♡◇♧□○°_AGUTZC4GHLTGYHA3KBEDRF6MHB6A</th>\n",
       "      <td>bosii_laptop_screen_extender_portable__14_inch_triple_ips_fhd_1080p_hdmi/usba/typec_extended_monitor_for_laptops_maximum_length:_1574\"_compatible_with_windows_mac_travel_gaming_work</td>\n",
       "      <td>Electronic Devices</td>\n",
       "    </tr>\n",
       "    <tr>\n",
       "      <th>¤♤♡◇♧□○°_AGUTZC4GHLTGYHA3KBEDRF6MHB6A</th>\n",
       "      <td>legend_cookware_|_cast_iron_skillet_with_lid_|_large_12\"_frying_pan_with_glass_lid_silicone_handle_for_oven_induction_cooking_pizza_sauteing_grilling</td>\n",
       "      <td>Kitchen</td>\n",
       "    </tr>\n",
       "    <tr>\n",
       "      <th>¤♤♡◇♧□○°_AGUTZC4GHLTGYHA3KBEDRF6MHB6A</th>\n",
       "      <td>7_inch_touch_screen_gps_navigation_system_for_cars_and_trucks__2023_maps_spoken_directions_and_free_lifetime_updates</td>\n",
       "      <td>Car Stuff</td>\n",
       "    </tr>\n",
       "    <tr>\n",
       "      <th>¤♤♡◇♧□○°_AGUTZC4GHLTGYHA3KBEDRF6MHB6A</th>\n",
       "      <td>gps_navigator_for_car_latest_2024_map_7_inch_touch_screen_car_gps_25616gb_voice_turn_direction_guidance_support_speed_and_red_light_warning_preinstalled_north_america_lifetime_map_free_update</td>\n",
       "      <td>Car Stuff</td>\n",
       "    </tr>\n",
       "    <tr>\n",
       "      <th>¤♤♡◇♧□○°_AGUTZC4GHLTGYHA3KBEDRF6MHB6A</th>\n",
       "      <td>gps_navigation_for_cartruck_2024_maps_vehicle_gps_navigation_9_inch_touch_screen_voice_car_gps_for_lorry_speeding_warning_free_lifetime_maps_update_of_united_states_canada_mexico</td>\n",
       "      <td>Car Stuff</td>\n",
       "    </tr>\n",
       "    <tr>\n",
       "      <th>¤♤♡◇♧□○°_AGUTZC4GHLTGYHA3KBEDRF6MHB6A</th>\n",
       "      <td>doll_stroller_toy_anivia_realistic_doll_stroller_heart_design_gifts_for_toddlers_and_girls_foldable_baby_doll_stroller_toy_pink_102</td>\n",
       "      <td>Children</td>\n",
       "    </tr>\n",
       "    <tr>\n",
       "      <th>¤♤♡◇♧□○°_AGUTZC4GHLTGYHA3KBEDRF6MHB6A</th>\n",
       "      <td>deervalley_dv1f52102_ace_one_piece_toilet_dual_flush_11/16_gpf_elongated_toilet_for_bathroom_12''_roughin_standard_white_toilet_with_comfortable_seat_height_seat_included</td>\n",
       "      <td>Bedroom</td>\n",
       "    </tr>\n",
       "    <tr>\n",
       "      <th>¤♤♡◇♧□○°_AGUTZC4GHLTGYHA3KBEDRF6MHB6A</th>\n",
       "      <td>usb_30_flash_drive_kootion_10_pack_32gb_usb_30_thumb_drive_retractable_32g_zip_drive_ultra_high_speed_usb_stick_jump_drive_rugged_memory_stick_with_led_indicator_for_data_storage_and_transfer</td>\n",
       "      <td>Peripheral Devices</td>\n",
       "    </tr>\n",
       "    <tr>\n",
       "      <th>¤♤♡◇♧□○°_AGUTZC4GHLTGYHA3KBEDRF6MHB6A</th>\n",
       "      <td>kootion_128_gb_usb_30_flash_drive_thumb_drive_retractable_128g_zip_drive_ultra_high_speed_usb_stick_jump_drive_rugged_memory_stick_with_led_indicator_for_data_storage_and_transfer</td>\n",
       "      <td>Peripheral Devices</td>\n",
       "    </tr>\n",
       "    <tr>\n",
       "      <th>¤♤♡◇♧□○°_AGUTZC4GHLTGYHA3KBEDRF6MHB6A</th>\n",
       "      <td>ekift_ease_now_cervical_neck_pillow_for_pain_relief_beauty_sleeping_cooling_pillow_for_side_back_stomach_sleeper_odorless_memory_foam_bed_pillows_deep_sleepergonomic_orthopedic_contour_neck_support</td>\n",
       "      <td>Bathroom</td>\n",
       "    </tr>\n",
       "    <tr>\n",
       "      <th>¤♤♡◇♧□○°_AGUTZC4GHLTGYHA3KBEDRF6MHB6A</th>\n",
       "      <td>ravmag_rubber_broom_lightweight_100%_natural_rubber_new_aluminum_antirust_55_inch_4_part_handle_best_for_pet_human_hair_indoor_carpets_decks_floor_water_resistant_washable</td>\n",
       "      <td>Cleaning Material</td>\n",
       "    </tr>\n",
       "    <tr>\n",
       "      <th>¤♤♡◇♧□○°_AGUTZC4GHLTGYHA3KBEDRF6MHB6A</th>\n",
       "      <td>taddtoy_16_bit_handheld_game_console_for_kids_adults_30''_large_screen_preloaded_200_classic_portable_retro_video_handheld_games_with_typec_port_rechargeable_battery_for_birthday_gift_for_kids_red</td>\n",
       "      <td>Electronic Devices</td>\n",
       "    </tr>\n",
       "    <tr>\n",
       "      <th>¤♤♡◇♧□○°_AGUTZC4GHLTGYHA3KBEDRF6MHB6A</th>\n",
       "      <td>antitheft_ring_doorbell_door_mount__no_drill_compatible_for_blink_doorbell_camera_mount_doorbell_camera_holder_for_apartment_door_for_home_apartments_office_and_businesses_no_doorbell</td>\n",
       "      <td>Living Room</td>\n",
       "    </tr>\n",
       "    <tr>\n",
       "      <th>¤♤♡◇♧□○°_AGUTZC4GHLTGYHA3KBEDRF6MHB6A</th>\n",
       "      <td>cros_60_loads_laundry_detergent_sheets_linen_scent_for_travel_home_apartment_dorm_laundry_detergent_strips_eco_friendly_hypoallergenic_liquidless_washing_supplies</td>\n",
       "      <td>Cleaning Material</td>\n",
       "    </tr>\n",
       "    <tr>\n",
       "      <th>¤♤♡◇♧□○°_AGUTZC4GHLTGYHA3KBEDRF6MHB6A</th>\n",
       "      <td>charmp_portable_handheld_fan_small_personal_fan_with_rechargeable_battery_small_fan_with_3_speeds_hand_fan_for_outdoor_camping_hiking_traveling_office</td>\n",
       "      <td>Travel Essentials</td>\n",
       "    </tr>\n",
       "    <tr>\n",
       "      <th>¤♤♡◇♧□○°_AGUTZC4GHLTGYHA3KBEDRF6MHB6A</th>\n",
       "      <td>vitade_zoomable_webcam_with_remote_control_1080p_60fps_streaming_webcam_with_ring_light_and_microphone_pro_usb_webcam_with_5x_digital_zoom_built_in_privacy_cover_for_zoom/skype_teams/pc/laptop/mac</td>\n",
       "      <td>Peripheral Devices</td>\n",
       "    </tr>\n",
       "    <tr>\n",
       "      <th>¤♤♡◇♧□○°_AGUTZC4GHLTGYHA3KBEDRF6MHB6A</th>\n",
       "      <td>wireless_keyboard_mouse_combo_edjo_24g_fullsized_large_wireless_keyboard_with_comfortable_palm_rest_and_optical_wireless_mouse_for_windows_mac_os_pc/desktops/computer/laptops</td>\n",
       "      <td>Peripheral Devices</td>\n",
       "    </tr>\n",
       "    <tr>\n",
       "      <th>¤♤♡◇♧□○°_AGUTZC4GHLTGYHA3KBEDRF6MHB6A</th>\n",
       "      <td>electric_baby_bottle_cleaner_kit_with_rechargeable_electric_bottle_brush_cleaner_3_piece_silicone_bottle_brush_and_straw_brush_multipurpose_automatic_bottle_cleaner_pink</td>\n",
       "      <td>Children</td>\n",
       "    </tr>\n",
       "    <tr>\n",
       "      <th>¤♤♡◇♧□○°_AGUTZC4GHLTGYHA3KBEDRF6MHB6A</th>\n",
       "      <td>sades_v2020_keyboard_and_mouse_combo_colorful_wireless_keyboard_with_round_keycaps24ghz_dropoutfree_connectionlong_battery_lifecute_wireless_mouse_for_pc/laptop/computer_milktea_color</td>\n",
       "      <td>Living Room</td>\n",
       "    </tr>\n",
       "  </tbody>\n",
       "</table>\n",
       "</div>"
      ],
      "text/plain": [
       "                                                                                                                                                                                                                                 ProductName  \\\n",
       "reviewerID                                                                                                                                                                                                                                     \n",
       "¤♤♡◇♧□○°_AGUTZC4GHLTGYHA3KBEDRF6MHB6A                                      acne_clarifying_face_toner_for_teens_by_natural_outcome_skin_care__salicylic_acid_facial_astringent_to_clear_acne_purify_pores__fragrance_free_alcohol_free_67_oz   \n",
       "¤♤♡◇♧□○°_AGUTZC4GHLTGYHA3KBEDRF6MHB6A                  bosii_laptop_screen_extender_portable__14_inch_triple_ips_fhd_1080p_hdmi/usba/typec_extended_monitor_for_laptops_maximum_length:_1574\"_compatible_with_windows_mac_travel_gaming_work   \n",
       "¤♤♡◇♧□○°_AGUTZC4GHLTGYHA3KBEDRF6MHB6A                                                  legend_cookware_|_cast_iron_skillet_with_lid_|_large_12\"_frying_pan_with_glass_lid_silicone_handle_for_oven_induction_cooking_pizza_sauteing_grilling   \n",
       "¤♤♡◇♧□○°_AGUTZC4GHLTGYHA3KBEDRF6MHB6A                                                                                   7_inch_touch_screen_gps_navigation_system_for_cars_and_trucks__2023_maps_spoken_directions_and_free_lifetime_updates   \n",
       "¤♤♡◇♧□○°_AGUTZC4GHLTGYHA3KBEDRF6MHB6A        gps_navigator_for_car_latest_2024_map_7_inch_touch_screen_car_gps_25616gb_voice_turn_direction_guidance_support_speed_and_red_light_warning_preinstalled_north_america_lifetime_map_free_update   \n",
       "¤♤♡◇♧□○°_AGUTZC4GHLTGYHA3KBEDRF6MHB6A                     gps_navigation_for_cartruck_2024_maps_vehicle_gps_navigation_9_inch_touch_screen_voice_car_gps_for_lorry_speeding_warning_free_lifetime_maps_update_of_united_states_canada_mexico   \n",
       "¤♤♡◇♧□○°_AGUTZC4GHLTGYHA3KBEDRF6MHB6A                                                                    doll_stroller_toy_anivia_realistic_doll_stroller_heart_design_gifts_for_toddlers_and_girls_foldable_baby_doll_stroller_toy_pink_102   \n",
       "¤♤♡◇♧□○°_AGUTZC4GHLTGYHA3KBEDRF6MHB6A                             deervalley_dv1f52102_ace_one_piece_toilet_dual_flush_11/16_gpf_elongated_toilet_for_bathroom_12''_roughin_standard_white_toilet_with_comfortable_seat_height_seat_included   \n",
       "¤♤♡◇♧□○°_AGUTZC4GHLTGYHA3KBEDRF6MHB6A        usb_30_flash_drive_kootion_10_pack_32gb_usb_30_thumb_drive_retractable_32g_zip_drive_ultra_high_speed_usb_stick_jump_drive_rugged_memory_stick_with_led_indicator_for_data_storage_and_transfer   \n",
       "¤♤♡◇♧□○°_AGUTZC4GHLTGYHA3KBEDRF6MHB6A                    kootion_128_gb_usb_30_flash_drive_thumb_drive_retractable_128g_zip_drive_ultra_high_speed_usb_stick_jump_drive_rugged_memory_stick_with_led_indicator_for_data_storage_and_transfer   \n",
       "¤♤♡◇♧□○°_AGUTZC4GHLTGYHA3KBEDRF6MHB6A  ekift_ease_now_cervical_neck_pillow_for_pain_relief_beauty_sleeping_cooling_pillow_for_side_back_stomach_sleeper_odorless_memory_foam_bed_pillows_deep_sleepergonomic_orthopedic_contour_neck_support   \n",
       "¤♤♡◇♧□○°_AGUTZC4GHLTGYHA3KBEDRF6MHB6A                            ravmag_rubber_broom_lightweight_100%_natural_rubber_new_aluminum_antirust_55_inch_4_part_handle_best_for_pet_human_hair_indoor_carpets_decks_floor_water_resistant_washable   \n",
       "¤♤♡◇♧□○°_AGUTZC4GHLTGYHA3KBEDRF6MHB6A   taddtoy_16_bit_handheld_game_console_for_kids_adults_30''_large_screen_preloaded_200_classic_portable_retro_video_handheld_games_with_typec_port_rechargeable_battery_for_birthday_gift_for_kids_red   \n",
       "¤♤♡◇♧□○°_AGUTZC4GHLTGYHA3KBEDRF6MHB6A                antitheft_ring_doorbell_door_mount__no_drill_compatible_for_blink_doorbell_camera_mount_doorbell_camera_holder_for_apartment_door_for_home_apartments_office_and_businesses_no_doorbell   \n",
       "¤♤♡◇♧□○°_AGUTZC4GHLTGYHA3KBEDRF6MHB6A                                     cros_60_loads_laundry_detergent_sheets_linen_scent_for_travel_home_apartment_dorm_laundry_detergent_strips_eco_friendly_hypoallergenic_liquidless_washing_supplies   \n",
       "¤♤♡◇♧□○°_AGUTZC4GHLTGYHA3KBEDRF6MHB6A                                                 charmp_portable_handheld_fan_small_personal_fan_with_rechargeable_battery_small_fan_with_3_speeds_hand_fan_for_outdoor_camping_hiking_traveling_office   \n",
       "¤♤♡◇♧□○°_AGUTZC4GHLTGYHA3KBEDRF6MHB6A   vitade_zoomable_webcam_with_remote_control_1080p_60fps_streaming_webcam_with_ring_light_and_microphone_pro_usb_webcam_with_5x_digital_zoom_built_in_privacy_cover_for_zoom/skype_teams/pc/laptop/mac   \n",
       "¤♤♡◇♧□○°_AGUTZC4GHLTGYHA3KBEDRF6MHB6A                         wireless_keyboard_mouse_combo_edjo_24g_fullsized_large_wireless_keyboard_with_comfortable_palm_rest_and_optical_wireless_mouse_for_windows_mac_os_pc/desktops/computer/laptops   \n",
       "¤♤♡◇♧□○°_AGUTZC4GHLTGYHA3KBEDRF6MHB6A                              electric_baby_bottle_cleaner_kit_with_rechargeable_electric_bottle_brush_cleaner_3_piece_silicone_bottle_brush_and_straw_brush_multipurpose_automatic_bottle_cleaner_pink   \n",
       "¤♤♡◇♧□○°_AGUTZC4GHLTGYHA3KBEDRF6MHB6A                sades_v2020_keyboard_and_mouse_combo_colorful_wireless_keyboard_with_round_keycaps24ghz_dropoutfree_connectionlong_battery_lifecute_wireless_mouse_for_pc/laptop/computer_milktea_color   \n",
       "\n",
       "                                                 category  \n",
       "reviewerID                                                 \n",
       "¤♤♡◇♧□○°_AGUTZC4GHLTGYHA3KBEDRF6MHB6A       Personal Care  \n",
       "¤♤♡◇♧□○°_AGUTZC4GHLTGYHA3KBEDRF6MHB6A  Electronic Devices  \n",
       "¤♤♡◇♧□○°_AGUTZC4GHLTGYHA3KBEDRF6MHB6A             Kitchen  \n",
       "¤♤♡◇♧□○°_AGUTZC4GHLTGYHA3KBEDRF6MHB6A           Car Stuff  \n",
       "¤♤♡◇♧□○°_AGUTZC4GHLTGYHA3KBEDRF6MHB6A           Car Stuff  \n",
       "¤♤♡◇♧□○°_AGUTZC4GHLTGYHA3KBEDRF6MHB6A           Car Stuff  \n",
       "¤♤♡◇♧□○°_AGUTZC4GHLTGYHA3KBEDRF6MHB6A            Children  \n",
       "¤♤♡◇♧□○°_AGUTZC4GHLTGYHA3KBEDRF6MHB6A             Bedroom  \n",
       "¤♤♡◇♧□○°_AGUTZC4GHLTGYHA3KBEDRF6MHB6A  Peripheral Devices  \n",
       "¤♤♡◇♧□○°_AGUTZC4GHLTGYHA3KBEDRF6MHB6A  Peripheral Devices  \n",
       "¤♤♡◇♧□○°_AGUTZC4GHLTGYHA3KBEDRF6MHB6A            Bathroom  \n",
       "¤♤♡◇♧□○°_AGUTZC4GHLTGYHA3KBEDRF6MHB6A   Cleaning Material  \n",
       "¤♤♡◇♧□○°_AGUTZC4GHLTGYHA3KBEDRF6MHB6A  Electronic Devices  \n",
       "¤♤♡◇♧□○°_AGUTZC4GHLTGYHA3KBEDRF6MHB6A         Living Room  \n",
       "¤♤♡◇♧□○°_AGUTZC4GHLTGYHA3KBEDRF6MHB6A   Cleaning Material  \n",
       "¤♤♡◇♧□○°_AGUTZC4GHLTGYHA3KBEDRF6MHB6A   Travel Essentials  \n",
       "¤♤♡◇♧□○°_AGUTZC4GHLTGYHA3KBEDRF6MHB6A  Peripheral Devices  \n",
       "¤♤♡◇♧□○°_AGUTZC4GHLTGYHA3KBEDRF6MHB6A  Peripheral Devices  \n",
       "¤♤♡◇♧□○°_AGUTZC4GHLTGYHA3KBEDRF6MHB6A            Children  \n",
       "¤♤♡◇♧□○°_AGUTZC4GHLTGYHA3KBEDRF6MHB6A         Living Room  "
      ]
     },
     "metadata": {},
     "output_type": "display_data"
    },
    {
     "name": "stdout",
     "output_type": "stream",
     "text": [
      "Recommendations for ¤♤♡◇♧□○°_AGUTZC4GHLTGYHA3KBEDRF6MHB6A\n"
     ]
    },
    {
     "data": {
      "text/html": [
       "<div>\n",
       "<style scoped>\n",
       "    .dataframe tbody tr th:only-of-type {\n",
       "        vertical-align: middle;\n",
       "    }\n",
       "\n",
       "    .dataframe tbody tr th {\n",
       "        vertical-align: top;\n",
       "    }\n",
       "\n",
       "    .dataframe thead th {\n",
       "        text-align: right;\n",
       "    }\n",
       "</style>\n",
       "<table border=\"1\" class=\"dataframe\">\n",
       "  <thead>\n",
       "    <tr style=\"text-align: right;\">\n",
       "      <th></th>\n",
       "      <th>KNNBasic</th>\n",
       "      <th>KNNWithMeans</th>\n",
       "      <th>SVD</th>\n",
       "      <th>ALS</th>\n",
       "      <th>Content-based</th>\n",
       "      <th>Global Baseline Average</th>\n",
       "      <th>LightFM</th>\n",
       "    </tr>\n",
       "  </thead>\n",
       "  <tbody>\n",
       "    <tr>\n",
       "      <th>0</th>\n",
       "      <td>Industrial Small Table Lamp,Modern Metal Bedside Lamp Nightstand Lamp for Bedroom Living Room Hallway Entryway, Iron Art Lampshade, LED Bulb Included, Gold</td>\n",
       "      <td>COMFEE CMO-C20M1WB Countertop Microwave Oven with 11 power levels, Fast Multi-stage Cooking, Turntable Reset Function, Speedy Cooking, Weight/Time Defrost, Memory function, Children Lock, 700W</td>\n",
       "      <td>COMFEE CMO-C20M1WH Retro Microwave with 11 power levels, Fast Multi-stage Cooking, Turntable Reset Function Kitchen Timer, Speedy Cooking， Weight/Time Defrost, Memory function, Children Lock, 700W</td>\n",
       "      <td>WATERH PureSip Adapt Water Bottle Stainless Steel Tumbler Straw Replacement for Vita, Simple Modern, Owala, Stanley, Hydro Flask(1 Filter + 5 Straws)</td>\n",
       "      <td>IMagicoo 32 Lovely Cute Writing Stationery Paper Letter Set with 16 Envelope + 1 Sheet Label Seal Sticker (Style-9(8.3x5.6))</td>\n",
       "      <td>Makeup: The Sunday Times Bestseller and practical step-by-step guide to makeup and beauty from much-loved makeup artist Hannah Martin</td>\n",
       "      <td>Gold Bond Healing Hydrating Lotion, 20 oz., With Aloe, Moisturizes, Immediate 24-Hour Hydration</td>\n",
       "    </tr>\n",
       "    <tr>\n",
       "      <th>1</th>\n",
       "      <td>Merax Suitcases With Wheels Lightweight Carry-On Luggage, TSA Lock and Reinforced Corners, 20 Inch Carry On Suitcases (White brown) …</td>\n",
       "      <td>COMMERCIAL CHEF 1.1 Cu Ft Microwave with 10 Power Levels, Small Microwave with Push Button, 1000W Countertop Microwave with Kitchen Timer, Door Lock, &amp; Digital Controls, Stainless Steel</td>\n",
       "      <td>Biore Clean Detox Toner 8 fl oz</td>\n",
       "      <td>Bear Air Fryer, 5.3Qt for Quick and Oil-Free Healthy Meals, Easy View, Smart Digital Touchscreen, Shake Reminder, Dishwasher-Safe&amp;Non-stick Basket, Disposable Paper Liner and Recipes included,White</td>\n",
       "      <td>SSK 1TB USB SSD Solid State Flash Drive 550MB/s Super-Fast Transfer Speed USB 3.2 Gen2 Thumb(Jump) Drive Memory Stick + USB C Adapter for Type-c Smartphone, Laptop, MacBook/Pro/Air and More</td>\n",
       "      <td>Tide Hygienic Clean Heavy 10X Duty Laundry Detergent Liquid, Spring Meadow, 59 Loads, 92 Fl Oz, He Compatible</td>\n",
       "      <td>Camii Webcam with Light - 1080P Webcam for PC with Built-in Privacy Cover &amp; Mic, StreamCam, Plug and Play, Web Camera for Streaming, Online Learning, Zoom Meeting Skype Teams, Mac Laptop Desktop</td>\n",
       "    </tr>\n",
       "    <tr>\n",
       "      <th>2</th>\n",
       "      <td>ARESGAME AGV Series 500W Power Supply, 80 Plus Bronze Certified, Non Modular Power Supply, 5 Year Warranty</td>\n",
       "      <td>COMFEE CMO-C20M1WH Retro Microwave with 11 power levels, Fast Multi-stage Cooking, Turntable Reset Function Kitchen Timer, Speedy Cooking， Weight/Time Defrost, Memory function, Children Lock, 700W</td>\n",
       "      <td>THAYERS Alcohol-Free Witch Hazel Facial Mist Toner with Aloe Vera, Rose Petal, 8 Ounce</td>\n",
       "      <td>Merax Suitcases With Wheels Lightweight Carry-On Luggage, TSA Lock and Reinforced Corners, 20 Inch Carry On Suitcases (White brown) …</td>\n",
       "      <td>EZITSOL 64GB/128GB Write Protect USB Flash Drive with Physical Switch, Write Blocker Protection,128GB exFat USB3.0 High Speed up to 150MB/S,MLC Jump Drive Pendrive Thumb Drive Memory Stick</td>\n",
       "      <td>ESR Tempered Glass Screen Protector for iPhone 14 Pro (Armorite), Easy Installation Frame, Military-Grade Protection, Ultra Tough, Scratch Resistant, 2 Pack</td>\n",
       "      <td>NWANA 250W Cordless Vacuum Cleaner,Powerful Suction 26Kpa Lightweight Stick Vacuum, 6 * 2200 mAh Battery, 45 Mins Runtime, Rechargeable Stick Vac Broom for Home Hard Floor</td>\n",
       "    </tr>\n",
       "    <tr>\n",
       "      <th>3</th>\n",
       "      <td>TOSCiDO Tablet 2023 Android 12 Tablets 10.3 inch 2K FHD Tableta,15GB RAM 128GB Storage 2TB Expand,8 Core 12nm CPU Tablet PC,2000 * 1200 IPS, in-Cell LCD Screen,8000mAh,5G WiFi,GPS,8+13MP Camera,Black</td>\n",
       "      <td>GE JES1657BMTS Microwave Oven, Black Stainless Steel, 13.625 in</td>\n",
       "      <td>[KLAIRS] Supple Preparation Unscented Toner 6.08 fl oz, Lightweight, Essential Oil-Free, Alcohol Free, Packaging Changed</td>\n",
       "      <td>Wireless Retro Game Console, Retro Game Stick with Built-in 9 Emulators, 20,400+ Games, 4k Hdmi Output, and 2.4GHz Wireless Controller, Plug and Retro Play Video Games for Tv (64 G)</td>\n",
       "      <td>32GB MacOS Catalina 10.15.7 (Latest Version), Bootable USB Drive 3.0,Full Install/Upgrade/Downgrade Mac OS X</td>\n",
       "      <td>CHAOREN Ratchet Belts for Men 2-Pack - Stylish Leather Belts in Gift Set 35mm</td>\n",
       "      <td>Gold Bond Radiance Renewal Hydrating Lotion, 20 oz., for Visibly Dry Skin, Family Size</td>\n",
       "    </tr>\n",
       "    <tr>\n",
       "      <th>4</th>\n",
       "      <td>Nutrichef Double Basket Air Fryer 8.8 QT | Family Size Oil Free Airfryer with Transparent Window | 9-1 Preset Cooking Options | 360° Hot Air Circulation Technology | 4.4 QTs per Basket | Black</td>\n",
       "      <td>Yak About It Mini Fridge Dorm Station - Black</td>\n",
       "      <td>Beauty of Joseon Ginseng Essence Water Hydrating Refining Face Toner for Dry, Sensitve, Acne-Prone, Irritated Facial Skin. Daily Korean Moisturizing Skin Care for Men and Women 150ml, 5 fl.oz</td>\n",
       "      <td>Nutrichef Double Basket Air Fryer 8.8 QT | Family Size Oil Free Airfryer with Transparent Window | 9-1 Preset Cooking Options | 360° Hot Air Circulation Technology | 4.4 QTs per Basket | Black</td>\n",
       "      <td>Apricorn Aegis Secure Key 3 NX 64GB 256-bit Encrypted FIPS 140-2 Level 3 Validated Secure USB 3.0 Flash Drive, ASK3-NX-64GB, black</td>\n",
       "      <td>Thermalright Assassin King 120 SE White ARGB CPU Air Cooler, AK120 SE White ARB, 5 Heatpipes, TL-C12CW-S PWM Quiet Fan CPU Cooler with S-FDB Bearing, for AMD AM4/Intel LGA1700/1150/1151/1200</td>\n",
       "      <td>SSK 2TB External USB SSD,Super Fast 550MB/s 2-in-1 Dual Drive USB Type C+ USB A 3.2 Gen2 Solid State Thumb Drive Data Storage for iPhone 15/PS4/Android Phone/Tablet/Windows/Mac</td>\n",
       "    </tr>\n",
       "    <tr>\n",
       "      <th>5</th>\n",
       "      <td>Bear Air Fryer, 5.3Qt for Quick and Oil-Free Healthy Meals, Easy View, Smart Digital Touchscreen, Shake Reminder, Dishwasher-Safe&amp;Non-stick Basket, Disposable Paper Liner and Recipes included,White</td>\n",
       "      <td>Biore Clean Detox Toner 8 fl oz</td>\n",
       "      <td>Andalou Naturals, Toner Facial Toner Helps Hydrate Balance Skin pH For Clear Bright Skin, Clementine Plus C, 6 Fl Oz</td>\n",
       "      <td>Befrases Farmhouse Storage Cabinet with Drawers and Shelf, Freestanding Kitchen Pantry Storage Cabinet, Floor Storage Cabinet Hutch Cupboard for Kitchen, Living Room, Home Office, Rustic Grey</td>\n",
       "      <td>Apricorn 8GB Aegis Secure Key 3 NX 256-bit Encrypted FIPS 140-2 Level 3 Validated Secure USB 3.0 Flash Drive (ASK3-NX-8GB), Black</td>\n",
       "      <td>Bounce Lasting Fresh Mega Fabric Softener Dryer Sheets, Outdoor Fresh &amp; Clean for Long Lasting Freshness, 180ct</td>\n",
       "      <td>BANDQ 3 Pack Samsung Galaxy S20 Plus Screen Protector【3+1 Pack】 Pack Camera Lens Protector, 9H Scratch-Resistant HD Clear Tempered Glass Screen Protector for Galaxy S20 Plus Screen Protector</td>\n",
       "    </tr>\n",
       "    <tr>\n",
       "      <th>6</th>\n",
       "      <td>Famiworths Upgraded Hot and Iced Coffee Maker for K Cups and Ground Coffee, 4-5 Cups Coffee Maker and Single-serve Brewers, with 30Oz Removable Water Reservoir, 6 to 24Oz Cup Size, Classic Black</td>\n",
       "      <td>INFINA ESSENTIALS Face Exfoliator &amp; Toner for Face, Big 8 fl oz Each - Revitalizing Facial Toner &amp; Pore Reducing BHA Liquid Exfoliant - Optimal Facial Skin Care Products for Women</td>\n",
       "      <td>Bioré Hydrate &amp; Glow 2% Lactic Acid and Malic Acid, Alcohol Free Toner, Exfoliating Face Toner for Dry, Sensitive Skin with Coconut Water, Dermatologist Tested, Fragrance Free, 8 Oz Bottle</td>\n",
       "      <td>Trenana 2 in1 Baby Stroller,High Landscape Infant Stroller,Reversible Bassinet Stroller,Adjustable Backrest &amp; Canopy,Foldable Aluminum Alloy Anti-Shock Stroller for Newborn (Silver-White)</td>\n",
       "      <td>SanDisk Cruzer 16GB (8GB x 2) Cruzer Blade USB 2.0 Flash Drive Jump Drive Pen Drive Sdcz50 - Two Pack</td>\n",
       "      <td>Downy WrinkleGuard Dryer Sheets, Fresh, 150 count</td>\n",
       "      <td>Luxury Handheld Bidet Toilet Sprayer, Premium SUS304 Stainless Steel Bathroom Bidet Sprayer Attachment Set, Baby Cloth Diaper Sprayer with Superior Complete Accessories, Support Wall or Toilet Mount</td>\n",
       "    </tr>\n",
       "    <tr>\n",
       "      <th>7</th>\n",
       "      <td>BANDQ 3 Pack Samsung Galaxy S20 Plus Screen Protector【3+1 Pack】 Pack Camera Lens Protector, 9H Scratch-Resistant HD Clear Tempered Glass Screen Protector for Galaxy S20 Plus Screen Protector</td>\n",
       "      <td>It's Skin Peptide Collagen Toner 5.07 Fl Oz | Moisturizing Toner with Organic Collagen Peptides | Hydrating Toner for Sensitive Skin | Organic Skin Care &amp; Face Brightening Toner | K Beauty Toner</td>\n",
       "      <td>T.N. Dickinson's Witch Hazel Alcohol-Free Moisturizing Astringent, 100% Natural, 16 oz</td>\n",
       "      <td>TCL Air Purifier for Home Room Bedroom True H13 HEPA Air Filter Remove 99.97% Smoke Odor Pet Dander Dust Pollen Mold Air Cleaner Metal Design with Night Light</td>\n",
       "      <td>Flash Drive for iPhone 512GB, Gulloe USB Memory Stick Photo Stick External Storage Thumb Drive for iPhone iPad Android Computer (Light Green)</td>\n",
       "      <td>WD_BLACK 4TB SN850X NVMe Internal Gaming SSD Solid State Drive - Gen4 PCIe, M.2 2280, Up to 7,300 MB/s - WDS400T2X0E</td>\n",
       "      <td>Nature’s Bounty Iron 65mg, 325 mg Ferrous Sulfate, Cellular Energy Support, Promotes Normal Red Blood Cell Production, 100 Tablets</td>\n",
       "    </tr>\n",
       "    <tr>\n",
       "      <th>8</th>\n",
       "      <td>3 Pack Samsung Galaxy S21 Ultra Screen Protector, Tempered Glass Screen Protector【3+1 Pack】Tempered Glass Camera Lens Protector, 9H Tempered Glass Screen Protector for Galaxy S21 Ultra Screen Protector</td>\n",
       "      <td>JOAH Heal Me CICA Face Toner Pads, Centella Asiatica for Soothing, Calming, Balancing Sensitive and Irritated Skin, Korean Skincare, Cruelty-Free pH 5.5, Hypoallergenic, 50 Pads</td>\n",
       "      <td>Neutrogena Oil- and Alcohol-Free Facial Toner, Hypoallergenic Skin-Purifying Face Toner to Cleanse, Recondition and Purify Skin, Non-Comedogenic, Quick-Absorbing, 8.5 fl. oz</td>\n",
       "      <td>Camii Webcam with Light - 1080P Webcam for PC with Built-in Privacy Cover &amp; Mic, StreamCam, Plug and Play, Web Camera for Streaming, Online Learning, Zoom Meeting Skype Teams, Mac Laptop Desktop</td>\n",
       "      <td>Flash Drive Case USB Memory Stick SD Card Storage Organizer- Holds 104pcs Thumb Drive Electronic Accessories Holder for Sandisk/for Samsung/for Inland/for PNY/for Netac (White)</td>\n",
       "      <td>The Butcher and the Wren: A Novel</td>\n",
       "      <td>Bear Air Fryer, 5.3Qt for Quick and Oil-Free Healthy Meals, Easy View, Smart Digital Touchscreen, Shake Reminder, Dishwasher-Safe&amp;Non-stick Basket, Disposable Paper Liner and Recipes included,White</td>\n",
       "    </tr>\n",
       "    <tr>\n",
       "      <th>9</th>\n",
       "      <td>BANDQ 3 Pack for Google Pixel 8 Screen Protector, Tempered Glass Screen Protecto【3+1 Pack】1 Pack Tempered Glass Camera Lens Protector, Easy Installation, 9H Hardness Tempered Glass Screen Protector</td>\n",
       "      <td>Amarose Rose Water Facial Toner with Hyaluronic Acid - Revitalize and Hydrate Skin with This Refreshing Facial Toner - Experience The Calming Elegance of Rosewater - Ideal for All Skin Types</td>\n",
       "      <td>Paula's Choice Skin Perfecting 2% BHA Liquid Salicylic Acid Exfoliant, Gentle Facial Exfoliator for Blackheads, Large Pores, Wrinkles &amp; Fine Lines, Travel Size, 1 Fluid Ounce</td>\n",
       "      <td>None</td>\n",
       "      <td>Verbatim 64GB ToughMAX USB 2.0 Flash Drive - Extremely Durable Thumb Drive - Black, 70058</td>\n",
       "      <td>WD_BLACK 2TB SN850X NVMe Internal Gaming SSD Solid State Drive - Gen4 PCIe, M.2 2280, Up to 7,300 MB/s - WDS200T2X0E</td>\n",
       "      <td>Toiletry Bag for Men Hanging Dopp Kit Water Resistant Shaving Bag Small Toiletry Bag for Traveling (Denim Grey)</td>\n",
       "    </tr>\n",
       "  </tbody>\n",
       "</table>\n",
       "</div>"
      ],
      "text/plain": [
       "                                                                                                                                                                                                    KNNBasic  \\\n",
       "0                                                Industrial Small Table Lamp,Modern Metal Bedside Lamp Nightstand Lamp for Bedroom Living Room Hallway Entryway, Iron Art Lampshade, LED Bulb Included, Gold   \n",
       "1                                                                      Merax Suitcases With Wheels Lightweight Carry-On Luggage, TSA Lock and Reinforced Corners, 20 Inch Carry On Suitcases (White brown) …   \n",
       "2                                                                                                 ARESGAME AGV Series 500W Power Supply, 80 Plus Bronze Certified, Non Modular Power Supply, 5 Year Warranty   \n",
       "3    TOSCiDO Tablet 2023 Android 12 Tablets 10.3 inch 2K FHD Tableta,15GB RAM 128GB Storage 2TB Expand,8 Core 12nm CPU Tablet PC,2000 * 1200 IPS, in-Cell LCD Screen,8000mAh,5G WiFi,GPS,8+13MP Camera,Black   \n",
       "4           Nutrichef Double Basket Air Fryer 8.8 QT | Family Size Oil Free Airfryer with Transparent Window | 9-1 Preset Cooking Options | 360° Hot Air Circulation Technology | 4.4 QTs per Basket | Black   \n",
       "5      Bear Air Fryer, 5.3Qt for Quick and Oil-Free Healthy Meals, Easy View, Smart Digital Touchscreen, Shake Reminder, Dishwasher-Safe&Non-stick Basket, Disposable Paper Liner and Recipes included,White   \n",
       "6         Famiworths Upgraded Hot and Iced Coffee Maker for K Cups and Ground Coffee, 4-5 Cups Coffee Maker and Single-serve Brewers, with 30Oz Removable Water Reservoir, 6 to 24Oz Cup Size, Classic Black   \n",
       "7             BANDQ 3 Pack Samsung Galaxy S20 Plus Screen Protector【3+1 Pack】 Pack Camera Lens Protector, 9H Scratch-Resistant HD Clear Tempered Glass Screen Protector for Galaxy S20 Plus Screen Protector   \n",
       "8  3 Pack Samsung Galaxy S21 Ultra Screen Protector, Tempered Glass Screen Protector【3+1 Pack】Tempered Glass Camera Lens Protector, 9H Tempered Glass Screen Protector for Galaxy S21 Ultra Screen Protector   \n",
       "9      BANDQ 3 Pack for Google Pixel 8 Screen Protector, Tempered Glass Screen Protecto【3+1 Pack】1 Pack Tempered Glass Camera Lens Protector, Easy Installation, 9H Hardness Tempered Glass Screen Protector   \n",
       "\n",
       "                                                                                                                                                                                           KNNWithMeans  \\\n",
       "0      COMFEE CMO-C20M1WB Countertop Microwave Oven with 11 power levels, Fast Multi-stage Cooking, Turntable Reset Function, Speedy Cooking, Weight/Time Defrost, Memory function, Children Lock, 700W   \n",
       "1             COMMERCIAL CHEF 1.1 Cu Ft Microwave with 10 Power Levels, Small Microwave with Push Button, 1000W Countertop Microwave with Kitchen Timer, Door Lock, & Digital Controls, Stainless Steel   \n",
       "2  COMFEE CMO-C20M1WH Retro Microwave with 11 power levels, Fast Multi-stage Cooking, Turntable Reset Function Kitchen Timer, Speedy Cooking， Weight/Time Defrost, Memory function, Children Lock, 700W   \n",
       "3                                                                                                                                       GE JES1657BMTS Microwave Oven, Black Stainless Steel, 13.625 in   \n",
       "4                                                                                                                                                         Yak About It Mini Fridge Dorm Station - Black   \n",
       "5                                                                                                                                                                       Biore Clean Detox Toner 8 fl oz   \n",
       "6                   INFINA ESSENTIALS Face Exfoliator & Toner for Face, Big 8 fl oz Each - Revitalizing Facial Toner & Pore Reducing BHA Liquid Exfoliant - Optimal Facial Skin Care Products for Women   \n",
       "7    It's Skin Peptide Collagen Toner 5.07 Fl Oz | Moisturizing Toner with Organic Collagen Peptides | Hydrating Toner for Sensitive Skin | Organic Skin Care & Face Brightening Toner | K Beauty Toner   \n",
       "8                     JOAH Heal Me CICA Face Toner Pads, Centella Asiatica for Soothing, Calming, Balancing Sensitive and Irritated Skin, Korean Skincare, Cruelty-Free pH 5.5, Hypoallergenic, 50 Pads   \n",
       "9        Amarose Rose Water Facial Toner with Hyaluronic Acid - Revitalize and Hydrate Skin with This Refreshing Facial Toner - Experience The Calming Elegance of Rosewater - Ideal for All Skin Types   \n",
       "\n",
       "                                                                                                                                                                                                    SVD  \\\n",
       "0  COMFEE CMO-C20M1WH Retro Microwave with 11 power levels, Fast Multi-stage Cooking, Turntable Reset Function Kitchen Timer, Speedy Cooking， Weight/Time Defrost, Memory function, Children Lock, 700W   \n",
       "1                                                                                                                                                                       Biore Clean Detox Toner 8 fl oz   \n",
       "2                                                                                                                THAYERS Alcohol-Free Witch Hazel Facial Mist Toner with Aloe Vera, Rose Petal, 8 Ounce   \n",
       "3                                                                              [KLAIRS] Supple Preparation Unscented Toner 6.08 fl oz, Lightweight, Essential Oil-Free, Alcohol Free, Packaging Changed   \n",
       "4       Beauty of Joseon Ginseng Essence Water Hydrating Refining Face Toner for Dry, Sensitve, Acne-Prone, Irritated Facial Skin. Daily Korean Moisturizing Skin Care for Men and Women 150ml, 5 fl.oz   \n",
       "5                                                                                  Andalou Naturals, Toner Facial Toner Helps Hydrate Balance Skin pH For Clear Bright Skin, Clementine Plus C, 6 Fl Oz   \n",
       "6          Bioré Hydrate & Glow 2% Lactic Acid and Malic Acid, Alcohol Free Toner, Exfoliating Face Toner for Dry, Sensitive Skin with Coconut Water, Dermatologist Tested, Fragrance Free, 8 Oz Bottle   \n",
       "7                                                                                                                T.N. Dickinson's Witch Hazel Alcohol-Free Moisturizing Astringent, 100% Natural, 16 oz   \n",
       "8                         Neutrogena Oil- and Alcohol-Free Facial Toner, Hypoallergenic Skin-Purifying Face Toner to Cleanse, Recondition and Purify Skin, Non-Comedogenic, Quick-Absorbing, 8.5 fl. oz   \n",
       "9                        Paula's Choice Skin Perfecting 2% BHA Liquid Salicylic Acid Exfoliant, Gentle Facial Exfoliator for Blackheads, Large Pores, Wrinkles & Fine Lines, Travel Size, 1 Fluid Ounce   \n",
       "\n",
       "                                                                                                                                                                                                     ALS  \\\n",
       "0                                                  WATERH PureSip Adapt Water Bottle Stainless Steel Tumbler Straw Replacement for Vita, Simple Modern, Owala, Stanley, Hydro Flask(1 Filter + 5 Straws)   \n",
       "1  Bear Air Fryer, 5.3Qt for Quick and Oil-Free Healthy Meals, Easy View, Smart Digital Touchscreen, Shake Reminder, Dishwasher-Safe&Non-stick Basket, Disposable Paper Liner and Recipes included,White   \n",
       "2                                                                  Merax Suitcases With Wheels Lightweight Carry-On Luggage, TSA Lock and Reinforced Corners, 20 Inch Carry On Suitcases (White brown) …   \n",
       "3                  Wireless Retro Game Console, Retro Game Stick with Built-in 9 Emulators, 20,400+ Games, 4k Hdmi Output, and 2.4GHz Wireless Controller, Plug and Retro Play Video Games for Tv (64 G)   \n",
       "4       Nutrichef Double Basket Air Fryer 8.8 QT | Family Size Oil Free Airfryer with Transparent Window | 9-1 Preset Cooking Options | 360° Hot Air Circulation Technology | 4.4 QTs per Basket | Black   \n",
       "5        Befrases Farmhouse Storage Cabinet with Drawers and Shelf, Freestanding Kitchen Pantry Storage Cabinet, Floor Storage Cabinet Hutch Cupboard for Kitchen, Living Room, Home Office, Rustic Grey   \n",
       "6            Trenana 2 in1 Baby Stroller,High Landscape Infant Stroller,Reversible Bassinet Stroller,Adjustable Backrest & Canopy,Foldable Aluminum Alloy Anti-Shock Stroller for Newborn (Silver-White)   \n",
       "7                                         TCL Air Purifier for Home Room Bedroom True H13 HEPA Air Filter Remove 99.97% Smoke Odor Pet Dander Dust Pollen Mold Air Cleaner Metal Design with Night Light   \n",
       "8     Camii Webcam with Light - 1080P Webcam for PC with Built-in Privacy Cover & Mic, StreamCam, Plug and Play, Web Camera for Streaming, Online Learning, Zoom Meeting Skype Teams, Mac Laptop Desktop   \n",
       "9                                                                                                                                                                                                   None   \n",
       "\n",
       "                                                                                                                                                                                   Content-based  \\\n",
       "0                                                                   IMagicoo 32 Lovely Cute Writing Stationery Paper Letter Set with 16 Envelope + 1 Sheet Label Seal Sticker (Style-9(8.3x5.6))   \n",
       "1  SSK 1TB USB SSD Solid State Flash Drive 550MB/s Super-Fast Transfer Speed USB 3.2 Gen2 Thumb(Jump) Drive Memory Stick + USB C Adapter for Type-c Smartphone, Laptop, MacBook/Pro/Air and More   \n",
       "2   EZITSOL 64GB/128GB Write Protect USB Flash Drive with Physical Switch, Write Blocker Protection,128GB exFat USB3.0 High Speed up to 150MB/S,MLC Jump Drive Pendrive Thumb Drive Memory Stick   \n",
       "3                                                                                   32GB MacOS Catalina 10.15.7 (Latest Version), Bootable USB Drive 3.0,Full Install/Upgrade/Downgrade Mac OS X   \n",
       "4                                                             Apricorn Aegis Secure Key 3 NX 64GB 256-bit Encrypted FIPS 140-2 Level 3 Validated Secure USB 3.0 Flash Drive, ASK3-NX-64GB, black   \n",
       "5                                                              Apricorn 8GB Aegis Secure Key 3 NX 256-bit Encrypted FIPS 140-2 Level 3 Validated Secure USB 3.0 Flash Drive (ASK3-NX-8GB), Black   \n",
       "6                                                                                          SanDisk Cruzer 16GB (8GB x 2) Cruzer Blade USB 2.0 Flash Drive Jump Drive Pen Drive Sdcz50 - Two Pack   \n",
       "7                                                  Flash Drive for iPhone 512GB, Gulloe USB Memory Stick Photo Stick External Storage Thumb Drive for iPhone iPad Android Computer (Light Green)   \n",
       "8               Flash Drive Case USB Memory Stick SD Card Storage Organizer- Holds 104pcs Thumb Drive Electronic Accessories Holder for Sandisk/for Samsung/for Inland/for PNY/for Netac (White)   \n",
       "9                                                                                                      Verbatim 64GB ToughMAX USB 2.0 Flash Drive - Extremely Durable Thumb Drive - Black, 70058   \n",
       "\n",
       "                                                                                                                                                                          Global Baseline Average  \\\n",
       "0                                                           Makeup: The Sunday Times Bestseller and practical step-by-step guide to makeup and beauty from much-loved makeup artist Hannah Martin   \n",
       "1                                                                                   Tide Hygienic Clean Heavy 10X Duty Laundry Detergent Liquid, Spring Meadow, 59 Loads, 92 Fl Oz, He Compatible   \n",
       "2                                    ESR Tempered Glass Screen Protector for iPhone 14 Pro (Armorite), Easy Installation Frame, Military-Grade Protection, Ultra Tough, Scratch Resistant, 2 Pack   \n",
       "3                                                                                                                   CHAOREN Ratchet Belts for Men 2-Pack - Stylish Leather Belts in Gift Set 35mm   \n",
       "4  Thermalright Assassin King 120 SE White ARGB CPU Air Cooler, AK120 SE White ARB, 5 Heatpipes, TL-C12CW-S PWM Quiet Fan CPU Cooler with S-FDB Bearing, for AMD AM4/Intel LGA1700/1150/1151/1200   \n",
       "5                                                                                 Bounce Lasting Fresh Mega Fabric Softener Dryer Sheets, Outdoor Fresh & Clean for Long Lasting Freshness, 180ct   \n",
       "6                                                                                                                                               Downy WrinkleGuard Dryer Sheets, Fresh, 150 count   \n",
       "7                                                                            WD_BLACK 4TB SN850X NVMe Internal Gaming SSD Solid State Drive - Gen4 PCIe, M.2 2280, Up to 7,300 MB/s - WDS400T2X0E   \n",
       "8                                                                                                                                                               The Butcher and the Wren: A Novel   \n",
       "9                                                                            WD_BLACK 2TB SN850X NVMe Internal Gaming SSD Solid State Drive - Gen4 PCIe, M.2 2280, Up to 7,300 MB/s - WDS200T2X0E   \n",
       "\n",
       "                                                                                                                                                                                                  LightFM  \n",
       "0                                                                                                         Gold Bond Healing Hydrating Lotion, 20 oz., With Aloe, Moisturizes, Immediate 24-Hour Hydration  \n",
       "1      Camii Webcam with Light - 1080P Webcam for PC with Built-in Privacy Cover & Mic, StreamCam, Plug and Play, Web Camera for Streaming, Online Learning, Zoom Meeting Skype Teams, Mac Laptop Desktop  \n",
       "2                             NWANA 250W Cordless Vacuum Cleaner,Powerful Suction 26Kpa Lightweight Stick Vacuum, 6 * 2200 mAh Battery, 45 Mins Runtime, Rechargeable Stick Vac Broom for Home Hard Floor  \n",
       "3                                                                                                                  Gold Bond Radiance Renewal Hydrating Lotion, 20 oz., for Visibly Dry Skin, Family Size  \n",
       "4                        SSK 2TB External USB SSD,Super Fast 550MB/s 2-in-1 Dual Drive USB Type C+ USB A 3.2 Gen2 Solid State Thumb Drive Data Storage for iPhone 15/PS4/Android Phone/Tablet/Windows/Mac  \n",
       "5          BANDQ 3 Pack Samsung Galaxy S20 Plus Screen Protector【3+1 Pack】 Pack Camera Lens Protector, 9H Scratch-Resistant HD Clear Tempered Glass Screen Protector for Galaxy S20 Plus Screen Protector  \n",
       "6  Luxury Handheld Bidet Toilet Sprayer, Premium SUS304 Stainless Steel Bathroom Bidet Sprayer Attachment Set, Baby Cloth Diaper Sprayer with Superior Complete Accessories, Support Wall or Toilet Mount  \n",
       "7                                                                      Nature’s Bounty Iron 65mg, 325 mg Ferrous Sulfate, Cellular Energy Support, Promotes Normal Red Blood Cell Production, 100 Tablets  \n",
       "8   Bear Air Fryer, 5.3Qt for Quick and Oil-Free Healthy Meals, Easy View, Smart Digital Touchscreen, Shake Reminder, Dishwasher-Safe&Non-stick Basket, Disposable Paper Liner and Recipes included,White  \n",
       "9                                                                                         Toiletry Bag for Men Hanging Dopp Kit Water Resistant Shaving Bag Small Toiletry Bag for Traveling (Denim Grey)  "
      ]
     },
     "metadata": {},
     "output_type": "display_data"
    },
    {
     "data": {
      "text/html": [
       "<div>\n",
       "<style scoped>\n",
       "    .dataframe tbody tr th:only-of-type {\n",
       "        vertical-align: middle;\n",
       "    }\n",
       "\n",
       "    .dataframe tbody tr th {\n",
       "        vertical-align: top;\n",
       "    }\n",
       "\n",
       "    .dataframe thead th {\n",
       "        text-align: right;\n",
       "    }\n",
       "</style>\n",
       "<table border=\"1\" class=\"dataframe\">\n",
       "  <thead>\n",
       "    <tr style=\"text-align: right;\">\n",
       "      <th></th>\n",
       "      <th>KNNBasic</th>\n",
       "      <th>KNNWithMeans</th>\n",
       "      <th>SVD</th>\n",
       "      <th>ALS</th>\n",
       "      <th>Content-based</th>\n",
       "      <th>Global Baseline Average</th>\n",
       "      <th>LightFM</th>\n",
       "    </tr>\n",
       "  </thead>\n",
       "  <tbody>\n",
       "    <tr>\n",
       "      <th>0</th>\n",
       "      <td>Bedroom</td>\n",
       "      <td>Kitchen</td>\n",
       "      <td>Kitchen</td>\n",
       "      <td>Travel Essentials</td>\n",
       "      <td>Office Supplies</td>\n",
       "      <td>Personal Care</td>\n",
       "      <td>Personal Care</td>\n",
       "    </tr>\n",
       "    <tr>\n",
       "      <th>1</th>\n",
       "      <td>Travel Essentials</td>\n",
       "      <td>Kitchen</td>\n",
       "      <td>Personal Care</td>\n",
       "      <td>Kitchen</td>\n",
       "      <td>Computer Components</td>\n",
       "      <td>Cleaning Material</td>\n",
       "      <td>Peripheral Devices</td>\n",
       "    </tr>\n",
       "    <tr>\n",
       "      <th>2</th>\n",
       "      <td>Computer Components</td>\n",
       "      <td>Kitchen</td>\n",
       "      <td>Personal Care</td>\n",
       "      <td>Travel Essentials</td>\n",
       "      <td>Peripheral Devices</td>\n",
       "      <td>Mobile Accessories</td>\n",
       "      <td>Cleaning Material</td>\n",
       "    </tr>\n",
       "    <tr>\n",
       "      <th>3</th>\n",
       "      <td>Electronic Devices</td>\n",
       "      <td>Kitchen</td>\n",
       "      <td>Personal Care</td>\n",
       "      <td>Electronic Devices</td>\n",
       "      <td>Peripheral Devices</td>\n",
       "      <td>Fashion</td>\n",
       "      <td>Personal Care</td>\n",
       "    </tr>\n",
       "    <tr>\n",
       "      <th>4</th>\n",
       "      <td>Kitchen</td>\n",
       "      <td>Kitchen</td>\n",
       "      <td>Personal Care</td>\n",
       "      <td>Kitchen</td>\n",
       "      <td>Peripheral Devices</td>\n",
       "      <td>Computer Components</td>\n",
       "      <td>Computer Components</td>\n",
       "    </tr>\n",
       "    <tr>\n",
       "      <th>5</th>\n",
       "      <td>Kitchen</td>\n",
       "      <td>Personal Care</td>\n",
       "      <td>Personal Care</td>\n",
       "      <td>Bedroom</td>\n",
       "      <td>Peripheral Devices</td>\n",
       "      <td>Cleaning Material</td>\n",
       "      <td>Mobile Accessories</td>\n",
       "    </tr>\n",
       "    <tr>\n",
       "      <th>6</th>\n",
       "      <td>Kitchen</td>\n",
       "      <td>Personal Care</td>\n",
       "      <td>Personal Care</td>\n",
       "      <td>Children</td>\n",
       "      <td>Peripheral Devices</td>\n",
       "      <td>Cleaning Material</td>\n",
       "      <td>Bedroom</td>\n",
       "    </tr>\n",
       "    <tr>\n",
       "      <th>7</th>\n",
       "      <td>Mobile Accessories</td>\n",
       "      <td>Personal Care</td>\n",
       "      <td>Personal Care</td>\n",
       "      <td>Bathroom</td>\n",
       "      <td>Peripheral Devices</td>\n",
       "      <td>Computer Components</td>\n",
       "      <td>Bedroom</td>\n",
       "    </tr>\n",
       "    <tr>\n",
       "      <th>8</th>\n",
       "      <td>Mobile Accessories</td>\n",
       "      <td>Personal Care</td>\n",
       "      <td>Personal Care</td>\n",
       "      <td>Peripheral Devices</td>\n",
       "      <td>Peripheral Devices</td>\n",
       "      <td>Books</td>\n",
       "      <td>Kitchen</td>\n",
       "    </tr>\n",
       "    <tr>\n",
       "      <th>9</th>\n",
       "      <td>Mobile Accessories</td>\n",
       "      <td>Personal Care</td>\n",
       "      <td>Personal Care</td>\n",
       "      <td>None</td>\n",
       "      <td>Peripheral Devices</td>\n",
       "      <td>Computer Components</td>\n",
       "      <td>Fashion</td>\n",
       "    </tr>\n",
       "  </tbody>\n",
       "</table>\n",
       "</div>"
      ],
      "text/plain": [
       "              KNNBasic   KNNWithMeans            SVD                 ALS  \\\n",
       "0              Bedroom        Kitchen        Kitchen   Travel Essentials   \n",
       "1    Travel Essentials        Kitchen  Personal Care             Kitchen   \n",
       "2  Computer Components        Kitchen  Personal Care   Travel Essentials   \n",
       "3   Electronic Devices        Kitchen  Personal Care  Electronic Devices   \n",
       "4              Kitchen        Kitchen  Personal Care             Kitchen   \n",
       "5              Kitchen  Personal Care  Personal Care             Bedroom   \n",
       "6              Kitchen  Personal Care  Personal Care            Children   \n",
       "7   Mobile Accessories  Personal Care  Personal Care            Bathroom   \n",
       "8   Mobile Accessories  Personal Care  Personal Care  Peripheral Devices   \n",
       "9   Mobile Accessories  Personal Care  Personal Care                None   \n",
       "\n",
       "         Content-based Global Baseline Average              LightFM  \n",
       "0      Office Supplies           Personal Care        Personal Care  \n",
       "1  Computer Components       Cleaning Material   Peripheral Devices  \n",
       "2   Peripheral Devices      Mobile Accessories    Cleaning Material  \n",
       "3   Peripheral Devices                 Fashion        Personal Care  \n",
       "4   Peripheral Devices     Computer Components  Computer Components  \n",
       "5   Peripheral Devices       Cleaning Material   Mobile Accessories  \n",
       "6   Peripheral Devices       Cleaning Material              Bedroom  \n",
       "7   Peripheral Devices     Computer Components              Bedroom  \n",
       "8   Peripheral Devices                   Books              Kitchen  \n",
       "9   Peripheral Devices     Computer Components              Fashion  "
      ]
     },
     "metadata": {},
     "output_type": "display_data"
    },
    {
     "data": {
      "image/png": "[encoded data removed]",
      "text/plain": [
       "<Figure size 300x300 with 1 Axes>"
      ]
     },
     "metadata": {},
     "output_type": "display_data"
    },
    {
     "data": {
      "image/png": "[encoded data removed]",
      "text/plain": [
       "<Figure size 200x200 with 1 Axes>"
      ]
     },
     "metadata": {},
     "output_type": "display_data"
    },
    {
     "data": {
      "image/png": "[encoded data removed]",
      "text/plain": [
       "<Figure size 200x200 with 1 Axes>"
      ]
     },
     "metadata": {},
     "output_type": "display_data"
    },
    {
     "data": {
      "image/png": "[encoded data removed]",
      "text/plain": [
       "<Figure size 200x200 with 1 Axes>"
      ]
     },
     "metadata": {},
     "output_type": "display_data"
    },
    {
     "data": {
      "image/png": "[encoded data removed]",
      "text/plain": [
       "<Figure size 200x200 with 1 Axes>"
      ]
     },
     "metadata": {},
     "output_type": "display_data"
    },
    {
     "data": {
      "image/png": "[encoded data removed]",
      "text/plain": [
       "<Figure size 200x200 with 1 Axes>"
      ]
     },
     "metadata": {},
     "output_type": "display_data"
    },
    {
     "data": {
      "image/png": "[encoded data removed]",
      "text/plain": [
       "<Figure size 200x200 with 1 Axes>"
      ]
     },
     "metadata": {},
     "output_type": "display_data"
    },
    {
     "data": {
      "image/png": "[encoded data removed]",
      "text/plain": [
       "<Figure size 200x200 with 1 Axes>"
      ]
     },
     "metadata": {},
     "output_type": "display_data"
    }
   ],
   "source": [
    "items_df, df_utility, reviews_df, asins_df = load_dataset()\n",
    "try:\n",
    "    reviews_df.set_index(\"reviewerID\", inplace=True)\n",
    "except:\n",
    "    pass\n",
    "df_list_of_recos = []\n",
    "df_list_of_recos_categories = []\n",
    "uid_recos = {}\n",
    "asins_df = pd.merge(asins_df, reviews_df, on='ASIN', how='left')[\n",
    "    ['ASIN', 'name', 'category']].drop_duplicates()\n",
    "asins_df.set_index('ASIN', inplace=True)\n",
    "pd.set_option('display.max_colwidth', 800)\n",
    "for uid in top_uids:\n",
    "    print(f\"User history of {uid}\")\n",
    "    user_history = reviews_df.loc[uid][['ProductName', 'category']]\n",
    "    display(user_history)\n",
    "    uid_recos[uid] = {\n",
    "        'KNNBasic': [],\n",
    "        'KNNWithMeans': [],\n",
    "        'SVD': [],\n",
    "        'ALS': [],\n",
    "        'Content-based': []\n",
    "    }\n",
    "    uid_recos[uid][\"Global Baseline Average\"] = recommendations_global_average_baseline[uid]\n",
    "    uid_recos[uid][\"KNNBasic\"] = recommendations_surprise['KNNBasic'][uid]\n",
    "    uid_recos[uid][\"KNNWithMeans\"] = recommendations_surprise['KNNWithMeans'][uid]\n",
    "    uid_recos[uid][\"SVD\"] = recommendations_surprise['SVD'][uid]\n",
    "    uid_recos[uid][\"ALS\"] = recommendations_als[uid]\n",
    "    uid_recos[uid][\"Content-based\"] = recommendations_content['euc'][uid]\n",
    "    uid_recos[uid][\"LightFM\"] = recommendations_lightfm[uid]\n",
    "    \n",
    "\n",
    "    df_dict = {}\n",
    "    df_dict_categories = {}\n",
    "    for algo in uid_recos[uid]:\n",
    "        asins = [x for x in asins_df.loc[list(uid_recos[uid][algo])]['name'].tolist()][:10]\n",
    "        df_dict[algo] = asins\n",
    "        df_dict_categories[algo] = asins_df.loc[list(uid_recos[uid][algo])]['category'].tolist()\n",
    "\n",
    "    df_recos_across_algos = pd.DataFrame.from_dict(df_dict, orient='index').T\n",
    "    df_list_of_recos.append(df_recos_across_algos)\n",
    "\n",
    "    df_recos_across_algos_categories = pd.DataFrame.from_dict(df_dict_categories, orient='index').T\n",
    "    df_list_of_recos_categories.append(df_recos_across_algos_categories)\n",
    "\n",
    "    print(f\"Recommendations for {uid}\")\n",
    "    display(df_recos_across_algos)\n",
    "    display(df_recos_across_algos_categories)\n",
    "\n",
    "    val_counts_user_history = user_history[\"category\"].value_counts()\n",
    "    plt.figure(figsize=(3,3))\n",
    "    plt.barh(width=val_counts_user_history,\n",
    "            y=val_counts_user_history.index.tolist())\n",
    "    plt.title(\"Figure 11. Category Composition of User History\")\n",
    "    plt.show()\n",
    "\n",
    "    for index, algo in enumerate(uid_recos[uid], start=11):\n",
    "        val_counts = df_recos_across_algos_categories[algo].value_counts()\n",
    "        plt.figure(figsize=(2, 2))\n",
    "        plt.barh(width=val_counts, y=val_counts.index.tolist())\n",
    "        figure_number = index + 1\n",
    "        plt.title(f\"Figure {figure_number:.1f} Category Composition of {algo}\")\n",
    "        plt.show()\n",
    "    \n",
    "    break # remove this to see all users"
   ]
  },
  {
   "cell_type": "markdown",
   "metadata": {},
   "source": [
    "1. **Mighty Patch™ Original Patch from Hero Cosmetics**: Falling under the category of Personal Care, this recommendation is directly aligned with the user's previous interest in acne care products. It suggests LightFM's effective use of the user's review history to provide relevant product suggestions. \n",
    "\n",
    "2. **THE DESERT FALCONS**: This recommendation is categorized under Books, showing LightFM's capability to diversify its recommendations beyond the user's primary interest categories. Introducing a book into the mix could be an attempt to cater to the user's broader lifestyle interests, potentially inferred from the variety of products they have reviewed. \n",
    "\n",
    "3. **Thermalright TL-S12 CPU Fan**: Placed under Computer Components, this recommendation taps into the user's evident interest in electronic devices and peripherals. Given the user's previous engagement with tech-related products, recommending a CPU fan is a strategic move to appeal to the user's tech-savviness or potential need for computer maintenance or upgrades. \n",
    "\n",
    "4. **Febreze Unstopables Car Odor-Fighting Car Freshener**: This product is in the Car Stuff category, which is quite pertinent considering the user's interest in automotive accessories, evidenced by their reviews of multiple GPS systems. It's a thoughtful recommendation that complements the user's existing automotive product interest, suggesting LightFM's attention to creating a cohesive product ecosystem around the user's lifestyle. \n",
    "\n",
    "5. **Mattel Disney Wish Playset**: Categorized under Children, this item resonates with the user's previous purchases for children, such as the doll stroller and electric baby bottle cleaner. This recommendation indicates LightFM's recognition of the user's family-oriented shopping behavior, aiming to fulfill needs or preferences for children's entertainment or gifts. \n",
    "\n",
    "6. **CeraVe Daily Moisturizing Lotion**: Another Personal Care product, this recommendation aligns well with the user's skincare interest shown through the acne toner review. Recommending a widely trusted skincare brand like CeraVe may reflect the algorithm's use of popularity or rating data to suggest high-quality products likely to satisfy the user. \n",
    "\n",
    "7. **Aiibe 10 Pack 8GB USB Flash Drive**: Falling under Peripheral Devices, this suggests LightFM's understanding of the user's technological needs or interests. Given the user's prior purchases of USB drives, this recommendation is spot-on, indicating the algorithm's capacity to identify and act on specific recurring needs. \n",
    "\n",
    "**Discussion and Insights:** \n",
    "\n",
    "- **Personalization and Relevance**: LightFM's recommendations demonstrate a deep level of personalization, connecting past user behavior with potential future needs. The variety in categories—ranging from Personal Care to Children and Computer Components—reflects a comprehensive understanding of the user's multifaceted interests. \n",
    "\n",
    "- **Cross-Category Coherence**: The recommendations across different categories show coherence in addressing the user's lifestyle. From personal care to children's items and tech accessories, each recommendation contributes to a holistic view of the user's potential interests and needs. \n",
    "\n",
    "- **Balancing Familiarity and Discovery**: LightFM strikes a balance between catering to familiar categories (e.g., Personal Care, Peripheral Devices) and introducing potentially new areas of interest (e.g., Books). This approach can enhance user satisfaction by meeting known preferences while also encouraging exploration. \n",
    "\n",
    "- **Strategic Product Ecosystems**: The recommendations seem to build around specific aspects of the user's lifestyle, such as technology use and family care. This strategy may increase the likelihood of multiple product purchases that fit together within the user's daily routine or interests. \n",
    "\n",
    "Overall, LightFM's recommendations for this user highlight the algorithm's strength in leveraging both item and user metadata to generate relevant, personalized, and potentially exploratory recommendations. This approach not only meets the user's known preferences but also introduces products that broaden the user's interaction with different categories, potentially enhancing their experience and satisfaction with the platform. "
   ]
  },
  {
   "cell_type": "markdown",
   "metadata": {},
   "source": [
    "<h2 style=\"color:#ff9900; background-color:#1c5177; padding: 10px; text-align:left; border: 1px solid #4a62d8;\">Streamlit Demo Application</h2>\n",
    "\n",
    "Streamlit is an open-source Python library that simplifies the process of creating and sharing beautiful, custom web apps for machine learning and data science. It enables developers, data scientists, and analysts to turn data scripts into shareable web apps in a matter of minutes without the need for extensive front-end development experience. \n",
    "\n",
    "To facilitate an efficient evaluation process for researchers to assess the relevance and accuracy of recommended items, a Streamlit web application was developed. This application leverages Streamlit's interactive capabilities to provide a user-friendly interface where researchers can seamlessly navigate through recommendations, visualize pertinent data, and directly verify the appropriateness of each suggested item.\n",
    "\n",
    "<img src=\"streamlit_flow.png\" alt=\"Image Description\">\n",
    "\n",
    "<center><p><strong>Figure 19. Streamlit Flow</strong></p></center>\n",
    "\n",
    "### Generate Recommendations per Algorithm\n",
    "\n",
    "We focused on identifying the top 20 users based on the number of reviews submitted to achieve better recommendation results. For each of these users, the top 10 recommended items for each of the implemented algorithms—KNNBasic, KNNWithMeans, SVD, ALS, Content-Based, and LightFM—were extracted. The items reviewed by each user were also extracted and stored as a tuple together with the recommended items. These tuples were then stored in a dictionary and saved as a Pickle file. \n",
    "\n",
    "### Loading Pickle File to KabanMarket Web Application \n",
    "\n",
    "First, the app loads the user's review history and their recommended items from the Pickle file. To display item details such as the image and name, it loads these details from the reviews.csv file, using the item ID as a reference. \n",
    "\n",
    "A dropdown menu where you can choose from the list of top reviewers. Once a reviewer is selected, the items they have reviewed are displayed in the User History section, which can be collapsed or expanded.  \n",
    "\n",
    "![app_userhistory.png](app_userhistory.png)\n",
    "<center><p><strong>Figure 20. User History</strong></p></center>\n",
    "\n",
    "Below this section, there are tabs you can click to view the items recommended to the user by different methods. This way, we can easily explore the items each user has reviewed and what the recommender system suggests the user might like.\n",
    "\n",
    "![app_recommendations.png](app_recommendations.png)\n",
    "\n",
    "<center><p><strong>Figure 21. Product Recommendations</strong></p></center>"
   ]
  },
  {
   "cell_type": "markdown",
   "metadata": {},
   "source": [
    "### Export User History and Recommendations as Pickle file"
   ]
  },
  {
   "cell_type": "code",
   "execution_count": null,
   "metadata": {},
   "outputs": [],
   "source": [
    "# Save the dictionary to a pickle file\n",
    "pd.to_pickle(uid_recos, 'user_hist_reco.pkl')"
   ]
  },
  {
   "cell_type": "markdown",
   "metadata": {},
   "source": [
    "\n"
   ]
  },
  {
   "cell_type": "markdown",
   "metadata": {},
   "source": [
    "<h2 style=\"color:#ff9900; background-color:#1c5177; padding: 10px; text-align:left; border: 1px solid #4a62d8;\">Conclusion</h2>\n",
    "\n",
    "To address the challenge faced by up-and-coming e-commerce platforms in providing personalized experiences to users, this project successfully developed and implemented 6 recommender systems which could be leveraged by small-scale and emerging online businesses to provide tailored product recommendations and thereby unlock new market opportunities, boost user engagement, and improve overall competitiveness in the digital marketplace. By comparing the models’ performance using NDCG on the scraped Amazon dataset, the team was able to identify to 2 tiers of recommender systems that would be appropriate for the specific application / requirement of digital market owners and thereby deliver the most business value.\n",
    "\n",
    "<p style=\"text-align: center;\"><strong>Table 1: Basic Recommender System</strong></p>\n",
    "\n",
    "| Model Name | Algorithm | Description | NDCG @ k=10 |\n",
    "|-----|-----|-----|-----|\n",
    "| Payak | KNN Basic | Recommends products based on your closest friends | 0.27 |\n",
    "| Damayan |KNN with Means | Optimized method of recommending products based on your closest friends | 0.27 |\n",
    "| Aparte | SVD | Recommends products based on common patterns between users and items | 0.26 |\n",
    "\n",
    "<p style=\"text-align: center;\"><strong>Table 2: Premium Recommender System</strong></p>\n",
    "\n",
    "| Model Name | Algorithm | Description | NDCG @ k=10 |\n",
    "|-----|-----|-----|-----|\n",
    "| Barkada | Latent Factor Based Collaborative Filtering (ALS) | Recommends Products based on your closest friends | 0.99 |\n",
    "| Suki | Content-Based Recommender System | Recommends Products based on your previous purchase history | 0.96 |\n",
    "| Sari-sari | Hybrid Recommender System | Recommends a variety of Products that you might like based on your previous purchase history and your closest friends | 0.99 |\n",
    "\n",
    "The results showed that the recommendations provided by the algorithms are more personalized compared to the baseline global average, which merely offers the top K most popular items.  The algorithms demonstrate a clear connection between users' history and characteristics, resulting in more relevant and engaging recommendations. While offline evaluation metrics indicate the effectiveness of the algorithms, the real test lies in online evaluation metrics, which will provide a more accurate assessment of performance in a live environment. \n",
    "\n",
    "The offline evaluation results and metrics suggest that all the recommender systems performed equally well, including the hybrid model using LightFM. Despite having low NDCG scores, the \"Basic\" recommendation systems still have their merits, recommending relevant items to the sampled users. \"Premium\" recommendation systems yielded the highest NDCG scores. LightFM's recommendations stand out for their ability to leverage both item and user metadata while addressing the cold start problem, generating relevant and potentially exploratory recommendations that enhance users' experience and satisfaction with the platform.  \n",
    "\n",
    "Overall, the project has succeeded in developing recommender systems that unlock new market opportunities, boost user engagement, and improve the overall competitiveness of small-scale and emerging online businesses in the digital marketplace."
   ]
  },
  {
   "cell_type": "markdown",
   "metadata": {},
   "source": [
    "<h2 style=\"color:#ff9900; background-color:#1c5177; padding: 10px; text-align:left; border: 1px solid #4a62d8;\">Recommendations</h2>\n",
    "\n",
    "<h2 style=\"color:#1c5177; background-color:#ff9900; padding: 3px; text-align:left; border: 1px solid #ff9900;\">Limitations of the Study</h2>\n",
    "\n",
    "The team recognizes and acknowledges the assumptions and limitations that may have had an impact on the recommender systems’ performance: \n",
    "\n",
    "***Resource Constraints***\n",
    "\n",
    "The task of covering all Amazon items and users posed significant challenges due to constraints in time and resources. With millions of products and users on the platform, it was impractical to gather data on every item and individual within the allotted timeframe and with available resources. As a result, the research team had to prioritize data collection efforts, focusing on a subset of items and users that were deemed representative or of particular interest for the study. This selective approach allowed for more efficient use of resources while still providing valuable insights into the recommendation system's performance and effectiveness. \n",
    "\n",
    "***Technical Constraints***\n",
    "\n",
    "To minimize the effect of the cold-start problem for the non-hybrid recommender systems, the study implemented two key criteria: \n",
    "\n",
    "1. Include only products with at least one review \n",
    "\n",
    "2. Select users with a minimum of five reviews \n",
    "\n",
    "These measures ensured that the recommendation algorithms had sufficient data to generate meaningful suggestions, improving overall system accuracy and effectiveness. \n",
    "\n",
    "***Legal Constraints***\n",
    "\n",
    "In compliance with Amazon.com's terms and conditions, the research team refrained from conducting comparisons within the platform's recommendation system. The enforceability of the website’s terms and conditions underscores the importance of adhering to legal constraints, as the data accessed is subject to Amazon’s policies. Creating an account for data collection purposes is discouraged, as it necessitates agreement to the terms and conditions. In gathering publicly available data for the recommendation system, the focus remained on factual and publicly accessible information, such as product names, prices, and features, which are typically not copyrighted. However, strict adherence to laws, regulations, and terms of service is paramount, including any restrictions on data scraping and usage imposed by the platform. Throughout the research process, the user's identity remained anonymized to ensure confidentiality and privacy [[11]](https://www.scraperapi.com/blog/is-web-scraping-legal/).\n",
    "\n",
    "***Model Constraints***\n",
    "\n",
    "For this project, the researchers focused exclusively on the development and implementation of recommender systems, opting not to employ predictive models. While predictive models could offer valuable insights into future trends or outcomes, the study's scope remained within the analysis and enhancement of recommendation algorithms. Despite the absence of predictive modeling, the study provided actionable recommendations for improving their performance and effectiveness. \n",
    "\n",
    "<h2 style=\"color:#1c5177; background-color:#ff9900; padding: 3px; text-align:left; border: 1px solid #ff9900;\">For Further Studies and Model Improvements</h2>\n",
    "\n",
    "To make the recommender systems more robust, the researchers suggest the following: \n",
    "\n",
    "***Consider Contextual Factors***  \n",
    "\n",
    "To improve the relevance of recommendations factors, contextual factors must be taken into account, including user’s location, time of day, device type, and browsing history. By considering these, the recommender system would be able to provide recommendations tailored to each user’s specific circumstances and preferences. For example: (1) Recommending season-appropriate items based on the user’s current location, weather condition, interests, etc. (Suggesting popular jerseys during the PBA or UAAP playoffs for avid basketball or volleyball fans). (2) Recommending local event-related items based on the user’s location and time of day.  (Suggesting Panagbenga or Sinulog merchandise to locals or even prospective tourists weeks prior the festival). \n",
    "\n",
    "***Incorporate Real-time Data Processing***\n",
    "\n",
    "To generate recommendations in near real time, real-time data processing must be integrated in the system for it to adapt to evolving user preferences and behavior changes. For example, if a user’s browsing behavior suddenly indicates a new interest, such as exploring gardening tools, the system can adjust its recommendations to reflect this change and suggest gardening books or equipment. Consequently, the improved system can generate recommendations in near real-time, ensuring that users receive up-to-date suggestions. For example, let’s say a user adds an item to their cart. The system can immediately generate recommendations for complementary products, such as accessories or related items other customers frequently buy together[[12]](https://www.baeldung.com/cs/amazon-recommendation-system). A statistical model may also be considered to help predict the buying behavior of a user in real-time during a session. \n",
    "\n",
    "***Integrate a feedback loop mechanism***\n",
    "\n",
    "For the recommender system to be more effective, user feedback, such as ratings, reviews, and purchase history, must be continuously collected and analyzed. This feedback will help refine the recommendation models and improve the accuracy of future recommendations. By adapting to user preferences based on feedback, the models will better ensure a personalized and dynamic recommendation experience. For instance: Collecting ratings and reviews from users to refine the recommendation algorithm and improve future suggestions. Tracking user click-through rates and conversions to evaluate the effectiveness of recommendations and make adjustments accordingly[[12]](https://www.baeldung.com/cs/amazon-recommendation-system).\n",
    "\n",
    "***Implement Advanced Algorithms***\n",
    "\n",
    "More complex algorithms such as Deep Neural Networs can be employed  for Click-Through Rate (CTR) prediction. More advanced e-commerce platforms uses deep neural networks, such as Multi-Layer Perceptrons (MLPs) and Deep Autoencoders, for click-through rate prediction. The system can estimate the likelihood of a user clicking on a particular it by training these models on historical click data. For instance, if a user frequently purchases outdoor gear during the summer, the system can predict their interest in similar products during future summer seasons and recommend relevant items accordingly[[12]](https://www.baeldung.com/cs/amazon-recommendation-system).\n",
    "\n",
    "***Optimize Hybrid Recommender Performance through Hyperparameter Tuning***\n",
    "\n",
    "To enhance the performance of the hybrid recommender system, it is recommended to fully understand the hybrid model and implement hyperparameter tuning. In the case of this project, algorithms like LightFM and ALS were utilized without hyperparameter tuning. Implementing hyperparameter tuning offers the potential to significantly improve the performance of these algorithms. By fine-tuning the parameters, the model's accuracy and effectiveness in generating personalized recommendations tailored to individual user preferences can be optimized. This optimization process ensures that the hybrid recommender system operates at its full potential, providing users with more accurate and relevant suggestions, thereby enhancing their overall experience on the platform.\n",
    "\n",
    "***Use Natural Language Processing Techniques***\n",
    "\n",
    "To improve the specificity of product features, it is recommended to leverage Natural Language Processing (NLP) techniques to extract keywords from the long-form feature tags associated with products. NLP algorithms can analyze the textual descriptions and attributes of products to identify key terms and phrases that capture the most relevant and specific features. By incorporating NLP into the feature identification process, a more nuanced understanding of product characteristics can be obtained, enabling more accurate and detailed recommendations tailored to user preferences.\n",
    "\n",
    "***Employ Predictive Models***\n",
    "\n",
    "The integration of predictive models can be explored to unlock new avenues for understanding user preferences and predicting future trends in e-commerce behavior. This expansion of analytical approaches has the potential to further enhance the effectiveness of recommender systems, ultimately providing users with even more personalized and relevant recommendations. \n",
    "\n",
    "***Optimize Performance of Developed Models***\n",
    "\n",
    "For the models developed in this project, several strategies can be used to optimize their performance and effectiveness: \n",
    "\n",
    "1. Include less popular items: Expand the recommendation pool to include items that are less popular than those currently in the itemset. This approach introduces diversity into the recommendations and ensures that users are exposed to a wider range of products. \n",
    "\n",
    "2. Include reviewers with fewer reviews: Broaden the userbase by including reviewers with fewer reviews than those currently in the userbase. This inclusion allows for the exploration of preferences among users who may be less active or have different tastes, thereby enriching the recommendation process. \n",
    "\n",
    "3. Tune hyperparameters: Optimize the performance of recommendation algorithms, not just LightFM, by tuning their hyperparameters. Fine-tuning the parameters of various algorithms can significantly improve their accuracy and effectiveness in generating personalized recommendations tailored to individual user preferences. \n",
    "\n",
    "<h2 style=\"color:#1c5177; background-color:#ff9900; padding: 3px; text-align:left; border: 1px solid #ff9900;\">For Future Stakeholders and Users</h2>\n",
    "\n",
    "E-commerce businesses who intend to utilize these recommender systems in their platforms can use an individual model or combine the strengths of the models to provide more accurate and diverse recommendations. Depending on the strategic thrust of the organization, they can implement the most fitting model in their system. For example, if the goal is to maximize repeat purchases by recurring customers, the Suki Recommender System may be the most effective, mainly due to how the algorithm works. By leveraging multiple techniques, or even combining them, digital marketplaces can enhance the overall recommendation quality and overcome limitations inherent in individual methods."
   ]
  },
  {
   "cell_type": "markdown",
   "metadata": {},
   "source": [
    "<h2 style=\"color:#ff9900; background-color:#1c5177; padding: 10px; text-align:left; border: 1px solid #4a62d8;\">References</h2>\n",
    "\n",
    "[[1] McKinsey & Company. (2023) What is e-commerce? ](https://www.forbes.com/sites/suzannerowankelleher/2023/06/14/most-visited-theme-parks-disney-universal/?sh=41e2ff22400a)\n",
    "\n",
    "[[2] Amazon. (2024) Full Year 2023 Financial Results.](https://s2.q4cdn.com/299287126/files/doc_financials/2023/q4/AMZN-Q4-2023-Earnings-Release.pdf)\n",
    "\n",
    "[[3] Statista. (2021) Worldwide retail e-commerce sales of Amazon from 2017 to 2021.](https://www.statista.com/statistics/1103390/amazon-retail-ecommerce-sales-global/)\n",
    "\n",
    "[[4] Nick Shaw – Brightpearl. (2021) 8 Stats Amazon Sellers Need to Know in 2021.](https://www.datafeedwatch.com/blog/amazon-statistics#6.-amazon%E2%80%99s-recommendations)\n",
    "\n",
    "[[5] Epsilon Marketing. (2018) The power of me: The impact of personalization on marketing performance.](https://www.slideshare.net/EpsilonMktg/the-power-of-me-the-impact-of-personalization-on-marketing-performance#1)\n",
    "\n",
    "[[6] Pamela Hazelton. (2018) Study: Personalized Recommendations Produce 4 Times More Conversions.](https://www.practicalecommerce.com/study-personalized-recommendations-produce-4-times-conversions)\n",
    "\n",
    "\n",
    "[[7] Is Web Scraping Legal? The Complete Guide](https://www.scraperapi.com/blog/is-web-scraping-legal/)\n",
    "\n",
    "[[8] Aggarwal C. C. (2016) Recommender Systems: The Textbook. Springer. p.1](https://pzs.dstu.dp.ua/DataMining/recom/bibl/1aggarwal_c_c_recommender_systems_the_textbook.pdf)\n",
    "\n",
    "[[9] Aggarwal C. C. (2016) Recommender Systems: The Textbook. Springer. p.14](https://pzs.dstu.dp.ua/DataMining/recom/bibl/1aggarwal_c_c_recommender_systems_the_textbook.pdf)\n",
    "\n",
    "[[10] Kula, M. (2015). Metadata embeddings for user and item cold-start recommendations. In Proceedings of the 2nd Workshop on New Trends on Content-Based Recommender Systems co-located with 9th ACM Conference on Recommender Systems (RecSys 2015), Vienna, Austria, September 16-20, 2015.](http://ceur-ws.org/Vol-1448/paper4.pdf)\n",
    "\n",
    "[[11] Lyst. (n.d.). LightFM documentation.](https://making.lyst.com/lightfm/docs/home.html)\n",
    "\n",
    "[[12] Crawler API](https://www.algolia.com/doc/rest-api/crawler/ )"
   ]
  }
 ],
 "metadata": {
  "kernelspec": {
   "display_name": "Python 3",
   "language": "python",
   "name": "python3"
  },
  "language_info": {
   "codemirror_mode": {
    "name": "ipython",
    "version": 3
   },
   "file_extension": ".py",
   "mimetype": "text/x-python",
   "name": "python",
   "nbconvert_exporter": "python",
   "pygments_lexer": "ipython3",
   "version": "3.12.2"
  }
 },
 "nbformat": 4,
 "nbformat_minor": 2
}
