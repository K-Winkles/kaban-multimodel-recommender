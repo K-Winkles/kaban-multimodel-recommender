{
 "cells": [
  {
   "cell_type": "markdown",
   "metadata": {},
   "source": [
    "# Clean The Data\n",
    "\n",
    "Collate userbase and itembase here:\n",
    "\n",
    "* For each identified category, collate the product information.\n",
    "    - Todo: identify categories\n",
    "    - Todo: identify schema for products. Note that this can be a very wide and sparse array because each type of product has different product features\n",
    "* For each product, add to userbase.\n",
    "    - Todo: group DataFrame by unique users. One user could have left reviews on multiple products and we have to account for that. We need to make sure we capture this information so that we can identify each user's purchase/review history.\n",
    "\n",
    "Please see the diagram:\n",
    "\n",
    "![images/DataCleaning](../images/DataCleaning.png)"
   ]
  },
  {
   "cell_type": "code",
   "execution_count": 1,
   "metadata": {},
   "outputs": [],
   "source": [
    "categories_dict = {\n",
    "    \"Children\": [\"action figures\", \"building toys\", \"toddler toy\", \"toy airplanes\", \"toy cars\",\n",
    "                 \"toy dolls\", \"baby bottle\", \"baby formula\", \"baby wipes\", \"car seat\", \"crib\",\n",
    "                 \"diaper\", \"nursery\", \"pacifier\", \"stroller\"],\n",
    "    \"Books\": [\"adventure novel\", \"fantasy novel\", \"mystery novel\", \"nonfiction novel\", \"romance novels\",\n",
    "              \"science fiction novel\", \"thriller novel\", \"young adult novel\"],\n",
    "    \"Cleaning Material\": [\"vacuum\", \"detergent\", \"mop\", \"broom\", \"dishwasher\", \"fabric conditioner\"],\n",
    "    \"Kitchen\": [\"utensils\", \"air fryer\", \"coffee maker\", \"frying pan\", \"kitchen knife\", \"microwave\",\n",
    "                \"oven\", \"over the counter\", \"steamer\", \"stove\", \"kitchen\", \"dining room\"],\n",
    "    \"Bedroom\": [\"bedding\", \"bedroom\", \"toilet\", \"playroom\", \"desk lamp\", \"iron\", \"lamp\", \"bedframe\",\n",
    "                \"bookshelf\", \"cabinet\", \"desk\", \"dresser\", \"nightstand\"],\n",
    "    \"Living Room\": [\"carpet\", \"home decor\", \"living room\", \"ring doorbell\", \"wall mount\", \"curtain\",\n",
    "                    \"coffee table\", \"couch\", \"chair\", \"furniture\", \"patio\", \"shoe rack\"],\n",
    "    \"Bathroom\": [\"bathroom\", \"mattress\", \"pillow\", \"air purifier\", \"washing machine\",\n",
    "                 \"air freshener\", \"mirror\", \"linen\"],\n",
    "    \"Fashion\": [\"belt\", \"cap\", \"coat\", \"dress\", \"face mask\", \"jewelry\", \"men bag\",\n",
    "                \"men jeans\", \"men shirt\", \"men shoes\", \"men sweater\", \"socks\", \"underwear\",\n",
    "                \"women bag\", \"women jeans\", \"women shirt\", \"women shirt\", \"women shoes\",\n",
    "                \"women sweater\", \"workout clothes\"],\n",
    "    \"Electronic Devices\": [\"camera\", \"headphones\", \"laptop\", \"monitor\", \"smart watch\",\n",
    "                           \"speakers\", \"surveillance camera\",\n",
    "                           \"tablet\", \"television\", \"videogame console\", \"wifi router\"],\n",
    "    \"Peripheral Devices\": [\"keyboard\", \"mouse\", \"webcam\", \"microphone\", \"printer\", \"projector\",\n",
    "                           \"usb\", \"computer accessories\"],\n",
    "    \"Computer Components\": [\"pc ram\", \"cpu cooler\", \"gpu\", \"hard drive\", \"intel amd processor\",\n",
    "                            \"motherboard\", \"pc chassis\", \"pc fan\", \"pc power supply\", \"solid state drive\"],\n",
    "    \"Mobile Accessories\": [\"cables\", \"chargers\", \"phone case\", \"screen protector\", \"tripod\"],\n",
    "    \"Personal Care\": [\"conditioner\", \"deodorant\", \"face wash\", \"facial toner\", \"feminine wash\",\n",
    "                      \"lotion\", \"makeup\", \"moisturizer\", \"mouthwash\", \"shaving cream\", \"shampoo\", \"soap\",\n",
    "                      \"tampon\", \"tissue\", \"toothbrush\", \"vitamins\"],\n",
    "    \"Car Stuff\": [\"car accessories\", \"dash cam\", \"gps\", \"ram vehicles\", \"tires\"],\n",
    "    \"Office Supplies\": [\"office chair\", \"folder\", \"home_office\", \"notebook\", \"school supplies\", \"stationary\", \"seat cushion\"],\n",
    "    \"Travel Essentials\": [\"first aid\", \"luggage\", \"packing cubes\", \"stanley cup\", \"travel essentials\", \"water flask\", \"portable fan\"]\n",
    "}"
   ]
  },
  {
   "cell_type": "code",
   "execution_count": null,
   "metadata": {},
   "outputs": [],
   "source": []
  }
 ],
 "metadata": {
  "kernelspec": {
   "display_name": "Python 3",
   "language": "python",
   "name": "python3"
  },
  "language_info": {
   "codemirror_mode": {
    "name": "ipython",
    "version": 3
   },
   "file_extension": ".py",
   "mimetype": "text/x-python",
   "name": "python",
   "nbconvert_exporter": "python",
   "pygments_lexer": "ipython3",
   "version": "3.11.3"
  }
 },
 "nbformat": 4,
 "nbformat_minor": 2
}
