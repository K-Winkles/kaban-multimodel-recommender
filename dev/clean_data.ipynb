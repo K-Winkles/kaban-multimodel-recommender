{
 "cells": [
  {
   "cell_type": "markdown",
   "metadata": {},
   "source": [
    "# Clean The Data\n",
    "\n",
    "Collate userbase and itembase here:\n",
    "\n",
    "* For each identified category, collate the product information.\n",
    "    - Todo: identify categories\n",
    "    - Todo: identify schema for products. Note that this can be a very wide and sparse array because each type of product has different product features\n",
    "* For each product, add to userbase.\n",
    "    - Todo: group DataFrame by unique users. One user could have left reviews on multiple products and we have to account for that. We need to make sure we capture this information so that we can identify each user's purchase/review history."
   ]
  },
  {
   "cell_type": "code",
   "execution_count": null,
   "metadata": {
    "vscode": {
     "languageId": "plaintext"
    }
   },
   "outputs": [],
   "source": []
  }
 ],
 "metadata": {
  "language_info": {
   "name": "python"
  }
 },
 "nbformat": 4,
 "nbformat_minor": 2
}
