{
 "cells": [
  {
   "cell_type": "markdown",
   "metadata": {},
   "source": [
    "# Hyper-personalization Through Product Reviews: Exploring New Market Opportunites\n",
    "\n",
    "A multi-modal approach to generating user recommendations."
   ]
  },
  {
   "cell_type": "markdown",
   "metadata": {},
   "source": [
    "## Import Libraries and Define File Paths"
   ]
  },
  {
   "cell_type": "code",
   "execution_count": 1,
   "metadata": {},
   "outputs": [
    {
     "name": "stderr",
     "output_type": "stream",
     "text": [
      "/Library/Frameworks/Python.framework/Versions/3.11/lib/python3.11/site-packages/lightfm/_lightfm_fast.py:9: UserWarning: LightFM was compiled without OpenMP support. Only a single thread will be used.\n",
      "  warnings.warn(\n"
     ]
    }
   ],
   "source": [
    "import os\n",
    "import glob\n",
    "import json\n",
    "import scipy\n",
    "import random\n",
    "import re\n",
    "import pandas as pd\n",
    "import numpy as np\n",
    "import matplotlib.pyplot as plt\n",
    "import threadpoolctl\n",
    "from tqdm import tqdm\n",
    "import warnings\n",
    "from collections import defaultdict\n",
    "from implicit.als import AlternatingLeastSquares as ALS\n",
    "from lightfm import LightFM\n",
    "from lightfm.data import Dataset as LightFMDataset\n",
    "from scipy.sparse import coo_matrix\n",
    "from lightfm.evaluation import precision_at_k, recall_at_k, auc_score\n",
    "from lightfm.cross_validation import random_train_test_split\n",
    "from math import log2 as log\n",
    "from scipy.spatial import distance\n",
    "from surprise import Dataset, Reader\n",
    "from surprise.model_selection import cross_validate, KFold\n",
    "from surprise.model_selection import train_test_split as train_test_split_surprise\n",
    "from surprise.prediction_algorithms.knns import KNNBasic, KNNWithMeans\n",
    "from surprise.prediction_algorithms.matrix_factorization import SVD\n",
    "from implicit.evaluation import (AUC_at_k,\n",
    "                                 mean_average_precision_at_k,\n",
    "                                 ndcg_at_k, precision_at_k)\n",
    "from implicit.evaluation import train_test_split\n",
    "from unidecode import unidecode\n",
    "import uuid\n",
    "\n",
    "warnings.simplefilter(action='ignore', category=FutureWarning)\n",
    "\n",
    "dir = \"../dataset/utility\"\n",
    "\n",
    "if not os.path.exists(dir):\n",
    "    os.mkdir(dir)"
   ]
  },
  {
   "cell_type": "markdown",
   "metadata": {},
   "source": [
    "## Define Utility Functions and Dataset Generation Functions"
   ]
  },
  {
   "cell_type": "code",
   "execution_count": 2,
   "metadata": {},
   "outputs": [],
   "source": [
    "def clean_str(x):\n",
    "    forbidden_chars = [',', '-', '?', '(', ')',\n",
    "                       '~', '*', '.', '!']\n",
    "    x = unidecode(x)\n",
    "    x = '_'.join(x.replace('& ', '').split(' '))\n",
    "    x = x.lower().strip()\n",
    "    for c in forbidden_chars:\n",
    "        x = x.replace(c, '')\n",
    "    return x\n",
    "\n",
    "def items_and_reviews_to_dataframe(json_data, folder_names):\n",
    "    products = []\n",
    "    reviews = []\n",
    "    asins = []\n",
    "    asin_product_mapping = []\n",
    "    for product_data, folder_name in zip(json_data, folder_names):\n",
    "        if ('body' not in product_data or 'reviews' not in product_data['body'] or 'productInformation' not in product_data['body']):\n",
    "            continue\n",
    "\n",
    "        reviews_data = product_data['body'].get('reviews', [])\n",
    "        product_info = product_data['body'].get('productInformation', {})\n",
    "        product_name = product_data['body'].get('name', 'Unknown Product')\n",
    "        asin = product_data['body'].get('canonicalUrl', '').split('/')[-1].lower()\n",
    "\n",
    "        if not reviews_data or len(reviews_data) == 0 or asin == '':\n",
    "            continue\n",
    "\n",
    "        if not isinstance(product_info, dict):\n",
    "            product_info = {}\n",
    "\n",
    "        product = {'ASIN': asin, 'name': clean_str(product_name)}\n",
    "        breadcrumbs = product_data['body'].get('breadCrumbs', [])\n",
    "        for bc in breadcrumbs:\n",
    "            name = clean_str(bc['name'])\n",
    "            flag = True\n",
    "            #for ig in ignore:\n",
    "            #    if ig in name:\n",
    "            #        flag = False\n",
    "            if flag and '_' in name:\n",
    "                name_list = name.split(\"_\")\n",
    "                for n in name_list:\n",
    "                    product[n] = 1.0\n",
    "            elif flag:\n",
    "                product[name] = 1.0\n",
    "        for key, value in product_info.items():\n",
    "            cleaned_key = clean_str(key)\n",
    "            if cleaned_key not in ['dimensions', 'country_of_origin', 'batteries_included', 'weight', 'height', 'size',\n",
    "                                   'model', 'manufacturer', 'specifications', 'voltage', 'volts', '12v', 'climate_pledge',\n",
    "                                   'capacity', 'number_of_items', 'import', 'lxwxh', 'product_included']:\n",
    "                product[cleaned_key] = value\n",
    "        products.append(product)\n",
    "        if asin not in asins:\n",
    "            asin_product_mapping.append({\n",
    "                'ASIN': asin,\n",
    "                'name': product_name,\n",
    "                'folder_name': folder_name\n",
    "            })\n",
    "            asins.append(asin)\n",
    "\n",
    "        for r in reviews_data:\n",
    "            review = {\n",
    "                'folder_name': folder_name,\n",
    "                'ASIN': asin,\n",
    "                'ProductName': clean_str(product_name),\n",
    "                'price': product_data['body'].get('rawPrice', 0),\n",
    "                'image': product_data['body'].get('mainImage', None)\n",
    "            }\n",
    "            reviewer_link = r.get('reviewerLink', '').split('/')[-1].split('.')[-1]\n",
    "            review['reviewerID'] = r.get('reviewerName', 'Unknown') + '_' + (reviewer_link if len(reviewer_link) > 0 else str(uuid.uuid4()))\n",
    "            reviewRating = re.findall(r'(\\d+\\.\\d+)', r.get('reviewRating', ''))\n",
    "            reviewDate = re.findall(r'on (.+)$', r.get('reviewDate', ''))\n",
    "            reviewVotes = re.findall(r'(\\d+)', r.get('reviewVotes', '0'))\n",
    "            reviewLocation = r.get('reviewDate', '').split('on')[0].split(' in ')[-1].replace('the ', '')\n",
    "\n",
    "            review['customerReview'] = float(reviewRating[0]) if reviewRating else np.nan\n",
    "            review['reviewDate'] = reviewDate[0] if reviewDate else 'Unknown'\n",
    "            review['reviewLocation'] = reviewLocation if reviewLocation else 'Unknown'\n",
    "            review['reviewVotes'] = int(reviewVotes[0]) if reviewVotes else 0\n",
    "            reviews.append(review)\n",
    "\n",
    "    all_reviews_df = pd.DataFrame(reviews)\n",
    "    all_items_df = pd.DataFrame(products)\n",
    "    asins_df = pd.DataFrame(asin_product_mapping)\n",
    "    \n",
    "    return all_reviews_df, all_items_df, asins_df\n",
    "\n",
    "def get_all_json_data():\n",
    "    base_dir = '../dataset/extracts/amazon'\n",
    "    all_json_data = []\n",
    "    folder_names = []\n",
    "    for root, dirs, files in os.walk(base_dir):\n",
    "        for dir in dirs:\n",
    "            items_path = os.path.join(root, dir, 'items')\n",
    "            if os.path.exists(items_path):\n",
    "                json_files = glob.glob(os.path.join(items_path, '*.json'))\n",
    "                for json_file in tqdm(json_files, desc=f'Loading JSON Files in {dir}'):\n",
    "                    try:\n",
    "                        with open(json_file, \"r\") as f:\n",
    "                            all_json_data.append(json.load(f))\n",
    "                            folder_names.append(dir)\n",
    "                    except json.JSONDecodeError:\n",
    "                        print(f\"Error loading JSON from file {json_file}: file is empty or not a valid JSON.\")\n",
    "                    except Exception as e:\n",
    "                        print(f\"Unexpected error loading JSON from file {json_file}: {e}\")\n",
    "    return all_json_data, folder_names\n",
    "\n",
    "def load_dataset():\n",
    "    items_df = pd.read_csv(f\"{dir}/itemset_preprocessed.csv\")\n",
    "    items_df.set_index(\"ASIN\", inplace=True)\n",
    " \n",
    "    df_utility = pd.read_csv(f\"{dir}/utility_topn.csv\", index_col=0)\n",
    "    df_utility.set_index(\"reviewerID\", inplace=True)\n",
    "\n",
    "    reviews_df = pd.read_csv(f\"{dir}/reviews.csv\")\n",
    "    reviews_df.set_index('reviewerID', inplace=True)\n",
    "    \n",
    "    asins_df = pd.read_csv(f\"{dir}/asin_product_mapping.csv\")\n",
    "    asins_df.set_index('ASIN', inplace=True)\n",
    "\n",
    "    print(f\"shape of df_utility: {df_utility.shape}\")\n",
    "    print(f\"shape of items_df: {items_df.shape}\")\n",
    "    print(f\"shape of asins_df: {asins_df.shape}\")\n",
    "    return items_df, df_utility, reviews_df, asins_df"
   ]
  },
  {
   "cell_type": "markdown",
   "metadata": {},
   "source": [
    "## Generate the Dataset and Preprocess"
   ]
  },
  {
   "cell_type": "markdown",
   "metadata": {},
   "source": [
    "### Fetch all json data"
   ]
  },
  {
   "cell_type": "code",
   "execution_count": 3,
   "metadata": {},
   "outputs": [
    {
     "name": "stderr",
     "output_type": "stream",
     "text": [
      "Loading JSON Files in microwave: 100%|██████████| 226/226 [00:00<00:00, 2778.20it/s]\n",
      "Loading JSON Files in facial toner: 100%|██████████| 254/254 [00:00<00:00, 5342.98it/s]\n",
      "Loading JSON Files in lamp: 100%|██████████| 233/233 [00:00<00:00, 4824.42it/s]\n",
      "Loading JSON Files in luggage: 100%|██████████| 247/247 [00:00<00:00, 5210.08it/s]\n",
      "Loading JSON Files in bedroom: 100%|██████████| 48/48 [00:00<00:00, 6447.40it/s]\n",
      "Loading JSON Files in feminine wash: 100%|██████████| 246/246 [00:00<00:00, 3133.16it/s]\n",
      "Loading JSON Files in pc power supply: 100%|██████████| 215/215 [00:00<00:00, 5689.51it/s]\n",
      "Loading JSON Files in razor: 100%|██████████| 240/240 [00:00<00:00, 5822.42it/s]\n",
      "Loading JSON Files in tablet: 100%|██████████| 186/186 [00:00<00:00, 5418.96it/s]\n",
      "Loading JSON Files in fantasy novel: 100%|██████████| 233/233 [00:00<00:00, 5739.11it/s]\n",
      "Loading JSON Files in air fryer: 100%|██████████| 211/211 [00:00<00:00, 5311.22it/s]\n",
      "Loading JSON Files in coffee maker: 100%|██████████| 231/231 [00:00<00:00, 2203.04it/s]\n",
      "Loading JSON Files in wall mount: 100%|██████████| 224/224 [00:00<00:00, 5134.18it/s]\n",
      "Loading JSON Files in kitchen knife: 100%|██████████| 268/268 [00:00<00:00, 5203.30it/s]\n",
      "Loading JSON Files in women shoes: 100%|██████████| 244/244 [00:00<00:00, 5131.42it/s]\n",
      "Loading JSON Files in screen protector: 100%|██████████| 219/219 [00:00<00:00, 5366.88it/s]\n",
      "Loading JSON Files in motherboard: 100%|██████████| 209/209 [00:00<00:00, 5619.65it/s]\n",
      "Loading JSON Files in monitor: 100%|██████████| 202/202 [00:00<00:00, 4754.03it/s]\n",
      "Loading JSON Files in thriller novel: 100%|██████████| 265/265 [00:00<00:00, 1896.04it/s]\n",
      "Loading JSON Files in gpu: 100%|██████████| 181/181 [00:00<00:00, 5726.21it/s]\n",
      "Loading JSON Files in office chair: 100%|██████████| 251/251 [00:00<00:00, 4861.04it/s]\n",
      "Loading JSON Files in science fiction novel: 100%|██████████| 247/247 [00:00<00:00, 5631.44it/s]\n",
      "Loading JSON Files in chargers: 100%|██████████| 206/206 [00:00<00:00, 5563.96it/s]\n",
      "Loading JSON Files in projector: 100%|██████████| 207/207 [00:00<00:00, 5033.84it/s]\n",
      "Loading JSON Files in workout clothes: 100%|██████████| 269/269 [00:00<00:00, 4726.50it/s]\n",
      "Loading JSON Files in frying pan: 100%|██████████| 262/262 [00:00<00:00, 5340.28it/s]\n",
      "Loading JSON Files in microphone: 100%|██████████| 267/267 [00:00<00:00, 4978.94it/s]\n",
      "Loading JSON Files in desk: 100%|██████████| 274/274 [00:00<00:00, 1872.91it/s]\n",
      "Loading JSON Files in stroller: 100%|██████████| 203/203 [00:00<00:00, 5554.64it/s]\n",
      "Loading JSON Files in television: 100%|██████████| 208/208 [00:00<00:00, 5384.42it/s]\n",
      "Loading JSON Files in first aid: 100%|██████████| 259/259 [00:00<00:00, 5652.94it/s]\n",
      "Loading JSON Files in speakers: 100%|██████████| 216/216 [00:00<00:00, 5258.80it/s]\n",
      "Loading JSON Files in toddler toy: 100%|██████████| 258/258 [00:00<00:00, 5266.48it/s]\n",
      "Loading JSON Files in women shirt: 100%|██████████| 237/237 [00:00<00:00, 5151.72it/s]\n",
      "Loading JSON Files in steamer: 100%|██████████| 262/262 [00:00<00:00, 5441.43it/s]\n",
      "Loading JSON Files in stationery: 100%|██████████| 275/275 [00:00<00:00, 5914.23it/s]\n",
      "Loading JSON Files in gps: 100%|██████████| 229/229 [00:00<00:00, 5564.19it/s]\n",
      "Loading JSON Files in shaving cream: 100%|██████████| 231/231 [00:00<00:00, 5741.13it/s]\n",
      "Loading JSON Files in tires: 100%|██████████| 231/231 [00:00<00:00, 6542.27it/s]\n",
      "Loading JSON Files in face wash: 100%|██████████| 250/250 [00:00<00:00, 1513.98it/s]\n",
      "Loading JSON Files in belt: 100%|██████████| 268/268 [00:00<00:00, 5213.60it/s]\n",
      "Loading JSON Files in couch: 100%|██████████| 45/45 [00:00<00:00, 5330.39it/s]\n",
      "Loading JSON Files in fabric conditioner: 100%|██████████| 245/245 [00:00<00:00, 5664.35it/s]\n",
      "Loading JSON Files in curtain: 100%|██████████| 282/282 [00:00<00:00, 4358.65it/s]\n",
      "Loading JSON Files in washing machine: 100%|██████████| 202/202 [00:00<00:00, 5328.31it/s]\n",
      "Loading JSON Files in shoe rack: 100%|██████████| 246/246 [00:00<00:00, 4808.37it/s]\n",
      "Loading JSON Files in vitamins: 100%|██████████| 249/249 [00:00<00:00, 5386.10it/s]\n",
      "Loading JSON Files in men shirt: 100%|██████████| 197/197 [00:00<00:00, 5162.04it/s]\n",
      "Loading JSON Files in bathroom: 100%|██████████| 48/48 [00:00<00:00, 6988.08it/s]\n",
      "Loading JSON Files in vacuum: 100%|██████████| 196/196 [00:00<00:00, 4957.78it/s]\n",
      "Loading JSON Files in dress: 100%|██████████| 232/232 [00:00<00:00, 5291.09it/s]\n",
      "Loading JSON Files in camera: 100%|██████████| 204/204 [00:00<00:00, 5274.46it/s]\n",
      "Loading JSON Files in solid state drive: 100%|██████████| 205/205 [00:00<00:00, 5936.88it/s]\n",
      "Loading JSON Files in pc fan: 100%|██████████| 226/226 [00:00<00:00, 5054.91it/s]\n",
      "Loading JSON Files in underwear: 100%|██████████| 235/235 [00:00<00:00, 1179.00it/s]\n",
      "Loading JSON Files in coffee_table: 100%|██████████| 46/46 [00:00<00:00, 6837.17it/s]\n",
      "Loading JSON Files in lotion: 100%|██████████| 239/239 [00:00<00:00, 5351.08it/s]\n",
      "Loading JSON Files in pacifier: 100%|██████████| 252/252 [00:00<00:00, 5123.91it/s]\n",
      "Loading JSON Files in tissue: 100%|██████████| 242/242 [00:00<00:00, 5603.95it/s]\n",
      "Loading JSON Files in cellphone: 100%|██████████| 224/224 [00:00<00:00, 5489.67it/s]\n",
      "Loading JSON Files in women sweater: 100%|██████████| 233/233 [00:00<00:00, 4716.80it/s]\n",
      "Loading JSON Files in printer: 100%|██████████| 216/216 [00:00<00:00, 5485.04it/s]\n",
      "Loading JSON Files in air freshener: 100%|██████████| 222/222 [00:00<00:00, 5766.40it/s]\n",
      "Loading JSON Files in home_office: 100%|██████████| 46/46 [00:00<00:00, 5508.42it/s]\n",
      "Loading JSON Files in tampon: 100%|██████████| 248/248 [00:00<00:00, 6356.87it/s]\n",
      "Loading JSON Files in cabinet: 100%|██████████| 246/246 [00:00<00:00, 5387.67it/s]\n",
      "Loading JSON Files in folder: 100%|██████████| 234/234 [00:00<00:00, 5672.56it/s]\n",
      "Loading JSON Files in computer accessories: 100%|██████████| 230/230 [00:00<00:00, 5307.46it/s]\n",
      "Loading JSON Files in phone case: 100%|██████████| 256/256 [00:00<00:00, 5343.81it/s]\n",
      "Loading JSON Files in over the counter: 100%|██████████| 284/284 [00:00<00:00, 5324.41it/s]\n",
      "Loading JSON Files in young adult novel: 100%|██████████| 276/276 [00:00<00:00, 8860.39it/s]\n",
      "Loading JSON Files in oven: 100%|██████████| 206/206 [00:00<00:00, 5435.50it/s]\n",
      "Loading JSON Files in chair: 100%|██████████| 326/326 [00:00<00:00, 5058.48it/s]\n",
      "Loading JSON Files in bookshelf: 100%|██████████| 273/273 [00:00<00:00, 1114.15it/s]\n",
      "Loading JSON Files in napkin: 100%|██████████| 265/265 [00:00<00:00, 6872.59it/s]\n",
      "Loading JSON Files in coat: 100%|██████████| 283/283 [00:00<00:00, 5046.29it/s]\n",
      "Loading JSON Files in headphones: 100%|██████████| 203/203 [00:00<00:00, 4920.50it/s]\n",
      "Loading JSON Files in dishwasher: 100%|██████████| 249/249 [00:00<00:00, 5666.44it/s]\n",
      "Loading JSON Files in building toys: 100%|██████████| 246/246 [00:00<00:00, 5288.59it/s]\n",
      "Loading JSON Files in dresser: 100%|██████████| 265/265 [00:00<00:00, 5581.40it/s]\n",
      "Loading JSON Files in men shoes: 100%|██████████| 230/230 [00:00<00:00, 4994.46it/s]\n",
      "Loading JSON Files in face mask: 100%|██████████| 216/216 [00:00<00:00, 5743.76it/s]\n",
      "Loading JSON Files in adventure novel: 100%|██████████| 257/257 [00:00<00:00, 5957.23it/s]\n",
      "Loading JSON Files in smart watch: 100%|██████████| 185/185 [00:00<00:00, 4169.96it/s]\n",
      "Loading JSON Files in soap: 100%|██████████| 225/225 [00:00<00:00, 5617.97it/s]\n",
      "Loading JSON Files in carpet: 100%|██████████| 257/257 [00:00<00:00, 5107.81it/s]\n",
      "Loading JSON Files in romance novel: 100%|██████████| 268/268 [00:00<00:00, 5921.69it/s]\n",
      "Loading JSON Files in jewelry: 100%|██████████| 252/252 [00:00<00:00, 5593.68it/s]\n",
      "Loading JSON Files in pc ram: 100%|██████████| 249/249 [00:00<00:00, 6552.86it/s]\n",
      "Loading JSON Files in furniture: 100%|██████████| 47/47 [00:00<00:00, 6833.25it/s]\n",
      "Loading JSON Files in action figures: 100%|██████████| 267/267 [00:00<00:00, 5914.02it/s]\n",
      "Loading JSON Files in toy dolls: 100%|██████████| 277/277 [00:00<00:00, 5961.70it/s]\n",
      "Loading JSON Files in mouthwash: 100%|██████████| 240/240 [00:00<00:00, 5727.77it/s]\n",
      "Loading JSON Files in dashcam: 100%|██████████| 193/193 [00:00<00:00, 5118.01it/s]\n",
      "Loading JSON Files in mouse: 100%|██████████| 229/229 [00:00<00:00, 5151.99it/s]\n",
      "Loading JSON Files in deodorant: 100%|██████████| 176/176 [00:00<00:00, 5629.68it/s]\n",
      "Loading JSON Files in toilet: 100%|██████████| 265/265 [00:00<00:00, 910.45it/s]\n",
      "Loading JSON Files in usb: 100%|██████████| 261/261 [00:00<00:00, 5487.01it/s]\n",
      "Loading JSON Files in surveillance camera: 100%|██████████| 234/234 [00:00<00:00, 5981.24it/s]\n",
      "Loading JSON Files in packing cubes: 100%|██████████| 197/197 [00:00<00:00, 5380.18it/s]\n",
      "Loading JSON Files in stove: 100%|██████████| 189/189 [00:00<00:00, 5622.47it/s]\n"
     ]
    },
    {
     "name": "stdout",
     "output_type": "stream",
     "text": [
      "Error loading JSON from file ../dataset/extracts/amazon/stove/items/amazon_B07V7JNTLB.json: file is empty or not a valid JSON.\n"
     ]
    },
    {
     "name": "stderr",
     "output_type": "stream",
     "text": [
      "Loading JSON Files in pillow: 100%|██████████| 250/250 [00:00<00:00, 5118.35it/s]\n",
      "Loading JSON Files in nonfiction novel: 100%|██████████| 247/247 [00:00<00:00, 5553.91it/s]\n",
      "Loading JSON Files in playroom: 100%|██████████| 48/48 [00:00<00:00, 6979.84it/s]\n",
      "Loading JSON Files in utensils: 100%|██████████| 248/248 [00:00<00:00, 5331.40it/s]\n",
      "Loading JSON Files in car seat: 100%|██████████| 240/240 [00:00<00:00, 5397.26it/s]\n",
      "Loading JSON Files in water flask: 100%|██████████| 304/304 [00:00<00:00, 5707.30it/s]\n",
      "Loading JSON Files in historical novel: 100%|██████████| 281/281 [00:00<00:00, 5312.50it/s]\n",
      "Loading JSON Files in patio: 100%|██████████| 48/48 [00:00<00:00, 7014.62it/s]\n",
      "Loading JSON Files in cpu cooler: 100%|██████████| 219/219 [00:00<00:00, 5162.03it/s]\n",
      "Loading JSON Files in men sweater: 100%|██████████| 252/252 [00:00<00:00, 5293.45it/s]\n",
      "Loading JSON Files in table: 100%|██████████| 285/285 [00:00<00:00, 5390.46it/s]\n",
      "Loading JSON Files in women jeans: 100%|██████████| 251/251 [00:00<00:00, 4893.67it/s]\n",
      "Loading JSON Files in moisturizer: 100%|██████████| 276/276 [00:00<00:00, 5344.79it/s]\n",
      "Loading JSON Files in pc chassis: 100%|██████████| 227/227 [00:00<00:00, 6089.59it/s]\n",
      "Loading JSON Files in desk lamp: 100%|██████████| 262/262 [00:00<00:00, 4856.36it/s]\n",
      "Loading JSON Files in women bag: 100%|██████████| 266/266 [00:00<00:00, 4737.05it/s]\n",
      "Loading JSON Files in iron: 100%|██████████| 199/199 [00:00<00:00, 5529.97it/s]\n",
      "Loading JSON Files in diaper: 100%|██████████| 259/259 [00:00<00:00, 6109.54it/s]\n",
      "Loading JSON Files in makeup: 100%|██████████| 261/261 [00:00<00:00, 4628.57it/s]\n",
      "Loading JSON Files in bedding: 100%|██████████| 246/246 [00:00<00:00, 5129.81it/s]\n",
      "Loading JSON Files in broom: 100%|██████████| 248/248 [00:00<00:00, 5397.99it/s]\n",
      "Loading JSON Files in mystery novel: 100%|██████████| 242/242 [00:00<00:00, 6939.08it/s]\n",
      "Loading JSON Files in videogame console: 100%|██████████| 237/237 [00:00<00:00, 6112.15it/s]\n",
      "Loading JSON Files in night stand: 100%|██████████| 218/218 [00:00<00:00, 586.03it/s]\n",
      "Loading JSON Files in travel essentials: 100%|██████████| 226/226 [00:00<00:00, 5161.71it/s]\n",
      "Loading JSON Files in dining room: 100%|██████████| 48/48 [00:00<00:00, 6767.05it/s]\n",
      "Loading JSON Files in ring doorbell: 100%|██████████| 251/251 [00:00<00:00, 5811.82it/s]\n",
      "Loading JSON Files in nursery: 100%|██████████| 48/48 [00:00<00:00, 5496.37it/s]\n",
      "Loading JSON Files in detergent: 100%|██████████| 253/253 [00:00<00:00, 5116.68it/s]\n",
      "Loading JSON Files in baby formula: 100%|██████████| 209/209 [00:00<00:00, 6491.72it/s]\n",
      "Loading JSON Files in dustpan: 100%|██████████| 268/268 [00:00<00:00, 5729.11it/s]\n",
      "Loading JSON Files in seat cushion: 100%|██████████| 249/249 [00:00<00:00, 5318.38it/s]\n",
      "Loading JSON Files in hard drive: 100%|██████████| 356/356 [00:00<00:00, 5473.32it/s]\n",
      "Loading JSON Files in notebook: 100%|██████████| 251/251 [00:00<00:00, 5148.40it/s]\n",
      "Loading JSON Files in battery: 100%|██████████| 272/272 [00:00<00:00, 4909.84it/s]\n",
      "Loading JSON Files in men jeans: 100%|██████████| 212/212 [00:00<00:00, 4451.99it/s]\n",
      "Loading JSON Files in school supplies: 100%|██████████| 256/256 [00:00<00:00, 4988.02it/s]\n",
      "Loading JSON Files in cables: 100%|██████████| 241/241 [00:00<00:00, 5440.17it/s]\n",
      "Loading JSON Files in laptop: 100%|██████████| 207/207 [00:00<00:00, 5805.28it/s]\n",
      "Loading JSON Files in shampoo: 100%|██████████| 224/224 [00:00<00:00, 5252.67it/s]\n",
      "Loading JSON Files in conditioner: 100%|██████████| 210/210 [00:00<00:00, 5637.14it/s]\n",
      "Loading JSON Files in portable fan: 100%|██████████| 206/206 [00:00<00:00, 5167.31it/s]\n",
      "Loading JSON Files in bedframe: 100%|██████████| 246/246 [00:00<00:00, 5499.82it/s]\n",
      "Loading JSON Files in toy airplanes: 100%|██████████| 242/242 [00:00<00:00, 8301.61it/s]\n",
      "Loading JSON Files in kitchen: 100%|██████████| 48/48 [00:00<00:00, 6427.44it/s]\n",
      "Loading JSON Files in toothbrush: 100%|██████████| 237/237 [00:00<00:00, 5576.50it/s]\n",
      "Loading JSON Files in webcam: 100%|██████████| 173/173 [00:00<00:00, 4965.41it/s]\n",
      "Loading JSON Files in mattress: 100%|██████████| 125/125 [00:00<00:00, 5842.17it/s]\n",
      "Loading JSON Files in garage: 100%|██████████| 49/49 [00:00<00:00, 6421.12it/s]\n",
      "Loading JSON Files in toy cars: 100%|██████████| 250/250 [00:00<00:00, 5893.86it/s]\n",
      "Loading JSON Files in wifi router: 100%|██████████| 222/222 [00:00<00:00, 4490.65it/s]\n",
      "Loading JSON Files in men bag: 100%|██████████| 260/260 [00:00<00:00, 5205.29it/s]\n",
      "Loading JSON Files in ram vehicles: 100%|██████████| 193/193 [00:00<00:00, 6115.35it/s]\n",
      "Loading JSON Files in air purifier: 100%|██████████| 198/198 [00:00<00:00, 5159.85it/s]\n",
      "Loading JSON Files in living room: 100%|██████████| 48/48 [00:00<00:00, 5710.26it/s]\n",
      "Loading JSON Files in mop: 100%|██████████| 248/248 [00:00<00:00, 5364.11it/s]\n",
      "Loading JSON Files in baby wipes: 100%|██████████| 246/246 [00:00<00:00, 5881.11it/s]\n",
      "Loading JSON Files in stanley cup: 100%|██████████| 245/245 [00:00<00:00, 5570.46it/s]\n",
      "Loading JSON Files in keyboard: 100%|██████████| 228/228 [00:00<00:00, 4672.91it/s]\n",
      "Loading JSON Files in car accessories: 100%|██████████| 266/266 [00:00<00:00, 5485.31it/s]\n",
      "Loading JSON Files in baby bottle: 100%|██████████| 219/219 [00:00<00:00, 5457.15it/s]\n",
      "Loading JSON Files in tripod: 100%|██████████| 212/212 [00:00<00:00, 5245.35it/s]\n",
      "Loading JSON Files in home decor: 100%|██████████| 447/447 [00:00<00:00, 894.15it/s]\n",
      "Loading JSON Files in linen: 100%|██████████| 270/270 [00:00<00:00, 4388.83it/s]\n",
      "Loading JSON Files in crib: 100%|██████████| 247/247 [00:00<00:00, 5408.36it/s]\n",
      "Loading JSON Files in mirror: 100%|██████████| 278/278 [00:00<00:00, 5538.98it/s]\n",
      "Loading JSON Files in intel amd processor: 100%|██████████| 144/144 [00:00<00:00, 5463.66it/s]\n"
     ]
    }
   ],
   "source": [
    "all_json_data, folder_names = get_all_json_data()\n",
    "all_reviews_df, all_items_df, asins_df = items_and_reviews_to_dataframe(all_json_data, folder_names)\n",
    "all_reviews_df = all_reviews_df.replace(np.nan, '', regex=True)\n",
    "all_reviews_df.drop_duplicates(keep=\"first\", inplace=True)\n",
    "all_items_df.drop_duplicates(keep='first', inplace=True)\n",
    "all_items_df.fillna(0, inplace=True)\n",
    "asins_df.to_csv(f\"{dir}/asin_product_mapping.csv\", index=False)"
   ]
  },
  {
   "cell_type": "markdown",
   "metadata": {},
   "source": [
    "### Preprocess itemset"
   ]
  },
  {
   "cell_type": "code",
   "execution_count": 4,
   "metadata": {},
   "outputs": [],
   "source": [
    "all_items_df.reset_index(inplace=True)\n",
    "vc = all_items_df['ASIN'].value_counts()\n",
    "to_merge = vc.loc[lambda x: x > 1].index.tolist()\n",
    "\n",
    "all_items_df.set_index('ASIN', inplace=True)\n",
    "merge_dicts = []\n",
    "for asin in to_merge:\n",
    "    merged_row = all_items_df.loc[asin].sum()\n",
    "    merged_row = merged_row.drop('level_0')\n",
    "    d = merged_row.to_dict()\n",
    "    d['ASIN'] = asin\n",
    "    merge_dicts.append(d)\n",
    "    all_items_df.drop(asin, inplace=True)\n",
    "    \n",
    "merged_df = pd.DataFrame(merge_dicts)\n",
    "merged_df.set_index('ASIN', inplace=True)\n",
    "all_items_df = pd.concat([all_items_df, merged_df])\n",
    "all_items_df.drop(['level_0', 'name'], axis=1, inplace=True)\n",
    "all_items_df.to_csv(f\"{dir}/itemset_preprocessed.csv\")"
   ]
  },
  {
   "cell_type": "markdown",
   "metadata": {},
   "source": [
    "### Preprocess userbase"
   ]
  },
  {
   "cell_type": "code",
   "execution_count": 5,
   "metadata": {},
   "outputs": [],
   "source": [
    "user_ratings_df = all_reviews_df.drop([\n",
    "    \"reviewVotes\", \"reviewLocation\", \"reviewDate\",\n",
    "    \"ProductName\"], axis=1)\n",
    "\n",
    "groupby_df = user_ratings_df.groupby('reviewerID')\n",
    "freq = groupby_df.size().reset_index(name='count')\n",
    "user_ratings_df = pd.merge(user_ratings_df, freq, on='reviewerID', how='left')\n",
    "user_ratings_df = user_ratings_df.sort_values(['count'], ascending=False)\n",
    "user_ratings_df = user_ratings_df[user_ratings_df[\"count\"] >= 5]\n",
    "topn_reviewers = pd.unique(user_ratings_df[\"reviewerID\"])\n",
    "user_ratings_df.set_index(\"reviewerID\", inplace=True)\n",
    "user_ratings_df = user_ratings_df.loc[topn_reviewers]\n",
    "generic_reviewerIDs = user_ratings_df.groupby(\n",
    "    'reviewerID').count().sort_values('ASIN', ascending=False)[:8].index.tolist()\n",
    "topn_reviewers = [r for r in topn_reviewers if r not in generic_reviewerIDs]\n",
    "user_ratings_df = user_ratings_df.loc[topn_reviewers]\n",
    "\n",
    "rows = []\n",
    "columns = all_items_df.index.tolist()\n",
    "columns.append(\"reviewerID\")\n",
    "\n",
    "for index, data in user_ratings_df.groupby('reviewerID'):\n",
    "    row = {'reviewerID': index}\n",
    "    for ind, d in data.iterrows():\n",
    "        row[d['ASIN']] = d['customerReview']\n",
    "    rows.append(row)\n",
    "\n",
    "df_utility = pd.DataFrame(rows, columns=columns)\n",
    "df_utility.to_csv(f\"{dir}/utility_topn.csv\")"
   ]
  },
  {
   "cell_type": "code",
   "execution_count": 6,
   "metadata": {},
   "outputs": [],
   "source": [
    "categories_dict = {\n",
    "    \"Children\": [\"action figures\", \"building toys\", \"toddler toy\", \"toy airplanes\", \"toy cars\",\n",
    "                 \"toy dolls\", \"baby bottle\", \"baby formula\", \"baby wipes\", \"car seat\", \"crib\",\n",
    "                 \"diaper\", \"nursery\", \"pacifier\", \"stroller\"],\n",
    "    \"Books\": [\"adventure novel\", \"fantasy novel\", \"mystery novel\", \"nonfiction novel\",\n",
    "              \"romance novels\", \"science fiction novel\", \"thriller novel\", \"young adult novel\"],\n",
    "    \"Cleaning Material\": [\"vacuum\", \"detergent\", \"mop\", \"broom\", \"dishwasher\", \"fabric conditioner\"],\n",
    "    \"Kitchen\": [\"utensils\", \"air fryer\", \"coffee maker\", \"frying pan\", \"kitchen knife\",\n",
    "                \"microwave\", \"oven\", \"over the counter\", \"steamer\", \"stove\", \"kitchen\", \"dining room\"],\n",
    "    \"Bedroom\": [\"bedding\", \"bedroom\", \"toilet\", \"playroom\", \"desk lamp\", \"iron\",\n",
    "                \"lamp\", \"bedframe\", \"bookshelf\", \"cabinet\", \"desk\", \"dresser\", \"nightstand\"],\n",
    "    \"Living Room\": [\"carpet\", \"home decor\", \"living room\", \"ring doorbell\",\n",
    "                    \"wall mount\", \"curtain\", \"coffee table\", \"couch\", \"chair\", \"furniture\", \"patio\", \"shoe rack\"],\n",
    "    \"Bathroom\": [\"bathroom\", \"mattress\", \"pillow\", \"air purifier\",\n",
    "                 \"washing machine\", \"air freshener\", \"mirror\", \"linen\"],\n",
    "    \"Fashion\": [\"belt\", \"cap\", \"coat\", \"dress\", \"face mask\", \"jewelry\", \"men bag\", \"men jeans\",\n",
    "                \"men shirt\", \"men shoes\", \"men sweater\", \"socks\", \"underwear\", \"women bag\",\n",
    "                \"women jeans\", \"women shirt\", \"women shirt\", \"women shoes\", \"women sweater\", \"workout clothes\"],\n",
    "    \"Electronic Devices\": [\"camera\", \"headphones\", \"laptop\", \"monitor\", \"smart watch\", \"speakers\",\n",
    "                           \"surveillance camera\", \"tablet\", \"television\", \"videogame console\", \"wifi router\"],\n",
    "    \"Peripheral Devices\": [\"keyboard\", \"mouse\", \"webcam\", \"microphone\",\n",
    "                           \"printer\", \"projector\", \"usb\", \"computer accessories\"],\n",
    "    \"Computer Components\": [\"pc ram\", \"cpu cooler\", \"gpu\", \"hard drive\",\n",
    "                            \"intel amd processor\", \"motherboard\", \"pc chassis\", \"pc fan\", \"pc power supply\", \"solid state drive\"],\n",
    "    \"Mobile Accessories\": [\"cables\", \"chargers\", \"phone case\", \"screen protector\", \"tripod\"],\n",
    "    \"Personal Care\": [\"conditioner\", \"deodorant\", \"face wash\", \"facial toner\",\n",
    "                      \"feminine wash\", \"lotion\", \"makeup\", \"moisturizer\", \"mouthwash\",\n",
    "                      \"shaving cream\", \"shampoo\", \"soap\", \"tampon\", \"tissue\", \"toothbrush\", \"vitamins\"],\n",
    "    \"Car Stuff\": [\"car accessories\", \"dash cam\", \"gps\", \"ram vehicles\", \"tires\", \"garage\"],\n",
    "    \"Office Supplies\": [\"office chair\", \"folder\", \"home_office\", \"notebook\",\n",
    "                        \"school supplies\", \"stationery\", \"seat cushion\"],\n",
    "    \"Travel Essentials\": [\"first aid\", \"luggage\", \"packing cubes\", \"stanley cup\",\n",
    "                          \"travel essentials\", \"water flask\", \"portable fan\"]\n",
    "}"
   ]
  },
  {
   "cell_type": "code",
   "execution_count": 7,
   "metadata": {},
   "outputs": [],
   "source": [
    "inverted_categories_dict = {}\n",
    "for category, items in categories_dict.items():\n",
    "    for item in items:\n",
    "        inverted_categories_dict[item] = category\n",
    "\n",
    "\n",
    "def map_folder_to_category(folder_name):\n",
    "    return inverted_categories_dict.get(folder_name, \"Unknown\")\n",
    "\n",
    "\n",
    "all_reviews_df['category'] = all_reviews_df['folder_name'].apply(map_folder_to_category)\n",
    "all_reviews_df.to_csv(f\"{dir}/reviews.csv\")"
   ]
  },
  {
   "cell_type": "markdown",
   "metadata": {},
   "source": [
    "## Load Dataset"
   ]
  },
  {
   "cell_type": "code",
   "execution_count": 8,
   "metadata": {},
   "outputs": [
    {
     "name": "stdout",
     "output_type": "stream",
     "text": [
      "shape of df_utility: (451, 33510)\n",
      "shape of items_df: (33510, 2438)\n",
      "shape of asins_df: (33510, 2)\n"
     ]
    }
   ],
   "source": [
    "items_df, df_utility, reviews_df, asins_df = load_dataset()"
   ]
  },
  {
   "cell_type": "markdown",
   "metadata": {},
   "source": [
    "# Exploratory Data Analysis"
   ]
  },
  {
   "cell_type": "code",
   "execution_count": 49,
   "metadata": {},
   "outputs": [],
   "source": [
    "# Specify the directory containing all CSV files\n",
    "directory = \"../dataset/clean_data/\"\n",
    "\n",
    "# Initialize an empty DataFrame to store the merged data\n",
    "merged_df = pd.DataFrame()\n",
    "\n",
    "# List of categories\n",
    "categories = [\"Children\", \"Books\", \"Cleaning Material\", \"Kitchen\", \n",
    "              \"Bedroom\", \"Living Room\", \"Bathroom\", \"Fashion\", \"Electronic devices\", \n",
    "              \"Peripheral Devices\", \"Computer Components\", \"Mobile Accessories\", \n",
    "              \"Personal Care\", \"Car Stuff\", \"Office Supplies\", \"Travel Essentials\"]\n",
    "\n",
    "# Iterate over each category\n",
    "for category in categories:\n",
    "    # Construct the file path for the current category\n",
    "    file_path = os.path.join(directory, f\"{category}/items_{category}.csv\")\n",
    "    \n",
    "    # Check if the file exists\n",
    "    if os.path.exists(file_path):\n",
    "        # Read the CSV file into a DataFrame\n",
    "        category_df = pd.read_csv(file_path, low_memory=False)\n",
    "        \n",
    "        # Add a 'Category' column with the current category name\n",
    "        category_df['Category'] = category\n",
    "        \n",
    "        # Merge the current category DataFrame with the merged DataFrame\n",
    "        merged_df = pd.concat([merged_df, category_df], ignore_index=True)\n",
    "    else:\n",
    "        print(f\"File not found for category: {category}\")"
   ]
  },
  {
   "cell_type": "code",
   "execution_count": 50,
   "metadata": {},
   "outputs": [
    {
     "data": {
      "text/html": [
       "<div>\n",
       "<style scoped>\n",
       "    .dataframe tbody tr th:only-of-type {\n",
       "        vertical-align: middle;\n",
       "    }\n",
       "\n",
       "    .dataframe tbody tr th {\n",
       "        vertical-align: top;\n",
       "    }\n",
       "\n",
       "    .dataframe thead th {\n",
       "        text-align: right;\n",
       "    }\n",
       "</style>\n",
       "<table border=\"1\" class=\"dataframe\">\n",
       "  <thead>\n",
       "    <tr style=\"text-align: right;\">\n",
       "      <th></th>\n",
       "      <th>Product Name</th>\n",
       "      <th>Customer Review</th>\n",
       "      <th>Category</th>\n",
       "    </tr>\n",
       "  </thead>\n",
       "  <tbody>\n",
       "    <tr>\n",
       "      <th>13571</th>\n",
       "      <td>twin xl mattress, 8 inch twin bed mattress, twin memory foam mattress with certipur-us certified, twin size mattresses with cool sleep &amp; comfort support, twin xl memory foam mattress, fiberglass free</td>\n",
       "      <td>5.0</td>\n",
       "      <td>Bathroom</td>\n",
       "    </tr>\n",
       "    <tr>\n",
       "      <th>13579</th>\n",
       "      <td>olixis tri-fold memory foam mattress - 4 inch twin size portable floor bed, foldable mat for kids and adults, collapsible and washable cover with certipur-us certified, for travel &amp; camping &amp; yoga</td>\n",
       "      <td>5.0</td>\n",
       "      <td>Bathroom</td>\n",
       "    </tr>\n",
       "    <tr>\n",
       "      <th>13589</th>\n",
       "      <td>avenco king mattress, 12 inch gel memory foam mattress king size, mattress in a box for cool sleep and pressure relief, medium firm mattress with motion isolation, certipur-us certified</td>\n",
       "      <td>5.0</td>\n",
       "      <td>Bathroom</td>\n",
       "    </tr>\n",
       "    <tr>\n",
       "      <th>13610</th>\n",
       "      <td>novilla twin mattress, 10 inch twin hybrid mattress for kids, pocket innerspring pillow top mattress twin for motion isolation, pressure relief &amp; edge support, medium soft feel</td>\n",
       "      <td>5.0</td>\n",
       "      <td>Bathroom</td>\n",
       "    </tr>\n",
       "    <tr>\n",
       "      <th>13632</th>\n",
       "      <td>avenco queen mattress, 12 inch gel memory foam mattress queen size, mattress in a box for cool sleep and pressure relief, medium firm mattress with motion isolation, certipur-us certified</td>\n",
       "      <td>5.0</td>\n",
       "      <td>Bathroom</td>\n",
       "    </tr>\n",
       "    <tr>\n",
       "      <th>...</th>\n",
       "      <td>...</td>\n",
       "      <td>...</td>\n",
       "      <td>...</td>\n",
       "    </tr>\n",
       "    <tr>\n",
       "      <th>33049</th>\n",
       "      <td>first aid only eye wash, 1 fluid ounce</td>\n",
       "      <td>5.0</td>\n",
       "      <td>Travel Essentials</td>\n",
       "    </tr>\n",
       "    <tr>\n",
       "      <th>33065</th>\n",
       "      <td>first aid only 746005 ansi 2015 compliant large metal smartcompliance food service first aid cabinet, with medications</td>\n",
       "      <td>5.0</td>\n",
       "      <td>Travel Essentials</td>\n",
       "    </tr>\n",
       "    <tr>\n",
       "      <th>33075</th>\n",
       "      <td>4 shelf empty industrial first aid box with first aid logo</td>\n",
       "      <td>5.0</td>\n",
       "      <td>Travel Essentials</td>\n",
       "    </tr>\n",
       "    <tr>\n",
       "      <th>33091</th>\n",
       "      <td>johnson &amp; johnson first aid to go- mini first aid kit</td>\n",
       "      <td>5.0</td>\n",
       "      <td>Travel Essentials</td>\n",
       "    </tr>\n",
       "    <tr>\n",
       "      <th>33128</th>\n",
       "      <td>first aid only 91390 basic first aid kit first responder bag, 329 pieces</td>\n",
       "      <td>5.0</td>\n",
       "      <td>Travel Essentials</td>\n",
       "    </tr>\n",
       "  </tbody>\n",
       "</table>\n",
       "<p>160 rows × 3 columns</p>\n",
       "</div>"
      ],
      "text/plain": [
       "                                                                                                                                                                                                  Product Name  \\\n",
       "13571  twin xl mattress, 8 inch twin bed mattress, twin memory foam mattress with certipur-us certified, twin size mattresses with cool sleep & comfort support, twin xl memory foam mattress, fiberglass free   \n",
       "13579     olixis tri-fold memory foam mattress - 4 inch twin size portable floor bed, foldable mat for kids and adults, collapsible and washable cover with certipur-us certified, for travel & camping & yoga   \n",
       "13589                avenco king mattress, 12 inch gel memory foam mattress king size, mattress in a box for cool sleep and pressure relief, medium firm mattress with motion isolation, certipur-us certified   \n",
       "13610                         novilla twin mattress, 10 inch twin hybrid mattress for kids, pocket innerspring pillow top mattress twin for motion isolation, pressure relief & edge support, medium soft feel   \n",
       "13632              avenco queen mattress, 12 inch gel memory foam mattress queen size, mattress in a box for cool sleep and pressure relief, medium firm mattress with motion isolation, certipur-us certified   \n",
       "...                                                                                                                                                                                                        ...   \n",
       "33049                                                                                                                                                                   first aid only eye wash, 1 fluid ounce   \n",
       "33065                                                                                   first aid only 746005 ansi 2015 compliant large metal smartcompliance food service first aid cabinet, with medications   \n",
       "33075                                                                                                                                               4 shelf empty industrial first aid box with first aid logo   \n",
       "33091                                                                                                                                                    johnson & johnson first aid to go- mini first aid kit   \n",
       "33128                                                                                                                                 first aid only 91390 basic first aid kit first responder bag, 329 pieces   \n",
       "\n",
       "       Customer Review           Category  \n",
       "13571              5.0           Bathroom  \n",
       "13579              5.0           Bathroom  \n",
       "13589              5.0           Bathroom  \n",
       "13610              5.0           Bathroom  \n",
       "13632              5.0           Bathroom  \n",
       "...                ...                ...  \n",
       "33049              5.0  Travel Essentials  \n",
       "33065              5.0  Travel Essentials  \n",
       "33075              5.0  Travel Essentials  \n",
       "33091              5.0  Travel Essentials  \n",
       "33128              5.0  Travel Essentials  \n",
       "\n",
       "[160 rows x 3 columns]"
      ]
     },
     "metadata": {},
     "output_type": "display_data"
    }
   ],
   "source": [
    "# Define a function to get the top 10 reviews per category\n",
    "def top_reviews_per_category(df):\n",
    "    return df.nlargest(10, 'customerReview')\n",
    "\n",
    "# Group the DataFrame by 'Category' and apply the function\n",
    "top_10_reviews_per_category = merged_df.groupby('Category', group_keys=False).apply(top_reviews_per_category)\n",
    "\n",
    "# Select only the desired columns and rename them\n",
    "top_10_reviews_per_category = top_10_reviews_per_category[['name', 'customerReview', 'Category']].rename(columns={'name':'Product Name','customerReview': 'Customer Review'})\n",
    "\n",
    "# Display the top 10 reviews per category\n",
    "display(top_10_reviews_per_category)\n"
   ]
  },
  {
   "cell_type": "code",
   "execution_count": 51,
   "metadata": {},
   "outputs": [
    {
     "data": {
      "text/html": [
       "<div>\n",
       "<style scoped>\n",
       "    .dataframe tbody tr th:only-of-type {\n",
       "        vertical-align: middle;\n",
       "    }\n",
       "\n",
       "    .dataframe tbody tr th {\n",
       "        vertical-align: top;\n",
       "    }\n",
       "\n",
       "    .dataframe thead th {\n",
       "        text-align: right;\n",
       "    }\n",
       "</style>\n",
       "<table border=\"1\" class=\"dataframe\">\n",
       "  <thead>\n",
       "    <tr style=\"text-align: right;\">\n",
       "      <th></th>\n",
       "      <th>ASIN</th>\n",
       "      <th>Product name</th>\n",
       "      <th>Customer Review</th>\n",
       "      <th>Customer Review Count</th>\n",
       "      <th>Category</th>\n",
       "    </tr>\n",
       "  </thead>\n",
       "  <tbody>\n",
       "    <tr>\n",
       "      <th>3968</th>\n",
       "      <td>0735219109</td>\n",
       "      <td>where the crawdads sing: reese's book club (a novel)</td>\n",
       "      <td>4.7</td>\n",
       "      <td>623473.0</td>\n",
       "      <td>Books</td>\n",
       "    </tr>\n",
       "    <tr>\n",
       "      <th>19834</th>\n",
       "      <td>B07PXGQC1Q</td>\n",
       "      <td>apple airpods (2nd generation) wireless ear buds, bluetooth headphones with lightning charging case included, over 24 hours of battery life, effortless setup for iphone</td>\n",
       "      <td>4.7</td>\n",
       "      <td>606528.0</td>\n",
       "      <td>Electronic devices</td>\n",
       "    </tr>\n",
       "    <tr>\n",
       "      <th>26638</th>\n",
       "      <td>B07H2V5YLH</td>\n",
       "      <td>ailun glass screen protector compatible for iphone 11 / iphone xr [6.1 inch], 3 pack tempered glass</td>\n",
       "      <td>4.6</td>\n",
       "      <td>514702.0</td>\n",
       "      <td>Mobile Accessories</td>\n",
       "    </tr>\n",
       "    <tr>\n",
       "      <th>13718</th>\n",
       "      <td>B07B4Z9L7M</td>\n",
       "      <td>amazon basics lightweight super soft easy care microfiber pillow case, standard, bright white, pack of 2, 30\" l x 20\" w</td>\n",
       "      <td>4.5</td>\n",
       "      <td>485684.0</td>\n",
       "      <td>Bathroom</td>\n",
       "    </tr>\n",
       "    <tr>\n",
       "      <th>19827</th>\n",
       "      <td>B07J2Z5DBM</td>\n",
       "      <td>tozo t10 bluetooth 5.3 wireless earbuds with wireless charging case ipx8 waterproof stereo headphones in ear built in mic headset premium sound with deep bass for sport black</td>\n",
       "      <td>4.3</td>\n",
       "      <td>360827.0</td>\n",
       "      <td>Electronic devices</td>\n",
       "    </tr>\n",
       "    <tr>\n",
       "      <th>28327</th>\n",
       "      <td>B00T0C9XRK</td>\n",
       "      <td>essence | lash princess false lash effect mascara | gluten &amp; cruelty free</td>\n",
       "      <td>4.3</td>\n",
       "      <td>356841.0</td>\n",
       "      <td>Personal Care</td>\n",
       "    </tr>\n",
       "    <tr>\n",
       "      <th>3965</th>\n",
       "      <td>1538724731</td>\n",
       "      <td>verity</td>\n",
       "      <td>4.6</td>\n",
       "      <td>330599.0</td>\n",
       "      <td>Books</td>\n",
       "    </tr>\n",
       "    <tr>\n",
       "      <th>4606</th>\n",
       "      <td>1538724731</td>\n",
       "      <td>verity</td>\n",
       "      <td>4.6</td>\n",
       "      <td>330598.0</td>\n",
       "      <td>Books</td>\n",
       "    </tr>\n",
       "    <tr>\n",
       "      <th>4748</th>\n",
       "      <td>B01GGU0XWC</td>\n",
       "      <td>it ends with us</td>\n",
       "      <td>4.7</td>\n",
       "      <td>310976.0</td>\n",
       "      <td>Books</td>\n",
       "    </tr>\n",
       "    <tr>\n",
       "      <th>14930</th>\n",
       "      <td>B06X9GC2H3</td>\n",
       "      <td>queen size 4 piece sheet set - comfy breathable &amp; cooling sheets - hotel luxury bed sheets for women &amp; men - deep pockets, easy-fit, soft &amp; wrinkle free sheets - light grey oeko-tex bed sheet set</td>\n",
       "      <td>4.5</td>\n",
       "      <td>306999.0</td>\n",
       "      <td>Bathroom</td>\n",
       "    </tr>\n",
       "    <tr>\n",
       "      <th>8895</th>\n",
       "      <td>B09JVCMLNB</td>\n",
       "      <td>queen size 4 piece sheet set - comfy breathable &amp; cooling sheets - hotel luxury bed sheets for women &amp; men - deep pockets, easy-fit, soft &amp; wrinkle free sheets - french grey oeko-tex bed sheet set</td>\n",
       "      <td>4.5</td>\n",
       "      <td>306939.0</td>\n",
       "      <td>Bedroom</td>\n",
       "    </tr>\n",
       "    <tr>\n",
       "      <th>13919</th>\n",
       "      <td>B0725WFLMB</td>\n",
       "      <td>bedsure satin pillowcase for hair and skin queen - silver grey silky pillowcase 20x30 inches - set of 2 with envelope closure, similar to silk pillow cases, gifts for women men</td>\n",
       "      <td>4.5</td>\n",
       "      <td>305331.0</td>\n",
       "      <td>Bathroom</td>\n",
       "    </tr>\n",
       "    <tr>\n",
       "      <th>13877</th>\n",
       "      <td>B07MDP43PV</td>\n",
       "      <td>bedsure satin pillowcase standard set of 2 - pure white silky, for hair and skin 20x26 inches, pillow covers with envelope closure, similar to silk pillow cases, gifts for women men</td>\n",
       "      <td>4.5</td>\n",
       "      <td>305329.0</td>\n",
       "      <td>Bathroom</td>\n",
       "    </tr>\n",
       "    <tr>\n",
       "      <th>30858</th>\n",
       "      <td>B06ZY896ZM</td>\n",
       "      <td>thisworx car vacuum cleaner - car accessories - small 12v high power handheld portable car vacuum w/attachments, 16 ft cord &amp; bag - detailing kit essentials for travel, rv camper</td>\n",
       "      <td>4.0</td>\n",
       "      <td>298937.0</td>\n",
       "      <td>Car Stuff</td>\n",
       "    </tr>\n",
       "    <tr>\n",
       "      <th>4036</th>\n",
       "      <td>125030170X</td>\n",
       "      <td>the silent patient</td>\n",
       "      <td>4.4</td>\n",
       "      <td>297786.0</td>\n",
       "      <td>Books</td>\n",
       "    </tr>\n",
       "    <tr>\n",
       "      <th>4779</th>\n",
       "      <td>125030170X</td>\n",
       "      <td>the silent patient</td>\n",
       "      <td>4.4</td>\n",
       "      <td>297786.0</td>\n",
       "      <td>Books</td>\n",
       "    </tr>\n",
       "    <tr>\n",
       "      <th>16968</th>\n",
       "      <td>B07JDGBX9D</td>\n",
       "      <td>gildan men's crew t-shirts, multipack, style g1100</td>\n",
       "      <td>4.6</td>\n",
       "      <td>280895.0</td>\n",
       "      <td>Fashion</td>\n",
       "    </tr>\n",
       "    <tr>\n",
       "      <th>19755</th>\n",
       "      <td>B01M0GB8CC</td>\n",
       "      <td>apple earpods headphones with lightning connector, wired ear buds for iphone with built-in remote to control music, phone calls, and volume</td>\n",
       "      <td>4.6</td>\n",
       "      <td>278505.0</td>\n",
       "      <td>Electronic devices</td>\n",
       "    </tr>\n",
       "    <tr>\n",
       "      <th>20695</th>\n",
       "      <td>B07X6C9RMF</td>\n",
       "      <td>blink mini – compact indoor plug-in smart security camera, 1080p hd video, night vision, motion detection, two-way audio, easy set up, works with alexa – 1 camera (white)</td>\n",
       "      <td>4.4</td>\n",
       "      <td>275877.0</td>\n",
       "      <td>Electronic devices</td>\n",
       "    </tr>\n",
       "    <tr>\n",
       "      <th>9305</th>\n",
       "      <td>B07X6C9RMF</td>\n",
       "      <td>blink mini – compact indoor plug-in smart security camera, 1080p hd video, night vision, motion detection, two-way audio, easy set up, works with alexa – 1 camera (white)</td>\n",
       "      <td>4.4</td>\n",
       "      <td>275627.0</td>\n",
       "      <td>Bedroom</td>\n",
       "    </tr>\n",
       "  </tbody>\n",
       "</table>\n",
       "</div>"
      ],
      "text/plain": [
       "             ASIN  \\\n",
       "3968   0735219109   \n",
       "19834  B07PXGQC1Q   \n",
       "26638  B07H2V5YLH   \n",
       "13718  B07B4Z9L7M   \n",
       "19827  B07J2Z5DBM   \n",
       "28327  B00T0C9XRK   \n",
       "3965   1538724731   \n",
       "4606   1538724731   \n",
       "4748   B01GGU0XWC   \n",
       "14930  B06X9GC2H3   \n",
       "8895   B09JVCMLNB   \n",
       "13919  B0725WFLMB   \n",
       "13877  B07MDP43PV   \n",
       "30858  B06ZY896ZM   \n",
       "4036   125030170X   \n",
       "4779   125030170X   \n",
       "16968  B07JDGBX9D   \n",
       "19755  B01M0GB8CC   \n",
       "20695  B07X6C9RMF   \n",
       "9305   B07X6C9RMF   \n",
       "\n",
       "                                                                                                                                                                                               Product name  \\\n",
       "3968                                                                                                                                                   where the crawdads sing: reese's book club (a novel)   \n",
       "19834                              apple airpods (2nd generation) wireless ear buds, bluetooth headphones with lightning charging case included, over 24 hours of battery life, effortless setup for iphone   \n",
       "26638                                                                                                   ailun glass screen protector compatible for iphone 11 / iphone xr [6.1 inch], 3 pack tempered glass   \n",
       "13718                                                                               amazon basics lightweight super soft easy care microfiber pillow case, standard, bright white, pack of 2, 30\" l x 20\" w   \n",
       "19827                        tozo t10 bluetooth 5.3 wireless earbuds with wireless charging case ipx8 waterproof stereo headphones in ear built in mic headset premium sound with deep bass for sport black   \n",
       "28327                                                                                                                             essence | lash princess false lash effect mascara | gluten & cruelty free   \n",
       "3965                                                                                                                                                                                                 verity   \n",
       "4606                                                                                                                                                                                                 verity   \n",
       "4748                                                                                                                                                                                        it ends with us   \n",
       "14930   queen size 4 piece sheet set - comfy breathable & cooling sheets - hotel luxury bed sheets for women & men - deep pockets, easy-fit, soft & wrinkle free sheets - light grey oeko-tex bed sheet set   \n",
       "8895   queen size 4 piece sheet set - comfy breathable & cooling sheets - hotel luxury bed sheets for women & men - deep pockets, easy-fit, soft & wrinkle free sheets - french grey oeko-tex bed sheet set   \n",
       "13919                      bedsure satin pillowcase for hair and skin queen - silver grey silky pillowcase 20x30 inches - set of 2 with envelope closure, similar to silk pillow cases, gifts for women men   \n",
       "13877                 bedsure satin pillowcase standard set of 2 - pure white silky, for hair and skin 20x26 inches, pillow covers with envelope closure, similar to silk pillow cases, gifts for women men   \n",
       "30858                    thisworx car vacuum cleaner - car accessories - small 12v high power handheld portable car vacuum w/attachments, 16 ft cord & bag - detailing kit essentials for travel, rv camper   \n",
       "4036                                                                                                                                                                                     the silent patient   \n",
       "4779                                                                                                                                                                                     the silent patient   \n",
       "16968                                                                                                                                                    gildan men's crew t-shirts, multipack, style g1100   \n",
       "19755                                                           apple earpods headphones with lightning connector, wired ear buds for iphone with built-in remote to control music, phone calls, and volume   \n",
       "20695                            blink mini – compact indoor plug-in smart security camera, 1080p hd video, night vision, motion detection, two-way audio, easy set up, works with alexa – 1 camera (white)   \n",
       "9305                             blink mini – compact indoor plug-in smart security camera, 1080p hd video, night vision, motion detection, two-way audio, easy set up, works with alexa – 1 camera (white)   \n",
       "\n",
       "       Customer Review  Customer Review Count            Category  \n",
       "3968               4.7               623473.0               Books  \n",
       "19834              4.7               606528.0  Electronic devices  \n",
       "26638              4.6               514702.0  Mobile Accessories  \n",
       "13718              4.5               485684.0            Bathroom  \n",
       "19827              4.3               360827.0  Electronic devices  \n",
       "28327              4.3               356841.0       Personal Care  \n",
       "3965               4.6               330599.0               Books  \n",
       "4606               4.6               330598.0               Books  \n",
       "4748               4.7               310976.0               Books  \n",
       "14930              4.5               306999.0            Bathroom  \n",
       "8895               4.5               306939.0             Bedroom  \n",
       "13919              4.5               305331.0            Bathroom  \n",
       "13877              4.5               305329.0            Bathroom  \n",
       "30858              4.0               298937.0           Car Stuff  \n",
       "4036               4.4               297786.0               Books  \n",
       "4779               4.4               297786.0               Books  \n",
       "16968              4.6               280895.0             Fashion  \n",
       "19755              4.6               278505.0  Electronic devices  \n",
       "20695              4.4               275877.0  Electronic devices  \n",
       "9305               4.4               275627.0             Bedroom  "
      ]
     },
     "metadata": {},
     "output_type": "display_data"
    }
   ],
   "source": [
    "# Get the top 20 rows with the highest values in the 'customerReviewCount' column\n",
    "top_20_reviews_count = merged_df.nlargest(20, 'customerReviewCount')\n",
    "\n",
    "# Select only the desired columns and rename them\n",
    "top_20_reviews_count = top_20_reviews_count[['ASIN', 'name', 'customerReview', 'customerReviewCount', 'Category']].rename(columns={'name': 'Product name', 'customerReview': 'Customer Review', 'customerReviewCount': 'Customer Review Count'})\n",
    "\n",
    "# Display the top 20 rows\n",
    "display(top_20_reviews_count)\n"
   ]
  },
  {
   "cell_type": "code",
   "execution_count": 52,
   "metadata": {},
   "outputs": [
    {
     "data": {
      "text/html": [
       "<div>\n",
       "<style scoped>\n",
       "    .dataframe tbody tr th:only-of-type {\n",
       "        vertical-align: middle;\n",
       "    }\n",
       "\n",
       "    .dataframe tbody tr th {\n",
       "        vertical-align: top;\n",
       "    }\n",
       "\n",
       "    .dataframe thead th {\n",
       "        text-align: right;\n",
       "    }\n",
       "</style>\n",
       "<table border=\"1\" class=\"dataframe\">\n",
       "  <thead>\n",
       "    <tr style=\"text-align: right;\">\n",
       "      <th></th>\n",
       "      <th>Product name</th>\n",
       "      <th>Top 20 Most Expensive Item</th>\n",
       "      <th>customerReview</th>\n",
       "      <th>Category</th>\n",
       "    </tr>\n",
       "  </thead>\n",
       "  <tbody>\n",
       "    <tr>\n",
       "      <th>24169</th>\n",
       "      <td>nvidia h100 80 gb graphic card pcie hbm2e memory 350w 900-21010-0000-000 gpu card only, bulk pkg w 1-year warraty</td>\n",
       "      <td>30099.99</td>\n",
       "      <td>1.0</td>\n",
       "      <td>Computer Components</td>\n",
       "    </tr>\n",
       "    <tr>\n",
       "      <th>21119</th>\n",
       "      <td>lg signature 88-inch class oled z2 series alexa built-in 8k smart tv, 120hz refresh rate, ai-powered , dolby vision iq and dolby atmos, wisa ready, cloud gaming (oled88z2pua, 2022)</td>\n",
       "      <td>26044.61</td>\n",
       "      <td>3.7</td>\n",
       "      <td>Electronic devices</td>\n",
       "    </tr>\n",
       "    <tr>\n",
       "      <th>22897</th>\n",
       "      <td>jvc dla-nz9 d-ila laser home theater projector, 3000 lumen, native 4k with 8k e-shiftx technology, frame adapt hdr, 2-hdmi inputs, supports 8k-60p/4k-120p, ideal for gaming, hdr10+</td>\n",
       "      <td>22390.25</td>\n",
       "      <td>5.0</td>\n",
       "      <td>Peripheral Devices</td>\n",
       "    </tr>\n",
       "    <tr>\n",
       "      <th>23058</th>\n",
       "      <td>sony vplvw885es 4k hdr laser home theater video projector</td>\n",
       "      <td>21235.86</td>\n",
       "      <td>3.6</td>\n",
       "      <td>Peripheral Devices</td>\n",
       "    </tr>\n",
       "    <tr>\n",
       "      <th>9237</th>\n",
       "      <td>kohler 30754-pa-hb1 k-30754-pa-hb1 numi 2.0 comfort height smart toilet, honed black</td>\n",
       "      <td>9937.50</td>\n",
       "      <td>5.0</td>\n",
       "      <td>Bedroom</td>\n",
       "    </tr>\n",
       "    <tr>\n",
       "      <th>21254</th>\n",
       "      <td>samsung un78js9100 curved 78-inch 4k ultra hd smart led tv (2015 model)</td>\n",
       "      <td>8998.94</td>\n",
       "      <td>3.1</td>\n",
       "      <td>Electronic devices</td>\n",
       "    </tr>\n",
       "    <tr>\n",
       "      <th>9104</th>\n",
       "      <td>kohler 30754-pa-0 numi 2.0 comfort height smart toilet, white</td>\n",
       "      <td>8625.00</td>\n",
       "      <td>3.3</td>\n",
       "      <td>Bedroom</td>\n",
       "    </tr>\n",
       "    <tr>\n",
       "      <th>21291</th>\n",
       "      <td>sony xr85z9k 85\" 8k bravia xr hdr mini led smart tv with an additional 4 year coverage by epic protect (2022)</td>\n",
       "      <td>7298.00</td>\n",
       "      <td>1.0</td>\n",
       "      <td>Electronic devices</td>\n",
       "    </tr>\n",
       "    <tr>\n",
       "      <th>9029</th>\n",
       "      <td>toto ms989cumfg#01 neorest ah dual flush 1.0 or 0.8 gpf toilet with intergeated bidet seat and ewater white-ms989cumfg, cotton white</td>\n",
       "      <td>5134.43</td>\n",
       "      <td>4.1</td>\n",
       "      <td>Bedroom</td>\n",
       "    </tr>\n",
       "    <tr>\n",
       "      <th>6797</th>\n",
       "      <td>jura giga 6 automatic coffee machine with p.e.p. (silver)</td>\n",
       "      <td>4998.00</td>\n",
       "      <td>3.0</td>\n",
       "      <td>Kitchen</td>\n",
       "    </tr>\n",
       "    <tr>\n",
       "      <th>23035</th>\n",
       "      <td>jvc dla-np5 d-ila 4k hdr home theater projector, high-brightness at 1900 lumens, low latency mode for gaming, 2 hdmi/hdcp 2.3 inputs (4k/120p compatible), hdr10+ 65 mm all-glass lens</td>\n",
       "      <td>4988.51</td>\n",
       "      <td>5.0</td>\n",
       "      <td>Peripheral Devices</td>\n",
       "    </tr>\n",
       "    <tr>\n",
       "      <th>22939</th>\n",
       "      <td>formovie theater ultra short throw projector 2800 lumen triple laser ust fengmi t1 global lasertv for movie theater and home theater (- 110\" spectra ust screen)</td>\n",
       "      <td>4798.00</td>\n",
       "      <td>4.2</td>\n",
       "      <td>Peripheral Devices</td>\n",
       "    </tr>\n",
       "    <tr>\n",
       "      <th>9167</th>\n",
       "      <td>kohler k-5401-pa-0 veil comfort height skirted one-piece elongated dual-flush intelligent toilet, white</td>\n",
       "      <td>4725.00</td>\n",
       "      <td>4.0</td>\n",
       "      <td>Bedroom</td>\n",
       "    </tr>\n",
       "    <tr>\n",
       "      <th>29561</th>\n",
       "      <td>terra pure green tea cleansing bar soap, travel size hotel amenities - bulk set for airbnb essentials | 0.6 oz bar soap | full pallet 64 cases with 400 units each - 25,600 pieces</td>\n",
       "      <td>4429.49</td>\n",
       "      <td>4.2</td>\n",
       "      <td>Personal Care</td>\n",
       "    </tr>\n",
       "    <tr>\n",
       "      <th>21263</th>\n",
       "      <td>sylvox 75 inch outdoor tv, 2000 nits full sun led outdoor tv, 4k uhd smart television ip55 waterproof, high brightness, atsc &amp; ntsc tuner, support bluetooth &amp; 2.4g wifi, for outside &amp; backyard</td>\n",
       "      <td>3999.00</td>\n",
       "      <td>4.4</td>\n",
       "      <td>Electronic devices</td>\n",
       "    </tr>\n",
       "    <tr>\n",
       "      <th>7604</th>\n",
       "      <td>amana commercial rc30s2 amana rc chef line commercial microwave oven, 3000w, stainless steel</td>\n",
       "      <td>3912.75</td>\n",
       "      <td>3.9</td>\n",
       "      <td>Kitchen</td>\n",
       "    </tr>\n",
       "    <tr>\n",
       "      <th>9105</th>\n",
       "      <td>kohler 77780-0 karing smart toilet with auto open &amp; close, one-piece elongated intelligent bidet toilet with heated seat, 1.08 gpf, white</td>\n",
       "      <td>3750.00</td>\n",
       "      <td>2.7</td>\n",
       "      <td>Bedroom</td>\n",
       "    </tr>\n",
       "    <tr>\n",
       "      <th>24652</th>\n",
       "      <td>amd ryzen threadripper 3990x 64-core, 128-thread unlocked desktop processor</td>\n",
       "      <td>3600.00</td>\n",
       "      <td>4.3</td>\n",
       "      <td>Computer Components</td>\n",
       "    </tr>\n",
       "    <tr>\n",
       "      <th>23062</th>\n",
       "      <td>epson epiqvision ultra ls800 ultra short throw 3-chip 3lcd smart streaming laser projector, 4,000 lumens, 4k pro-uhd, hdr, 150\", android tv, 2.1ch yamaha built-in speakers - black</td>\n",
       "      <td>3499.99</td>\n",
       "      <td>3.9</td>\n",
       "      <td>Peripheral Devices</td>\n",
       "    </tr>\n",
       "    <tr>\n",
       "      <th>8610</th>\n",
       "      <td>bull outdoor products bbq 44000 angus 75,000 btu grill with cart, liquid propane</td>\n",
       "      <td>3369.00</td>\n",
       "      <td>4.2</td>\n",
       "      <td>Kitchen</td>\n",
       "    </tr>\n",
       "  </tbody>\n",
       "</table>\n",
       "</div>"
      ],
      "text/plain": [
       "                                                                                                                                                                                           Product name  \\\n",
       "24169                                                                                 nvidia h100 80 gb graphic card pcie hbm2e memory 350w 900-21010-0000-000 gpu card only, bulk pkg w 1-year warraty   \n",
       "21119              lg signature 88-inch class oled z2 series alexa built-in 8k smart tv, 120hz refresh rate, ai-powered , dolby vision iq and dolby atmos, wisa ready, cloud gaming (oled88z2pua, 2022)   \n",
       "22897              jvc dla-nz9 d-ila laser home theater projector, 3000 lumen, native 4k with 8k e-shiftx technology, frame adapt hdr, 2-hdmi inputs, supports 8k-60p/4k-120p, ideal for gaming, hdr10+   \n",
       "23058                                                                                                                                         sony vplvw885es 4k hdr laser home theater video projector   \n",
       "9237                                                                                                               kohler 30754-pa-hb1 k-30754-pa-hb1 numi 2.0 comfort height smart toilet, honed black   \n",
       "21254                                                                                                                           samsung un78js9100 curved 78-inch 4k ultra hd smart led tv (2015 model)   \n",
       "9104                                                                                                                                      kohler 30754-pa-0 numi 2.0 comfort height smart toilet, white   \n",
       "21291                                                                                     sony xr85z9k 85\" 8k bravia xr hdr mini led smart tv with an additional 4 year coverage by epic protect (2022)   \n",
       "9029                                                               toto ms989cumfg#01 neorest ah dual flush 1.0 or 0.8 gpf toilet with intergeated bidet seat and ewater white-ms989cumfg, cotton white   \n",
       "6797                                                                                                                                          jura giga 6 automatic coffee machine with p.e.p. (silver)   \n",
       "23035            jvc dla-np5 d-ila 4k hdr home theater projector, high-brightness at 1900 lumens, low latency mode for gaming, 2 hdmi/hdcp 2.3 inputs (4k/120p compatible), hdr10+ 65 mm all-glass lens   \n",
       "22939                                  formovie theater ultra short throw projector 2800 lumen triple laser ust fengmi t1 global lasertv for movie theater and home theater (- 110\" spectra ust screen)   \n",
       "9167                                                                                            kohler k-5401-pa-0 veil comfort height skirted one-piece elongated dual-flush intelligent toilet, white   \n",
       "29561                terra pure green tea cleansing bar soap, travel size hotel amenities - bulk set for airbnb essentials | 0.6 oz bar soap | full pallet 64 cases with 400 units each - 25,600 pieces   \n",
       "21263  sylvox 75 inch outdoor tv, 2000 nits full sun led outdoor tv, 4k uhd smart television ip55 waterproof, high brightness, atsc & ntsc tuner, support bluetooth & 2.4g wifi, for outside & backyard   \n",
       "7604                                                                                                       amana commercial rc30s2 amana rc chef line commercial microwave oven, 3000w, stainless steel   \n",
       "9105                                                          kohler 77780-0 karing smart toilet with auto open & close, one-piece elongated intelligent bidet toilet with heated seat, 1.08 gpf, white   \n",
       "24652                                                                                                                       amd ryzen threadripper 3990x 64-core, 128-thread unlocked desktop processor   \n",
       "23062               epson epiqvision ultra ls800 ultra short throw 3-chip 3lcd smart streaming laser projector, 4,000 lumens, 4k pro-uhd, hdr, 150\", android tv, 2.1ch yamaha built-in speakers - black   \n",
       "8610                                                                                                                   bull outdoor products bbq 44000 angus 75,000 btu grill with cart, liquid propane   \n",
       "\n",
       "       Top 20 Most Expensive Item  customerReview             Category  \n",
       "24169                    30099.99             1.0  Computer Components  \n",
       "21119                    26044.61             3.7   Electronic devices  \n",
       "22897                    22390.25             5.0   Peripheral Devices  \n",
       "23058                    21235.86             3.6   Peripheral Devices  \n",
       "9237                      9937.50             5.0              Bedroom  \n",
       "21254                     8998.94             3.1   Electronic devices  \n",
       "9104                      8625.00             3.3              Bedroom  \n",
       "21291                     7298.00             1.0   Electronic devices  \n",
       "9029                      5134.43             4.1              Bedroom  \n",
       "6797                      4998.00             3.0              Kitchen  \n",
       "23035                     4988.51             5.0   Peripheral Devices  \n",
       "22939                     4798.00             4.2   Peripheral Devices  \n",
       "9167                      4725.00             4.0              Bedroom  \n",
       "29561                     4429.49             4.2        Personal Care  \n",
       "21263                     3999.00             4.4   Electronic devices  \n",
       "7604                      3912.75             3.9              Kitchen  \n",
       "9105                      3750.00             2.7              Bedroom  \n",
       "24652                     3600.00             4.3  Computer Components  \n",
       "23062                     3499.99             3.9   Peripheral Devices  \n",
       "8610                      3369.00             4.2              Kitchen  "
      ]
     },
     "metadata": {},
     "output_type": "display_data"
    }
   ],
   "source": [
    "# Remove rows with NaN values in the 'customerReview' column\n",
    "merged_df = merged_df.dropna(subset=['customerReview'])\n",
    "\n",
    "# Get the top 20 rows with the highest values in the 'price' column\n",
    "top_20_expensive_items = merged_df.nlargest(20, 'price')\n",
    "\n",
    "# Select only the desired columns and rename them\n",
    "top_20_expensive_items = top_20_expensive_items[['name', 'price', 'customerReview', 'Category']].rename(columns={'name': 'Product name', 'price': 'Top 20 Most Expensive Item'})\n",
    "\n",
    "# Display the top 20 rows\n",
    "display(top_20_expensive_items)\n"
   ]
  },
  {
   "cell_type": "code",
   "execution_count": 53,
   "metadata": {},
   "outputs": [
    {
     "data": {
      "text/plain": [
       "Category\n",
       "Fashion                4314\n",
       "Personal Care          3691\n",
       "Children               3068\n",
       "Bedroom                2479\n",
       "Kitchen                2402\n",
       "Living Room            2147\n",
       "Electronic devices     2100\n",
       "Computer Components    1847\n",
       "Peripheral Devices     1768\n",
       "Bathroom               1525\n",
       "Travel Essentials      1484\n",
       "Cleaning Material      1389\n",
       "Books                  1281\n",
       "Office Supplies        1262\n",
       "Mobile Accessories     1102\n",
       "Car Stuff               911\n",
       "Name: customerReview, dtype: int64"
      ]
     },
     "metadata": {},
     "output_type": "display_data"
    }
   ],
   "source": [
    "review_counts = merged_df.groupby('Category')['customerReview'].count().sort_values(ascending=False)\n",
    "\n",
    "# Display the counts\n",
    "display(review_counts)"
   ]
  },
  {
   "cell_type": "code",
   "execution_count": 55,
   "metadata": {},
   "outputs": [
    {
     "data": {
      "text/plain": [
       "reviewLocation\n",
       "United States      70906\n",
       "Canada              3629\n",
       "Mexico              1251\n",
       "United Kingdom       878\n",
       "India                359\n",
       "Germany              303\n",
       "Brazil               259\n",
       "Japan                203\n",
       "France               165\n",
       "Spain                144\n",
       "Italy                144\n",
       "Australia            111\n",
       "Singapore             22\n",
       "Netherlands            4\n",
       "Name: count, dtype: int64"
      ]
     },
     "metadata": {},
     "output_type": "display_data"
    }
   ],
   "source": [
    "# Filter the DataFrame to include only rows where reviewVotes are not null and not equal to 0\n",
    "filtered_reviews_df = reviews_df.dropna(subset=['reviewVotes'])\n",
    "filtered_reviews_df = filtered_reviews_df[filtered_reviews_df['reviewVotes'] != 0]\n",
    "\n",
    "# Count the occurrences of review locations\n",
    "review_location_counts = filtered_reviews_df['reviewLocation'].value_counts()\n",
    "\n",
    "# Display the counts\n",
    "display(review_location_counts)\n"
   ]
  },
  {
   "cell_type": "code",
   "execution_count": 56,
   "metadata": {},
   "outputs": [
    {
     "name": "stdout",
     "output_type": "stream",
     "text": [
      "ProductName\n",
      "shaperx_bodysuit_for_women_tummy_control_shapewear_seamless_sculpting_thong_body_shaper_tank_top                                                                             2108\n",
      "pursteam_10in1_steam_mop_floor_steamer_with_detachable_handheld_steam_cleaner_for_tile_hardwood_floors                                                                       1950\n",
      "eureka_home_lightweight_mini_cleaner_for_carpet_and_hard_floor_corded_stick_vacuum_with_powerful_suction_for_multisurfaces_3in1_handheld_vac_blaze_black                     1874\n",
      "it_ends_with_us                                                                                                                                                              1872\n",
      "i_am_watching_you                                                                                                                                                            1570\n",
      "nizoral_antidandruff_shampoo_with_1%_ketoconazole_fresh_scent_7_fl_oz                                                                                                        1476\n",
      "chicco_bravo_trio_travel_system_orion                                                                                                                                        1454\n",
      "cerave_daily_moisturizing_lotion_for_dry_skin_|_body_lotion_face_moisturizer_with_hyaluronic_acid_and_ceramides_|_daily_moisturizer_|_fragrance_free_|_oilfree_|_12_ounce    1439\n",
      "ge_10_cu_ft_microwave_oven_with_air_fryer_broiler_convection__1050w_stainless_steel                                                                                          1328\n",
      "tplink_ax5400_wifi_6_router_archer_ax73_dual_band_gigabit_wireless_internet_router_highspeed_ax_router_for_streaming_long_range_coverage_5_ghz                               1310\n",
      "Name: reviewVotes, dtype: int64\n"
     ]
    }
   ],
   "source": [
    "# Count the review votes per product name\n",
    "review_votes_counts = reviews_df.groupby('ProductName')['reviewVotes'].sum()\n",
    "\n",
    "# Sort the review votes counts in descending order\n",
    "review_votes_counts_sorted = review_votes_counts.sort_values(ascending=False)\n",
    "reviews_df = reviews_df.applymap(lambda x: x.replace('_', ' ') if isinstance(x, str) else x)\n",
    "\n",
    "\n",
    "# Select the top 10 products\n",
    "top_10_products = review_votes_counts_sorted.head(10)\n",
    "\n",
    "# Display the top 10 products\n",
    "print(top_10_products)\n"
   ]
  },
  {
   "cell_type": "markdown",
   "metadata": {},
   "source": [
    "# Define Trainset and Testset\n",
    "\n",
    "Get top 20 reviewers"
   ]
  },
  {
   "cell_type": "code",
   "execution_count": 9,
   "metadata": {},
   "outputs": [],
   "source": [
    "non_nan_count = df_utility.notna().sum(axis=1)\n",
    "df_top_reviewers = df_utility.loc[\n",
    "    non_nan_count.sort_values(ascending=False).index].iloc[:20]\n",
    "top_uids = df_top_reviewers.index.tolist()\n",
    "df_non_top_reviewers = df_utility.loc[\n",
    "    non_nan_count.sort_values(ascending=False).index].iloc[20:]"
   ]
  },
  {
   "cell_type": "markdown",
   "metadata": {},
   "source": [
    "# Try all algorithms\n",
    "We try all algorithms and evaluate the quality of recommendations.\n",
    "* Neighborhood-based collaborative filtering\n",
    "    * KNNBasic\n",
    "    * KNNWithMeans\n",
    "    * SVD\n",
    "* Latent-factor based collaborative filtering\n",
    "    * Alternating Least Squares (ALS)\n",
    "* Content-based collaborative filtering\n",
    "    * User profile numeric aggregation with Euclidean distance"
   ]
  },
  {
   "cell_type": "markdown",
   "metadata": {},
   "source": [
    "## Global Baseline Average\n",
    "\n",
    "The formula for the global baseline $b_{ui}$ for user $u$ and item $i$ is:\n",
    "\n",
    "$$ b_{ui} = \\mu + b_u + b_i $$\n",
    "\n",
    "where:\n",
    "- $\\mu$ global average rating across all ratings.\n",
    "- $b_u$ user bias, calculated as the average rating given by the user minus the global average rating.\n",
    "- $b_i$ item bias, calculated as the average rating received by the item minus the global average rating."
   ]
  },
  {
   "cell_type": "code",
   "execution_count": 10,
   "metadata": {},
   "outputs": [],
   "source": [
    "global_avg = all_reviews_df['customerReview'].mean()\n",
    "user_avg = all_reviews_df.groupby('reviewerID')['customerReview'].mean()\n",
    "items_avg = all_reviews_df.groupby('ASIN')['customerReview'].mean()\n",
    "user_bias = user_avg - global_avg\n",
    "item_bias = items_avg - global_avg\n",
    "\n",
    "try:\n",
    "    all_reviews_df.reset_index(inplace=True)\n",
    "except:\n",
    "    pass\n",
    "\n",
    "predictions = []\n",
    "for user in top_uids:\n",
    "    user_specific_df = all_reviews_df[all_reviews_df['reviewerID'] == user]\n",
    "    rated_items = user_specific_df['ASIN'].unique()\n",
    "    for item in item_bias.index:\n",
    "        if item not in rated_items:\n",
    "            if user in user_bias.index and item in item_bias.index:\n",
    "                b_ui = global_avg + user_bias[user] + item_bias[item]\n",
    "                b_ui = min(b_ui, 5)\n",
    "                predictions.append((user, item, b_ui))\n",
    "                \n",
    "predictions_df = pd.DataFrame(predictions, columns=['reviewerID', 'ASIN', 'predicted_rating'])\n",
    " \n",
    "recommendations_global_average_baseline = {}\n",
    " \n",
    "for user in top_uids:\n",
    "    top_predictions = {}\n",
    "    user_predictions = predictions_df[predictions_df['reviewerID'] == user]\n",
    "    preds = user_predictions.sort_values(\n",
    "        by='predicted_rating', ascending=False).head(10)\n",
    "    recommendations_global_average_baseline[user] = preds[\"ASIN\"].values"
   ]
  },
  {
   "cell_type": "markdown",
   "metadata": {},
   "source": [
    "## Neighborhood-based Collaborative Filtering\n",
    "\n",
    "From Surprise"
   ]
  },
  {
   "cell_type": "code",
   "execution_count": 11,
   "metadata": {},
   "outputs": [],
   "source": [
    "melted_user_df = df_utility.copy().reset_index().melt(\n",
    "    'reviewerID', var_name='ASIN', value_name='rating').dropna()\n",
    "reader = Reader(rating_scale=(0,5))\n",
    "dataset = Dataset.load_from_df(melted_user_df, reader)\n",
    "algos = [KNNBasic(verbose=False), KNNWithMeans(verbose=False), SVD()]"
   ]
  },
  {
   "cell_type": "code",
   "execution_count": 12,
   "metadata": {},
   "outputs": [
    {
     "data": {
      "image/png": "[encoded data removed]",
      "text/plain": [
       "<Figure size 1000x600 with 1 Axes>"
      ]
     },
     "metadata": {},
     "output_type": "display_data"
    }
   ],
   "source": [
    "metrics_list = []\n",
    "for algo in algos:\n",
    "    metrics = cross_validate(algo, dataset)\n",
    "    metrics['mean_test_rmse'] = np.mean(metrics['test_rmse'])\n",
    "    metrics['mean_test_mae'] = np.mean(metrics['test_mae'])\n",
    "    metrics_list.append(metrics)\n",
    "\n",
    "k = range(0,5)\n",
    "plt.figure(figsize=(10, 6))\n",
    "plt.plot(k, metrics_list[0]['test_rmse'], label='Test RMSE for KNNBasic')\n",
    "plt.plot(k, metrics_list[1]['test_rmse'], label='Test RMSE for KNNBWithMeans')\n",
    "plt.plot(k, metrics_list[2]['test_rmse'], label='Test RMSE for SVD')\n",
    "plt.plot(k, metrics_list[0]['test_mae'], label='Test MAE for KNNBasic')\n",
    "plt.plot(k, metrics_list[1]['test_mae'], label='Test RMSE for KNNWithMeans')\n",
    "plt.plot(k, metrics_list[2]['test_mae'], label='Test RMSE for SVD')\n",
    "plt.plot(k, metrics_list[0]['fit_time'], label='Test Fit time for KNNBasic')\n",
    "plt.plot(k, metrics_list[1]['fit_time'], label='Test Fit time for KNNWithMeans')\n",
    "plt.plot(k, metrics_list[2]['fit_time'], label='Test Fit time for SVD')\n",
    "plt.plot(k, metrics_list[0]['test_time'], label='Test time for KNNBasic')\n",
    "plt.plot(k, metrics_list[1]['test_time'], label='Test time for KNNWithMeans')\n",
    "plt.plot(k, metrics_list[2]['test_time'], label='Test time for SVD')\n",
    "plt.xlabel(\"K fold\")\n",
    "plt.ylabel(\"Score\")\n",
    "plt.legend(loc='lower right')\n",
    "plt.title(\"Performance of KNNBasic and KNNWithMeans\")\n",
    "plt.show()"
   ]
  },
  {
   "cell_type": "code",
   "execution_count": 13,
   "metadata": {},
   "outputs": [
    {
     "data": {
      "image/png": "[encoded data removed]",
      "text/plain": [
       "<Figure size 800x400 with 3 Axes>"
      ]
     },
     "metadata": {},
     "output_type": "display_data"
    }
   ],
   "source": [
    "fig, axes = plt.subplots(1, 3, figsize=(8,4), layout='constrained')\n",
    "method = [\"KNNBasic\", \"KNNWithMeans\", \"SVD\"]\n",
    "ind = 0\n",
    "for m in metrics_list:\n",
    "    for k in m:\n",
    "        if 'mean' in k:\n",
    "            axes[ind].bar(k, m[k])\n",
    "            axes[ind].set_title(method[ind])\n",
    "    ind += 1\n",
    "plt.show()"
   ]
  },
  {
   "cell_type": "markdown",
   "metadata": {},
   "source": [
    "### NDCG\n",
    "\n",
    "Taken from https://github.com/NicolasHug/Surprise/blob/master/examples/precision_recall_at_k.py and https://github.com/NicolasHug/Surprise/issues/339"
   ]
  },
  {
   "cell_type": "code",
   "execution_count": 14,
   "metadata": {},
   "outputs": [
    {
     "data": {
      "text/html": [
       "<div>\n",
       "<style scoped>\n",
       "    .dataframe tbody tr th:only-of-type {\n",
       "        vertical-align: middle;\n",
       "    }\n",
       "\n",
       "    .dataframe tbody tr th {\n",
       "        vertical-align: top;\n",
       "    }\n",
       "\n",
       "    .dataframe thead th {\n",
       "        text-align: right;\n",
       "    }\n",
       "</style>\n",
       "<table border=\"1\" class=\"dataframe\">\n",
       "  <thead>\n",
       "    <tr style=\"text-align: right;\">\n",
       "      <th></th>\n",
       "      <th>NDCG</th>\n",
       "    </tr>\n",
       "  </thead>\n",
       "  <tbody>\n",
       "    <tr>\n",
       "      <th>(KNNBasic, ndcg)</th>\n",
       "      <td>0.162636</td>\n",
       "    </tr>\n",
       "    <tr>\n",
       "      <th>(KNNWithMeans, ndcg)</th>\n",
       "      <td>0.162639</td>\n",
       "    </tr>\n",
       "    <tr>\n",
       "      <th>(SVD, ndcg)</th>\n",
       "      <td>0.162609</td>\n",
       "    </tr>\n",
       "  </tbody>\n",
       "</table>\n",
       "</div>"
      ],
      "text/plain": [
       "                          NDCG\n",
       "(KNNBasic, ndcg)      0.162636\n",
       "(KNNWithMeans, ndcg)  0.162639\n",
       "(SVD, ndcg)           0.162609"
      ]
     },
     "metadata": {},
     "output_type": "display_data"
    }
   ],
   "source": [
    "def get_ndcg(surprise_predictions, k_highest_scores=None):\n",
    "    \"\"\" \n",
    "    Calculates the ndcg (normalized discounted cumulative gain) from surprise predictions, using sklearn.metrics.ndcg_score and scipy.sparse\n",
    "  \n",
    "    Parameters: \n",
    "    surprise_predictions (List of surprise.prediction_algorithms.predictions.Prediction): list of predictions\n",
    "    k_highest_scores (positive integer): Only consider the highest k scores in the ranking. If None, use all. \n",
    "  \n",
    "    Returns: \n",
    "    float in [0., 1.]: The averaged NDCG scores over all recommendations\n",
    "  \n",
    "    \"\"\"\n",
    "    from sklearn.metrics import ndcg_score\n",
    "    from scipy import sparse\n",
    "    \n",
    "    uids = []\n",
    "    iids = []\n",
    "    uid_mapping = {}\n",
    "    iid_mapping = {}\n",
    "\n",
    "    iter = 0\n",
    "    for s in surprise_predictions:\n",
    "        if s.uid in uid_mapping:\n",
    "            uids.append(uid_mapping[s.uid])\n",
    "        else:\n",
    "            uid_mapping[s.uid] = iter\n",
    "            uids.append(iter)\n",
    "\n",
    "        if s.iid in iid_mapping:\n",
    "            iids.append(iid_mapping[s.iid])\n",
    "        else:\n",
    "            iid_mapping[s.iid] = iter\n",
    "            iids.append(iter)\n",
    "\n",
    "        iter += 1\n",
    "\n",
    "    r_uis = [p.r_ui for p in surprise_predictions ]\n",
    "    ests = [p.est for p in surprise_predictions ]\n",
    "    \n",
    "    assert(len(uids) == len(iids) == len(r_uis) == len(ests) )    \n",
    "    \n",
    "    sparse_preds = sparse.coo_matrix( (ests, (uids , iids )) )\n",
    "    sparse_vals = sparse.coo_matrix( (r_uis, (uids , iids )) )\n",
    "    \n",
    "    dense_preds = sparse_preds.toarray()\n",
    "    dense_vals = sparse_vals.toarray()\n",
    "    \n",
    "    return ndcg_score(y_true= dense_vals , y_score= dense_preds, k=k_highest_scores)\n",
    "\n",
    "algo_res = {'KNNBasic': {'ndcg': []}, 'KNNWithMeans': {'ndcg': []}, 'SVD': {'ndcg': []}}\n",
    "method = [\"KNNBasic\", \"KNNWithMeans\", \"SVD\"]\n",
    "iter = 0\n",
    "reader = Reader(rating_scale=(0,5))\n",
    "df_melt_all = (df_utility.reset_index()\n",
    "                    .melt('reviewerID', var_name='ASIN', value_name='raw_ratings')\n",
    "                    .dropna())\n",
    "#trainset = dataset.load_from_df(\n",
    "#    df_melt_train, reader).build_full_trainset()\n",
    "trainset = dataset.load_from_df(\n",
    "    df_melt_all, reader).build_full_trainset()\n",
    "for algo in algos:\n",
    "    algo.fit(trainset)\n",
    "    predictions = algo.test(trainset.build_testset())\n",
    "    ndcg = get_ndcg(predictions, k_highest_scores=10)\n",
    "    algo_res[method[iter]]['ndcg'].append(ndcg)\n",
    "    iter += 1\n",
    "\n",
    "df_metrics_surprise = pd.DataFrame.from_dict({(i,j): algo_res[i][j] \n",
    "                           for i in algo_res.keys() \n",
    "                           for j in algo_res[i].keys()},\n",
    "                       orient='index')\n",
    "df_metrics_surprise.rename(columns={0: 'NDCG'}, inplace=True)\n",
    "display(df_metrics_surprise)"
   ]
  },
  {
   "cell_type": "markdown",
   "metadata": {},
   "source": [
    "### Get TopN Recommendations For All Users\n",
    "\n",
    "Taken from https://github.com/NicolasHug/Surprise/blob/master/examples/top_n_recommendations.py"
   ]
  },
  {
   "cell_type": "code",
   "execution_count": 15,
   "metadata": {},
   "outputs": [],
   "source": [
    "def get_random_users(lst, n):\n",
    "    rand_ids = random.sample(lst, k=n)\n",
    "    return rand_ids\n",
    "\n",
    "\n",
    "def get_ilocs(df_utility, userids):\n",
    "    userids_ilocs = []\n",
    "    original_indices = df_utility.index\n",
    "    for u in userids:\n",
    "        userids_ilocs.append(original_indices.get_loc(u))\n",
    "    return userids_ilocs\n",
    "\n",
    "user_histories = {}\n",
    "for uid in top_uids:\n",
    "    user_histories[uid] = reviews_df.loc[uid]['ASIN'].tolist()\n",
    "\n",
    "userids_ilocs = get_ilocs(df_utility, top_uids)"
   ]
  },
  {
   "cell_type": "code",
   "execution_count": 17,
   "metadata": {},
   "outputs": [],
   "source": [
    "def get_top_n(predictions, user_history, n=10):\n",
    "    \"\"\"Return the top-N recommendation for each user from a set of predictions.\n",
    "\n",
    "    Args:\n",
    "        predictions(list of Prediction objects): The list of predictions, as\n",
    "            returned by the test method of an algorithm.\n",
    "        n(int): The number of recommendation to output for each user. Default\n",
    "            is 10.\n",
    "\n",
    "    Returns:\n",
    "    A dict where keys are user (raw) ids and values are lists of tuples:\n",
    "        [(raw item id, rating estimation), ...] of size n.\n",
    "    \"\"\"\n",
    "    top_n = defaultdict(list)\n",
    "    for uid, iid, true_r, est, _ in predictions:\n",
    "        if iid not in user_history:\n",
    "            top_n[uid].append((iid, est))\n",
    "    for uid, user_ratings in top_n.items():\n",
    "        user_ratings.sort(key=lambda x: x[1], reverse=True)\n",
    "        top_n[uid] = user_ratings[:n]\n",
    "    return top_n\n",
    "\n",
    "testset = dataset.load_from_df(\n",
    "    df_melt_all, reader).build_full_trainset().build_anti_testset()\n",
    "\n",
    "algo_names = ['KNNBasic', 'KNNWithMeans', 'SVD']\n",
    "recommendations_surprise = {'KNNBasic': {}, 'KNNWithMeans': {}, 'SVD': {}}\n",
    "iter = 0\n",
    "for algo in algos:\n",
    "    predictions = algo.test(testset)\n",
    "    for uid in top_uids:\n",
    "        top_n = get_top_n(predictions, user_histories[uid], n=10)\n",
    "        for uid, user_ratings in top_n.items():\n",
    "            if uid in top_uids:\n",
    "\n",
    "                recommendations_surprise[\n",
    "                    algo_names[iter]][uid] = [iid for (iid, _) in user_ratings]\n",
    "    iter += 1"
   ]
  },
  {
   "cell_type": "markdown",
   "metadata": {},
   "source": [
    "## Latent-factor based Collaborative Filtering\n",
    "\n",
    "### ALS"
   ]
  },
  {
   "cell_type": "code",
   "execution_count": 18,
   "metadata": {},
   "outputs": [
    {
     "name": "stderr",
     "output_type": "stream",
     "text": [
      "/Library/Frameworks/Python.framework/Versions/3.11/lib/python3.11/site-packages/implicit/cpu/als.py:95: RuntimeWarning: OpenBLAS is configured to use 8 threads. It is highly recommended to disable its internal threadpool by setting the environment variable 'OPENBLAS_NUM_THREADS=1' or by calling 'threadpoolctl.threadpool_limits(1, \"blas\")'. Having OpenBLAS use a threadpool can lead to severe performance issues here.\n",
      "  check_blas_config()\n"
     ]
    },
    {
     "data": {
      "application/vnd.jupyter.widget-view+json": {
       "model_id": "ff78693330ad48efb906071d2f1b0309",
       "version_major": 2,
       "version_minor": 0
      },
      "text/plain": [
       "  0%|          | 0/261 [00:00<?, ?it/s]"
      ]
     },
     "metadata": {},
     "output_type": "display_data"
    },
    {
     "data": {
      "application/vnd.jupyter.widget-view+json": {
       "model_id": "859cdddf51054ceba536334b83487cb0",
       "version_major": 2,
       "version_minor": 0
      },
      "text/plain": [
       "  0%|          | 0/261 [00:00<?, ?it/s]"
      ]
     },
     "metadata": {},
     "output_type": "display_data"
    },
    {
     "data": {
      "application/vnd.jupyter.widget-view+json": {
       "model_id": "8ca205289937489f8e001c8423e5ad63",
       "version_major": 2,
       "version_minor": 0
      },
      "text/plain": [
       "  0%|          | 0/261 [00:00<?, ?it/s]"
      ]
     },
     "metadata": {},
     "output_type": "display_data"
    },
    {
     "data": {
      "application/vnd.jupyter.widget-view+json": {
       "model_id": "2bf234d7b6a447339306f8260d67df0d",
       "version_major": 2,
       "version_minor": 0
      },
      "text/plain": [
       "  0%|          | 0/261 [00:00<?, ?it/s]"
      ]
     },
     "metadata": {},
     "output_type": "display_data"
    },
    {
     "data": {
      "application/vnd.jupyter.widget-view+json": {
       "model_id": "be7c781a7cba46bdb1bedf6860021631",
       "version_major": 2,
       "version_minor": 0
      },
      "text/plain": [
       "  0%|          | 0/261 [00:00<?, ?it/s]"
      ]
     },
     "metadata": {},
     "output_type": "display_data"
    },
    {
     "data": {
      "application/vnd.jupyter.widget-view+json": {
       "model_id": "746def41dab6425f83e52be6ecef6697",
       "version_major": 2,
       "version_minor": 0
      },
      "text/plain": [
       "  0%|          | 0/261 [00:00<?, ?it/s]"
      ]
     },
     "metadata": {},
     "output_type": "display_data"
    },
    {
     "data": {
      "application/vnd.jupyter.widget-view+json": {
       "model_id": "06d68110e3e04628b9691dc9e09fc5bf",
       "version_major": 2,
       "version_minor": 0
      },
      "text/plain": [
       "  0%|          | 0/261 [00:00<?, ?it/s]"
      ]
     },
     "metadata": {},
     "output_type": "display_data"
    },
    {
     "data": {
      "application/vnd.jupyter.widget-view+json": {
       "model_id": "7709c1baf5b04033ae5f8976c85f1b41",
       "version_major": 2,
       "version_minor": 0
      },
      "text/plain": [
       "  0%|          | 0/261 [00:00<?, ?it/s]"
      ]
     },
     "metadata": {},
     "output_type": "display_data"
    },
    {
     "data": {
      "application/vnd.jupyter.widget-view+json": {
       "model_id": "f12947010fd048eeb847e80683941dc6",
       "version_major": 2,
       "version_minor": 0
      },
      "text/plain": [
       "  0%|          | 0/261 [00:00<?, ?it/s]"
      ]
     },
     "metadata": {},
     "output_type": "display_data"
    },
    {
     "data": {
      "application/vnd.jupyter.widget-view+json": {
       "model_id": "1f1d63a5bf4b4479bdd7088015f38589",
       "version_major": 2,
       "version_minor": 0
      },
      "text/plain": [
       "  0%|          | 0/261 [00:00<?, ?it/s]"
      ]
     },
     "metadata": {},
     "output_type": "display_data"
    },
    {
     "data": {
      "application/vnd.jupyter.widget-view+json": {
       "model_id": "2de4689995ee49f8b8f4e899aff434a2",
       "version_major": 2,
       "version_minor": 0
      },
      "text/plain": [
       "  0%|          | 0/261 [00:00<?, ?it/s]"
      ]
     },
     "metadata": {},
     "output_type": "display_data"
    },
    {
     "data": {
      "application/vnd.jupyter.widget-view+json": {
       "model_id": "f7df4d43ec8c477eb10815b2f2f1ac7c",
       "version_major": 2,
       "version_minor": 0
      },
      "text/plain": [
       "  0%|          | 0/261 [00:00<?, ?it/s]"
      ]
     },
     "metadata": {},
     "output_type": "display_data"
    },
    {
     "data": {
      "application/vnd.jupyter.widget-view+json": {
       "model_id": "11944ad89d7c42689d311594863af737",
       "version_major": 2,
       "version_minor": 0
      },
      "text/plain": [
       "  0%|          | 0/261 [00:00<?, ?it/s]"
      ]
     },
     "metadata": {},
     "output_type": "display_data"
    },
    {
     "data": {
      "application/vnd.jupyter.widget-view+json": {
       "model_id": "b4630654a1544edeb74e5e9522194e0c",
       "version_major": 2,
       "version_minor": 0
      },
      "text/plain": [
       "  0%|          | 0/261 [00:00<?, ?it/s]"
      ]
     },
     "metadata": {},
     "output_type": "display_data"
    },
    {
     "data": {
      "application/vnd.jupyter.widget-view+json": {
       "model_id": "2a6ab3ce7fd844e7800aced7c44d42fa",
       "version_major": 2,
       "version_minor": 0
      },
      "text/plain": [
       "  0%|          | 0/261 [00:00<?, ?it/s]"
      ]
     },
     "metadata": {},
     "output_type": "display_data"
    },
    {
     "data": {
      "application/vnd.jupyter.widget-view+json": {
       "model_id": "fa2d408534c74b46876fd4ce2876f9c7",
       "version_major": 2,
       "version_minor": 0
      },
      "text/plain": [
       "  0%|          | 0/261 [00:00<?, ?it/s]"
      ]
     },
     "metadata": {},
     "output_type": "display_data"
    },
    {
     "data": {
      "application/vnd.jupyter.widget-view+json": {
       "model_id": "6ba56fe4753341c4b67b837e7f1c424e",
       "version_major": 2,
       "version_minor": 0
      },
      "text/plain": [
       "  0%|          | 0/261 [00:00<?, ?it/s]"
      ]
     },
     "metadata": {},
     "output_type": "display_data"
    },
    {
     "data": {
      "application/vnd.jupyter.widget-view+json": {
       "model_id": "ed8e98e7751b4a348a1417cc054da8b9",
       "version_major": 2,
       "version_minor": 0
      },
      "text/plain": [
       "  0%|          | 0/261 [00:00<?, ?it/s]"
      ]
     },
     "metadata": {},
     "output_type": "display_data"
    },
    {
     "data": {
      "application/vnd.jupyter.widget-view+json": {
       "model_id": "58da5911e7ee4c61b385c460c4b20354",
       "version_major": 2,
       "version_minor": 0
      },
      "text/plain": [
       "  0%|          | 0/261 [00:00<?, ?it/s]"
      ]
     },
     "metadata": {},
     "output_type": "display_data"
    },
    {
     "data": {
      "application/vnd.jupyter.widget-view+json": {
       "model_id": "a4547ff1d5134f0093e550a07af7bcf6",
       "version_major": 2,
       "version_minor": 0
      },
      "text/plain": [
       "  0%|          | 0/261 [00:00<?, ?it/s]"
      ]
     },
     "metadata": {},
     "output_type": "display_data"
    },
    {
     "data": {
      "application/vnd.jupyter.widget-view+json": {
       "model_id": "0454d4f1451941baad2be61562c92243",
       "version_major": 2,
       "version_minor": 0
      },
      "text/plain": [
       "  0%|          | 0/261 [00:00<?, ?it/s]"
      ]
     },
     "metadata": {},
     "output_type": "display_data"
    },
    {
     "data": {
      "application/vnd.jupyter.widget-view+json": {
       "model_id": "dbf9120352e6406db762acbe7701f1fd",
       "version_major": 2,
       "version_minor": 0
      },
      "text/plain": [
       "  0%|          | 0/261 [00:00<?, ?it/s]"
      ]
     },
     "metadata": {},
     "output_type": "display_data"
    },
    {
     "data": {
      "application/vnd.jupyter.widget-view+json": {
       "model_id": "beb7594bda944fc0821868006c15aca5",
       "version_major": 2,
       "version_minor": 0
      },
      "text/plain": [
       "  0%|          | 0/261 [00:00<?, ?it/s]"
      ]
     },
     "metadata": {},
     "output_type": "display_data"
    },
    {
     "data": {
      "application/vnd.jupyter.widget-view+json": {
       "model_id": "b7006fde28454847a2f132e10f6cdaf2",
       "version_major": 2,
       "version_minor": 0
      },
      "text/plain": [
       "  0%|          | 0/261 [00:00<?, ?it/s]"
      ]
     },
     "metadata": {},
     "output_type": "display_data"
    },
    {
     "data": {
      "application/vnd.jupyter.widget-view+json": {
       "model_id": "d5b3b3e3f5324d5cb80bf868c88b4712",
       "version_major": 2,
       "version_minor": 0
      },
      "text/plain": [
       "  0%|          | 0/261 [00:00<?, ?it/s]"
      ]
     },
     "metadata": {},
     "output_type": "display_data"
    },
    {
     "data": {
      "application/vnd.jupyter.widget-view+json": {
       "model_id": "600c6f1a7dcf44668d30e1fa93d31fa3",
       "version_major": 2,
       "version_minor": 0
      },
      "text/plain": [
       "  0%|          | 0/261 [00:00<?, ?it/s]"
      ]
     },
     "metadata": {},
     "output_type": "display_data"
    },
    {
     "data": {
      "application/vnd.jupyter.widget-view+json": {
       "model_id": "3272f05e3a3a47a39b981e3b1a003c4c",
       "version_major": 2,
       "version_minor": 0
      },
      "text/plain": [
       "  0%|          | 0/261 [00:00<?, ?it/s]"
      ]
     },
     "metadata": {},
     "output_type": "display_data"
    },
    {
     "data": {
      "application/vnd.jupyter.widget-view+json": {
       "model_id": "b07dd24cc72e442c8f6c1d7a3f528e16",
       "version_major": 2,
       "version_minor": 0
      },
      "text/plain": [
       "  0%|          | 0/261 [00:00<?, ?it/s]"
      ]
     },
     "metadata": {},
     "output_type": "display_data"
    },
    {
     "data": {
      "image/png": "[encoded data removed]",
      "text/plain": [
       "<Figure size 640x480 with 1 Axes>"
      ]
     },
     "metadata": {},
     "output_type": "display_data"
    }
   ],
   "source": [
    "csr_utility = scipy.sparse.csr_matrix(df_utility.fillna(0).values)\n",
    "#!export OPENBLAS_NUM_THREADS=1\n",
    "#threadpoolctl.threadpool_limits(1, \"blas\")\n",
    "\n",
    "auc_list = []\n",
    "mean_ave_precision_list = []\n",
    "ndcg_list = []\n",
    "precision_list = []\n",
    "\n",
    "factors = [50, 100, 150, 200, 250, 300,\n",
    "           350]\n",
    "\n",
    "for factor in factors:\n",
    "    model = ALS(\n",
    "        factors=factor,\n",
    "        regularization=0.05,\n",
    "        alpha=1.5,\n",
    "        use_cg=True,\n",
    "        iterations=20,\n",
    "        random_state=143\n",
    "    )\n",
    "    model.fit(csr_utility, show_progress=False)\n",
    "\n",
    "    # evaluation\n",
    "    training_set, test_set = train_test_split(\n",
    "        csr_utility,\n",
    "        train_percentage=0.85,\n",
    "        random_state=143\n",
    "    )\n",
    "    auc = AUC_at_k(model,training_set,test_set,\n",
    "                K=len(df_utility), show_progress=True)\n",
    "    mean_ave_precision = mean_average_precision_at_k(model, training_set,\n",
    "                test_set, K=len(df_utility), show_progress=True)\n",
    "    ndcg = ndcg_at_k(model, training_set, test_set,\n",
    "                K=len(df_utility), show_progress=True)\n",
    "    precision = precision_at_k(model, training_set,\n",
    "                test_set, K=len(df_utility), show_progress=True)\n",
    "    auc_list.append(auc)\n",
    "    mean_ave_precision_list.append(mean_ave_precision)\n",
    "    ndcg_list.append(ndcg)\n",
    "    precision_list.append(precision)\n",
    "plt.plot(factors, auc_list, label='AUC')\n",
    "plt.plot(factors, mean_ave_precision_list, label='Mean Average Precision')\n",
    "plt.plot(factors, ndcg_list, label='NDCG')\n",
    "plt.plot(factors, precision_list, label='Precision')\n",
    "plt.xlabel('Number of latent factors')\n",
    "plt.ylabel('Performance score')\n",
    "plt.title(\"Performance of ALS across number of factors\")\n",
    "plt.legend()\n",
    "plt.show()"
   ]
  },
  {
   "cell_type": "markdown",
   "metadata": {},
   "source": [
    "Select `factors=250`"
   ]
  },
  {
   "cell_type": "code",
   "execution_count": 19,
   "metadata": {},
   "outputs": [
    {
     "data": {
      "application/vnd.jupyter.widget-view+json": {
       "model_id": "a6df2e332e8e4d2681af8356395635cc",
       "version_major": 2,
       "version_minor": 0
      },
      "text/plain": [
       "  0%|          | 0/261 [00:00<?, ?it/s]"
      ]
     },
     "metadata": {},
     "output_type": "display_data"
    },
    {
     "data": {
      "application/vnd.jupyter.widget-view+json": {
       "model_id": "cefb7fedc23a4a2884c8344bcf00a49f",
       "version_major": 2,
       "version_minor": 0
      },
      "text/plain": [
       "  0%|          | 0/261 [00:00<?, ?it/s]"
      ]
     },
     "metadata": {},
     "output_type": "display_data"
    },
    {
     "data": {
      "application/vnd.jupyter.widget-view+json": {
       "model_id": "50f0065399fa431693a0d17e47499b31",
       "version_major": 2,
       "version_minor": 0
      },
      "text/plain": [
       "  0%|          | 0/261 [00:00<?, ?it/s]"
      ]
     },
     "metadata": {},
     "output_type": "display_data"
    },
    {
     "name": "stdout",
     "output_type": "stream",
     "text": [
      "AUC: 0.9999996569801286\n",
      "precision: 1.0\n",
      "ndcg: 0.9966702289408866\n"
     ]
    }
   ],
   "source": [
    "model = ALS(\n",
    "    factors=250,\n",
    "    regularization=0.05,\n",
    "    alpha=1.5,\n",
    "    calculate_training_loss=False,\n",
    "    use_cg=True,\n",
    "    iterations=20,\n",
    "    random_state=143\n",
    ")\n",
    "model.fit(csr_utility, show_progress=False)\n",
    "\n",
    "auc = AUC_at_k(model,training_set,test_set,\n",
    "            K=len(df_utility), show_progress=True)\n",
    "ndcg_als = ndcg_at_k(model, training_set, test_set,\n",
    "            K=len(df_utility), show_progress=True)\n",
    "precision = precision_at_k(model, training_set,\n",
    "            test_set, K=len(df_utility), show_progress=True)\n",
    "\n",
    "print(f\"AUC: {auc}\")\n",
    "print(f\"precision: {precision}\")\n",
    "print(f\"ndcg: {ndcg_als}\")\n",
    "\n",
    "ids, scores = model.recommend(userids_ilocs, csr_utility[userids_ilocs])\n",
    "recommendations_als_ilocs = [(x, y, z) for x, y, z in zip(userids_ilocs, ids, scores)]\n",
    "recommendations_als = {}\n",
    "\n",
    "for user_ind, reco_ids, scores in recommendations_als_ilocs:\n",
    "    recos = {}\n",
    "    reviewer_id = df_utility.iloc[user_ind, :].name\n",
    "    reco_ids = df_utility.columns[reco_ids]\n",
    "    n = 0\n",
    "    for i in range(len(reco_ids)):\n",
    "        if reco_ids[i] not in user_histories[reviewer_id]:\n",
    "            recos[reco_ids[i]] = scores[i]\n",
    "            n += 1\n",
    "            if n == 9: break\n",
    "    recommendations_als[reviewer_id]  = recos"
   ]
  },
  {
   "cell_type": "markdown",
   "metadata": {},
   "source": [
    "## Content-based Recommender Systems\n",
    "\n",
    "* Basic content-based recommender system using numerical user profile aggregation. Try cosine, euclidean, and jaccard distance metrics\n",
    "* Hybrid recommender using LightFM\n",
    "\n",
    "We first use a basic content-based recommender system that relies on aggregating the numeric user profile and various distance metrics such as cosine, euclidean, and jaccard. Then, we compare the results to a Hybrid Recommender System as provided by the LightFM library."
   ]
  },
  {
   "cell_type": "markdown",
   "metadata": {},
   "source": [
    "### Content-Based Recommender\n",
    "\n",
    "* Use numerical user profile aggregation\n",
    "* Try different distance metrics such as cosine, euclidean, and Jaccard distance"
   ]
  },
  {
   "cell_type": "code",
   "execution_count": 20,
   "metadata": {},
   "outputs": [],
   "source": [
    "def get_user_profile(user_ratings_nonzero, items_df):\n",
    "    \"\"\"\n",
    "    Return series representing aggregated user profile\n",
    "    \"\"\"\n",
    "    nonzero_asins = user_ratings_nonzero.index.tolist()\n",
    "    user_profile = items_df.mul(user_ratings_nonzero, axis=0).sum(\n",
    "        axis=0) / user_ratings_nonzero.notna().sum()\n",
    "    return user_profile, nonzero_asins\n",
    "\n",
    "\n",
    "def get_recommendations(user_profile, items_df,\n",
    "        n, user_history, eval, dist):\n",
    "    \"\"\"\n",
    "    Return dictionary of sorted recommendations\n",
    "    \"\"\"\n",
    "    if dist == 'cos':\n",
    "        dist_func = distance.cosine\n",
    "    if dist == 'euc':\n",
    "        dist_func = distance.euclidean\n",
    "    if dist == 'jac':\n",
    "        dist_func = distance.jaccard\n",
    "    similarities = {}\n",
    "    for ind, feats in items_df.iterrows():\n",
    "        if ind not in user_history:\n",
    "            similarities[ind] = np.abs(dist_func(feats, user_profile))\n",
    "        if eval:\n",
    "            similarities[ind] = np.abs(dist_func(feats, user_profile))\n",
    "    if dist == 'euc':\n",
    "        rev = False\n",
    "    if dist == 'cos' or dist == 'jac':\n",
    "        rev = True\n",
    "    sorted_similarites = dict(sorted(\n",
    "        similarities.items(), key=lambda item: item[1], reverse=rev)[:n])\n",
    "    return sorted_similarites\n",
    "\n",
    "\n",
    "def dcg(user_history, recommendations):\n",
    "    \"\"\"\n",
    "    Return dcg for this user given their history\n",
    "    and recommendations\n",
    "    \"\"\"\n",
    "    ranking = 1\n",
    "    dcg_final = 0\n",
    "    actual_ratings = user_history.reset_index()[\n",
    "        ['ASIN', 'customerReview']].set_index('ASIN').to_dict()['customerReview']\n",
    "    for key, value in recommendations.items():\n",
    "        dcg_final += ((2**actual_ratings[key]) - 1) / log(ranking + 1)\n",
    "        ranking += 1\n",
    "    return dcg_final / len(recommendations)\n",
    "\n",
    "\n",
    "def idcg(user_history, recommendations):\n",
    "    \"\"\"\n",
    "    Return ndcg for this user given their history\n",
    "    and recommendations\n",
    "    \"\"\"\n",
    "    actual_ratings = user_history.reset_index()[\n",
    "        ['ASIN', 'customerReview']].set_index('ASIN').to_dict()['customerReview']\n",
    "    ranking = 1\n",
    "    idcg_final = 0\n",
    "    for key in actual_ratings.keys():\n",
    "        idcg_final += ((2**actual_ratings[key]) - 1) / log(ranking + 1)\n",
    "        ranking += 1\n",
    "    return idcg_final / len(recommendations)\n",
    "\n",
    "\n",
    "def basic_content_based_recommender(\n",
    "    userids, df_utility, items_df,\n",
    "    reviews_df, n, eval, dist):\n",
    "    \"\"\"\n",
    "    Return recommendations for the list of users.\n",
    "\n",
    "    Parameters:\n",
    "    userids: STRING list\n",
    "    df_utility: DataFrame representing the utility matrix\n",
    "    items_df: DataFrame representing the itemset\n",
    "    reviews_df: DataFrame representing user history\n",
    "    asins_df: DataFrame that contains mapping between ASINs and Product Names\n",
    "    n: INTEGER Number of recommendations to output\n",
    "    dist: STRING distance function to be used\n",
    "    \"\"\"\n",
    "    recommendations = {}\n",
    "    ndcg = None\n",
    "    dcg_list = []\n",
    "    idcg_list = []\n",
    "    ndcg_list = []\n",
    "    iter = 0\n",
    "    for user in userids:\n",
    "        user_ratings = df_utility.loc[user]\n",
    "        user_ratings_nonzero = user_ratings[user_ratings > 0]\n",
    "        user_profile, nonzero_asins = get_user_profile(user_ratings_nonzero, items_df)\n",
    "        user_history_df = reviews_df.loc[user].drop([\n",
    "            \"Unnamed: 0\", \"reviewDate\", \"reviewLocation\", \"reviewVotes\"\n",
    "        ], axis=1)\n",
    "        user_history_df = user_history_df.sort_values('customerReview', ascending=False)\n",
    "        if eval:\n",
    "            recos = get_recommendations(\n",
    "                user_profile,\n",
    "                items_df.loc[nonzero_asins],\n",
    "                len(user_profile),\n",
    "                reviews_df.loc[user]['ASIN'].tolist(),\n",
    "                eval,\n",
    "                dist\n",
    "            )\n",
    "            dcg_list.append(dcg(user_history_df, recos))\n",
    "            idcg_list.append(idcg(user_history_df, recos))\n",
    "        else:\n",
    "            recos = get_recommendations(\n",
    "                user_profile,\n",
    "                items_df,\n",
    "                n,\n",
    "                reviews_df.loc[user]['ASIN'].tolist(),\n",
    "                eval,\n",
    "                dist\n",
    "            )\n",
    "        recommendations[user] = recos\n",
    "        iter += 1\n",
    "    if eval:\n",
    "        dcg_final = np.mean(dcg_list)\n",
    "        idcg_final = np.mean(idcg_list)\n",
    "        ndcg = dcg_final / idcg_final\n",
    "        ndcg_list.append(ndcg)\n",
    "    return recommendations, ndcg_list"
   ]
  },
  {
   "cell_type": "markdown",
   "metadata": {},
   "source": [
    "## Evaluation: NDCG @ K\n",
    "\n",
    "Get average NDCG across all users. Compare NDCG across different distance metrics."
   ]
  },
  {
   "cell_type": "code",
   "execution_count": 21,
   "metadata": {},
   "outputs": [
    {
     "name": "stdout",
     "output_type": "stream",
     "text": [
      "shape of df_utility: (451, 33510)\n",
      "shape of items_df: (33510, 2438)\n",
      "shape of asins_df: (33510, 2)\n",
      "average ndcg with distance metric euc is 0.9688043443461651\n"
     ]
    }
   ],
   "source": [
    "np.seterr(invalid='ignore')\n",
    "ndcg_content = {}\n",
    "items_df, df_utility, reviews_df, asins_df = load_dataset()\n",
    "df_utility.fillna(0, inplace=True)\n",
    "items_df.fillna(0, inplace=True)\n",
    "recommendations_content = {}\n",
    "try:\n",
    "    items_df.drop(['level_0'], inplace=True, axis=1)\n",
    "except:\n",
    "    pass\n",
    "try:\n",
    "    reviews_df.set_index('reviewerID', inplace=True)\n",
    "except:\n",
    "    pass\n",
    "try:\n",
    "    asins_df.set_index('ASIN', inplace=True)\n",
    "except:\n",
    "    pass\n",
    "\n",
    "# evaluate ndcg\n",
    "recommendations, ndcg_list = basic_content_based_recommender(\n",
    "    top_uids, df_utility, items_df.copy(),\n",
    "    reviews_df, 10, True, 'euc')\n",
    "ave_ndcg = np.mean(ndcg_list)\n",
    "print(f\"average ndcg with distance metric euc is {ave_ndcg}\")\n",
    "\n",
    "# generate actual recommendations\n",
    "recommendations_content['euc'], _ = basic_content_based_recommender(\n",
    "    top_uids, df_utility, items_df.copy(),\n",
    "    reviews_df, 10, False, 'euc')"
   ]
  },
  {
   "cell_type": "markdown",
   "metadata": {},
   "source": [
    "## Hybrid Recommender Using LightFM\n",
    "\n",
    "A hybrid latent representation recommender model.\n",
    "\n",
    "The model learns embeddings (latent representations in a high-dimensional space) for users and items in a way that encodes user preferences over items. When multiplied together, these representations produce scores for every item for a given user; items scored highly are more likely to be interesting to the user."
   ]
  },
  {
   "cell_type": "markdown",
   "metadata": {},
   "source": [
    "### LightFM Training Model\n",
    "\n",
    "- Logistic: useful when both positive (1) and negative (-1) interactions are present.\n",
    "- BPR: Bayesian Personalised Ranking 1 pairwise loss. Maximises the prediction difference between a positive example and a randomly chosen negative example. Useful when only positive interactions are present and optimising ROC AUC is desired.\n",
    "- WARP: Weighted Approximate-Rank Pairwise 2 loss. Maximises the rank of positive examples by repeatedly sampling negative examples until rank violating one is found. Useful when only positive interactions are present and optimising the top of the recommendation list (precision@k) is desired.\n",
    "- k-OS WARP: k-th order statistic loss 3. A modification of WARP that uses the k-th positive example for any given user as a basis for pairwise updates."
   ]
  },
  {
   "cell_type": "code",
   "execution_count": 22,
   "metadata": {},
   "outputs": [
    {
     "name": "stdout",
     "output_type": "stream",
     "text": [
      "shape of df_utility: (451, 33510)\n",
      "shape of items_df: (33510, 2438)\n",
      "shape of asins_df: (33510, 2)\n"
     ]
    }
   ],
   "source": [
    "items_df, df_utility, reviews_df, asins_df = load_dataset()\n",
    "melted_user_df = df_utility.copy().reset_index().melt(\n",
    "    'reviewerID', var_name='ASIN', value_name='rating').dropna()\n",
    "udf = melted_user_df"
   ]
  },
  {
   "cell_type": "code",
   "execution_count": 23,
   "metadata": {},
   "outputs": [],
   "source": [
    "dataset = LightFMDataset()\n",
    "dataset.fit(users=udf['reviewerID'].unique(),\n",
    "            items=udf['ASIN'].unique())\n",
    "\n",
    "(interactions, _) = dataset.build_interactions(zip(udf['reviewerID'], \n",
    "                                                   udf['ASIN'],\n",
    "                                                   udf['rating']))"
   ]
  },
  {
   "cell_type": "code",
   "execution_count": 24,
   "metadata": {},
   "outputs": [
    {
     "data": {
      "text/plain": [
       "<lightfm.lightfm.LightFM at 0x311f5e050>"
      ]
     },
     "execution_count": 24,
     "metadata": {},
     "output_type": "execute_result"
    }
   ],
   "source": [
    "Train, Test = random_train_test_split(interactions, test_percentage=0.2, random_state=42)\n",
    "model = LightFM(loss='warp', no_components=50)\n",
    "model.fit(Train, epochs=30, num_threads=1)"
   ]
  },
  {
   "cell_type": "code",
   "execution_count": 25,
   "metadata": {},
   "outputs": [
    {
     "name": "stderr",
     "output_type": "stream",
     "text": [
      "Processing Train: 100%|██████████| 10/10 [00:00<00:00, 17.24it/s]"
     ]
    },
    {
     "name": "stdout",
     "output_type": "stream",
     "text": [
      "Train Results:\n",
      "K = 1: AUC score: 0.999976396560669, Precision: 0.995555579662323, Recall: 0.24232091673758344\n",
      "K = 2: AUC score: 0.999976396560669, Precision: 0.9866666793823242, Recall: 0.47183760067093405\n",
      "K = 3: AUC score: 0.999976396560669, Precision: 0.9659259915351868, Recall: 0.6771893014393013\n",
      "K = 4: AUC score: 0.999976396560669, Precision: 0.9133333563804626, Recall: 0.8250393187059853\n",
      "K = 5: AUC score: 0.999976396560669, Precision: 0.8320000767707825, Recall: 0.9111671137504471\n",
      "K = 6: AUC score: 0.999976396560669, Precision: 0.7385185360908508, Recall: 0.949831945831946\n",
      "K = 7: AUC score: 0.999976396560669, Precision: 0.6526984572410583, Recall: 0.9660619534786201\n",
      "K = 8: AUC score: 0.999976396560669, Precision: 0.5833333134651184, Recall: 0.977005365005365\n",
      "K = 9: AUC score: 0.999976396560669, Precision: 0.5266667008399963, Recall: 0.9841384510551178\n",
      "K = 10: AUC score: 0.999976396560669, Precision: 0.47933337092399597, Recall: 0.9889814136480803\n"
     ]
    },
    {
     "name": "stderr",
     "output_type": "stream",
     "text": [
      "\n"
     ]
    }
   ],
   "source": [
    "from lightfm.evaluation import precision_at_k, recall_at_k, auc_score\n",
    "\n",
    "k_values = range(1, 11)\n",
    "auc_scores = []\n",
    "precision_scores = []\n",
    "recall_scores = []\n",
    "\n",
    "for k in tqdm(k_values, desc=\"Processing Train\"):\n",
    "    auc = auc_score(model, Train).mean()\n",
    "    precision = precision_at_k(model, Train, k=k).mean()\n",
    "    recall = recall_at_k(model, Train, k=k).mean()\n",
    "\n",
    "    auc_scores.append(auc)\n",
    "    precision_scores.append(precision)\n",
    "    recall_scores.append(recall)\n",
    "\n",
    "print(\"Train Results:\")\n",
    "for k, auc, precision, recall in zip(k_values, auc_scores, precision_scores, recall_scores):\n",
    "    print(f'K = {k}: AUC score: {auc}, Precision: {precision}, Recall: {recall}')"
   ]
  },
  {
   "cell_type": "code",
   "execution_count": 26,
   "metadata": {},
   "outputs": [
    {
     "name": "stderr",
     "output_type": "stream",
     "text": [
      "Processing Test: 100%|██████████| 10/10 [00:00<00:00, 20.09it/s]"
     ]
    },
    {
     "name": "stdout",
     "output_type": "stream",
     "text": [
      "Test Results:\n",
      "K = 1: AUC score: 0.32604750990867615, Precision: 0.0061349691823124886, Recall: 0.004089979550102249\n",
      "K = 2: AUC score: 0.32604750990867615, Precision: 0.0061349691823124886, Recall: 0.006646216768916155\n",
      "K = 3: AUC score: 0.32604750990867615, Precision: 0.007157464511692524, Recall: 0.01278118609406953\n",
      "K = 4: AUC score: 0.32604750990867615, Precision: 0.006901840679347515, Recall: 0.01687116564417178\n",
      "K = 5: AUC score: 0.32604750990867615, Precision: 0.006748466286808252, Recall: 0.023006134969325152\n",
      "K = 6: AUC score: 0.32604750990867615, Precision: 0.008691206574440002, Recall: 0.03680981595092025\n",
      "K = 7: AUC score: 0.32604750990867615, Precision: 0.009202455170452595, Recall: 0.04754601226993865\n",
      "K = 8: AUC score: 0.32604750990867615, Precision: 0.008819018490612507, Recall: 0.049006719252118025\n",
      "K = 9: AUC score: 0.32604750990867615, Precision: 0.008861621841788292, Recall: 0.05312591294186386\n",
      "K = 10: AUC score: 0.32604750990867615, Precision: 0.009202455170452595, Recall: 0.06386210926088227\n"
     ]
    },
    {
     "name": "stderr",
     "output_type": "stream",
     "text": [
      "\n"
     ]
    }
   ],
   "source": [
    "k_values = range(1, 11)\n",
    "auc_scores = []\n",
    "precision_scores = []\n",
    "recall_scores = []\n",
    "\n",
    "for k in tqdm(k_values, desc=\"Processing Test\"):\n",
    "    auc = auc_score(model, Test).mean()\n",
    "    precision = precision_at_k(model, Test, k=k).mean()\n",
    "    recall = recall_at_k(model, Test, k=k).mean()\n",
    "    \n",
    "    auc_scores.append(auc)\n",
    "    precision_scores.append(precision)\n",
    "    recall_scores.append(recall)\n",
    "\n",
    "print(\"Test Results:\")\n",
    "for k, auc, precision, recall in zip(k_values, auc_scores, precision_scores, recall_scores):\n",
    "    print(f'K = {k}: AUC score: {auc}, Precision: {precision}, Recall: {recall}')"
   ]
  },
  {
   "cell_type": "code",
   "execution_count": 27,
   "metadata": {},
   "outputs": [
    {
     "name": "stdout",
     "output_type": "stream",
     "text": [
      "NDCG@10: 0.9923651790960745\n"
     ]
    }
   ],
   "source": [
    "def dcg_at_k(r, k, method=1):\n",
    "    r = np.asfarray(r)[:k]\n",
    "    if r.size:\n",
    "        if method == 0:\n",
    "            return r[0] + np.sum(r[1:] / np.log2(np.arange(2, r.size + 1)))\n",
    "        elif method == 1:\n",
    "            return np.sum(r / np.log2(np.arange(2, r.size + 2)))\n",
    "    return 0.\n",
    "\n",
    "def ndcg_at_k(r, k, method=1):\n",
    "    dcg_max = dcg_at_k(sorted(r, reverse=True), k, method)\n",
    "    if not dcg_max:\n",
    "        return 0.\n",
    "    return dcg_at_k(r, k, method) / dcg_max\n",
    "\n",
    "def calculate_ndcg(model, dataset, interactions, k=10):\n",
    "    ndcg_scores = []\n",
    "    \n",
    "    for user_id in dataset.mapping()[0].keys():\n",
    "        try:\n",
    "            user_index = dataset.mapping()[0][user_id]\n",
    "            true_items = interactions.tocsr()[user_index].indices\n",
    "            \n",
    "            predicted_scores = model.predict(user_index, np.arange(dataset.interactions_shape()[1]))\n",
    "            sorted_item_indices = np.argsort(-predicted_scores)\n",
    "            \n",
    "            r = [1 if i in true_items else 0 for i in sorted_item_indices]\n",
    "            ndcg_score = ndcg_at_k(r, k)\n",
    "            ndcg_scores.append(ndcg_score)\n",
    "        except KeyError:\n",
    "            continue\n",
    "    \n",
    "    return np.mean(ndcg_scores)\n",
    "\n",
    "k = 10\n",
    "ndcg_score = calculate_ndcg(model, dataset, Train, k=k)\n",
    "\n",
    "print(f\"NDCG@{k}: {ndcg_score}\")"
   ]
  },
  {
   "cell_type": "code",
   "execution_count": 28,
   "metadata": {},
   "outputs": [],
   "source": [
    "def get_top_n_recommendations_with_latest_transactions(model, dataset, user_id, transactions_df, user_histories, n=10):\n",
    "    try:\n",
    "        transactions_df.reset_index(inplace=True)\n",
    "    except:\n",
    "        pass\n",
    "\n",
    "    # Generate predictions for all items for this user\n",
    "    user_index = dataset.mapping()[0][user_id]\n",
    "    \n",
    "    # Retrieve the actual item indices from the dataset mapping\n",
    "    item_indices = list(dataset.mapping()[2].values())  # This ensures you're using the correct item indices\n",
    "    \n",
    "    # Generate predictions using the correct item indices\n",
    "    scores = model.predict(user_index, np.array(item_indices))\n",
    "    \n",
    "    \n",
    "    \n",
    "    # Map scores to item IDs\n",
    "    reverse_item_map = {v: k for k, v in dataset.mapping()[2].items()}\n",
    "    scored_items = [(score, reverse_item_map[i]) for score, i in zip(scores, item_indices)]\n",
    "    \n",
    "    # Proceed with filtering scores for latest items and ranking them as before\n",
    "    #latest_transactions = transactions_df[transactions_df['reviewerID'] == user_id]\\\n",
    "    #                        .sort_values('reviewDate', ascending=False)\\\n",
    "    #                        .head(10)\n",
    "    #latest_items = set(latest_transactions['ASIN'])\n",
    "    latest_scores = [score for score in scored_items if score[1] not in user_histories[user_id]]\n",
    "    latest_scores.sort(reverse=True, key=lambda x: x[0])  # Sort based on scores\n",
    "    top_item_ids = [item for _, item in latest_scores[:n]]\n",
    "\n",
    "    return top_item_ids\n",
    "\n",
    "recommendations_lightfm = {}\n",
    "for uid in top_uids:\n",
    "    recommendations_lightfm[uid] = get_top_n_recommendations_with_latest_transactions(\n",
    "        model, dataset, uid, reviews_df, user_histories, n=10)"
   ]
  },
  {
   "cell_type": "markdown",
   "metadata": {},
   "source": [
    "# Compare NDCG across algorithms"
   ]
  },
  {
   "cell_type": "code",
   "execution_count": 29,
   "metadata": {},
   "outputs": [
    {
     "data": {
      "text/html": [
       "<div>\n",
       "<style scoped>\n",
       "    .dataframe tbody tr th:only-of-type {\n",
       "        vertical-align: middle;\n",
       "    }\n",
       "\n",
       "    .dataframe tbody tr th {\n",
       "        vertical-align: top;\n",
       "    }\n",
       "\n",
       "    .dataframe thead th {\n",
       "        text-align: right;\n",
       "    }\n",
       "</style>\n",
       "<table border=\"1\" class=\"dataframe\">\n",
       "  <thead>\n",
       "    <tr style=\"text-align: right;\">\n",
       "      <th></th>\n",
       "      <th>NDCG</th>\n",
       "    </tr>\n",
       "  </thead>\n",
       "  <tbody>\n",
       "    <tr>\n",
       "      <th>KNNBasic</th>\n",
       "      <td>0.162636</td>\n",
       "    </tr>\n",
       "    <tr>\n",
       "      <th>KNNWithMeans</th>\n",
       "      <td>0.162639</td>\n",
       "    </tr>\n",
       "    <tr>\n",
       "      <th>SVD</th>\n",
       "      <td>0.162609</td>\n",
       "    </tr>\n",
       "    <tr>\n",
       "      <th>ALS</th>\n",
       "      <td>0.996670</td>\n",
       "    </tr>\n",
       "    <tr>\n",
       "      <th>Content-based</th>\n",
       "      <td>0.968804</td>\n",
       "    </tr>\n",
       "    <tr>\n",
       "      <th>LightFM</th>\n",
       "      <td>0.992365</td>\n",
       "    </tr>\n",
       "  </tbody>\n",
       "</table>\n",
       "</div>"
      ],
      "text/plain": [
       "                   NDCG\n",
       "KNNBasic       0.162636\n",
       "KNNWithMeans   0.162639\n",
       "SVD            0.162609\n",
       "ALS            0.996670\n",
       "Content-based  0.968804\n",
       "LightFM        0.992365"
      ]
     },
     "metadata": {},
     "output_type": "display_data"
    },
    {
     "data": {
      "image/png": "[encoded data removed]",
      "text/plain": [
       "<Figure size 1000x500 with 1 Axes>"
      ]
     },
     "metadata": {},
     "output_type": "display_data"
    }
   ],
   "source": [
    "df_surprise_ndcg = df_metrics_surprise.loc[[\n",
    "    (\"KNNBasic\", \"ndcg\"), (\"KNNWithMeans\", \"ndcg\"), (\"SVD\", \"ndcg\")\n",
    "    ]]\n",
    "df_surprise_ndcg.rename(index={\n",
    "    (\"KNNBasic\", \"ndcg\"): \"KNNBasic\",\n",
    "    (\"KNNWithMeans\", \"ndcg\"): \"KNNWithMeans\",\n",
    "    (\"SVD\", \"ndcg\"): \"SVD\"\n",
    "    }, inplace=True)\n",
    "\n",
    "ndcg_dict = {\n",
    "    \"KNNBasic\": df_surprise_ndcg.loc[\"KNNBasic\"]['NDCG'],\n",
    "    \"KNNWithMeans\": df_surprise_ndcg.loc[\"KNNWithMeans\"]['NDCG'],\n",
    "    \"SVD\": df_surprise_ndcg.loc[\"SVD\"]['NDCG'],\n",
    "    \"ALS\": ndcg_als,\n",
    "    \"Content-based\": ave_ndcg,\n",
    "    \"LightFM\": ndcg_score\n",
    "}\n",
    "\n",
    "ndcg_df = pd.DataFrame.from_dict(ndcg_dict, orient=\"index\")\n",
    "ndcg_df.rename(columns={0: \"NDCG\"}, inplace=True)\n",
    "display(ndcg_df)\n",
    "\n",
    "ndcg_df.plot(kind='bar', figsize=(10, 5))\n",
    "plt.title(\"NDCG across different algorithms\")\n",
    "plt.show()"
   ]
  },
  {
   "cell_type": "markdown",
   "metadata": {},
   "source": [
    "### Interpretation of Results\n",
    "\n",
    "- The AUC score is consistently high (0.9986754059791565) across all K values, indicating excellent overall model performance in distinguishing between positive and negative interactions.\n",
    "\n",
    "- Precision at K measures the proportion of recommended items in the top-K set that are relevant. Precision decreases as K increases in your results, which is expected. When you recommend more items (increase K), the likelihood of including irrelevant items increases, thus lowering precision. However, a precision above 0.08 even at K=10 is quite good, suggesting that the top recommended items are largely relevant.\n",
    "\n",
    "- Recall at K measures the proportion of relevant items that are successfully recommended in the top-K set. Your results show increasing recall with K, which is typical. As you recommend more items, you're more likely to cover a higher fraction of the relevant items, hence the recall increases. A recall of 0.8549128186215507 at K=10 indicates that about 85% of the relevant items are captured in the top 10 recommendations."
   ]
  },
  {
   "cell_type": "markdown",
   "metadata": {},
   "source": [
    "## Sample Recommendations Per Algorithm"
   ]
  },
  {
   "cell_type": "code",
   "execution_count": 48,
   "metadata": {},
   "outputs": [
    {
     "name": "stdout",
     "output_type": "stream",
     "text": [
      "shape of df_utility: (451, 33510)\n",
      "shape of items_df: (33510, 2438)\n",
      "shape of asins_df: (33510, 2)\n",
      "User history of ¤♤♡◇♧□○°_AGUTZC4GHLTGYHA3KBEDRF6MHB6A\n"
     ]
    },
    {
     "data": {
      "text/html": [
       "<div>\n",
       "<style scoped>\n",
       "    .dataframe tbody tr th:only-of-type {\n",
       "        vertical-align: middle;\n",
       "    }\n",
       "\n",
       "    .dataframe tbody tr th {\n",
       "        vertical-align: top;\n",
       "    }\n",
       "\n",
       "    .dataframe thead th {\n",
       "        text-align: right;\n",
       "    }\n",
       "</style>\n",
       "<table border=\"1\" class=\"dataframe\">\n",
       "  <thead>\n",
       "    <tr style=\"text-align: right;\">\n",
       "      <th></th>\n",
       "      <th>ProductName</th>\n",
       "      <th>category</th>\n",
       "    </tr>\n",
       "    <tr>\n",
       "      <th>reviewerID</th>\n",
       "      <th></th>\n",
       "      <th></th>\n",
       "    </tr>\n",
       "  </thead>\n",
       "  <tbody>\n",
       "    <tr>\n",
       "      <th>¤♤♡◇♧□○°_AGUTZC4GHLTGYHA3KBEDRF6MHB6A</th>\n",
       "      <td>acne_clarifying_face_toner_for_teens_by_natural_outcome_skin_care__salicylic_acid_facial_astringent_to_clear_acne_purify_pores__fragrance_free_alcohol_free_67_oz</td>\n",
       "      <td>Personal Care</td>\n",
       "    </tr>\n",
       "    <tr>\n",
       "      <th>¤♤♡◇♧□○°_AGUTZC4GHLTGYHA3KBEDRF6MHB6A</th>\n",
       "      <td>bosii_laptop_screen_extender_portable__14_inch_triple_ips_fhd_1080p_hdmi/usba/typec_extended_monitor_for_laptops_maximum_length:_1574\"_compatible_with_windows_mac_travel_gaming_work</td>\n",
       "      <td>Electronic Devices</td>\n",
       "    </tr>\n",
       "    <tr>\n",
       "      <th>¤♤♡◇♧□○°_AGUTZC4GHLTGYHA3KBEDRF6MHB6A</th>\n",
       "      <td>legend_cookware_|_cast_iron_skillet_with_lid_|_large_12\"_frying_pan_with_glass_lid_silicone_handle_for_oven_induction_cooking_pizza_sauteing_grilling</td>\n",
       "      <td>Kitchen</td>\n",
       "    </tr>\n",
       "    <tr>\n",
       "      <th>¤♤♡◇♧□○°_AGUTZC4GHLTGYHA3KBEDRF6MHB6A</th>\n",
       "      <td>7_inch_touch_screen_gps_navigation_system_for_cars_and_trucks__2023_maps_spoken_directions_and_free_lifetime_updates</td>\n",
       "      <td>Car Stuff</td>\n",
       "    </tr>\n",
       "    <tr>\n",
       "      <th>¤♤♡◇♧□○°_AGUTZC4GHLTGYHA3KBEDRF6MHB6A</th>\n",
       "      <td>gps_navigator_for_car_latest_2024_map_7_inch_touch_screen_car_gps_25616gb_voice_turn_direction_guidance_support_speed_and_red_light_warning_preinstalled_north_america_lifetime_map_free_update</td>\n",
       "      <td>Car Stuff</td>\n",
       "    </tr>\n",
       "    <tr>\n",
       "      <th>¤♤♡◇♧□○°_AGUTZC4GHLTGYHA3KBEDRF6MHB6A</th>\n",
       "      <td>gps_navigation_for_cartruck_2024_maps_vehicle_gps_navigation_9_inch_touch_screen_voice_car_gps_for_lorry_speeding_warning_free_lifetime_maps_update_of_united_states_canada_mexico</td>\n",
       "      <td>Car Stuff</td>\n",
       "    </tr>\n",
       "    <tr>\n",
       "      <th>¤♤♡◇♧□○°_AGUTZC4GHLTGYHA3KBEDRF6MHB6A</th>\n",
       "      <td>doll_stroller_toy_anivia_realistic_doll_stroller_heart_design_gifts_for_toddlers_and_girls_foldable_baby_doll_stroller_toy_pink_102</td>\n",
       "      <td>Children</td>\n",
       "    </tr>\n",
       "    <tr>\n",
       "      <th>¤♤♡◇♧□○°_AGUTZC4GHLTGYHA3KBEDRF6MHB6A</th>\n",
       "      <td>deervalley_dv1f52102_ace_one_piece_toilet_dual_flush_11/16_gpf_elongated_toilet_for_bathroom_12''_roughin_standard_white_toilet_with_comfortable_seat_height_seat_included</td>\n",
       "      <td>Bedroom</td>\n",
       "    </tr>\n",
       "    <tr>\n",
       "      <th>¤♤♡◇♧□○°_AGUTZC4GHLTGYHA3KBEDRF6MHB6A</th>\n",
       "      <td>usb_30_flash_drive_kootion_10_pack_32gb_usb_30_thumb_drive_retractable_32g_zip_drive_ultra_high_speed_usb_stick_jump_drive_rugged_memory_stick_with_led_indicator_for_data_storage_and_transfer</td>\n",
       "      <td>Peripheral Devices</td>\n",
       "    </tr>\n",
       "    <tr>\n",
       "      <th>¤♤♡◇♧□○°_AGUTZC4GHLTGYHA3KBEDRF6MHB6A</th>\n",
       "      <td>kootion_128_gb_usb_30_flash_drive_thumb_drive_retractable_128g_zip_drive_ultra_high_speed_usb_stick_jump_drive_rugged_memory_stick_with_led_indicator_for_data_storage_and_transfer</td>\n",
       "      <td>Peripheral Devices</td>\n",
       "    </tr>\n",
       "    <tr>\n",
       "      <th>¤♤♡◇♧□○°_AGUTZC4GHLTGYHA3KBEDRF6MHB6A</th>\n",
       "      <td>ekift_ease_now_cervical_neck_pillow_for_pain_relief_beauty_sleeping_cooling_pillow_for_side_back_stomach_sleeper_odorless_memory_foam_bed_pillows_deep_sleepergonomic_orthopedic_contour_neck_support</td>\n",
       "      <td>Bathroom</td>\n",
       "    </tr>\n",
       "    <tr>\n",
       "      <th>¤♤♡◇♧□○°_AGUTZC4GHLTGYHA3KBEDRF6MHB6A</th>\n",
       "      <td>ravmag_rubber_broom_lightweight_100%_natural_rubber_new_aluminum_antirust_55_inch_4_part_handle_best_for_pet_human_hair_indoor_carpets_decks_floor_water_resistant_washable</td>\n",
       "      <td>Cleaning Material</td>\n",
       "    </tr>\n",
       "    <tr>\n",
       "      <th>¤♤♡◇♧□○°_AGUTZC4GHLTGYHA3KBEDRF6MHB6A</th>\n",
       "      <td>taddtoy_16_bit_handheld_game_console_for_kids_adults_30''_large_screen_preloaded_200_classic_portable_retro_video_handheld_games_with_typec_port_rechargeable_battery_for_birthday_gift_for_kids_red</td>\n",
       "      <td>Electronic Devices</td>\n",
       "    </tr>\n",
       "    <tr>\n",
       "      <th>¤♤♡◇♧□○°_AGUTZC4GHLTGYHA3KBEDRF6MHB6A</th>\n",
       "      <td>antitheft_ring_doorbell_door_mount__no_drill_compatible_for_blink_doorbell_camera_mount_doorbell_camera_holder_for_apartment_door_for_home_apartments_office_and_businesses_no_doorbell</td>\n",
       "      <td>Living Room</td>\n",
       "    </tr>\n",
       "    <tr>\n",
       "      <th>¤♤♡◇♧□○°_AGUTZC4GHLTGYHA3KBEDRF6MHB6A</th>\n",
       "      <td>cros_60_loads_laundry_detergent_sheets_linen_scent_for_travel_home_apartment_dorm_laundry_detergent_strips_eco_friendly_hypoallergenic_liquidless_washing_supplies</td>\n",
       "      <td>Cleaning Material</td>\n",
       "    </tr>\n",
       "    <tr>\n",
       "      <th>¤♤♡◇♧□○°_AGUTZC4GHLTGYHA3KBEDRF6MHB6A</th>\n",
       "      <td>charmp_portable_handheld_fan_small_personal_fan_with_rechargeable_battery_small_fan_with_3_speeds_hand_fan_for_outdoor_camping_hiking_traveling_office</td>\n",
       "      <td>Travel Essentials</td>\n",
       "    </tr>\n",
       "    <tr>\n",
       "      <th>¤♤♡◇♧□○°_AGUTZC4GHLTGYHA3KBEDRF6MHB6A</th>\n",
       "      <td>vitade_zoomable_webcam_with_remote_control_1080p_60fps_streaming_webcam_with_ring_light_and_microphone_pro_usb_webcam_with_5x_digital_zoom_built_in_privacy_cover_for_zoom/skype_teams/pc/laptop/mac</td>\n",
       "      <td>Peripheral Devices</td>\n",
       "    </tr>\n",
       "    <tr>\n",
       "      <th>¤♤♡◇♧□○°_AGUTZC4GHLTGYHA3KBEDRF6MHB6A</th>\n",
       "      <td>wireless_keyboard_mouse_combo_edjo_24g_fullsized_large_wireless_keyboard_with_comfortable_palm_rest_and_optical_wireless_mouse_for_windows_mac_os_pc/desktops/computer/laptops</td>\n",
       "      <td>Peripheral Devices</td>\n",
       "    </tr>\n",
       "    <tr>\n",
       "      <th>¤♤♡◇♧□○°_AGUTZC4GHLTGYHA3KBEDRF6MHB6A</th>\n",
       "      <td>electric_baby_bottle_cleaner_kit_with_rechargeable_electric_bottle_brush_cleaner_3_piece_silicone_bottle_brush_and_straw_brush_multipurpose_automatic_bottle_cleaner_pink</td>\n",
       "      <td>Children</td>\n",
       "    </tr>\n",
       "    <tr>\n",
       "      <th>¤♤♡◇♧□○°_AGUTZC4GHLTGYHA3KBEDRF6MHB6A</th>\n",
       "      <td>sades_v2020_keyboard_and_mouse_combo_colorful_wireless_keyboard_with_round_keycaps24ghz_dropoutfree_connectionlong_battery_lifecute_wireless_mouse_for_pc/laptop/computer_milktea_color</td>\n",
       "      <td>Living Room</td>\n",
       "    </tr>\n",
       "  </tbody>\n",
       "</table>\n",
       "</div>"
      ],
      "text/plain": [
       "                                                                                                                                                                                                                                 ProductName  \\\n",
       "reviewerID                                                                                                                                                                                                                                     \n",
       "¤♤♡◇♧□○°_AGUTZC4GHLTGYHA3KBEDRF6MHB6A                                      acne_clarifying_face_toner_for_teens_by_natural_outcome_skin_care__salicylic_acid_facial_astringent_to_clear_acne_purify_pores__fragrance_free_alcohol_free_67_oz   \n",
       "¤♤♡◇♧□○°_AGUTZC4GHLTGYHA3KBEDRF6MHB6A                  bosii_laptop_screen_extender_portable__14_inch_triple_ips_fhd_1080p_hdmi/usba/typec_extended_monitor_for_laptops_maximum_length:_1574\"_compatible_with_windows_mac_travel_gaming_work   \n",
       "¤♤♡◇♧□○°_AGUTZC4GHLTGYHA3KBEDRF6MHB6A                                                  legend_cookware_|_cast_iron_skillet_with_lid_|_large_12\"_frying_pan_with_glass_lid_silicone_handle_for_oven_induction_cooking_pizza_sauteing_grilling   \n",
       "¤♤♡◇♧□○°_AGUTZC4GHLTGYHA3KBEDRF6MHB6A                                                                                   7_inch_touch_screen_gps_navigation_system_for_cars_and_trucks__2023_maps_spoken_directions_and_free_lifetime_updates   \n",
       "¤♤♡◇♧□○°_AGUTZC4GHLTGYHA3KBEDRF6MHB6A        gps_navigator_for_car_latest_2024_map_7_inch_touch_screen_car_gps_25616gb_voice_turn_direction_guidance_support_speed_and_red_light_warning_preinstalled_north_america_lifetime_map_free_update   \n",
       "¤♤♡◇♧□○°_AGUTZC4GHLTGYHA3KBEDRF6MHB6A                     gps_navigation_for_cartruck_2024_maps_vehicle_gps_navigation_9_inch_touch_screen_voice_car_gps_for_lorry_speeding_warning_free_lifetime_maps_update_of_united_states_canada_mexico   \n",
       "¤♤♡◇♧□○°_AGUTZC4GHLTGYHA3KBEDRF6MHB6A                                                                    doll_stroller_toy_anivia_realistic_doll_stroller_heart_design_gifts_for_toddlers_and_girls_foldable_baby_doll_stroller_toy_pink_102   \n",
       "¤♤♡◇♧□○°_AGUTZC4GHLTGYHA3KBEDRF6MHB6A                             deervalley_dv1f52102_ace_one_piece_toilet_dual_flush_11/16_gpf_elongated_toilet_for_bathroom_12''_roughin_standard_white_toilet_with_comfortable_seat_height_seat_included   \n",
       "¤♤♡◇♧□○°_AGUTZC4GHLTGYHA3KBEDRF6MHB6A        usb_30_flash_drive_kootion_10_pack_32gb_usb_30_thumb_drive_retractable_32g_zip_drive_ultra_high_speed_usb_stick_jump_drive_rugged_memory_stick_with_led_indicator_for_data_storage_and_transfer   \n",
       "¤♤♡◇♧□○°_AGUTZC4GHLTGYHA3KBEDRF6MHB6A                    kootion_128_gb_usb_30_flash_drive_thumb_drive_retractable_128g_zip_drive_ultra_high_speed_usb_stick_jump_drive_rugged_memory_stick_with_led_indicator_for_data_storage_and_transfer   \n",
       "¤♤♡◇♧□○°_AGUTZC4GHLTGYHA3KBEDRF6MHB6A  ekift_ease_now_cervical_neck_pillow_for_pain_relief_beauty_sleeping_cooling_pillow_for_side_back_stomach_sleeper_odorless_memory_foam_bed_pillows_deep_sleepergonomic_orthopedic_contour_neck_support   \n",
       "¤♤♡◇♧□○°_AGUTZC4GHLTGYHA3KBEDRF6MHB6A                            ravmag_rubber_broom_lightweight_100%_natural_rubber_new_aluminum_antirust_55_inch_4_part_handle_best_for_pet_human_hair_indoor_carpets_decks_floor_water_resistant_washable   \n",
       "¤♤♡◇♧□○°_AGUTZC4GHLTGYHA3KBEDRF6MHB6A   taddtoy_16_bit_handheld_game_console_for_kids_adults_30''_large_screen_preloaded_200_classic_portable_retro_video_handheld_games_with_typec_port_rechargeable_battery_for_birthday_gift_for_kids_red   \n",
       "¤♤♡◇♧□○°_AGUTZC4GHLTGYHA3KBEDRF6MHB6A                antitheft_ring_doorbell_door_mount__no_drill_compatible_for_blink_doorbell_camera_mount_doorbell_camera_holder_for_apartment_door_for_home_apartments_office_and_businesses_no_doorbell   \n",
       "¤♤♡◇♧□○°_AGUTZC4GHLTGYHA3KBEDRF6MHB6A                                     cros_60_loads_laundry_detergent_sheets_linen_scent_for_travel_home_apartment_dorm_laundry_detergent_strips_eco_friendly_hypoallergenic_liquidless_washing_supplies   \n",
       "¤♤♡◇♧□○°_AGUTZC4GHLTGYHA3KBEDRF6MHB6A                                                 charmp_portable_handheld_fan_small_personal_fan_with_rechargeable_battery_small_fan_with_3_speeds_hand_fan_for_outdoor_camping_hiking_traveling_office   \n",
       "¤♤♡◇♧□○°_AGUTZC4GHLTGYHA3KBEDRF6MHB6A   vitade_zoomable_webcam_with_remote_control_1080p_60fps_streaming_webcam_with_ring_light_and_microphone_pro_usb_webcam_with_5x_digital_zoom_built_in_privacy_cover_for_zoom/skype_teams/pc/laptop/mac   \n",
       "¤♤♡◇♧□○°_AGUTZC4GHLTGYHA3KBEDRF6MHB6A                         wireless_keyboard_mouse_combo_edjo_24g_fullsized_large_wireless_keyboard_with_comfortable_palm_rest_and_optical_wireless_mouse_for_windows_mac_os_pc/desktops/computer/laptops   \n",
       "¤♤♡◇♧□○°_AGUTZC4GHLTGYHA3KBEDRF6MHB6A                              electric_baby_bottle_cleaner_kit_with_rechargeable_electric_bottle_brush_cleaner_3_piece_silicone_bottle_brush_and_straw_brush_multipurpose_automatic_bottle_cleaner_pink   \n",
       "¤♤♡◇♧□○°_AGUTZC4GHLTGYHA3KBEDRF6MHB6A                sades_v2020_keyboard_and_mouse_combo_colorful_wireless_keyboard_with_round_keycaps24ghz_dropoutfree_connectionlong_battery_lifecute_wireless_mouse_for_pc/laptop/computer_milktea_color   \n",
       "\n",
       "                                                 category  \n",
       "reviewerID                                                 \n",
       "¤♤♡◇♧□○°_AGUTZC4GHLTGYHA3KBEDRF6MHB6A       Personal Care  \n",
       "¤♤♡◇♧□○°_AGUTZC4GHLTGYHA3KBEDRF6MHB6A  Electronic Devices  \n",
       "¤♤♡◇♧□○°_AGUTZC4GHLTGYHA3KBEDRF6MHB6A             Kitchen  \n",
       "¤♤♡◇♧□○°_AGUTZC4GHLTGYHA3KBEDRF6MHB6A           Car Stuff  \n",
       "¤♤♡◇♧□○°_AGUTZC4GHLTGYHA3KBEDRF6MHB6A           Car Stuff  \n",
       "¤♤♡◇♧□○°_AGUTZC4GHLTGYHA3KBEDRF6MHB6A           Car Stuff  \n",
       "¤♤♡◇♧□○°_AGUTZC4GHLTGYHA3KBEDRF6MHB6A            Children  \n",
       "¤♤♡◇♧□○°_AGUTZC4GHLTGYHA3KBEDRF6MHB6A             Bedroom  \n",
       "¤♤♡◇♧□○°_AGUTZC4GHLTGYHA3KBEDRF6MHB6A  Peripheral Devices  \n",
       "¤♤♡◇♧□○°_AGUTZC4GHLTGYHA3KBEDRF6MHB6A  Peripheral Devices  \n",
       "¤♤♡◇♧□○°_AGUTZC4GHLTGYHA3KBEDRF6MHB6A            Bathroom  \n",
       "¤♤♡◇♧□○°_AGUTZC4GHLTGYHA3KBEDRF6MHB6A   Cleaning Material  \n",
       "¤♤♡◇♧□○°_AGUTZC4GHLTGYHA3KBEDRF6MHB6A  Electronic Devices  \n",
       "¤♤♡◇♧□○°_AGUTZC4GHLTGYHA3KBEDRF6MHB6A         Living Room  \n",
       "¤♤♡◇♧□○°_AGUTZC4GHLTGYHA3KBEDRF6MHB6A   Cleaning Material  \n",
       "¤♤♡◇♧□○°_AGUTZC4GHLTGYHA3KBEDRF6MHB6A   Travel Essentials  \n",
       "¤♤♡◇♧□○°_AGUTZC4GHLTGYHA3KBEDRF6MHB6A  Peripheral Devices  \n",
       "¤♤♡◇♧□○°_AGUTZC4GHLTGYHA3KBEDRF6MHB6A  Peripheral Devices  \n",
       "¤♤♡◇♧□○°_AGUTZC4GHLTGYHA3KBEDRF6MHB6A            Children  \n",
       "¤♤♡◇♧□○°_AGUTZC4GHLTGYHA3KBEDRF6MHB6A         Living Room  "
      ]
     },
     "metadata": {},
     "output_type": "display_data"
    },
    {
     "name": "stdout",
     "output_type": "stream",
     "text": [
      "Recommendations for ¤♤♡◇♧□○°_AGUTZC4GHLTGYHA3KBEDRF6MHB6A\n"
     ]
    },
    {
     "data": {
      "text/html": [
       "<div>\n",
       "<style scoped>\n",
       "    .dataframe tbody tr th:only-of-type {\n",
       "        vertical-align: middle;\n",
       "    }\n",
       "\n",
       "    .dataframe tbody tr th {\n",
       "        vertical-align: top;\n",
       "    }\n",
       "\n",
       "    .dataframe thead th {\n",
       "        text-align: right;\n",
       "    }\n",
       "</style>\n",
       "<table border=\"1\" class=\"dataframe\">\n",
       "  <thead>\n",
       "    <tr style=\"text-align: right;\">\n",
       "      <th></th>\n",
       "      <th>KNNBasic</th>\n",
       "      <th>KNNWithMeans</th>\n",
       "      <th>SVD</th>\n",
       "      <th>ALS</th>\n",
       "      <th>Content-based</th>\n",
       "      <th>Global Baseline Average</th>\n",
       "      <th>LightFM</th>\n",
       "    </tr>\n",
       "  </thead>\n",
       "  <tbody>\n",
       "    <tr>\n",
       "      <th>0</th>\n",
       "      <td>Industrial Small Table Lamp,Modern Metal Bedside Lamp Nightstand Lamp for Bedroom Living Room Hallway Entryway, Iron Art Lampshade, LED Bulb Included, Gold</td>\n",
       "      <td>COMFEE CMO-C20M1WB Countertop Microwave Oven with 11 power levels, Fast Multi-stage Cooking, Turntable Reset Function, Speedy Cooking, Weight/Time Defrost, Memory function, Children Lock, 700W</td>\n",
       "      <td>COMFEE CMO-C20M1WH Retro Microwave with 11 power levels, Fast Multi-stage Cooking, Turntable Reset Function Kitchen Timer, Speedy Cooking， Weight/Time Defrost, Memory function, Children Lock, 700W</td>\n",
       "      <td>WATERH PureSip Adapt Water Bottle Stainless Steel Tumbler Straw Replacement for Vita, Simple Modern, Owala, Stanley, Hydro Flask(1 Filter + 5 Straws)</td>\n",
       "      <td>IMagicoo 32 Lovely Cute Writing Stationery Paper Letter Set with 16 Envelope + 1 Sheet Label Seal Sticker (Style-9(8.3x5.6))</td>\n",
       "      <td>Makeup: The Sunday Times Bestseller and practical step-by-step guide to makeup and beauty from much-loved makeup artist Hannah Martin</td>\n",
       "      <td>Mighty Patch™ Original Patch from Hero Cosmetics - Hydrocolloid Acne Pimple Patch for Covering Zits and Blemishes, Spot Stickers for Face and Skin (72 Count)</td>\n",
       "    </tr>\n",
       "    <tr>\n",
       "      <th>1</th>\n",
       "      <td>Merax Suitcases With Wheels Lightweight Carry-On Luggage, TSA Lock and Reinforced Corners, 20 Inch Carry On Suitcases (White brown) …</td>\n",
       "      <td>COMMERCIAL CHEF 1.1 Cu Ft Microwave with 10 Power Levels, Small Microwave with Push Button, 1000W Countertop Microwave with Kitchen Timer, Door Lock, &amp; Digital Controls, Stainless Steel</td>\n",
       "      <td>Yak About It Mini Fridge Dorm Station - Black</td>\n",
       "      <td>Bear Air Fryer, 5.3Qt for Quick and Oil-Free Healthy Meals, Easy View, Smart Digital Touchscreen, Shake Reminder, Dishwasher-Safe&amp;Non-stick Basket, Disposable Paper Liner and Recipes included,White</td>\n",
       "      <td>SSK 1TB USB SSD Solid State Flash Drive 550MB/s Super-Fast Transfer Speed USB 3.2 Gen2 Thumb(Jump) Drive Memory Stick + USB C Adapter for Type-c Smartphone, Laptop, MacBook/Pro/Air and More</td>\n",
       "      <td>Tide Hygienic Clean Heavy 10X Duty Laundry Detergent Liquid, Spring Meadow, 59 Loads, 92 Fl Oz, He Compatible</td>\n",
       "      <td>THE DESERT FALCONS an explosive action packed military aviation thriller adventure novel (Military Aviation Thrillers)</td>\n",
       "    </tr>\n",
       "    <tr>\n",
       "      <th>2</th>\n",
       "      <td>ARESGAME AGV Series 500W Power Supply, 80 Plus Bronze Certified, Non Modular Power Supply, 5 Year Warranty</td>\n",
       "      <td>COMFEE CMO-C20M1WH Retro Microwave with 11 power levels, Fast Multi-stage Cooking, Turntable Reset Function Kitchen Timer, Speedy Cooking， Weight/Time Defrost, Memory function, Children Lock, 700W</td>\n",
       "      <td>Biore Clean Detox Toner 8 fl oz</td>\n",
       "      <td>Merax Suitcases With Wheels Lightweight Carry-On Luggage, TSA Lock and Reinforced Corners, 20 Inch Carry On Suitcases (White brown) …</td>\n",
       "      <td>EZITSOL 64GB/128GB Write Protect USB Flash Drive with Physical Switch, Write Blocker Protection,128GB exFat USB3.0 High Speed up to 150MB/S,MLC Jump Drive Pendrive Thumb Drive Memory Stick</td>\n",
       "      <td>ESR Tempered Glass Screen Protector for iPhone 14 Pro (Armorite), Easy Installation Frame, Military-Grade Protection, Ultra Tough, Scratch Resistant, 2 Pack</td>\n",
       "      <td>Thermalright TL-S12 CPU Fan 120mm Case Cooler Fan Comes with ARGB Lighting Effect,PC PWM Silent Computer Fan with 1500RPM Speed, CPU Cooling Fan Black(Black,3-Pack)</td>\n",
       "    </tr>\n",
       "    <tr>\n",
       "      <th>3</th>\n",
       "      <td>TOSCiDO Tablet 2023 Android 12 Tablets 10.3 inch 2K FHD Tableta,15GB RAM 128GB Storage 2TB Expand,8 Core 12nm CPU Tablet PC,2000 * 1200 IPS, in-Cell LCD Screen,8000mAh,5G WiFi,GPS,8+13MP Camera,Black</td>\n",
       "      <td>GE JES1657BMTS Microwave Oven, Black Stainless Steel, 13.625 in</td>\n",
       "      <td>Garnier SkinActive Micellar Water for All Skin Types, Facial Cleanser &amp; Makeup Remover, 13.5 Fl Oz (400mL), 1 Count (Packaging May Vary)</td>\n",
       "      <td>Wireless Retro Game Console, Retro Game Stick with Built-in 9 Emulators, 20,400+ Games, 4k Hdmi Output, and 2.4GHz Wireless Controller, Plug and Retro Play Video Games for Tv (64 G)</td>\n",
       "      <td>32GB MacOS Catalina 10.15.7 (Latest Version), Bootable USB Drive 3.0,Full Install/Upgrade/Downgrade Mac OS X</td>\n",
       "      <td>CHAOREN Ratchet Belts for Men 2-Pack - Stylish Leather Belts in Gift Set 35mm</td>\n",
       "      <td>Tide Laundry Detergent Liquid Soap, High Efficiency (He), Original Scent, 64 Loads</td>\n",
       "    </tr>\n",
       "    <tr>\n",
       "      <th>4</th>\n",
       "      <td>Nutrichef Double Basket Air Fryer 8.8 QT | Family Size Oil Free Airfryer with Transparent Window | 9-1 Preset Cooking Options | 360° Hot Air Circulation Technology | 4.4 QTs per Basket | Black</td>\n",
       "      <td>Yak About It Mini Fridge Dorm Station - Black</td>\n",
       "      <td>Glow Recipe Watermelon Glow PHA + BHA Toner, Travel Size - Gentle Face Exfoliating Toner &amp; Pore Minimizer with Hyaluronic Acid + Cactus Water for Hydrated, Supple Skin - Vegan Tea Tree Toner (40ml)</td>\n",
       "      <td>Nutrichef Double Basket Air Fryer 8.8 QT | Family Size Oil Free Airfryer with Transparent Window | 9-1 Preset Cooking Options | 360° Hot Air Circulation Technology | 4.4 QTs per Basket | Black</td>\n",
       "      <td>Apricorn Aegis Secure Key 3 NX 64GB 256-bit Encrypted FIPS 140-2 Level 3 Validated Secure USB 3.0 Flash Drive, ASK3-NX-64GB, black</td>\n",
       "      <td>Thermalright Assassin King 120 SE White ARGB CPU Air Cooler, AK120 SE White ARB, 5 Heatpipes, TL-C12CW-S PWM Quiet Fan CPU Cooler with S-FDB Bearing, for AMD AM4/Intel LGA1700/1150/1151/1200</td>\n",
       "      <td>Febreze Unstopables Car Odor-Fighting Car Freshener Vent Clip Fresh, .07 fl oz. Car Vent Clip, Pack of 3</td>\n",
       "    </tr>\n",
       "    <tr>\n",
       "      <th>5</th>\n",
       "      <td>Bear Air Fryer, 5.3Qt for Quick and Oil-Free Healthy Meals, Easy View, Smart Digital Touchscreen, Shake Reminder, Dishwasher-Safe&amp;Non-stick Basket, Disposable Paper Liner and Recipes included,White</td>\n",
       "      <td>Biore Clean Detox Toner 8 fl oz</td>\n",
       "      <td>GGOYING Set of 2 Bedside Table Lamp,22” Touch Control 3 Way Dimmable Farmhouse Lamp with USB C Charging Ports,LED Bulbs,Fabric Lampshade for Bedroom Livingroom</td>\n",
       "      <td>Befrases Farmhouse Storage Cabinet with Drawers and Shelf, Freestanding Kitchen Pantry Storage Cabinet, Floor Storage Cabinet Hutch Cupboard for Kitchen, Living Room, Home Office, Rustic Grey</td>\n",
       "      <td>Apricorn 8GB Aegis Secure Key 3 NX 256-bit Encrypted FIPS 140-2 Level 3 Validated Secure USB 3.0 Flash Drive (ASK3-NX-8GB), Black</td>\n",
       "      <td>Bounce Lasting Fresh Mega Fabric Softener Dryer Sheets, Outdoor Fresh &amp; Clean for Long Lasting Freshness, 180ct</td>\n",
       "      <td>Mattel Disney Wish Playset with 2 Dolls, 2 Figures, 1 Table &amp; 10 Accessories Including Furniture &amp; Food, Best Friends Tea Time, Asha &amp; Dahlia of Rosas (Amazon Exclusive)</td>\n",
       "    </tr>\n",
       "    <tr>\n",
       "      <th>6</th>\n",
       "      <td>Famiworths Upgraded Hot and Iced Coffee Maker for K Cups and Ground Coffee, 4-5 Cups Coffee Maker and Single-serve Brewers, with 30Oz Removable Water Reservoir, 6 to 24Oz Cup Size, Classic Black</td>\n",
       "      <td>INFINA ESSENTIALS Face Exfoliator &amp; Toner for Face, Big 8 fl oz Each - Revitalizing Facial Toner &amp; Pore Reducing BHA Liquid Exfoliant - Optimal Facial Skin Care Products for Women</td>\n",
       "      <td>Lutron Caseta Single-Pole/3-Way Smart Lighting Lamp Dimmer and Remote Kit | P-PKG1P-WH | White</td>\n",
       "      <td>Trenana 2 in1 Baby Stroller,High Landscape Infant Stroller,Reversible Bassinet Stroller,Adjustable Backrest &amp; Canopy,Foldable Aluminum Alloy Anti-Shock Stroller for Newborn (Silver-White)</td>\n",
       "      <td>SanDisk Cruzer 16GB (8GB x 2) Cruzer Blade USB 2.0 Flash Drive Jump Drive Pen Drive Sdcz50 - Two Pack</td>\n",
       "      <td>Downy WrinkleGuard Dryer Sheets, Fresh, 150 count</td>\n",
       "      <td>CeraVe Daily Moisturizing Lotion for Dry Skin | Body Lotion &amp; Face Moisturizer with Hyaluronic Acid and Ceramides | Daily Moisturizer | Fragrance Free | Oil-Free | 12 Ounce</td>\n",
       "    </tr>\n",
       "    <tr>\n",
       "      <th>7</th>\n",
       "      <td>BANDQ 3 Pack Samsung Galaxy S20 Plus Screen Protector【3+1 Pack】 Pack Camera Lens Protector, 9H Scratch-Resistant HD Clear Tempered Glass Screen Protector for Galaxy S20 Plus Screen Protector</td>\n",
       "      <td>It's Skin Peptide Collagen Toner 5.07 Fl Oz | Moisturizing Toner with Organic Collagen Peptides | Hydrating Toner for Sensitive Skin | Organic Skin Care &amp; Face Brightening Toner | K Beauty Toner</td>\n",
       "      <td>BAGSMART Expandable Carry On Luggage 22x14x9 Airline Approved, 1OO% PC Lightweight Hard Shell Suitcase, 20 Inch Travel Luggage with Spinner Wheels, Waterproof Rolling Suitcase, Blue</td>\n",
       "      <td>TCL Air Purifier for Home Room Bedroom True H13 HEPA Air Filter Remove 99.97% Smoke Odor Pet Dander Dust Pollen Mold Air Cleaner Metal Design with Night Light</td>\n",
       "      <td>Flash Drive for iPhone 512GB, Gulloe USB Memory Stick Photo Stick External Storage Thumb Drive for iPhone iPad Android Computer (Light Green)</td>\n",
       "      <td>WD_BLACK 4TB SN850X NVMe Internal Gaming SSD Solid State Drive - Gen4 PCIe, M.2 2280, Up to 7,300 MB/s - WDS400T2X0E</td>\n",
       "      <td>Aiibe 10 Pack 8GB USB Flash Drive Flash Drives USB 2.0 Thumb Drive Memory Stick Zip Drives Bulk (8GB, 10 Pack, Black)</td>\n",
       "    </tr>\n",
       "    <tr>\n",
       "      <th>8</th>\n",
       "      <td>3 Pack Samsung Galaxy S21 Ultra Screen Protector, Tempered Glass Screen Protector【3+1 Pack】Tempered Glass Camera Lens Protector, 9H Tempered Glass Screen Protector for Galaxy S21 Ultra Screen Protector</td>\n",
       "      <td>JOAH Heal Me CICA Face Toner Pads, Centella Asiatica for Soothing, Calming, Balancing Sensitive and Irritated Skin, Korean Skincare, Cruelty-Free pH 5.5, Hypoallergenic, 50 Pads</td>\n",
       "      <td>COOLIFE Expandable Suitcase PC ABS TSA Luggage 3 Piece Set Lock Spinner Carry on (Teal blue)</td>\n",
       "      <td>Camii Webcam with Light - 1080P Webcam for PC with Built-in Privacy Cover &amp; Mic, StreamCam, Plug and Play, Web Camera for Streaming, Online Learning, Zoom Meeting Skype Teams, Mac Laptop Desktop</td>\n",
       "      <td>Flash Drive Case USB Memory Stick SD Card Storage Organizer- Holds 104pcs Thumb Drive Electronic Accessories Holder for Sandisk/for Samsung/for Inland/for PNY/for Netac (White)</td>\n",
       "      <td>The Butcher and the Wren: A Novel</td>\n",
       "      <td>Tampax Pearl Tampons Regular Absorbency, With Leakguard Braid, Unscented, 50 Count x 2 Packs (100 Count total)</td>\n",
       "    </tr>\n",
       "    <tr>\n",
       "      <th>9</th>\n",
       "      <td>BANDQ 3 Pack for Google Pixel 8 Screen Protector, Tempered Glass Screen Protecto【3+1 Pack】1 Pack Tempered Glass Camera Lens Protector, Easy Installation, 9H Hardness Tempered Glass Screen Protector</td>\n",
       "      <td>Amarose Rose Water Facial Toner with Hyaluronic Acid - Revitalize and Hydrate Skin with This Refreshing Facial Toner - Experience The Calming Elegance of Rosewater - Ideal for All Skin Types</td>\n",
       "      <td>Merax Suitcases With Wheels Lightweight Carry-On Luggage, TSA Lock and Reinforced Corners, 20 Inch Carry On Suitcases (White brown) …</td>\n",
       "      <td>None</td>\n",
       "      <td>Verbatim 64GB ToughMAX USB 2.0 Flash Drive - Extremely Durable Thumb Drive - Black, 70058</td>\n",
       "      <td>WD_BLACK 2TB SN850X NVMe Internal Gaming SSD Solid State Drive - Gen4 PCIe, M.2 2280, Up to 7,300 MB/s - WDS200T2X0E</td>\n",
       "      <td>JUANWE 128GB USB Flash Drive 2 Pack 128GB Portable Thumb Drive USB 2.0 Storage Memory Stick for Computers USB Drive Pen Drive with Rotated Design-Black</td>\n",
       "    </tr>\n",
       "  </tbody>\n",
       "</table>\n",
       "</div>"
      ],
      "text/plain": [
       "                                                                                                                                                                                                    KNNBasic  \\\n",
       "0                                                Industrial Small Table Lamp,Modern Metal Bedside Lamp Nightstand Lamp for Bedroom Living Room Hallway Entryway, Iron Art Lampshade, LED Bulb Included, Gold   \n",
       "1                                                                      Merax Suitcases With Wheels Lightweight Carry-On Luggage, TSA Lock and Reinforced Corners, 20 Inch Carry On Suitcases (White brown) …   \n",
       "2                                                                                                 ARESGAME AGV Series 500W Power Supply, 80 Plus Bronze Certified, Non Modular Power Supply, 5 Year Warranty   \n",
       "3    TOSCiDO Tablet 2023 Android 12 Tablets 10.3 inch 2K FHD Tableta,15GB RAM 128GB Storage 2TB Expand,8 Core 12nm CPU Tablet PC,2000 * 1200 IPS, in-Cell LCD Screen,8000mAh,5G WiFi,GPS,8+13MP Camera,Black   \n",
       "4           Nutrichef Double Basket Air Fryer 8.8 QT | Family Size Oil Free Airfryer with Transparent Window | 9-1 Preset Cooking Options | 360° Hot Air Circulation Technology | 4.4 QTs per Basket | Black   \n",
       "5      Bear Air Fryer, 5.3Qt for Quick and Oil-Free Healthy Meals, Easy View, Smart Digital Touchscreen, Shake Reminder, Dishwasher-Safe&Non-stick Basket, Disposable Paper Liner and Recipes included,White   \n",
       "6         Famiworths Upgraded Hot and Iced Coffee Maker for K Cups and Ground Coffee, 4-5 Cups Coffee Maker and Single-serve Brewers, with 30Oz Removable Water Reservoir, 6 to 24Oz Cup Size, Classic Black   \n",
       "7             BANDQ 3 Pack Samsung Galaxy S20 Plus Screen Protector【3+1 Pack】 Pack Camera Lens Protector, 9H Scratch-Resistant HD Clear Tempered Glass Screen Protector for Galaxy S20 Plus Screen Protector   \n",
       "8  3 Pack Samsung Galaxy S21 Ultra Screen Protector, Tempered Glass Screen Protector【3+1 Pack】Tempered Glass Camera Lens Protector, 9H Tempered Glass Screen Protector for Galaxy S21 Ultra Screen Protector   \n",
       "9      BANDQ 3 Pack for Google Pixel 8 Screen Protector, Tempered Glass Screen Protecto【3+1 Pack】1 Pack Tempered Glass Camera Lens Protector, Easy Installation, 9H Hardness Tempered Glass Screen Protector   \n",
       "\n",
       "                                                                                                                                                                                           KNNWithMeans  \\\n",
       "0      COMFEE CMO-C20M1WB Countertop Microwave Oven with 11 power levels, Fast Multi-stage Cooking, Turntable Reset Function, Speedy Cooking, Weight/Time Defrost, Memory function, Children Lock, 700W   \n",
       "1             COMMERCIAL CHEF 1.1 Cu Ft Microwave with 10 Power Levels, Small Microwave with Push Button, 1000W Countertop Microwave with Kitchen Timer, Door Lock, & Digital Controls, Stainless Steel   \n",
       "2  COMFEE CMO-C20M1WH Retro Microwave with 11 power levels, Fast Multi-stage Cooking, Turntable Reset Function Kitchen Timer, Speedy Cooking， Weight/Time Defrost, Memory function, Children Lock, 700W   \n",
       "3                                                                                                                                       GE JES1657BMTS Microwave Oven, Black Stainless Steel, 13.625 in   \n",
       "4                                                                                                                                                         Yak About It Mini Fridge Dorm Station - Black   \n",
       "5                                                                                                                                                                       Biore Clean Detox Toner 8 fl oz   \n",
       "6                   INFINA ESSENTIALS Face Exfoliator & Toner for Face, Big 8 fl oz Each - Revitalizing Facial Toner & Pore Reducing BHA Liquid Exfoliant - Optimal Facial Skin Care Products for Women   \n",
       "7    It's Skin Peptide Collagen Toner 5.07 Fl Oz | Moisturizing Toner with Organic Collagen Peptides | Hydrating Toner for Sensitive Skin | Organic Skin Care & Face Brightening Toner | K Beauty Toner   \n",
       "8                     JOAH Heal Me CICA Face Toner Pads, Centella Asiatica for Soothing, Calming, Balancing Sensitive and Irritated Skin, Korean Skincare, Cruelty-Free pH 5.5, Hypoallergenic, 50 Pads   \n",
       "9        Amarose Rose Water Facial Toner with Hyaluronic Acid - Revitalize and Hydrate Skin with This Refreshing Facial Toner - Experience The Calming Elegance of Rosewater - Ideal for All Skin Types   \n",
       "\n",
       "                                                                                                                                                                                                     SVD  \\\n",
       "0   COMFEE CMO-C20M1WH Retro Microwave with 11 power levels, Fast Multi-stage Cooking, Turntable Reset Function Kitchen Timer, Speedy Cooking， Weight/Time Defrost, Memory function, Children Lock, 700W   \n",
       "1                                                                                                                                                          Yak About It Mini Fridge Dorm Station - Black   \n",
       "2                                                                                                                                                                        Biore Clean Detox Toner 8 fl oz   \n",
       "3                                                               Garnier SkinActive Micellar Water for All Skin Types, Facial Cleanser & Makeup Remover, 13.5 Fl Oz (400mL), 1 Count (Packaging May Vary)   \n",
       "4  Glow Recipe Watermelon Glow PHA + BHA Toner, Travel Size - Gentle Face Exfoliating Toner & Pore Minimizer with Hyaluronic Acid + Cactus Water for Hydrated, Supple Skin - Vegan Tea Tree Toner (40ml)   \n",
       "5                                        GGOYING Set of 2 Bedside Table Lamp,22” Touch Control 3 Way Dimmable Farmhouse Lamp with USB C Charging Ports,LED Bulbs,Fabric Lampshade for Bedroom Livingroom   \n",
       "6                                                                                                         Lutron Caseta Single-Pole/3-Way Smart Lighting Lamp Dimmer and Remote Kit | P-PKG1P-WH | White   \n",
       "7                  BAGSMART Expandable Carry On Luggage 22x14x9 Airline Approved, 1OO% PC Lightweight Hard Shell Suitcase, 20 Inch Travel Luggage with Spinner Wheels, Waterproof Rolling Suitcase, Blue   \n",
       "8                                                                                                           COOLIFE Expandable Suitcase PC ABS TSA Luggage 3 Piece Set Lock Spinner Carry on (Teal blue)   \n",
       "9                                                                  Merax Suitcases With Wheels Lightweight Carry-On Luggage, TSA Lock and Reinforced Corners, 20 Inch Carry On Suitcases (White brown) …   \n",
       "\n",
       "                                                                                                                                                                                                     ALS  \\\n",
       "0                                                  WATERH PureSip Adapt Water Bottle Stainless Steel Tumbler Straw Replacement for Vita, Simple Modern, Owala, Stanley, Hydro Flask(1 Filter + 5 Straws)   \n",
       "1  Bear Air Fryer, 5.3Qt for Quick and Oil-Free Healthy Meals, Easy View, Smart Digital Touchscreen, Shake Reminder, Dishwasher-Safe&Non-stick Basket, Disposable Paper Liner and Recipes included,White   \n",
       "2                                                                  Merax Suitcases With Wheels Lightweight Carry-On Luggage, TSA Lock and Reinforced Corners, 20 Inch Carry On Suitcases (White brown) …   \n",
       "3                  Wireless Retro Game Console, Retro Game Stick with Built-in 9 Emulators, 20,400+ Games, 4k Hdmi Output, and 2.4GHz Wireless Controller, Plug and Retro Play Video Games for Tv (64 G)   \n",
       "4       Nutrichef Double Basket Air Fryer 8.8 QT | Family Size Oil Free Airfryer with Transparent Window | 9-1 Preset Cooking Options | 360° Hot Air Circulation Technology | 4.4 QTs per Basket | Black   \n",
       "5        Befrases Farmhouse Storage Cabinet with Drawers and Shelf, Freestanding Kitchen Pantry Storage Cabinet, Floor Storage Cabinet Hutch Cupboard for Kitchen, Living Room, Home Office, Rustic Grey   \n",
       "6            Trenana 2 in1 Baby Stroller,High Landscape Infant Stroller,Reversible Bassinet Stroller,Adjustable Backrest & Canopy,Foldable Aluminum Alloy Anti-Shock Stroller for Newborn (Silver-White)   \n",
       "7                                         TCL Air Purifier for Home Room Bedroom True H13 HEPA Air Filter Remove 99.97% Smoke Odor Pet Dander Dust Pollen Mold Air Cleaner Metal Design with Night Light   \n",
       "8     Camii Webcam with Light - 1080P Webcam for PC with Built-in Privacy Cover & Mic, StreamCam, Plug and Play, Web Camera for Streaming, Online Learning, Zoom Meeting Skype Teams, Mac Laptop Desktop   \n",
       "9                                                                                                                                                                                                   None   \n",
       "\n",
       "                                                                                                                                                                                   Content-based  \\\n",
       "0                                                                   IMagicoo 32 Lovely Cute Writing Stationery Paper Letter Set with 16 Envelope + 1 Sheet Label Seal Sticker (Style-9(8.3x5.6))   \n",
       "1  SSK 1TB USB SSD Solid State Flash Drive 550MB/s Super-Fast Transfer Speed USB 3.2 Gen2 Thumb(Jump) Drive Memory Stick + USB C Adapter for Type-c Smartphone, Laptop, MacBook/Pro/Air and More   \n",
       "2   EZITSOL 64GB/128GB Write Protect USB Flash Drive with Physical Switch, Write Blocker Protection,128GB exFat USB3.0 High Speed up to 150MB/S,MLC Jump Drive Pendrive Thumb Drive Memory Stick   \n",
       "3                                                                                   32GB MacOS Catalina 10.15.7 (Latest Version), Bootable USB Drive 3.0,Full Install/Upgrade/Downgrade Mac OS X   \n",
       "4                                                             Apricorn Aegis Secure Key 3 NX 64GB 256-bit Encrypted FIPS 140-2 Level 3 Validated Secure USB 3.0 Flash Drive, ASK3-NX-64GB, black   \n",
       "5                                                              Apricorn 8GB Aegis Secure Key 3 NX 256-bit Encrypted FIPS 140-2 Level 3 Validated Secure USB 3.0 Flash Drive (ASK3-NX-8GB), Black   \n",
       "6                                                                                          SanDisk Cruzer 16GB (8GB x 2) Cruzer Blade USB 2.0 Flash Drive Jump Drive Pen Drive Sdcz50 - Two Pack   \n",
       "7                                                  Flash Drive for iPhone 512GB, Gulloe USB Memory Stick Photo Stick External Storage Thumb Drive for iPhone iPad Android Computer (Light Green)   \n",
       "8               Flash Drive Case USB Memory Stick SD Card Storage Organizer- Holds 104pcs Thumb Drive Electronic Accessories Holder for Sandisk/for Samsung/for Inland/for PNY/for Netac (White)   \n",
       "9                                                                                                      Verbatim 64GB ToughMAX USB 2.0 Flash Drive - Extremely Durable Thumb Drive - Black, 70058   \n",
       "\n",
       "                                                                                                                                                                          Global Baseline Average  \\\n",
       "0                                                           Makeup: The Sunday Times Bestseller and practical step-by-step guide to makeup and beauty from much-loved makeup artist Hannah Martin   \n",
       "1                                                                                   Tide Hygienic Clean Heavy 10X Duty Laundry Detergent Liquid, Spring Meadow, 59 Loads, 92 Fl Oz, He Compatible   \n",
       "2                                    ESR Tempered Glass Screen Protector for iPhone 14 Pro (Armorite), Easy Installation Frame, Military-Grade Protection, Ultra Tough, Scratch Resistant, 2 Pack   \n",
       "3                                                                                                                   CHAOREN Ratchet Belts for Men 2-Pack - Stylish Leather Belts in Gift Set 35mm   \n",
       "4  Thermalright Assassin King 120 SE White ARGB CPU Air Cooler, AK120 SE White ARB, 5 Heatpipes, TL-C12CW-S PWM Quiet Fan CPU Cooler with S-FDB Bearing, for AMD AM4/Intel LGA1700/1150/1151/1200   \n",
       "5                                                                                 Bounce Lasting Fresh Mega Fabric Softener Dryer Sheets, Outdoor Fresh & Clean for Long Lasting Freshness, 180ct   \n",
       "6                                                                                                                                               Downy WrinkleGuard Dryer Sheets, Fresh, 150 count   \n",
       "7                                                                            WD_BLACK 4TB SN850X NVMe Internal Gaming SSD Solid State Drive - Gen4 PCIe, M.2 2280, Up to 7,300 MB/s - WDS400T2X0E   \n",
       "8                                                                                                                                                               The Butcher and the Wren: A Novel   \n",
       "9                                                                            WD_BLACK 2TB SN850X NVMe Internal Gaming SSD Solid State Drive - Gen4 PCIe, M.2 2280, Up to 7,300 MB/s - WDS200T2X0E   \n",
       "\n",
       "                                                                                                                                                                        LightFM  \n",
       "0                 Mighty Patch™ Original Patch from Hero Cosmetics - Hydrocolloid Acne Pimple Patch for Covering Zits and Blemishes, Spot Stickers for Face and Skin (72 Count)  \n",
       "1                                                        THE DESERT FALCONS an explosive action packed military aviation thriller adventure novel (Military Aviation Thrillers)  \n",
       "2          Thermalright TL-S12 CPU Fan 120mm Case Cooler Fan Comes with ARGB Lighting Effect,PC PWM Silent Computer Fan with 1500RPM Speed, CPU Cooling Fan Black(Black,3-Pack)  \n",
       "3                                                                                            Tide Laundry Detergent Liquid Soap, High Efficiency (He), Original Scent, 64 Loads  \n",
       "4                                                                      Febreze Unstopables Car Odor-Fighting Car Freshener Vent Clip Fresh, .07 fl oz. Car Vent Clip, Pack of 3  \n",
       "5     Mattel Disney Wish Playset with 2 Dolls, 2 Figures, 1 Table & 10 Accessories Including Furniture & Food, Best Friends Tea Time, Asha & Dahlia of Rosas (Amazon Exclusive)  \n",
       "6  CeraVe Daily Moisturizing Lotion for Dry Skin | Body Lotion & Face Moisturizer with Hyaluronic Acid and Ceramides | Daily Moisturizer | Fragrance Free | Oil-Free | 12 Ounce  \n",
       "7                                                         Aiibe 10 Pack 8GB USB Flash Drive Flash Drives USB 2.0 Thumb Drive Memory Stick Zip Drives Bulk (8GB, 10 Pack, Black)  \n",
       "8                                                                Tampax Pearl Tampons Regular Absorbency, With Leakguard Braid, Unscented, 50 Count x 2 Packs (100 Count total)  \n",
       "9                       JUANWE 128GB USB Flash Drive 2 Pack 128GB Portable Thumb Drive USB 2.0 Storage Memory Stick for Computers USB Drive Pen Drive with Rotated Design-Black  "
      ]
     },
     "metadata": {},
     "output_type": "display_data"
    },
    {
     "data": {
      "text/html": [
       "<div>\n",
       "<style scoped>\n",
       "    .dataframe tbody tr th:only-of-type {\n",
       "        vertical-align: middle;\n",
       "    }\n",
       "\n",
       "    .dataframe tbody tr th {\n",
       "        vertical-align: top;\n",
       "    }\n",
       "\n",
       "    .dataframe thead th {\n",
       "        text-align: right;\n",
       "    }\n",
       "</style>\n",
       "<table border=\"1\" class=\"dataframe\">\n",
       "  <thead>\n",
       "    <tr style=\"text-align: right;\">\n",
       "      <th></th>\n",
       "      <th>KNNBasic</th>\n",
       "      <th>KNNWithMeans</th>\n",
       "      <th>SVD</th>\n",
       "      <th>ALS</th>\n",
       "      <th>Content-based</th>\n",
       "      <th>Global Baseline Average</th>\n",
       "      <th>LightFM</th>\n",
       "    </tr>\n",
       "  </thead>\n",
       "  <tbody>\n",
       "    <tr>\n",
       "      <th>0</th>\n",
       "      <td>Bedroom</td>\n",
       "      <td>Kitchen</td>\n",
       "      <td>Kitchen</td>\n",
       "      <td>Travel Essentials</td>\n",
       "      <td>Office Supplies</td>\n",
       "      <td>Personal Care</td>\n",
       "      <td>Personal Care</td>\n",
       "    </tr>\n",
       "    <tr>\n",
       "      <th>1</th>\n",
       "      <td>Travel Essentials</td>\n",
       "      <td>Kitchen</td>\n",
       "      <td>Kitchen</td>\n",
       "      <td>Kitchen</td>\n",
       "      <td>Computer Components</td>\n",
       "      <td>Cleaning Material</td>\n",
       "      <td>Books</td>\n",
       "    </tr>\n",
       "    <tr>\n",
       "      <th>2</th>\n",
       "      <td>Computer Components</td>\n",
       "      <td>Kitchen</td>\n",
       "      <td>Personal Care</td>\n",
       "      <td>Travel Essentials</td>\n",
       "      <td>Peripheral Devices</td>\n",
       "      <td>Mobile Accessories</td>\n",
       "      <td>Computer Components</td>\n",
       "    </tr>\n",
       "    <tr>\n",
       "      <th>3</th>\n",
       "      <td>Electronic Devices</td>\n",
       "      <td>Kitchen</td>\n",
       "      <td>Personal Care</td>\n",
       "      <td>Electronic Devices</td>\n",
       "      <td>Peripheral Devices</td>\n",
       "      <td>Fashion</td>\n",
       "      <td>Cleaning Material</td>\n",
       "    </tr>\n",
       "    <tr>\n",
       "      <th>4</th>\n",
       "      <td>Kitchen</td>\n",
       "      <td>Kitchen</td>\n",
       "      <td>Personal Care</td>\n",
       "      <td>Kitchen</td>\n",
       "      <td>Peripheral Devices</td>\n",
       "      <td>Computer Components</td>\n",
       "      <td>Car Stuff</td>\n",
       "    </tr>\n",
       "    <tr>\n",
       "      <th>5</th>\n",
       "      <td>Kitchen</td>\n",
       "      <td>Personal Care</td>\n",
       "      <td>Bedroom</td>\n",
       "      <td>Bedroom</td>\n",
       "      <td>Peripheral Devices</td>\n",
       "      <td>Cleaning Material</td>\n",
       "      <td>Children</td>\n",
       "    </tr>\n",
       "    <tr>\n",
       "      <th>6</th>\n",
       "      <td>Kitchen</td>\n",
       "      <td>Personal Care</td>\n",
       "      <td>Bedroom</td>\n",
       "      <td>Children</td>\n",
       "      <td>Peripheral Devices</td>\n",
       "      <td>Cleaning Material</td>\n",
       "      <td>Personal Care</td>\n",
       "    </tr>\n",
       "    <tr>\n",
       "      <th>7</th>\n",
       "      <td>Mobile Accessories</td>\n",
       "      <td>Personal Care</td>\n",
       "      <td>Travel Essentials</td>\n",
       "      <td>Bathroom</td>\n",
       "      <td>Peripheral Devices</td>\n",
       "      <td>Computer Components</td>\n",
       "      <td>Peripheral Devices</td>\n",
       "    </tr>\n",
       "    <tr>\n",
       "      <th>8</th>\n",
       "      <td>Mobile Accessories</td>\n",
       "      <td>Personal Care</td>\n",
       "      <td>Travel Essentials</td>\n",
       "      <td>Peripheral Devices</td>\n",
       "      <td>Peripheral Devices</td>\n",
       "      <td>Books</td>\n",
       "      <td>Personal Care</td>\n",
       "    </tr>\n",
       "    <tr>\n",
       "      <th>9</th>\n",
       "      <td>Mobile Accessories</td>\n",
       "      <td>Personal Care</td>\n",
       "      <td>Travel Essentials</td>\n",
       "      <td>None</td>\n",
       "      <td>Peripheral Devices</td>\n",
       "      <td>Computer Components</td>\n",
       "      <td>Peripheral Devices</td>\n",
       "    </tr>\n",
       "  </tbody>\n",
       "</table>\n",
       "</div>"
      ],
      "text/plain": [
       "              KNNBasic   KNNWithMeans                SVD                 ALS  \\\n",
       "0              Bedroom        Kitchen            Kitchen   Travel Essentials   \n",
       "1    Travel Essentials        Kitchen            Kitchen             Kitchen   \n",
       "2  Computer Components        Kitchen      Personal Care   Travel Essentials   \n",
       "3   Electronic Devices        Kitchen      Personal Care  Electronic Devices   \n",
       "4              Kitchen        Kitchen      Personal Care             Kitchen   \n",
       "5              Kitchen  Personal Care            Bedroom             Bedroom   \n",
       "6              Kitchen  Personal Care            Bedroom            Children   \n",
       "7   Mobile Accessories  Personal Care  Travel Essentials            Bathroom   \n",
       "8   Mobile Accessories  Personal Care  Travel Essentials  Peripheral Devices   \n",
       "9   Mobile Accessories  Personal Care  Travel Essentials                None   \n",
       "\n",
       "         Content-based Global Baseline Average              LightFM  \n",
       "0      Office Supplies           Personal Care        Personal Care  \n",
       "1  Computer Components       Cleaning Material                Books  \n",
       "2   Peripheral Devices      Mobile Accessories  Computer Components  \n",
       "3   Peripheral Devices                 Fashion    Cleaning Material  \n",
       "4   Peripheral Devices     Computer Components            Car Stuff  \n",
       "5   Peripheral Devices       Cleaning Material             Children  \n",
       "6   Peripheral Devices       Cleaning Material        Personal Care  \n",
       "7   Peripheral Devices     Computer Components   Peripheral Devices  \n",
       "8   Peripheral Devices                   Books        Personal Care  \n",
       "9   Peripheral Devices     Computer Components   Peripheral Devices  "
      ]
     },
     "metadata": {},
     "output_type": "display_data"
    },
    {
     "data": {
      "image/png": "[encoded data removed]",
      "text/plain": [
       "<Figure size 300x300 with 1 Axes>"
      ]
     },
     "metadata": {},
     "output_type": "display_data"
    },
    {
     "data": {
      "image/png": "[encoded data removed]",
      "text/plain": [
       "<Figure size 300x300 with 1 Axes>"
      ]
     },
     "metadata": {},
     "output_type": "display_data"
    },
    {
     "data": {
      "image/png": "[encoded data removed]",
      "text/plain": [
       "<Figure size 300x300 with 1 Axes>"
      ]
     },
     "metadata": {},
     "output_type": "display_data"
    },
    {
     "data": {
      "image/png": "[encoded data removed]",
      "text/plain": [
       "<Figure size 300x300 with 1 Axes>"
      ]
     },
     "metadata": {},
     "output_type": "display_data"
    },
    {
     "data": {
      "image/png": "[encoded data removed]",
      "text/plain": [
       "<Figure size 300x300 with 1 Axes>"
      ]
     },
     "metadata": {},
     "output_type": "display_data"
    },
    {
     "data": {
      "image/png": "[encoded data removed]",
      "text/plain": [
       "<Figure size 300x300 with 1 Axes>"
      ]
     },
     "metadata": {},
     "output_type": "display_data"
    },
    {
     "data": {
      "image/png": "[encoded data removed]",
      "text/plain": [
       "<Figure size 300x300 with 1 Axes>"
      ]
     },
     "metadata": {},
     "output_type": "display_data"
    },
    {
     "data": {
      "image/png": "[encoded data removed]",
      "text/plain": [
       "<Figure size 300x300 with 1 Axes>"
      ]
     },
     "metadata": {},
     "output_type": "display_data"
    }
   ],
   "source": [
    "items_df, df_utility, reviews_df, asins_df = load_dataset()\n",
    "try:\n",
    "    reviews_df.set_index(\"reviewerID\", inplace=True)\n",
    "except:\n",
    "    pass\n",
    "df_list_of_recos = []\n",
    "df_list_of_recos_categories = []\n",
    "uid_recos = {}\n",
    "asins_df = pd.merge(asins_df, reviews_df, on='ASIN', how='left')[\n",
    "    ['ASIN', 'name', 'category']].drop_duplicates()\n",
    "asins_df.set_index('ASIN', inplace=True)\n",
    "pd.set_option('display.max_colwidth', 800)\n",
    "for uid in top_uids:\n",
    "    print(f\"User history of {uid}\")\n",
    "    user_history = reviews_df.loc[uid][['ProductName', 'category']]\n",
    "    display(user_history)\n",
    "    uid_recos[uid] = {\n",
    "        'KNNBasic': [],\n",
    "        'KNNWithMeans': [],\n",
    "        'SVD': [],\n",
    "        'ALS': [],\n",
    "        'Content-based': []\n",
    "    }\n",
    "    uid_recos[uid][\"Global Baseline Average\"] = recommendations_global_average_baseline[uid]\n",
    "    uid_recos[uid][\"KNNBasic\"] = recommendations_surprise['KNNBasic'][uid]\n",
    "    uid_recos[uid][\"KNNWithMeans\"] = recommendations_surprise['KNNWithMeans'][uid]\n",
    "    uid_recos[uid][\"SVD\"] = recommendations_surprise['SVD'][uid]\n",
    "    uid_recos[uid][\"ALS\"] = recommendations_als[uid]\n",
    "    uid_recos[uid][\"Content-based\"] = recommendations_content['euc'][uid]\n",
    "    uid_recos[uid][\"LightFM\"] = recommendations_lightfm[uid]\n",
    "    \n",
    "\n",
    "    df_dict = {}\n",
    "    df_dict_categories = {}\n",
    "    for algo in uid_recos[uid]:\n",
    "        asins = [x for x in asins_df.loc[list(uid_recos[uid][algo])]['name'].tolist()][:10]\n",
    "        df_dict[algo] = asins\n",
    "        df_dict_categories[algo] = asins_df.loc[list(uid_recos[uid][algo])]['category'].tolist()\n",
    "\n",
    "    df_recos_across_algos = pd.DataFrame.from_dict(df_dict, orient='index').T\n",
    "    df_list_of_recos.append(df_recos_across_algos)\n",
    "\n",
    "    df_recos_across_algos_categories = pd.DataFrame.from_dict(df_dict_categories, orient='index').T\n",
    "    df_list_of_recos_categories.append(df_recos_across_algos_categories)\n",
    "\n",
    "    print(f\"Recommendations for {uid}\")\n",
    "    display(df_recos_across_algos)\n",
    "    display(df_recos_across_algos_categories)\n",
    "\n",
    "    val_counts_user_history = user_history[\"category\"].value_counts()\n",
    "    plt.figure(figsize=(3,3))\n",
    "    plt.barh(width=val_counts_user_history,\n",
    "            y=val_counts_user_history.index.tolist())\n",
    "    plt.title(\"Category Composition of User History\")\n",
    "    plt.show()\n",
    "\n",
    "    for algo in uid_recos[uid]:\n",
    "        val_counts = df_recos_across_algos_categories[algo].value_counts()\n",
    "        plt.figure(figsize=(3,3))\n",
    "        plt.barh(width=val_counts,\n",
    "                y=val_counts.index.tolist())\n",
    "        plt.title(f\"Category Composition of {algo}\")\n",
    "        plt.show()\n",
    "    break # remove this to see all users"
   ]
  },
  {
   "cell_type": "markdown",
   "metadata": {},
   "source": [
    "## Build Pickle File For Streamlit Application"
   ]
  },
  {
   "cell_type": "markdown",
   "metadata": {},
   "source": [
    "## Build Pickle File For Streamlit Application"
   ]
  },
  {
   "cell_type": "markdown",
   "metadata": {},
   "source": [
    "#### Export User History and Recommendations as Pickle file"
   ]
  },
  {
   "cell_type": "code",
   "execution_count": 31,
   "metadata": {},
   "outputs": [],
   "source": [
    "# Save the dictionary to a pickle file\n",
    "pd.to_pickle(uid_recos, 'user_hist_reco.pkl')"
   ]
  },
  {
   "cell_type": "markdown",
   "metadata": {},
   "source": [
    "# Results and Recommendations\n",
    "\n",
    "## Results\n",
    "\n",
    "The recommendations served by the algorithms are more personalized compared to the baseline global average. There is a clear connection between the user's history and characteristics with the algorithm's recommendations, unlike the recommendations served by the baseline global average, which essentially is just the top K most popular items.\n",
    "\n",
    "In terms of metrics, the offline evaluation metrics for the different algorithms demonstrated above are all by definition \"good\". However, the researchers would like to stress that the real determining factor for whether a recommender system performs well or not is based on eventual online evaluation metrics. That said, the researchers still expect the various recommender systems to perform well. For instance, the vision is that the recommendations are two-pronged:\n",
    "\n",
    "* *Customers who bought this item also bought*: User-based collaborative filtering, ALS\n",
    "* *Recommended for you*: Content-based filtering / Hybrid recommender using LightFM\n",
    "\n",
    "In any case, future work on this project can simply mix and match or swap out algorithms.\n",
    "\n",
    "The exact metrics for each algorithm is as follows:\n",
    "\n",
    "\n",
    "* KNNBasic\t0.266200\n",
    "* KNNWithMeans\t0.263800\n",
    "* SVD\t0.266397\n",
    "* ALS\t0.997882\n",
    "* Content-based with Euclidean distance\t0.965205\n",
    "* Content-based with Cosine distance\t0.984095\n",
    "* Content-based with Jaccard distance\t0.951475\n",
    "\n",
    "Here we see that most algorithms except for KNNBasic, KNNWithMeans, and SVD perform well on a ranking basis.\n",
    "\n",
    "## Recommendations\n",
    "\n",
    "To make the recommender system more robust, the researchers suggest the following:\n",
    "\n",
    "* Include items that are less popular than the ones included in the current itemset\n",
    "* Include reviewers with less reviews than the ones included in the current userbase\n",
    "* Fully understand and implement a hybrid recommender with tuned hyperparameters. In the case of this project, LightFM and ALS were used but hyperparameter tuning was not implemented. Hence, there is a possibility that these algorithms can actually improve after tuning.\n",
    "* Use NLP techniques to extract keywords from the long-form features tag of products to identify more specific features."
   ]
  },
  {
   "cell_type": "markdown",
   "metadata": {},
   "source": []
  }
 ],
 "metadata": {
  "kernelspec": {
   "display_name": "Python 3",
   "language": "python",
   "name": "python3"
  },
  "language_info": {
   "codemirror_mode": {
    "name": "ipython",
    "version": 3
   },
   "file_extension": ".py",
   "mimetype": "text/x-python",
   "name": "python",
   "nbconvert_exporter": "python",
   "pygments_lexer": "ipython3",
   "version": "3.11.3"
  }
 },
 "nbformat": 4,
 "nbformat_minor": 2
}
