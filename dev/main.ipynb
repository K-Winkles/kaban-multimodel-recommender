{
 "cells": [
  {
   "cell_type": "markdown",
   "metadata": {},
   "source": [
    "# Hyper-personalization Through Product Reviews: Exploring New Market Opportunites\n",
    "\n",
    "A multi-modal approach to generating user recommendations."
   ]
  },
  {
   "cell_type": "markdown",
   "metadata": {},
   "source": [
    "## Import Libraries and Define File Paths"
   ]
  },
  {
   "cell_type": "code",
   "execution_count": 1,
   "metadata": {},
   "outputs": [
    {
     "name": "stderr",
     "output_type": "stream",
     "text": [
      "/Users/juliuscrissalinas/anaconda3/lib/python3.11/site-packages/lightfm/_lightfm_fast.py:9: UserWarning: LightFM was compiled without OpenMP support. Only a single thread will be used.\n",
      "  warnings.warn(\n"
     ]
    }
   ],
   "source": [
    "import os\n",
    "import glob\n",
    "import json\n",
    "import scipy\n",
    "import random\n",
    "import re\n",
    "import pandas as pd\n",
    "import numpy as np\n",
    "import matplotlib.pyplot as plt\n",
    "import threadpoolctl\n",
    "from tqdm import tqdm\n",
    "import warnings\n",
    "from collections import defaultdict\n",
    "from implicit.als import AlternatingLeastSquares as ALS\n",
    "from lightfm import LightFM\n",
    "from lightfm.data import Dataset as LightFMDataset\n",
    "from scipy.sparse import coo_matrix\n",
    "from lightfm.evaluation import precision_at_k, recall_at_k, auc_score\n",
    "from lightfm.cross_validation import random_train_test_split\n",
    "from math import log2 as log\n",
    "from scipy.spatial import distance\n",
    "from surprise import Dataset, Reader\n",
    "from surprise.model_selection import cross_validate, KFold\n",
    "from surprise.model_selection import train_test_split as train_test_split_surprise\n",
    "from surprise.prediction_algorithms.knns import KNNBasic, KNNWithMeans\n",
    "from surprise.prediction_algorithms.matrix_factorization import SVD\n",
    "from implicit.evaluation import (AUC_at_k,\n",
    "                                 mean_average_precision_at_k,\n",
    "                                 ndcg_at_k, precision_at_k)\n",
    "from implicit.evaluation import train_test_split\n",
    "from unidecode import unidecode\n",
    "import uuid\n",
    "\n",
    "warnings.simplefilter(action='ignore', category=FutureWarning)\n",
    "\n",
    "dir = \"../dataset/utility\"\n",
    "\n",
    "if not os.path.exists(dir):\n",
    "    os.mkdir(dir)"
   ]
  },
  {
   "cell_type": "markdown",
   "metadata": {},
   "source": [
    "## Define Utility Functions and Dataset Generation Functions"
   ]
  },
  {
   "cell_type": "code",
   "execution_count": 2,
   "metadata": {},
   "outputs": [],
   "source": [
    "def clean_str(x):\n",
    "    forbidden_chars = [',', '-', '?', '(', ')',\n",
    "                       '~', '*', '.', '!']\n",
    "    x = unidecode(x)\n",
    "    x = '_'.join(x.replace('& ', '').split(' '))\n",
    "    x = x.lower().strip()\n",
    "    for c in forbidden_chars:\n",
    "        x = x.replace(c, '')\n",
    "    return x\n",
    "\n",
    "def items_and_reviews_to_dataframe(json_data):\n",
    "    products = []\n",
    "    reviews = []\n",
    "    asins = []\n",
    "    asin_product_mapping = []\n",
    "    for product_data in json_data:\n",
    "        product = {}\n",
    "        if ('body' not in product_data or 'reviews' not in product_data['body']\n",
    "            or 'productInformation' not in product_data['body']):\n",
    "            continue\n",
    "\n",
    "        reviews_data = product_data['body'].get('reviews', [])\n",
    "        product_name = product_data['body'].get('name', 'Unknown Product')\n",
    "        product_data = product_data['body']\n",
    "        asin = product_data['canonicalUrl'].split('/')[-1].lower()\n",
    "\n",
    "        if not reviews_data or len(reviews_data) == 0:\n",
    "            continue\n",
    "        \n",
    "        ignore = ['dimensions', 'country_of_origin', 'batteries_included',\n",
    "                  'weight', 'height', 'size', 'model', 'manufacturer',\n",
    "                  'specifications', 'voltage', 'volts', '12v', 'climate_pledge',\n",
    "                  'capacity', 'number_of_items', 'import', 'lxwxh', 'product'\n",
    "                  'included']\n",
    "\n",
    "        product['ASIN'] = asin\n",
    "\n",
    "        if asin not in asins:\n",
    "            asin_product_mapping.append({\n",
    "                'ASIN': asin,\n",
    "                'name': product_name\n",
    "            })\n",
    "            asins.append(asin)\n",
    "        breadcrumbs = product_data.get('breadCrumbs', [])\n",
    "        for bc in breadcrumbs:\n",
    "            name = clean_str(bc['name'])\n",
    "            flag = True\n",
    "            for ig in ignore:\n",
    "                if ig in name:\n",
    "                    flag = False\n",
    "            if flag and '_' in name:\n",
    "                name_list = name.split(\"_\")\n",
    "                for n in name_list:\n",
    "                    product[n] = 1.0\n",
    "            elif flag:\n",
    "                product[name] = 1.0\n",
    "        \n",
    "        products.append(product)\n",
    "\n",
    "        review = {}\n",
    "        for r in reviews_data:\n",
    "            review['ASIN'] = asin\n",
    "            review['ProductName'] = clean_str(product_name)\n",
    "            reviewer_link = r['reviewerLink'].split('/')[-1].split('.')[-1]\n",
    "            if len(reviewer_link) < 1:\n",
    "                reviewer_link = str(uuid.uuid4())\n",
    "            review['reviewerID'] = r['reviewerName'] + '_' + reviewer_link\n",
    "            review['price'] = product_data.get('rawPrice', 0)\n",
    "            reviewRating = re.findall(r'(\\d+\\.\\d+)', r['reviewRating'])\n",
    "            reviewLocation = r['reviewDate'].split('on')[0].split(' in ')[-1].replace('the ', '')\n",
    "            reviewDate = re.findall(r'on (.+)$', r['reviewDate'])\n",
    "            reviewVotes = re.findall(r'(\\d+)', r['reviewVotes'])\n",
    "            review['image'] = product_data.get('mainImage', None)\n",
    "            \n",
    "            if reviewRating:\n",
    "                review['customerReview'] = float(reviewRating[0])\n",
    "            else:\n",
    "                review['customerReview'] = np.nan\n",
    "            if reviewDate:\n",
    "                review['reviewDate'] = reviewDate[0]\n",
    "            else:\n",
    "                review['reviewDate'] = 'Unknown'\n",
    "            if reviewLocation:\n",
    "                review['reviewLocation'] = reviewLocation\n",
    "            else:\n",
    "                review['reviewLocation'] = 'Unknown'\n",
    "            if reviewVotes:\n",
    "                review['reviewVotes'] = reviewVotes[0]\n",
    "            else:\n",
    "                review['reviewVotes'] = 0\n",
    "            reviews.append(review)\n",
    "            review = {}\n",
    "    all_reviews_df = pd.DataFrame(reviews)\n",
    "    all_items_df = pd.DataFrame(products)\n",
    "    asins_df = pd.DataFrame(asin_product_mapping)\n",
    "    return all_reviews_df, all_items_df, asins_df\n",
    "\n",
    "def get_all_json_data():\n",
    "    base_dir = '../dataset/extracts/amazon'\n",
    "    all_json_data = []\n",
    "    for root, dirs, files in os.walk(base_dir):\n",
    "        for dir in dirs:\n",
    "            items_path = os.path.join(root, dir, 'items')\n",
    "            if os.path.exists(items_path):\n",
    "                json_files = glob.glob(os.path.join(items_path, '*.json'))\n",
    "                \n",
    "                for json_file in tqdm(json_files, desc=f'Loading JSON Files in {dir}'):\n",
    "                    try:\n",
    "                        with open(json_file, \"r\") as f:\n",
    "                            all_json_data.append(json.load(f))\n",
    "                    except json.JSONDecodeError:\n",
    "                        print(f\"Error loading JSON from file {json_file}: file is empty or not a valid JSON.\")\n",
    "                    except Exception as e:\n",
    "                        print(f\"Unexpected error loading JSON from file {json_file}: {e}\")\n",
    "    return all_json_data\n",
    "\n",
    "def load_dataset():\n",
    "    items_df = pd.read_csv(f\"{dir}/itemset_preprocessed.csv\")\n",
    "    items_df.set_index(\"ASIN\", inplace=True)\n",
    " \n",
    "    df_utility = pd.read_csv(f\"{dir}/utility_topn.csv\", index_col=0)\n",
    "    df_utility.set_index(\"reviewerID\", inplace=True)\n",
    "\n",
    "    reviews_df = pd.read_csv(f\"{dir}/reviews.csv\")\n",
    "    reviews_df.set_index('reviewerID', inplace=True)\n",
    "    \n",
    "    asins_df = pd.read_csv(f\"{dir}/asin_product_mapping.csv\")\n",
    "    asins_df.set_index('ASIN', inplace=True)\n",
    "\n",
    "    print(f\"shape of df_utility: {df_utility.shape}\")\n",
    "    print(f\"shape of items_df: {items_df.shape}\")\n",
    "    print(f\"shape of asins_df: {asins_df.shape}\")\n",
    "    return items_df, df_utility, reviews_df, asins_df"
   ]
  },
  {
   "cell_type": "markdown",
   "metadata": {},
   "source": [
    "## Generate the Dataset and Preprocess"
   ]
  },
  {
   "cell_type": "markdown",
   "metadata": {},
   "source": [
    "### Fetch all json data"
   ]
  },
  {
   "cell_type": "code",
   "execution_count": 3,
   "metadata": {},
   "outputs": [
    {
     "name": "stderr",
     "output_type": "stream",
     "text": [
      "Loading JSON Files in microwave:   0%|          | 0/226 [00:00<?, ?it/s]"
     ]
    },
    {
     "name": "stderr",
     "output_type": "stream",
     "text": [
      "Loading JSON Files in microwave: 100%|██████████| 226/226 [00:00<00:00, 5225.31it/s]\n",
      "Loading JSON Files in facial toner: 100%|██████████| 254/254 [00:00<00:00, 5315.92it/s]\n",
      "Loading JSON Files in lamp: 100%|██████████| 233/233 [00:00<00:00, 4886.22it/s]\n",
      "Loading JSON Files in luggage: 100%|██████████| 247/247 [00:00<00:00, 5317.20it/s]\n",
      "Loading JSON Files in bedroom: 100%|██████████| 48/48 [00:00<00:00, 5925.73it/s]\n",
      "Loading JSON Files in feminine wash: 100%|██████████| 246/246 [00:00<00:00, 2857.42it/s]\n",
      "Loading JSON Files in pc power supply: 100%|██████████| 215/215 [00:00<00:00, 5307.84it/s]\n",
      "Loading JSON Files in razor: 100%|██████████| 240/240 [00:00<00:00, 5225.68it/s]\n",
      "Loading JSON Files in tablet: 100%|██████████| 186/186 [00:00<00:00, 4977.23it/s]\n",
      "Loading JSON Files in fantasy novel: 100%|██████████| 233/233 [00:00<00:00, 5141.57it/s]\n",
      "Loading JSON Files in air fryer: 100%|██████████| 211/211 [00:00<00:00, 4821.88it/s]\n",
      "Loading JSON Files in coffee maker: 100%|██████████| 231/231 [00:00<00:00, 1964.57it/s]\n",
      "Loading JSON Files in wall mount: 100%|██████████| 224/224 [00:00<00:00, 5021.19it/s]\n",
      "Loading JSON Files in kitchen knife: 100%|██████████| 268/268 [00:00<00:00, 4761.73it/s]\n",
      "Loading JSON Files in women shoes: 100%|██████████| 244/244 [00:00<00:00, 4429.85it/s]\n",
      "Loading JSON Files in screen protector: 100%|██████████| 219/219 [00:00<00:00, 4486.13it/s]\n",
      "Loading JSON Files in motherboard: 100%|██████████| 209/209 [00:00<00:00, 5263.31it/s]\n",
      "Loading JSON Files in monitor: 100%|██████████| 202/202 [00:00<00:00, 4518.69it/s]\n",
      "Loading JSON Files in thriller novel: 100%|██████████| 265/265 [00:00<00:00, 1769.28it/s]\n",
      "Loading JSON Files in gpu: 100%|██████████| 181/181 [00:00<00:00, 5253.95it/s]\n",
      "Loading JSON Files in office chair: 100%|██████████| 251/251 [00:00<00:00, 4824.15it/s]\n",
      "Loading JSON Files in science fiction novel: 100%|██████████| 247/247 [00:00<00:00, 5154.55it/s]\n",
      "Loading JSON Files in chargers: 100%|██████████| 206/206 [00:00<00:00, 5134.70it/s]\n",
      "Loading JSON Files in projector: 100%|██████████| 207/207 [00:00<00:00, 4734.88it/s]\n",
      "Loading JSON Files in workout clothes: 100%|██████████| 269/269 [00:00<00:00, 4601.44it/s]\n",
      "Loading JSON Files in frying pan: 100%|██████████| 262/262 [00:00<00:00, 5088.78it/s]\n",
      "Loading JSON Files in microphone: 100%|██████████| 267/267 [00:00<00:00, 4583.62it/s]\n",
      "Loading JSON Files in desk: 100%|██████████| 274/274 [00:00<00:00, 1422.17it/s]\n",
      "Loading JSON Files in stroller: 100%|██████████| 203/203 [00:00<00:00, 4790.12it/s]\n",
      "Loading JSON Files in television: 100%|██████████| 208/208 [00:00<00:00, 5021.09it/s]\n",
      "Loading JSON Files in first aid: 100%|██████████| 259/259 [00:00<00:00, 5511.23it/s]\n",
      "Loading JSON Files in speakers: 100%|██████████| 216/216 [00:00<00:00, 5168.11it/s]\n",
      "Loading JSON Files in toddler toy: 100%|██████████| 258/258 [00:00<00:00, 5332.87it/s]\n",
      "Loading JSON Files in women shirt: 100%|██████████| 237/237 [00:00<00:00, 5030.77it/s]\n",
      "Loading JSON Files in steamer: 100%|██████████| 262/262 [00:00<00:00, 5106.80it/s]\n",
      "Loading JSON Files in stationery: 100%|██████████| 275/275 [00:00<00:00, 6150.20it/s]\n",
      "Loading JSON Files in gps: 100%|██████████| 229/229 [00:00<00:00, 5518.63it/s]\n",
      "Loading JSON Files in shaving cream: 100%|██████████| 231/231 [00:00<00:00, 5792.68it/s]\n",
      "Loading JSON Files in tires: 100%|██████████| 231/231 [00:00<00:00, 1465.29it/s]\n",
      "Loading JSON Files in face wash: 100%|██████████| 250/250 [00:00<00:00, 5325.42it/s]\n",
      "Loading JSON Files in belt: 100%|██████████| 268/268 [00:00<00:00, 4290.00it/s]\n",
      "Loading JSON Files in couch: 100%|██████████| 45/45 [00:00<00:00, 6143.40it/s]\n",
      "Loading JSON Files in fabric conditioner: 100%|██████████| 245/245 [00:00<00:00, 5407.90it/s]\n",
      "Loading JSON Files in curtain: 100%|██████████| 282/282 [00:00<00:00, 4422.15it/s]\n",
      "Loading JSON Files in washing machine: 100%|██████████| 202/202 [00:00<00:00, 5531.36it/s]\n",
      "Loading JSON Files in shoe rack: 100%|██████████| 246/246 [00:00<00:00, 4816.27it/s]\n",
      "Loading JSON Files in vitamins: 100%|██████████| 249/249 [00:00<00:00, 4402.79it/s]\n",
      "Loading JSON Files in men shirt: 100%|██████████| 197/197 [00:00<00:00, 4860.00it/s]\n",
      "Loading JSON Files in bathroom: 100%|██████████| 48/48 [00:00<00:00, 6337.40it/s]\n",
      "Loading JSON Files in vacuum: 100%|██████████| 196/196 [00:00<00:00, 4805.68it/s]\n",
      "Loading JSON Files in dress: 100%|██████████| 232/232 [00:00<00:00, 5158.74it/s]\n",
      "Loading JSON Files in camera: 100%|██████████| 204/204 [00:00<00:00, 5092.51it/s]\n",
      "Loading JSON Files in solid state drive: 100%|██████████| 205/205 [00:00<00:00, 5404.83it/s]\n",
      "Loading JSON Files in pc fan: 100%|██████████| 226/226 [00:00<00:00, 5235.12it/s]\n",
      "Loading JSON Files in underwear: 100%|██████████| 235/235 [00:00<00:00, 1007.85it/s]\n",
      "Loading JSON Files in coffee_table: 100%|██████████| 46/46 [00:00<00:00, 6499.07it/s]\n",
      "Loading JSON Files in lotion: 100%|██████████| 239/239 [00:00<00:00, 5079.39it/s]\n",
      "Loading JSON Files in pacifier: 100%|██████████| 252/252 [00:00<00:00, 5085.06it/s]\n",
      "Loading JSON Files in tissue: 100%|██████████| 242/242 [00:00<00:00, 5233.66it/s]\n",
      "Loading JSON Files in cellphone: 100%|██████████| 224/224 [00:00<00:00, 4939.59it/s]\n",
      "Loading JSON Files in women sweater: 100%|██████████| 233/233 [00:00<00:00, 4602.09it/s]\n",
      "Loading JSON Files in printer: 100%|██████████| 216/216 [00:00<00:00, 5538.32it/s]\n",
      "Loading JSON Files in air freshener: 100%|██████████| 222/222 [00:00<00:00, 5491.77it/s]\n",
      "Loading JSON Files in home_office: 100%|██████████| 46/46 [00:00<00:00, 6664.52it/s]\n",
      "Loading JSON Files in tampon: 100%|██████████| 248/248 [00:00<00:00, 4974.50it/s]\n",
      "Loading JSON Files in cabinet: 100%|██████████| 246/246 [00:00<00:00, 5215.19it/s]\n",
      "Loading JSON Files in folder: 100%|██████████| 234/234 [00:00<00:00, 5536.10it/s]\n",
      "Loading JSON Files in computer accessories: 100%|██████████| 230/230 [00:00<00:00, 5017.21it/s]\n",
      "Loading JSON Files in phone case: 100%|██████████| 256/256 [00:00<00:00, 5143.67it/s]\n",
      "Loading JSON Files in over the counter: 100%|██████████| 284/284 [00:00<00:00, 4721.61it/s]\n",
      "Loading JSON Files in young adult novel: 100%|██████████| 276/276 [00:00<00:00, 16646.70it/s]\n",
      "Loading JSON Files in oven: 100%|██████████| 206/206 [00:00<00:00, 5139.44it/s]\n",
      "Loading JSON Files in chair: 100%|██████████| 326/326 [00:00<00:00, 4636.99it/s]\n",
      "Loading JSON Files in bookshelf: 100%|██████████| 273/273 [00:00<00:00, 892.03it/s]\n",
      "Loading JSON Files in napkin: 100%|██████████| 265/265 [00:00<00:00, 6079.10it/s]\n",
      "Loading JSON Files in coat: 100%|██████████| 283/283 [00:00<00:00, 4709.67it/s]\n",
      "Loading JSON Files in headphones: 100%|██████████| 203/203 [00:00<00:00, 4579.50it/s]\n",
      "Loading JSON Files in dishwasher: 100%|██████████| 249/249 [00:00<00:00, 5288.89it/s]\n",
      "Loading JSON Files in building toys: 100%|██████████| 246/246 [00:00<00:00, 4893.47it/s]\n",
      "Loading JSON Files in dresser: 100%|██████████| 265/265 [00:00<00:00, 5233.84it/s]\n",
      "Loading JSON Files in men shoes: 100%|██████████| 230/230 [00:00<00:00, 4251.36it/s]\n",
      "Loading JSON Files in face mask: 100%|██████████| 216/216 [00:00<00:00, 5257.00it/s]\n",
      "Loading JSON Files in adventure novel: 100%|██████████| 257/257 [00:00<00:00, 5537.70it/s]\n",
      "Loading JSON Files in smart watch: 100%|██████████| 185/185 [00:00<00:00, 4211.33it/s]\n",
      "Loading JSON Files in soap: 100%|██████████| 225/225 [00:00<00:00, 5381.45it/s]\n",
      "Loading JSON Files in carpet: 100%|██████████| 257/257 [00:00<00:00, 4433.34it/s]\n",
      "Loading JSON Files in romance novel: 100%|██████████| 268/268 [00:00<00:00, 4376.16it/s]\n",
      "Loading JSON Files in jewelry: 100%|██████████| 252/252 [00:00<00:00, 4354.15it/s]\n",
      "Loading JSON Files in pc ram: 100%|██████████| 249/249 [00:00<00:00, 5672.50it/s]\n",
      "Loading JSON Files in furniture: 100%|██████████| 47/47 [00:00<00:00, 4562.51it/s]\n",
      "Loading JSON Files in action figures: 100%|██████████| 267/267 [00:00<00:00, 5379.38it/s]\n",
      "Loading JSON Files in toy dolls: 100%|██████████| 277/277 [00:00<00:00, 6241.66it/s]\n",
      "Loading JSON Files in mouthwash: 100%|██████████| 240/240 [00:00<00:00, 4989.31it/s]\n",
      "Loading JSON Files in dashcam: 100%|██████████| 193/193 [00:00<00:00, 4646.67it/s]\n",
      "Loading JSON Files in mouse: 100%|██████████| 229/229 [00:00<00:00, 4327.22it/s]\n",
      "Loading JSON Files in deodorant: 100%|██████████| 176/176 [00:00<00:00, 4887.56it/s]\n",
      "Loading JSON Files in toilet: 100%|██████████| 265/265 [00:00<00:00, 755.16it/s]\n",
      "Loading JSON Files in usb: 100%|██████████| 261/261 [00:00<00:00, 4799.21it/s]\n",
      "Loading JSON Files in surveillance camera: 100%|██████████| 234/234 [00:00<00:00, 6551.15it/s]\n",
      "Loading JSON Files in packing cubes: 100%|██████████| 197/197 [00:00<00:00, 4564.52it/s]\n",
      "Loading JSON Files in stove: 100%|██████████| 189/189 [00:00<00:00, 5217.14it/s]\n"
     ]
    },
    {
     "name": "stdout",
     "output_type": "stream",
     "text": [
      "Error loading JSON from file ../dataset/extracts/amazon/stove/items/amazon_B07V7JNTLB.json: file is empty or not a valid JSON.\n"
     ]
    },
    {
     "name": "stderr",
     "output_type": "stream",
     "text": [
      "Loading JSON Files in pillow: 100%|██████████| 250/250 [00:00<00:00, 5051.63it/s]\n",
      "Loading JSON Files in nonfiction novel: 100%|██████████| 247/247 [00:00<00:00, 5718.41it/s]\n",
      "Loading JSON Files in playroom: 100%|██████████| 48/48 [00:00<00:00, 6137.26it/s]\n",
      "Loading JSON Files in utensils: 100%|██████████| 248/248 [00:00<00:00, 5121.23it/s]\n",
      "Loading JSON Files in car seat: 100%|██████████| 240/240 [00:00<00:00, 5257.50it/s]\n",
      "Loading JSON Files in water flask: 100%|██████████| 304/304 [00:00<00:00, 4947.92it/s]\n",
      "Loading JSON Files in historical novel: 100%|██████████| 281/281 [00:00<00:00, 5353.08it/s]\n",
      "Loading JSON Files in patio: 100%|██████████| 48/48 [00:00<00:00, 6281.05it/s]\n",
      "Loading JSON Files in cpu cooler: 100%|██████████| 219/219 [00:00<00:00, 5122.71it/s]\n",
      "Loading JSON Files in men sweater: 100%|██████████| 252/252 [00:00<00:00, 5021.21it/s]\n",
      "Loading JSON Files in table: 100%|██████████| 285/285 [00:00<00:00, 5178.89it/s]\n",
      "Loading JSON Files in women jeans: 100%|██████████| 251/251 [00:00<00:00, 4888.78it/s]\n",
      "Loading JSON Files in moisturizer: 100%|██████████| 276/276 [00:00<00:00, 5331.35it/s]\n",
      "Loading JSON Files in pc chassis: 100%|██████████| 227/227 [00:00<00:00, 5826.96it/s]\n",
      "Loading JSON Files in desk lamp: 100%|██████████| 262/262 [00:00<00:00, 4498.85it/s]\n",
      "Loading JSON Files in women bag: 100%|██████████| 266/266 [00:00<00:00, 4894.02it/s]\n",
      "Loading JSON Files in iron: 100%|██████████| 199/199 [00:00<00:00, 4948.64it/s]\n",
      "Loading JSON Files in diaper: 100%|██████████| 259/259 [00:00<00:00, 5663.93it/s]\n",
      "Loading JSON Files in makeup: 100%|██████████| 261/261 [00:00<00:00, 5089.80it/s]\n",
      "Loading JSON Files in bedding: 100%|██████████| 246/246 [00:00<00:00, 4914.29it/s]\n",
      "Loading JSON Files in broom: 100%|██████████| 248/248 [00:00<00:00, 5385.92it/s]\n",
      "Loading JSON Files in mystery novel: 100%|██████████| 242/242 [00:00<00:00, 6154.14it/s]\n",
      "Loading JSON Files in videogame console: 100%|██████████| 237/237 [00:00<00:00, 4711.54it/s]\n",
      "Loading JSON Files in night stand: 100%|██████████| 218/218 [00:00<00:00, 475.08it/s]\n",
      "Loading JSON Files in travel essentials: 100%|██████████| 226/226 [00:00<00:00, 5099.21it/s]\n",
      "Loading JSON Files in dining room: 100%|██████████| 48/48 [00:00<00:00, 6922.25it/s]\n",
      "Loading JSON Files in ring doorbell: 100%|██████████| 251/251 [00:00<00:00, 5870.80it/s]\n",
      "Loading JSON Files in nursery: 100%|██████████| 48/48 [00:00<00:00, 6573.71it/s]\n",
      "Loading JSON Files in detergent: 100%|██████████| 253/253 [00:00<00:00, 4340.37it/s]\n",
      "Loading JSON Files in baby formula: 100%|██████████| 209/209 [00:00<00:00, 4021.42it/s]\n",
      "Loading JSON Files in dustpan: 100%|██████████| 268/268 [00:00<00:00, 4609.96it/s]\n",
      "Loading JSON Files in seat cushion: 100%|██████████| 249/249 [00:00<00:00, 3621.23it/s]\n",
      "Loading JSON Files in hard drive: 100%|██████████| 356/356 [00:00<00:00, 5159.79it/s]\n",
      "Loading JSON Files in notebook: 100%|██████████| 251/251 [00:00<00:00, 5408.89it/s]\n",
      "Loading JSON Files in battery: 100%|██████████| 272/272 [00:00<00:00, 4842.44it/s]\n",
      "Loading JSON Files in men jeans: 100%|██████████| 212/212 [00:00<00:00, 4684.45it/s]\n",
      "Loading JSON Files in school supplies: 100%|██████████| 256/256 [00:00<00:00, 4175.09it/s]\n",
      "Loading JSON Files in cables: 100%|██████████| 241/241 [00:00<00:00, 5394.99it/s]\n",
      "Loading JSON Files in laptop: 100%|██████████| 207/207 [00:00<00:00, 4093.10it/s]\n",
      "Loading JSON Files in shampoo: 100%|██████████| 224/224 [00:00<00:00, 5421.53it/s]\n",
      "Loading JSON Files in conditioner: 100%|██████████| 210/210 [00:00<00:00, 5489.04it/s]\n",
      "Loading JSON Files in portable fan: 100%|██████████| 206/206 [00:00<00:00, 5340.22it/s]\n",
      "Loading JSON Files in bedframe: 100%|██████████| 246/246 [00:00<00:00, 5014.57it/s]\n",
      "Loading JSON Files in toy airplanes: 100%|██████████| 242/242 [00:00<00:00, 8187.31it/s]\n",
      "Loading JSON Files in kitchen: 100%|██████████| 48/48 [00:00<00:00, 4945.38it/s]\n",
      "Loading JSON Files in toothbrush: 100%|██████████| 237/237 [00:00<00:00, 4802.13it/s]\n",
      "Loading JSON Files in webcam: 100%|██████████| 173/173 [00:00<00:00, 4714.66it/s]\n",
      "Loading JSON Files in mattress: 100%|██████████| 125/125 [00:00<00:00, 5638.78it/s]\n",
      "Loading JSON Files in garage: 100%|██████████| 49/49 [00:00<00:00, 7411.50it/s]\n",
      "Loading JSON Files in toy cars: 100%|██████████| 250/250 [00:00<00:00, 5541.04it/s]\n",
      "Loading JSON Files in wifi router: 100%|██████████| 222/222 [00:00<00:00, 5220.83it/s]\n",
      "Loading JSON Files in men bag: 100%|██████████| 260/260 [00:00<00:00, 5142.28it/s]\n",
      "Loading JSON Files in ram vehicles: 100%|██████████| 193/193 [00:00<00:00, 5147.11it/s]\n",
      "Loading JSON Files in air purifier: 100%|██████████| 198/198 [00:00<00:00, 5133.91it/s]\n",
      "Loading JSON Files in living room: 100%|██████████| 48/48 [00:00<00:00, 6088.26it/s]\n",
      "Loading JSON Files in mop: 100%|██████████| 248/248 [00:00<00:00, 4739.69it/s]\n",
      "Loading JSON Files in baby wipes: 100%|██████████| 246/246 [00:00<00:00, 5575.54it/s]\n",
      "Loading JSON Files in stanley cup: 100%|██████████| 245/245 [00:00<00:00, 5202.77it/s]\n",
      "Loading JSON Files in keyboard: 100%|██████████| 228/228 [00:00<00:00, 5138.03it/s]\n",
      "Loading JSON Files in car accessories: 100%|██████████| 266/266 [00:00<00:00, 5300.69it/s]\n",
      "Loading JSON Files in baby bottle: 100%|██████████| 219/219 [00:00<00:00, 4994.96it/s]\n",
      "Loading JSON Files in tripod: 100%|██████████| 212/212 [00:00<00:00, 5277.04it/s]\n",
      "Loading JSON Files in home decor: 100%|██████████| 447/447 [00:00<00:00, 642.61it/s]\n",
      "Loading JSON Files in linen: 100%|██████████| 270/270 [00:00<00:00, 4870.03it/s]\n",
      "Loading JSON Files in crib: 100%|██████████| 247/247 [00:00<00:00, 5503.46it/s]\n",
      "Loading JSON Files in mirror: 100%|██████████| 278/278 [00:00<00:00, 5408.97it/s]\n",
      "Loading JSON Files in intel amd processor: 100%|██████████| 144/144 [00:00<00:00, 5357.76it/s]\n"
     ]
    }
   ],
   "source": [
    "all_json_data = get_all_json_data()\n",
    "all_reviews_df, all_items_df, asins_df = items_and_reviews_to_dataframe(all_json_data)\n",
    "all_reviews_df = all_reviews_df.replace(np.nan, '', regex=True)\n",
    "all_reviews_df.drop_duplicates(keep=\"first\", inplace=True)\n",
    "all_reviews_df.to_csv(f\"{dir}/reviews.csv\")\n",
    "all_items_df.drop_duplicates(keep='first', inplace=True)\n",
    "all_items_df.fillna(0, inplace=True)\n",
    "asins_df.to_csv(f\"{dir}/asin_product_mapping.csv\", index=False)"
   ]
  },
  {
   "cell_type": "markdown",
   "metadata": {},
   "source": [
    "### Preprocess itemset"
   ]
  },
  {
   "cell_type": "code",
   "execution_count": 4,
   "metadata": {},
   "outputs": [],
   "source": [
    "all_items_df.reset_index(inplace=True)\n",
    "vc = all_items_df['ASIN'].value_counts()\n",
    "to_merge = vc.loc[lambda x: x > 1].index.tolist()\n",
    "\n",
    "all_items_df.set_index('ASIN', inplace=True)\n",
    "merge_dicts = []\n",
    "for asin in to_merge:\n",
    "    merged_row = all_items_df.loc[asin].sum()\n",
    "    merged_row = merged_row.drop('level_0')\n",
    "    d = merged_row.to_dict()\n",
    "    d['ASIN'] = asin\n",
    "    merge_dicts.append(d)\n",
    "    all_items_df.drop(asin, inplace=True)\n",
    "    \n",
    "merged_df = pd.DataFrame(merge_dicts)\n",
    "merged_df.set_index('ASIN', inplace=True)\n",
    "all_items_df = pd.concat([all_items_df, merged_df])\n",
    "all_items_df.to_csv(f\"{dir}/itemset_preprocessed.csv\")"
   ]
  },
  {
   "cell_type": "markdown",
   "metadata": {},
   "source": [
    "### Preprocess userbase"
   ]
  },
  {
   "cell_type": "code",
   "execution_count": 5,
   "metadata": {},
   "outputs": [],
   "source": [
    "user_ratings_df = all_reviews_df.drop([\n",
    "    \"reviewVotes\", \"reviewLocation\", \"reviewDate\",\n",
    "    \"ProductName\"], axis=1)\n",
    "\n",
    "groupby_df = user_ratings_df.groupby('reviewerID')\n",
    "freq = groupby_df.size().reset_index(name='count')\n",
    "user_ratings_df = pd.merge(user_ratings_df, freq, on='reviewerID', how='left')\n",
    "user_ratings_df = user_ratings_df.sort_values(['count'], ascending=False)\n",
    "user_ratings_df = user_ratings_df[user_ratings_df[\"count\"] >= 5]\n",
    "topn_reviewers = pd.unique(user_ratings_df[\"reviewerID\"])\n",
    "user_ratings_df.set_index(\"reviewerID\", inplace=True)\n",
    "user_ratings_df = user_ratings_df.loc[topn_reviewers]\n",
    "generic_reviewerIDs = user_ratings_df.groupby('reviewerID').count().sort_values('ASIN', ascending=False)[:8].index.tolist()\n",
    "topn_reviewers = [r for r in topn_reviewers if r not in generic_reviewerIDs]\n",
    "user_ratings_df = user_ratings_df.loc[topn_reviewers]\n",
    "\n",
    "rows = []\n",
    "columns = all_items_df.index.tolist()\n",
    "columns.append(\"reviewerID\")\n",
    "\n",
    "for index, data in user_ratings_df.groupby('reviewerID'):\n",
    "    row = {'reviewerID': index}\n",
    "    for ind, d in data.iterrows():\n",
    "        row[d['ASIN']] = d['customerReview']\n",
    "    rows.append(row)\n",
    "\n",
    "df_utility = pd.DataFrame(rows, columns=columns)\n",
    "df_utility.to_csv(f\"{dir}/utility_topn.csv\")"
   ]
  },
  {
   "cell_type": "markdown",
   "metadata": {},
   "source": [
    "## Load Dataset"
   ]
  },
  {
   "cell_type": "code",
   "execution_count": 6,
   "metadata": {},
   "outputs": [
    {
     "name": "stdout",
     "output_type": "stream",
     "text": [
      "shape of df_utility: (378, 33510)\n",
      "shape of items_df: (33510, 2429)\n",
      "shape of asins_df: (33510, 1)\n"
     ]
    }
   ],
   "source": [
    "items_df, df_utility, reviews_df, asins_df = load_dataset()"
   ]
  },
  {
   "cell_type": "markdown",
   "metadata": {},
   "source": [
    "# Define Trainset and Testset\n",
    "\n",
    "Get top 20 reviewers"
   ]
  },
  {
   "cell_type": "code",
   "execution_count": 7,
   "metadata": {},
   "outputs": [],
   "source": [
    "non_nan_count = df_utility.notna().sum(axis=1)\n",
    "df_top_reviewers = df_utility.loc[non_nan_count.sort_values(ascending=False).index].iloc[:20]\n",
    "top_uids = df_top_reviewers.index.tolist()\n"
   ]
  },
  {
   "cell_type": "code",
   "execution_count": 8,
   "metadata": {},
   "outputs": [],
   "source": [
    "df_non_top_reviewers = df_utility.loc[non_nan_count.sort_values(ascending=False).index].iloc[20:]"
   ]
  },
  {
   "cell_type": "code",
   "execution_count": 9,
   "metadata": {},
   "outputs": [
    {
     "data": {
      "text/html": [
       "<div>\n",
       "<style scoped>\n",
       "    .dataframe tbody tr th:only-of-type {\n",
       "        vertical-align: middle;\n",
       "    }\n",
       "\n",
       "    .dataframe tbody tr th {\n",
       "        vertical-align: top;\n",
       "    }\n",
       "\n",
       "    .dataframe thead th {\n",
       "        text-align: right;\n",
       "    }\n",
       "</style>\n",
       "<table border=\"1\" class=\"dataframe\">\n",
       "  <thead>\n",
       "    <tr style=\"text-align: right;\">\n",
       "      <th></th>\n",
       "      <th>b085fzxzj5</th>\n",
       "      <th>b000iw9j20</th>\n",
       "      <th>b0c6rc2k82</th>\n",
       "      <th>b09xjd2znd</th>\n",
       "      <th>b07pqt144t</th>\n",
       "      <th>b086jp7fx9</th>\n",
       "      <th>b07jfl43nx</th>\n",
       "      <th>b0c44fvt2q</th>\n",
       "      <th>b0bwjz2fhw</th>\n",
       "      <th>b0c61kbpc8</th>\n",
       "      <th>...</th>\n",
       "      <th>b0cl4gxlgp</th>\n",
       "      <th>b0cpffh4pz</th>\n",
       "      <th>b0ctcy1wtr</th>\n",
       "      <th>b0cghxs3p8</th>\n",
       "      <th>b09n6xj3cl</th>\n",
       "      <th>b0bhzfpqgy</th>\n",
       "      <th>b0867bkglg</th>\n",
       "      <th>b087wp31h9</th>\n",
       "      <th>b0cjv1mjxm</th>\n",
       "      <th>b08gqxnj4y</th>\n",
       "    </tr>\n",
       "    <tr>\n",
       "      <th>reviewerID</th>\n",
       "      <th></th>\n",
       "      <th></th>\n",
       "      <th></th>\n",
       "      <th></th>\n",
       "      <th></th>\n",
       "      <th></th>\n",
       "      <th></th>\n",
       "      <th></th>\n",
       "      <th></th>\n",
       "      <th></th>\n",
       "      <th></th>\n",
       "      <th></th>\n",
       "      <th></th>\n",
       "      <th></th>\n",
       "      <th></th>\n",
       "      <th></th>\n",
       "      <th></th>\n",
       "      <th></th>\n",
       "      <th></th>\n",
       "      <th></th>\n",
       "      <th></th>\n",
       "    </tr>\n",
       "  </thead>\n",
       "  <tbody>\n",
       "    <tr>\n",
       "      <th>Jo_AHXFEMW5RPSWLG5ELU3CBSZHBTWQ</th>\n",
       "      <td>NaN</td>\n",
       "      <td>NaN</td>\n",
       "      <td>NaN</td>\n",
       "      <td>NaN</td>\n",
       "      <td>NaN</td>\n",
       "      <td>NaN</td>\n",
       "      <td>NaN</td>\n",
       "      <td>NaN</td>\n",
       "      <td>NaN</td>\n",
       "      <td>NaN</td>\n",
       "      <td>...</td>\n",
       "      <td>NaN</td>\n",
       "      <td>NaN</td>\n",
       "      <td>NaN</td>\n",
       "      <td>NaN</td>\n",
       "      <td>NaN</td>\n",
       "      <td>NaN</td>\n",
       "      <td>NaN</td>\n",
       "      <td>NaN</td>\n",
       "      <td>NaN</td>\n",
       "      <td>NaN</td>\n",
       "    </tr>\n",
       "    <tr>\n",
       "      <th>Nelle Renn_AFVKHDD7S4DTJFHS7N5QAMNMMTCA</th>\n",
       "      <td>NaN</td>\n",
       "      <td>NaN</td>\n",
       "      <td>NaN</td>\n",
       "      <td>NaN</td>\n",
       "      <td>NaN</td>\n",
       "      <td>NaN</td>\n",
       "      <td>NaN</td>\n",
       "      <td>NaN</td>\n",
       "      <td>NaN</td>\n",
       "      <td>NaN</td>\n",
       "      <td>...</td>\n",
       "      <td>NaN</td>\n",
       "      <td>NaN</td>\n",
       "      <td>NaN</td>\n",
       "      <td>NaN</td>\n",
       "      <td>NaN</td>\n",
       "      <td>NaN</td>\n",
       "      <td>NaN</td>\n",
       "      <td>NaN</td>\n",
       "      <td>NaN</td>\n",
       "      <td>NaN</td>\n",
       "    </tr>\n",
       "    <tr>\n",
       "      <th>Dustin_AHWZKDPFP7DOCROU6EQ2KQYOLLCQ</th>\n",
       "      <td>NaN</td>\n",
       "      <td>NaN</td>\n",
       "      <td>NaN</td>\n",
       "      <td>NaN</td>\n",
       "      <td>NaN</td>\n",
       "      <td>NaN</td>\n",
       "      <td>NaN</td>\n",
       "      <td>NaN</td>\n",
       "      <td>NaN</td>\n",
       "      <td>NaN</td>\n",
       "      <td>...</td>\n",
       "      <td>NaN</td>\n",
       "      <td>NaN</td>\n",
       "      <td>NaN</td>\n",
       "      <td>NaN</td>\n",
       "      <td>NaN</td>\n",
       "      <td>NaN</td>\n",
       "      <td>NaN</td>\n",
       "      <td>NaN</td>\n",
       "      <td>NaN</td>\n",
       "      <td>NaN</td>\n",
       "    </tr>\n",
       "    <tr>\n",
       "      <th>Unspoken Yum_AH2JCQEWME2H6ZGCDIRIQWUKHSRQ</th>\n",
       "      <td>NaN</td>\n",
       "      <td>NaN</td>\n",
       "      <td>NaN</td>\n",
       "      <td>NaN</td>\n",
       "      <td>NaN</td>\n",
       "      <td>NaN</td>\n",
       "      <td>NaN</td>\n",
       "      <td>NaN</td>\n",
       "      <td>NaN</td>\n",
       "      <td>NaN</td>\n",
       "      <td>...</td>\n",
       "      <td>NaN</td>\n",
       "      <td>NaN</td>\n",
       "      <td>NaN</td>\n",
       "      <td>NaN</td>\n",
       "      <td>NaN</td>\n",
       "      <td>NaN</td>\n",
       "      <td>NaN</td>\n",
       "      <td>NaN</td>\n",
       "      <td>NaN</td>\n",
       "      <td>NaN</td>\n",
       "    </tr>\n",
       "    <tr>\n",
       "      <th>Harry _AELUZ4IIDBETBOOHUO6IOFX7EXTA</th>\n",
       "      <td>NaN</td>\n",
       "      <td>NaN</td>\n",
       "      <td>NaN</td>\n",
       "      <td>NaN</td>\n",
       "      <td>NaN</td>\n",
       "      <td>NaN</td>\n",
       "      <td>NaN</td>\n",
       "      <td>NaN</td>\n",
       "      <td>NaN</td>\n",
       "      <td>NaN</td>\n",
       "      <td>...</td>\n",
       "      <td>NaN</td>\n",
       "      <td>NaN</td>\n",
       "      <td>NaN</td>\n",
       "      <td>NaN</td>\n",
       "      <td>NaN</td>\n",
       "      <td>NaN</td>\n",
       "      <td>NaN</td>\n",
       "      <td>NaN</td>\n",
       "      <td>NaN</td>\n",
       "      <td>NaN</td>\n",
       "    </tr>\n",
       "    <tr>\n",
       "      <th>...</th>\n",
       "      <td>...</td>\n",
       "      <td>...</td>\n",
       "      <td>...</td>\n",
       "      <td>...</td>\n",
       "      <td>...</td>\n",
       "      <td>...</td>\n",
       "      <td>...</td>\n",
       "      <td>...</td>\n",
       "      <td>...</td>\n",
       "      <td>...</td>\n",
       "      <td>...</td>\n",
       "      <td>...</td>\n",
       "      <td>...</td>\n",
       "      <td>...</td>\n",
       "      <td>...</td>\n",
       "      <td>...</td>\n",
       "      <td>...</td>\n",
       "      <td>...</td>\n",
       "      <td>...</td>\n",
       "      <td>...</td>\n",
       "      <td>...</td>\n",
       "    </tr>\n",
       "    <tr>\n",
       "      <th>MMM_AG7RA7MI2CAOMN43VI3YQXAFBRXA</th>\n",
       "      <td>NaN</td>\n",
       "      <td>NaN</td>\n",
       "      <td>NaN</td>\n",
       "      <td>NaN</td>\n",
       "      <td>NaN</td>\n",
       "      <td>NaN</td>\n",
       "      <td>NaN</td>\n",
       "      <td>NaN</td>\n",
       "      <td>NaN</td>\n",
       "      <td>NaN</td>\n",
       "      <td>...</td>\n",
       "      <td>NaN</td>\n",
       "      <td>NaN</td>\n",
       "      <td>NaN</td>\n",
       "      <td>NaN</td>\n",
       "      <td>NaN</td>\n",
       "      <td>NaN</td>\n",
       "      <td>NaN</td>\n",
       "      <td>NaN</td>\n",
       "      <td>NaN</td>\n",
       "      <td>NaN</td>\n",
       "    </tr>\n",
       "    <tr>\n",
       "      <th>Steph_AHGVP2CKUU6UYACQL4X6VELOUVPA</th>\n",
       "      <td>NaN</td>\n",
       "      <td>NaN</td>\n",
       "      <td>NaN</td>\n",
       "      <td>NaN</td>\n",
       "      <td>NaN</td>\n",
       "      <td>NaN</td>\n",
       "      <td>NaN</td>\n",
       "      <td>NaN</td>\n",
       "      <td>NaN</td>\n",
       "      <td>NaN</td>\n",
       "      <td>...</td>\n",
       "      <td>NaN</td>\n",
       "      <td>NaN</td>\n",
       "      <td>NaN</td>\n",
       "      <td>NaN</td>\n",
       "      <td>NaN</td>\n",
       "      <td>NaN</td>\n",
       "      <td>NaN</td>\n",
       "      <td>NaN</td>\n",
       "      <td>NaN</td>\n",
       "      <td>NaN</td>\n",
       "    </tr>\n",
       "    <tr>\n",
       "      <th>Ellen Abarr_AHMMO5K6BOLP6TBAFVMMGQXGJ3MA</th>\n",
       "      <td>NaN</td>\n",
       "      <td>NaN</td>\n",
       "      <td>NaN</td>\n",
       "      <td>NaN</td>\n",
       "      <td>NaN</td>\n",
       "      <td>NaN</td>\n",
       "      <td>NaN</td>\n",
       "      <td>NaN</td>\n",
       "      <td>NaN</td>\n",
       "      <td>NaN</td>\n",
       "      <td>...</td>\n",
       "      <td>NaN</td>\n",
       "      <td>NaN</td>\n",
       "      <td>NaN</td>\n",
       "      <td>NaN</td>\n",
       "      <td>NaN</td>\n",
       "      <td>NaN</td>\n",
       "      <td>NaN</td>\n",
       "      <td>NaN</td>\n",
       "      <td>NaN</td>\n",
       "      <td>NaN</td>\n",
       "    </tr>\n",
       "    <tr>\n",
       "      <th>Chad Gilbert_AFEZWFJ4K4SY6LTS42JTOMW7ZCUA</th>\n",
       "      <td>NaN</td>\n",
       "      <td>NaN</td>\n",
       "      <td>NaN</td>\n",
       "      <td>NaN</td>\n",
       "      <td>NaN</td>\n",
       "      <td>NaN</td>\n",
       "      <td>NaN</td>\n",
       "      <td>NaN</td>\n",
       "      <td>NaN</td>\n",
       "      <td>NaN</td>\n",
       "      <td>...</td>\n",
       "      <td>NaN</td>\n",
       "      <td>NaN</td>\n",
       "      <td>NaN</td>\n",
       "      <td>NaN</td>\n",
       "      <td>NaN</td>\n",
       "      <td>NaN</td>\n",
       "      <td>NaN</td>\n",
       "      <td>NaN</td>\n",
       "      <td>NaN</td>\n",
       "      <td>NaN</td>\n",
       "    </tr>\n",
       "    <tr>\n",
       "      <th>Kindle Customer_ref=cm_cr_dp_d_gw_tr?ie=UTF8&amp;contextId=masrwMedleyDesktop</th>\n",
       "      <td>NaN</td>\n",
       "      <td>NaN</td>\n",
       "      <td>NaN</td>\n",
       "      <td>NaN</td>\n",
       "      <td>NaN</td>\n",
       "      <td>NaN</td>\n",
       "      <td>NaN</td>\n",
       "      <td>NaN</td>\n",
       "      <td>NaN</td>\n",
       "      <td>NaN</td>\n",
       "      <td>...</td>\n",
       "      <td>NaN</td>\n",
       "      <td>NaN</td>\n",
       "      <td>NaN</td>\n",
       "      <td>NaN</td>\n",
       "      <td>NaN</td>\n",
       "      <td>NaN</td>\n",
       "      <td>NaN</td>\n",
       "      <td>NaN</td>\n",
       "      <td>NaN</td>\n",
       "      <td>NaN</td>\n",
       "    </tr>\n",
       "  </tbody>\n",
       "</table>\n",
       "<p>358 rows × 33510 columns</p>\n",
       "</div>"
      ],
      "text/plain": [
       "                                                    b085fzxzj5  b000iw9j20  \\\n",
       "reviewerID                                                                   \n",
       "Jo_AHXFEMW5RPSWLG5ELU3CBSZHBTWQ                            NaN         NaN   \n",
       "Nelle Renn_AFVKHDD7S4DTJFHS7N5QAMNMMTCA                    NaN         NaN   \n",
       "Dustin_AHWZKDPFP7DOCROU6EQ2KQYOLLCQ                        NaN         NaN   \n",
       "Unspoken Yum_AH2JCQEWME2H6ZGCDIRIQWUKHSRQ                  NaN         NaN   \n",
       "Harry _AELUZ4IIDBETBOOHUO6IOFX7EXTA                        NaN         NaN   \n",
       "...                                                        ...         ...   \n",
       "MMM_AG7RA7MI2CAOMN43VI3YQXAFBRXA                           NaN         NaN   \n",
       "Steph_AHGVP2CKUU6UYACQL4X6VELOUVPA                         NaN         NaN   \n",
       "Ellen Abarr_AHMMO5K6BOLP6TBAFVMMGQXGJ3MA                   NaN         NaN   \n",
       "Chad Gilbert_AFEZWFJ4K4SY6LTS42JTOMW7ZCUA                  NaN         NaN   \n",
       "Kindle Customer_ref=cm_cr_dp_d_gw_tr?ie=UTF8&co...         NaN         NaN   \n",
       "\n",
       "                                                    b0c6rc2k82  b09xjd2znd  \\\n",
       "reviewerID                                                                   \n",
       "Jo_AHXFEMW5RPSWLG5ELU3CBSZHBTWQ                            NaN         NaN   \n",
       "Nelle Renn_AFVKHDD7S4DTJFHS7N5QAMNMMTCA                    NaN         NaN   \n",
       "Dustin_AHWZKDPFP7DOCROU6EQ2KQYOLLCQ                        NaN         NaN   \n",
       "Unspoken Yum_AH2JCQEWME2H6ZGCDIRIQWUKHSRQ                  NaN         NaN   \n",
       "Harry _AELUZ4IIDBETBOOHUO6IOFX7EXTA                        NaN         NaN   \n",
       "...                                                        ...         ...   \n",
       "MMM_AG7RA7MI2CAOMN43VI3YQXAFBRXA                           NaN         NaN   \n",
       "Steph_AHGVP2CKUU6UYACQL4X6VELOUVPA                         NaN         NaN   \n",
       "Ellen Abarr_AHMMO5K6BOLP6TBAFVMMGQXGJ3MA                   NaN         NaN   \n",
       "Chad Gilbert_AFEZWFJ4K4SY6LTS42JTOMW7ZCUA                  NaN         NaN   \n",
       "Kindle Customer_ref=cm_cr_dp_d_gw_tr?ie=UTF8&co...         NaN         NaN   \n",
       "\n",
       "                                                    b07pqt144t  b086jp7fx9  \\\n",
       "reviewerID                                                                   \n",
       "Jo_AHXFEMW5RPSWLG5ELU3CBSZHBTWQ                            NaN         NaN   \n",
       "Nelle Renn_AFVKHDD7S4DTJFHS7N5QAMNMMTCA                    NaN         NaN   \n",
       "Dustin_AHWZKDPFP7DOCROU6EQ2KQYOLLCQ                        NaN         NaN   \n",
       "Unspoken Yum_AH2JCQEWME2H6ZGCDIRIQWUKHSRQ                  NaN         NaN   \n",
       "Harry _AELUZ4IIDBETBOOHUO6IOFX7EXTA                        NaN         NaN   \n",
       "...                                                        ...         ...   \n",
       "MMM_AG7RA7MI2CAOMN43VI3YQXAFBRXA                           NaN         NaN   \n",
       "Steph_AHGVP2CKUU6UYACQL4X6VELOUVPA                         NaN         NaN   \n",
       "Ellen Abarr_AHMMO5K6BOLP6TBAFVMMGQXGJ3MA                   NaN         NaN   \n",
       "Chad Gilbert_AFEZWFJ4K4SY6LTS42JTOMW7ZCUA                  NaN         NaN   \n",
       "Kindle Customer_ref=cm_cr_dp_d_gw_tr?ie=UTF8&co...         NaN         NaN   \n",
       "\n",
       "                                                    b07jfl43nx  b0c44fvt2q  \\\n",
       "reviewerID                                                                   \n",
       "Jo_AHXFEMW5RPSWLG5ELU3CBSZHBTWQ                            NaN         NaN   \n",
       "Nelle Renn_AFVKHDD7S4DTJFHS7N5QAMNMMTCA                    NaN         NaN   \n",
       "Dustin_AHWZKDPFP7DOCROU6EQ2KQYOLLCQ                        NaN         NaN   \n",
       "Unspoken Yum_AH2JCQEWME2H6ZGCDIRIQWUKHSRQ                  NaN         NaN   \n",
       "Harry _AELUZ4IIDBETBOOHUO6IOFX7EXTA                        NaN         NaN   \n",
       "...                                                        ...         ...   \n",
       "MMM_AG7RA7MI2CAOMN43VI3YQXAFBRXA                           NaN         NaN   \n",
       "Steph_AHGVP2CKUU6UYACQL4X6VELOUVPA                         NaN         NaN   \n",
       "Ellen Abarr_AHMMO5K6BOLP6TBAFVMMGQXGJ3MA                   NaN         NaN   \n",
       "Chad Gilbert_AFEZWFJ4K4SY6LTS42JTOMW7ZCUA                  NaN         NaN   \n",
       "Kindle Customer_ref=cm_cr_dp_d_gw_tr?ie=UTF8&co...         NaN         NaN   \n",
       "\n",
       "                                                    b0bwjz2fhw  b0c61kbpc8  \\\n",
       "reviewerID                                                                   \n",
       "Jo_AHXFEMW5RPSWLG5ELU3CBSZHBTWQ                            NaN         NaN   \n",
       "Nelle Renn_AFVKHDD7S4DTJFHS7N5QAMNMMTCA                    NaN         NaN   \n",
       "Dustin_AHWZKDPFP7DOCROU6EQ2KQYOLLCQ                        NaN         NaN   \n",
       "Unspoken Yum_AH2JCQEWME2H6ZGCDIRIQWUKHSRQ                  NaN         NaN   \n",
       "Harry _AELUZ4IIDBETBOOHUO6IOFX7EXTA                        NaN         NaN   \n",
       "...                                                        ...         ...   \n",
       "MMM_AG7RA7MI2CAOMN43VI3YQXAFBRXA                           NaN         NaN   \n",
       "Steph_AHGVP2CKUU6UYACQL4X6VELOUVPA                         NaN         NaN   \n",
       "Ellen Abarr_AHMMO5K6BOLP6TBAFVMMGQXGJ3MA                   NaN         NaN   \n",
       "Chad Gilbert_AFEZWFJ4K4SY6LTS42JTOMW7ZCUA                  NaN         NaN   \n",
       "Kindle Customer_ref=cm_cr_dp_d_gw_tr?ie=UTF8&co...         NaN         NaN   \n",
       "\n",
       "                                                    ...  b0cl4gxlgp  \\\n",
       "reviewerID                                          ...               \n",
       "Jo_AHXFEMW5RPSWLG5ELU3CBSZHBTWQ                     ...         NaN   \n",
       "Nelle Renn_AFVKHDD7S4DTJFHS7N5QAMNMMTCA             ...         NaN   \n",
       "Dustin_AHWZKDPFP7DOCROU6EQ2KQYOLLCQ                 ...         NaN   \n",
       "Unspoken Yum_AH2JCQEWME2H6ZGCDIRIQWUKHSRQ           ...         NaN   \n",
       "Harry _AELUZ4IIDBETBOOHUO6IOFX7EXTA                 ...         NaN   \n",
       "...                                                 ...         ...   \n",
       "MMM_AG7RA7MI2CAOMN43VI3YQXAFBRXA                    ...         NaN   \n",
       "Steph_AHGVP2CKUU6UYACQL4X6VELOUVPA                  ...         NaN   \n",
       "Ellen Abarr_AHMMO5K6BOLP6TBAFVMMGQXGJ3MA            ...         NaN   \n",
       "Chad Gilbert_AFEZWFJ4K4SY6LTS42JTOMW7ZCUA           ...         NaN   \n",
       "Kindle Customer_ref=cm_cr_dp_d_gw_tr?ie=UTF8&co...  ...         NaN   \n",
       "\n",
       "                                                    b0cpffh4pz  b0ctcy1wtr  \\\n",
       "reviewerID                                                                   \n",
       "Jo_AHXFEMW5RPSWLG5ELU3CBSZHBTWQ                            NaN         NaN   \n",
       "Nelle Renn_AFVKHDD7S4DTJFHS7N5QAMNMMTCA                    NaN         NaN   \n",
       "Dustin_AHWZKDPFP7DOCROU6EQ2KQYOLLCQ                        NaN         NaN   \n",
       "Unspoken Yum_AH2JCQEWME2H6ZGCDIRIQWUKHSRQ                  NaN         NaN   \n",
       "Harry _AELUZ4IIDBETBOOHUO6IOFX7EXTA                        NaN         NaN   \n",
       "...                                                        ...         ...   \n",
       "MMM_AG7RA7MI2CAOMN43VI3YQXAFBRXA                           NaN         NaN   \n",
       "Steph_AHGVP2CKUU6UYACQL4X6VELOUVPA                         NaN         NaN   \n",
       "Ellen Abarr_AHMMO5K6BOLP6TBAFVMMGQXGJ3MA                   NaN         NaN   \n",
       "Chad Gilbert_AFEZWFJ4K4SY6LTS42JTOMW7ZCUA                  NaN         NaN   \n",
       "Kindle Customer_ref=cm_cr_dp_d_gw_tr?ie=UTF8&co...         NaN         NaN   \n",
       "\n",
       "                                                    b0cghxs3p8  b09n6xj3cl  \\\n",
       "reviewerID                                                                   \n",
       "Jo_AHXFEMW5RPSWLG5ELU3CBSZHBTWQ                            NaN         NaN   \n",
       "Nelle Renn_AFVKHDD7S4DTJFHS7N5QAMNMMTCA                    NaN         NaN   \n",
       "Dustin_AHWZKDPFP7DOCROU6EQ2KQYOLLCQ                        NaN         NaN   \n",
       "Unspoken Yum_AH2JCQEWME2H6ZGCDIRIQWUKHSRQ                  NaN         NaN   \n",
       "Harry _AELUZ4IIDBETBOOHUO6IOFX7EXTA                        NaN         NaN   \n",
       "...                                                        ...         ...   \n",
       "MMM_AG7RA7MI2CAOMN43VI3YQXAFBRXA                           NaN         NaN   \n",
       "Steph_AHGVP2CKUU6UYACQL4X6VELOUVPA                         NaN         NaN   \n",
       "Ellen Abarr_AHMMO5K6BOLP6TBAFVMMGQXGJ3MA                   NaN         NaN   \n",
       "Chad Gilbert_AFEZWFJ4K4SY6LTS42JTOMW7ZCUA                  NaN         NaN   \n",
       "Kindle Customer_ref=cm_cr_dp_d_gw_tr?ie=UTF8&co...         NaN         NaN   \n",
       "\n",
       "                                                    b0bhzfpqgy  b0867bkglg  \\\n",
       "reviewerID                                                                   \n",
       "Jo_AHXFEMW5RPSWLG5ELU3CBSZHBTWQ                            NaN         NaN   \n",
       "Nelle Renn_AFVKHDD7S4DTJFHS7N5QAMNMMTCA                    NaN         NaN   \n",
       "Dustin_AHWZKDPFP7DOCROU6EQ2KQYOLLCQ                        NaN         NaN   \n",
       "Unspoken Yum_AH2JCQEWME2H6ZGCDIRIQWUKHSRQ                  NaN         NaN   \n",
       "Harry _AELUZ4IIDBETBOOHUO6IOFX7EXTA                        NaN         NaN   \n",
       "...                                                        ...         ...   \n",
       "MMM_AG7RA7MI2CAOMN43VI3YQXAFBRXA                           NaN         NaN   \n",
       "Steph_AHGVP2CKUU6UYACQL4X6VELOUVPA                         NaN         NaN   \n",
       "Ellen Abarr_AHMMO5K6BOLP6TBAFVMMGQXGJ3MA                   NaN         NaN   \n",
       "Chad Gilbert_AFEZWFJ4K4SY6LTS42JTOMW7ZCUA                  NaN         NaN   \n",
       "Kindle Customer_ref=cm_cr_dp_d_gw_tr?ie=UTF8&co...         NaN         NaN   \n",
       "\n",
       "                                                    b087wp31h9  b0cjv1mjxm  \\\n",
       "reviewerID                                                                   \n",
       "Jo_AHXFEMW5RPSWLG5ELU3CBSZHBTWQ                            NaN         NaN   \n",
       "Nelle Renn_AFVKHDD7S4DTJFHS7N5QAMNMMTCA                    NaN         NaN   \n",
       "Dustin_AHWZKDPFP7DOCROU6EQ2KQYOLLCQ                        NaN         NaN   \n",
       "Unspoken Yum_AH2JCQEWME2H6ZGCDIRIQWUKHSRQ                  NaN         NaN   \n",
       "Harry _AELUZ4IIDBETBOOHUO6IOFX7EXTA                        NaN         NaN   \n",
       "...                                                        ...         ...   \n",
       "MMM_AG7RA7MI2CAOMN43VI3YQXAFBRXA                           NaN         NaN   \n",
       "Steph_AHGVP2CKUU6UYACQL4X6VELOUVPA                         NaN         NaN   \n",
       "Ellen Abarr_AHMMO5K6BOLP6TBAFVMMGQXGJ3MA                   NaN         NaN   \n",
       "Chad Gilbert_AFEZWFJ4K4SY6LTS42JTOMW7ZCUA                  NaN         NaN   \n",
       "Kindle Customer_ref=cm_cr_dp_d_gw_tr?ie=UTF8&co...         NaN         NaN   \n",
       "\n",
       "                                                    b08gqxnj4y  \n",
       "reviewerID                                                      \n",
       "Jo_AHXFEMW5RPSWLG5ELU3CBSZHBTWQ                            NaN  \n",
       "Nelle Renn_AFVKHDD7S4DTJFHS7N5QAMNMMTCA                    NaN  \n",
       "Dustin_AHWZKDPFP7DOCROU6EQ2KQYOLLCQ                        NaN  \n",
       "Unspoken Yum_AH2JCQEWME2H6ZGCDIRIQWUKHSRQ                  NaN  \n",
       "Harry _AELUZ4IIDBETBOOHUO6IOFX7EXTA                        NaN  \n",
       "...                                                        ...  \n",
       "MMM_AG7RA7MI2CAOMN43VI3YQXAFBRXA                           NaN  \n",
       "Steph_AHGVP2CKUU6UYACQL4X6VELOUVPA                         NaN  \n",
       "Ellen Abarr_AHMMO5K6BOLP6TBAFVMMGQXGJ3MA                   NaN  \n",
       "Chad Gilbert_AFEZWFJ4K4SY6LTS42JTOMW7ZCUA                  NaN  \n",
       "Kindle Customer_ref=cm_cr_dp_d_gw_tr?ie=UTF8&co...         NaN  \n",
       "\n",
       "[358 rows x 33510 columns]"
      ]
     },
     "execution_count": 9,
     "metadata": {},
     "output_type": "execute_result"
    }
   ],
   "source": [
    "df_non_top_reviewers"
   ]
  },
  {
   "cell_type": "markdown",
   "metadata": {},
   "source": [
    "# Try all algorithms\n",
    "We try all algorithms and evaluate the quality of recommendations.\n",
    "* Neighborhood-based collaborative filtering\n",
    "    * KNNBasic\n",
    "    * KNNWithMeans\n",
    "    * SVD\n",
    "* Latent-factor based collaborative filtering\n",
    "    * Alternating Least Squares (ALS)\n",
    "* Content-based collaborative filtering\n",
    "    * User profile numeric aggregation with Euclidean distance"
   ]
  },
  {
   "cell_type": "markdown",
   "metadata": {},
   "source": [
    "## Neighborhood-based Collaborative Filtering\n",
    "\n",
    "From Surprise"
   ]
  },
  {
   "cell_type": "code",
   "execution_count": 10,
   "metadata": {},
   "outputs": [],
   "source": [
    "melted_user_df = df_utility.copy().reset_index().melt(\n",
    "    'reviewerID', var_name='ASIN', value_name='rating').dropna()\n",
    "reader = Reader(rating_scale=(0,5))\n",
    "dataset = Dataset.load_from_df(melted_user_df, reader)\n",
    "algos = [KNNBasic(verbose=False), KNNWithMeans(verbose=False), SVD()]"
   ]
  },
  {
   "cell_type": "code",
   "execution_count": 11,
   "metadata": {},
   "outputs": [
    {
     "data": {
      "image/png": "[encoded data removed]",
      "text/plain": [
       "<Figure size 1000x600 with 1 Axes>"
      ]
     },
     "metadata": {},
     "output_type": "display_data"
    }
   ],
   "source": [
    "metrics_list = []\n",
    "for algo in algos:\n",
    "    metrics = cross_validate(algo, dataset)\n",
    "    metrics['mean_test_rmse'] = np.mean(metrics['test_rmse'])\n",
    "    metrics['mean_test_mae'] = np.mean(metrics['test_mae'])\n",
    "    metrics_list.append(metrics)\n",
    "\n",
    "k = range(0,5)\n",
    "plt.figure(figsize=(10, 6))\n",
    "plt.plot(k, metrics_list[0]['test_rmse'], label='Test RMSE for KNNBasic')\n",
    "plt.plot(k, metrics_list[1]['test_rmse'], label='Test RMSE for KNNBWithMeans')\n",
    "plt.plot(k, metrics_list[2]['test_rmse'], label='Test RMSE for SVD')\n",
    "plt.plot(k, metrics_list[0]['test_mae'], label='Test MAE for KNNBasic')\n",
    "plt.plot(k, metrics_list[1]['test_mae'], label='Test RMSE for KNNWithMeans')\n",
    "plt.plot(k, metrics_list[2]['test_mae'], label='Test RMSE for SVD')\n",
    "plt.plot(k, metrics_list[0]['fit_time'], label='Test Fit time for KNNBasic')\n",
    "plt.plot(k, metrics_list[1]['fit_time'], label='Test Fit time for KNNWithMeans')\n",
    "plt.plot(k, metrics_list[2]['fit_time'], label='Test Fit time for SVD')\n",
    "plt.plot(k, metrics_list[0]['test_time'], label='Test time for KNNBasic')\n",
    "plt.plot(k, metrics_list[1]['test_time'], label='Test time for KNNWithMeans')\n",
    "plt.plot(k, metrics_list[2]['test_time'], label='Test time for SVD')\n",
    "plt.xlabel(\"K fold\")\n",
    "plt.ylabel(\"Score\")\n",
    "plt.legend(loc='lower right')\n",
    "plt.title(\"Performance of KNNBasic and KNNWithMeans\")\n",
    "plt.show()"
   ]
  },
  {
   "cell_type": "code",
   "execution_count": 12,
   "metadata": {},
   "outputs": [
    {
     "data": {
      "image/png": "[encoded data removed]",
      "text/plain": [
       "<Figure size 800x400 with 3 Axes>"
      ]
     },
     "metadata": {},
     "output_type": "display_data"
    }
   ],
   "source": [
    "fig, axes = plt.subplots(1, 3, figsize=(8,4), layout='constrained')\n",
    "method = [\"KNNBasic\", \"KNNWithMeans\", \"SVD\"]\n",
    "ind = 0\n",
    "for m in metrics_list:\n",
    "    for k in m:\n",
    "        if 'mean' in k:\n",
    "            axes[ind].bar(k, m[k])\n",
    "            axes[ind].set_title(method[ind])\n",
    "    ind += 1\n",
    "plt.show()"
   ]
  },
  {
   "cell_type": "markdown",
   "metadata": {},
   "source": [
    "### NDCG\n",
    "\n",
    "Taken from https://github.com/NicolasHug/Surprise/blob/master/examples/precision_recall_at_k.py and https://github.com/NicolasHug/Surprise/issues/339"
   ]
  },
  {
   "cell_type": "code",
   "execution_count": 13,
   "metadata": {},
   "outputs": [
    {
     "data": {
      "text/html": [
       "<div>\n",
       "<style scoped>\n",
       "    .dataframe tbody tr th:only-of-type {\n",
       "        vertical-align: middle;\n",
       "    }\n",
       "\n",
       "    .dataframe tbody tr th {\n",
       "        vertical-align: top;\n",
       "    }\n",
       "\n",
       "    .dataframe thead th {\n",
       "        text-align: right;\n",
       "    }\n",
       "</style>\n",
       "<table border=\"1\" class=\"dataframe\">\n",
       "  <thead>\n",
       "    <tr style=\"text-align: right;\">\n",
       "      <th></th>\n",
       "      <th>NDCG</th>\n",
       "    </tr>\n",
       "  </thead>\n",
       "  <tbody>\n",
       "    <tr>\n",
       "      <th>(KNNBasic, ndcg)</th>\n",
       "      <td>0.150956</td>\n",
       "    </tr>\n",
       "    <tr>\n",
       "      <th>(KNNWithMeans, ndcg)</th>\n",
       "      <td>0.150958</td>\n",
       "    </tr>\n",
       "    <tr>\n",
       "      <th>(SVD, ndcg)</th>\n",
       "      <td>0.150928</td>\n",
       "    </tr>\n",
       "  </tbody>\n",
       "</table>\n",
       "</div>"
      ],
      "text/plain": [
       "                          NDCG\n",
       "(KNNBasic, ndcg)      0.150956\n",
       "(KNNWithMeans, ndcg)  0.150958\n",
       "(SVD, ndcg)           0.150928"
      ]
     },
     "metadata": {},
     "output_type": "display_data"
    }
   ],
   "source": [
    "def get_ndcg(surprise_predictions, k_highest_scores=None):\n",
    "    \"\"\" \n",
    "    Calculates the ndcg (normalized discounted cumulative gain) from surprise predictions, using sklearn.metrics.ndcg_score and scipy.sparse\n",
    "  \n",
    "    Parameters: \n",
    "    surprise_predictions (List of surprise.prediction_algorithms.predictions.Prediction): list of predictions\n",
    "    k_highest_scores (positive integer): Only consider the highest k scores in the ranking. If None, use all. \n",
    "  \n",
    "    Returns: \n",
    "    float in [0., 1.]: The averaged NDCG scores over all recommendations\n",
    "  \n",
    "    \"\"\"\n",
    "    from sklearn.metrics import ndcg_score\n",
    "    from scipy import sparse\n",
    "    \n",
    "    uids = []\n",
    "    iids = []\n",
    "    uid_mapping = {}\n",
    "    iid_mapping = {}\n",
    "\n",
    "    iter = 0\n",
    "    for s in surprise_predictions:\n",
    "        if s.uid in uid_mapping:\n",
    "            uids.append(uid_mapping[s.uid])\n",
    "        else:\n",
    "            uid_mapping[s.uid] = iter\n",
    "            uids.append(iter)\n",
    "\n",
    "        if s.iid in iid_mapping:\n",
    "            iids.append(iid_mapping[s.iid])\n",
    "        else:\n",
    "            iid_mapping[s.iid] = iter\n",
    "            iids.append(iter)\n",
    "\n",
    "        iter += 1\n",
    "\n",
    "    r_uis = [p.r_ui for p in surprise_predictions ]\n",
    "    ests = [p.est for p in surprise_predictions ]\n",
    "    \n",
    "    assert(len(uids) == len(iids) == len(r_uis) == len(ests) )    \n",
    "    \n",
    "    sparse_preds = sparse.coo_matrix( (ests, (uids , iids )) )\n",
    "    sparse_vals = sparse.coo_matrix( (r_uis, (uids , iids )) )\n",
    "    \n",
    "    dense_preds = sparse_preds.toarray()\n",
    "    dense_vals = sparse_vals.toarray()\n",
    "    \n",
    "    return ndcg_score(y_true= dense_vals , y_score= dense_preds, k=k_highest_scores)\n",
    "\n",
    "algo_res = {'KNNBasic': {'ndcg': []}, 'KNNWithMeans': {'ndcg': []}, 'SVD': {'ndcg': []}}\n",
    "method = [\"KNNBasic\", \"KNNWithMeans\", \"SVD\"]\n",
    "iter = 0\n",
    "reader = Reader(rating_scale=(0,5))\n",
    "df_melt_all = (df_utility.reset_index()\n",
    "                    .melt('reviewerID', var_name='ASIN', value_name='raw_ratings')\n",
    "                    .dropna())\n",
    "#trainset = dataset.load_from_df(\n",
    "#    df_melt_train, reader).build_full_trainset()\n",
    "trainset = dataset.load_from_df(\n",
    "    df_melt_all, reader).build_full_trainset()\n",
    "for algo in algos:\n",
    "    algo.fit(trainset)\n",
    "    predictions = algo.test(trainset.build_testset())\n",
    "    ndcg = get_ndcg(predictions, k_highest_scores=10)\n",
    "    algo_res[method[iter]]['ndcg'].append(ndcg)\n",
    "    iter += 1\n",
    "\n",
    "df_metrics_surprise = pd.DataFrame.from_dict({(i,j): algo_res[i][j] \n",
    "                           for i in algo_res.keys() \n",
    "                           for j in algo_res[i].keys()},\n",
    "                       orient='index')\n",
    "df_metrics_surprise.rename(columns={0: 'NDCG'}, inplace=True)\n",
    "display(df_metrics_surprise)"
   ]
  },
  {
   "cell_type": "markdown",
   "metadata": {},
   "source": [
    "### Get TopN Recommendations For All Users\n",
    "\n",
    "Taken from https://github.com/NicolasHug/Surprise/blob/master/examples/top_n_recommendations.py"
   ]
  },
  {
   "cell_type": "code",
   "execution_count": 14,
   "metadata": {},
   "outputs": [],
   "source": [
    "def get_random_users(lst, n):\n",
    "    rand_ids = random.sample(lst, k=n)\n",
    "    return rand_ids\n",
    "\n",
    "\n",
    "def get_ilocs(df_utility, userids):\n",
    "    userids_ilocs = []\n",
    "    original_indices = df_utility.index\n",
    "    for u in userids:\n",
    "        userids_ilocs.append(original_indices.get_loc(u))\n",
    "    return userids_ilocs\n",
    "\n",
    "user_histories = {}\n",
    "for uid in top_uids:\n",
    "    user_histories[uid] = reviews_df.loc[uid]['ASIN'].tolist()\n",
    "\n",
    "userids_ilocs = get_ilocs(df_utility, top_uids)"
   ]
  },
  {
   "cell_type": "code",
   "execution_count": 15,
   "metadata": {},
   "outputs": [],
   "source": [
    "def get_top_n(predictions, user_history, n=10):\n",
    "    \"\"\"Return the top-N recommendation for each user from a set of predictions.\n",
    "\n",
    "    Args:\n",
    "        predictions(list of Prediction objects): The list of predictions, as\n",
    "            returned by the test method of an algorithm.\n",
    "        n(int): The number of recommendation to output for each user. Default\n",
    "            is 10.\n",
    "\n",
    "    Returns:\n",
    "    A dict where keys are user (raw) ids and values are lists of tuples:\n",
    "        [(raw item id, rating estimation), ...] of size n.\n",
    "    \"\"\"\n",
    "    top_n = defaultdict(list)\n",
    "    for uid, iid, true_r, est, _ in predictions:\n",
    "        if iid not in user_history:\n",
    "            top_n[uid].append((iid, est))\n",
    "    for uid, user_ratings in top_n.items():\n",
    "        user_ratings.sort(key=lambda x: x[1], reverse=True)\n",
    "        top_n[uid] = user_ratings[:n]\n",
    "    return top_n\n",
    "\n",
    "testset = dataset.load_from_df(\n",
    "    df_melt_all, reader).build_full_trainset().build_anti_testset()\n",
    "\n",
    "algo_names = ['KNNBasic', 'KNNWithMeans', 'SVD']\n",
    "recommendations_surprise = {'KNNBasic': {}, 'KNNWithMeans': {}, 'SVD': {}}\n",
    "iter = 0\n",
    "for algo in algos:\n",
    "    predictions = algo.test(testset)\n",
    "    for uid in top_uids:\n",
    "        top_n = get_top_n(predictions, user_histories[uid], n=10)\n",
    "        for uid, user_ratings in top_n.items():\n",
    "            if uid in top_uids:\n",
    "                recommendations_surprise[algo_names[iter]][uid] = [iid for (iid, _) in user_ratings]\n",
    "                #print(recommendations_surprise[algo_names[iter]][uid])\n",
    "                #print(user_histories[uid])\n",
    "                #print('---')\n",
    "        #break\n",
    "    iter += 1"
   ]
  },
  {
   "cell_type": "markdown",
   "metadata": {},
   "source": [
    "## Latent-factor based Collaborative Filtering\n",
    "\n",
    "### ALS"
   ]
  },
  {
   "cell_type": "code",
   "execution_count": 16,
   "metadata": {},
   "outputs": [
    {
     "data": {
      "application/vnd.jupyter.widget-view+json": {
       "model_id": "8ab4223b87794ceba2c7db2bb1155273",
       "version_major": 2,
       "version_minor": 0
      },
      "text/plain": [
       "  0%|          | 0/244 [00:00<?, ?it/s]"
      ]
     },
     "metadata": {},
     "output_type": "display_data"
    },
    {
     "data": {
      "application/vnd.jupyter.widget-view+json": {
       "model_id": "6d61e952a12046238dbd8d3409e3bceb",
       "version_major": 2,
       "version_minor": 0
      },
      "text/plain": [
       "  0%|          | 0/244 [00:00<?, ?it/s]"
      ]
     },
     "metadata": {},
     "output_type": "display_data"
    },
    {
     "data": {
      "application/vnd.jupyter.widget-view+json": {
       "model_id": "94582ac4efe04bd28eb0b0397f94e69b",
       "version_major": 2,
       "version_minor": 0
      },
      "text/plain": [
       "  0%|          | 0/244 [00:00<?, ?it/s]"
      ]
     },
     "metadata": {},
     "output_type": "display_data"
    },
    {
     "data": {
      "application/vnd.jupyter.widget-view+json": {
       "model_id": "70c00971b6934e679ba88134343bd206",
       "version_major": 2,
       "version_minor": 0
      },
      "text/plain": [
       "  0%|          | 0/244 [00:00<?, ?it/s]"
      ]
     },
     "metadata": {},
     "output_type": "display_data"
    },
    {
     "data": {
      "application/vnd.jupyter.widget-view+json": {
       "model_id": "8b071914b313486bae34ddc9d3c15016",
       "version_major": 2,
       "version_minor": 0
      },
      "text/plain": [
       "  0%|          | 0/244 [00:00<?, ?it/s]"
      ]
     },
     "metadata": {},
     "output_type": "display_data"
    },
    {
     "data": {
      "application/vnd.jupyter.widget-view+json": {
       "model_id": "d96a53f391b447a59f009a65a5812ec5",
       "version_major": 2,
       "version_minor": 0
      },
      "text/plain": [
       "  0%|          | 0/244 [00:00<?, ?it/s]"
      ]
     },
     "metadata": {},
     "output_type": "display_data"
    },
    {
     "data": {
      "application/vnd.jupyter.widget-view+json": {
       "model_id": "7f89c1ac81ad4cd0a13ad01562094dd6",
       "version_major": 2,
       "version_minor": 0
      },
      "text/plain": [
       "  0%|          | 0/244 [00:00<?, ?it/s]"
      ]
     },
     "metadata": {},
     "output_type": "display_data"
    },
    {
     "data": {
      "application/vnd.jupyter.widget-view+json": {
       "model_id": "56525a78e62f4674b16d73f6b5cdbe83",
       "version_major": 2,
       "version_minor": 0
      },
      "text/plain": [
       "  0%|          | 0/244 [00:00<?, ?it/s]"
      ]
     },
     "metadata": {},
     "output_type": "display_data"
    },
    {
     "data": {
      "application/vnd.jupyter.widget-view+json": {
       "model_id": "18c6aaf778e546129459ea3aa904403f",
       "version_major": 2,
       "version_minor": 0
      },
      "text/plain": [
       "  0%|          | 0/244 [00:00<?, ?it/s]"
      ]
     },
     "metadata": {},
     "output_type": "display_data"
    },
    {
     "data": {
      "application/vnd.jupyter.widget-view+json": {
       "model_id": "187cbb23d69a4f308c583be9a2e7aeae",
       "version_major": 2,
       "version_minor": 0
      },
      "text/plain": [
       "  0%|          | 0/244 [00:00<?, ?it/s]"
      ]
     },
     "metadata": {},
     "output_type": "display_data"
    },
    {
     "data": {
      "application/vnd.jupyter.widget-view+json": {
       "model_id": "ec8d8582d6c2491181015afdbe8d1bd9",
       "version_major": 2,
       "version_minor": 0
      },
      "text/plain": [
       "  0%|          | 0/244 [00:00<?, ?it/s]"
      ]
     },
     "metadata": {},
     "output_type": "display_data"
    },
    {
     "data": {
      "application/vnd.jupyter.widget-view+json": {
       "model_id": "73a17125eb8341f5831be9271c2a83d2",
       "version_major": 2,
       "version_minor": 0
      },
      "text/plain": [
       "  0%|          | 0/244 [00:00<?, ?it/s]"
      ]
     },
     "metadata": {},
     "output_type": "display_data"
    },
    {
     "data": {
      "application/vnd.jupyter.widget-view+json": {
       "model_id": "f3f48b35c35c4fefa8093e93a61c93c3",
       "version_major": 2,
       "version_minor": 0
      },
      "text/plain": [
       "  0%|          | 0/244 [00:00<?, ?it/s]"
      ]
     },
     "metadata": {},
     "output_type": "display_data"
    },
    {
     "data": {
      "application/vnd.jupyter.widget-view+json": {
       "model_id": "1b1005a982e24eb88026052086a73b54",
       "version_major": 2,
       "version_minor": 0
      },
      "text/plain": [
       "  0%|          | 0/244 [00:00<?, ?it/s]"
      ]
     },
     "metadata": {},
     "output_type": "display_data"
    },
    {
     "data": {
      "application/vnd.jupyter.widget-view+json": {
       "model_id": "e635bc8eaafb48469b9c23758962c646",
       "version_major": 2,
       "version_minor": 0
      },
      "text/plain": [
       "  0%|          | 0/244 [00:00<?, ?it/s]"
      ]
     },
     "metadata": {},
     "output_type": "display_data"
    },
    {
     "data": {
      "application/vnd.jupyter.widget-view+json": {
       "model_id": "ad54d1b8d2794c73a4c3a3171086fbff",
       "version_major": 2,
       "version_minor": 0
      },
      "text/plain": [
       "  0%|          | 0/244 [00:00<?, ?it/s]"
      ]
     },
     "metadata": {},
     "output_type": "display_data"
    },
    {
     "data": {
      "application/vnd.jupyter.widget-view+json": {
       "model_id": "3a8019d49b764171b0cce1b5450d1c88",
       "version_major": 2,
       "version_minor": 0
      },
      "text/plain": [
       "  0%|          | 0/244 [00:00<?, ?it/s]"
      ]
     },
     "metadata": {},
     "output_type": "display_data"
    },
    {
     "data": {
      "application/vnd.jupyter.widget-view+json": {
       "model_id": "9099c89fc2614a3bb81c63733eb702e0",
       "version_major": 2,
       "version_minor": 0
      },
      "text/plain": [
       "  0%|          | 0/244 [00:00<?, ?it/s]"
      ]
     },
     "metadata": {},
     "output_type": "display_data"
    },
    {
     "data": {
      "application/vnd.jupyter.widget-view+json": {
       "model_id": "ce546a019db947cea95ea33ff9a99bef",
       "version_major": 2,
       "version_minor": 0
      },
      "text/plain": [
       "  0%|          | 0/244 [00:00<?, ?it/s]"
      ]
     },
     "metadata": {},
     "output_type": "display_data"
    },
    {
     "data": {
      "application/vnd.jupyter.widget-view+json": {
       "model_id": "e9b7d528f0a64a9195c4eed658ef948b",
       "version_major": 2,
       "version_minor": 0
      },
      "text/plain": [
       "  0%|          | 0/244 [00:00<?, ?it/s]"
      ]
     },
     "metadata": {},
     "output_type": "display_data"
    },
    {
     "data": {
      "application/vnd.jupyter.widget-view+json": {
       "model_id": "cba808d16b3142b8bbfe89f78398093f",
       "version_major": 2,
       "version_minor": 0
      },
      "text/plain": [
       "  0%|          | 0/244 [00:00<?, ?it/s]"
      ]
     },
     "metadata": {},
     "output_type": "display_data"
    },
    {
     "data": {
      "application/vnd.jupyter.widget-view+json": {
       "model_id": "c241941488834159a5bd073b06fc8c77",
       "version_major": 2,
       "version_minor": 0
      },
      "text/plain": [
       "  0%|          | 0/244 [00:00<?, ?it/s]"
      ]
     },
     "metadata": {},
     "output_type": "display_data"
    },
    {
     "data": {
      "application/vnd.jupyter.widget-view+json": {
       "model_id": "b5d88f4e516e4b2dacaff55ba56b3d3e",
       "version_major": 2,
       "version_minor": 0
      },
      "text/plain": [
       "  0%|          | 0/244 [00:00<?, ?it/s]"
      ]
     },
     "metadata": {},
     "output_type": "display_data"
    },
    {
     "data": {
      "application/vnd.jupyter.widget-view+json": {
       "model_id": "e30bbb03781c43efa5ee1f3860571c7c",
       "version_major": 2,
       "version_minor": 0
      },
      "text/plain": [
       "  0%|          | 0/244 [00:00<?, ?it/s]"
      ]
     },
     "metadata": {},
     "output_type": "display_data"
    },
    {
     "data": {
      "application/vnd.jupyter.widget-view+json": {
       "model_id": "8084dfe80de44581a697731fe5dff234",
       "version_major": 2,
       "version_minor": 0
      },
      "text/plain": [
       "  0%|          | 0/244 [00:00<?, ?it/s]"
      ]
     },
     "metadata": {},
     "output_type": "display_data"
    },
    {
     "data": {
      "application/vnd.jupyter.widget-view+json": {
       "model_id": "44cbdb912ffb4fb8923fbeefd8484455",
       "version_major": 2,
       "version_minor": 0
      },
      "text/plain": [
       "  0%|          | 0/244 [00:00<?, ?it/s]"
      ]
     },
     "metadata": {},
     "output_type": "display_data"
    },
    {
     "data": {
      "application/vnd.jupyter.widget-view+json": {
       "model_id": "79165bbb550e43b69e37d65c31d84618",
       "version_major": 2,
       "version_minor": 0
      },
      "text/plain": [
       "  0%|          | 0/244 [00:00<?, ?it/s]"
      ]
     },
     "metadata": {},
     "output_type": "display_data"
    },
    {
     "data": {
      "application/vnd.jupyter.widget-view+json": {
       "model_id": "9a9e19c9f2094adb91a759f628311203",
       "version_major": 2,
       "version_minor": 0
      },
      "text/plain": [
       "  0%|          | 0/244 [00:00<?, ?it/s]"
      ]
     },
     "metadata": {},
     "output_type": "display_data"
    },
    {
     "data": {
      "image/png": "[encoded data removed]",
      "text/plain": [
       "<Figure size 640x480 with 1 Axes>"
      ]
     },
     "metadata": {},
     "output_type": "display_data"
    }
   ],
   "source": [
    "csr_utility = scipy.sparse.csr_matrix(df_utility.fillna(0).values)\n",
    "#export OPENBLAS_NUM_THREADS=1\n",
    "threadpoolctl.threadpool_limits(1, \"blas\")\n",
    "\n",
    "auc_list = []\n",
    "mean_ave_precision_list = []\n",
    "ndcg_list = []\n",
    "precision_list = []\n",
    "\n",
    "factors = [50, 100, 150, 200, 250, 300,\n",
    "           350]\n",
    "\n",
    "for factor in factors:\n",
    "    model = ALS(\n",
    "        factors=factor,\n",
    "        regularization=0.05,\n",
    "        alpha=1.5,\n",
    "        use_cg=True,\n",
    "        iterations=20,\n",
    "        random_state=143\n",
    "    )\n",
    "    model.fit(csr_utility, show_progress=False)\n",
    "\n",
    "    # evaluation\n",
    "    training_set, test_set = train_test_split(\n",
    "        csr_utility,\n",
    "        train_percentage=0.85,\n",
    "        random_state=143\n",
    "    )\n",
    "    auc = AUC_at_k(model,training_set,test_set,\n",
    "                K=len(df_utility), show_progress=True)\n",
    "    mean_ave_precision = mean_average_precision_at_k(model, training_set,\n",
    "                test_set, K=len(df_utility), show_progress=True)\n",
    "    ndcg = ndcg_at_k(model, training_set, test_set,\n",
    "                K=len(df_utility), show_progress=True)\n",
    "    precision = precision_at_k(model, training_set,\n",
    "                test_set, K=len(df_utility), show_progress=True)\n",
    "    auc_list.append(auc)\n",
    "    mean_ave_precision_list.append(mean_ave_precision)\n",
    "    ndcg_list.append(ndcg)\n",
    "    precision_list.append(precision)\n",
    "plt.plot(factors, auc_list, label='AUC')\n",
    "plt.plot(factors, mean_ave_precision_list, label='Mean Average Precision')\n",
    "plt.plot(factors, ndcg_list, label='NDCG')\n",
    "plt.plot(factors, precision_list, label='Precision')\n",
    "plt.xlabel('Number of latent factors')\n",
    "plt.ylabel('Performance score')\n",
    "plt.title(\"Performance of ALS across number of factors\")\n",
    "plt.legend()\n",
    "plt.show()"
   ]
  },
  {
   "cell_type": "markdown",
   "metadata": {},
   "source": [
    "Select `factors=250`"
   ]
  },
  {
   "cell_type": "code",
   "execution_count": 17,
   "metadata": {},
   "outputs": [
    {
     "data": {
      "application/vnd.jupyter.widget-view+json": {
       "model_id": "2f53c468450e4fd492bab55bdac7f965",
       "version_major": 2,
       "version_minor": 0
      },
      "text/plain": [
       "  0%|          | 0/244 [00:00<?, ?it/s]"
      ]
     },
     "metadata": {},
     "output_type": "display_data"
    },
    {
     "data": {
      "application/vnd.jupyter.widget-view+json": {
       "model_id": "50ffd17184a546f982dd8082d41416c0",
       "version_major": 2,
       "version_minor": 0
      },
      "text/plain": [
       "  0%|          | 0/244 [00:00<?, ?it/s]"
      ]
     },
     "metadata": {},
     "output_type": "display_data"
    },
    {
     "data": {
      "application/vnd.jupyter.widget-view+json": {
       "model_id": "af58aa46b7714246a336ac27ceb84684",
       "version_major": 2,
       "version_minor": 0
      },
      "text/plain": [
       "  0%|          | 0/244 [00:00<?, ?it/s]"
      ]
     },
     "metadata": {},
     "output_type": "display_data"
    },
    {
     "name": "stdout",
     "output_type": "stream",
     "text": [
      "AUC: 0.999999633081203\n",
      "precision: 1.0\n",
      "ndcg: 0.997666707205219\n"
     ]
    }
   ],
   "source": [
    "model = ALS(\n",
    "    factors=250,\n",
    "    regularization=0.05,\n",
    "    alpha=1.5,\n",
    "    calculate_training_loss=False,\n",
    "    use_cg=True,\n",
    "    iterations=20,\n",
    "    random_state=143\n",
    ")\n",
    "model.fit(csr_utility, show_progress=False)\n",
    "\n",
    "auc = AUC_at_k(model,training_set,test_set,\n",
    "            K=len(df_utility), show_progress=True)\n",
    "ndcg_als = ndcg_at_k(model, training_set, test_set,\n",
    "            K=len(df_utility), show_progress=True)\n",
    "precision = precision_at_k(model, training_set,\n",
    "            test_set, K=len(df_utility), show_progress=True)\n",
    "\n",
    "print(f\"AUC: {auc}\")\n",
    "print(f\"precision: {precision}\")\n",
    "print(f\"ndcg: {ndcg_als}\")\n",
    "\n",
    "ids, scores = model.recommend(userids_ilocs, csr_utility[userids_ilocs])\n",
    "recommendations_als_ilocs = [(x, y, z) for x, y, z in zip(userids_ilocs, ids, scores)]\n",
    "recommendations_als = {}\n",
    "\n",
    "for user_ind, reco_ids, scores in recommendations_als_ilocs:\n",
    "    recos = {}\n",
    "    reviewer_id = df_utility.iloc[user_ind, :].name\n",
    "    reco_ids = df_utility.columns[reco_ids]\n",
    "    n = 0\n",
    "    for i in range(len(reco_ids)):\n",
    "        if reco_ids[i] not in user_histories[reviewer_id]:\n",
    "            recos[reco_ids[i]] = scores[i]\n",
    "            n += 1\n",
    "            if n == 9: break\n",
    "    recommendations_als[reviewer_id]  = recos"
   ]
  },
  {
   "cell_type": "markdown",
   "metadata": {},
   "source": [
    "## Content-based Recommender Systems\n",
    "\n",
    "* Basic content-based recommender system using numerical user profile aggregation. Try cosine, euclidean, and jaccard distance metrics\n",
    "* Hybrid recommender using LightFM\n",
    "\n",
    "We first use a basic content-based recommender system that relies on aggregating the numeric user profile and various distance metrics such as cosine, euclidean, and jaccard. Then, we compare the results to a Hybrid Recommender System as provided by the LightFM library."
   ]
  },
  {
   "cell_type": "markdown",
   "metadata": {},
   "source": [
    "### Content-Based Recommender\n",
    "\n",
    "* Use numerical user profile aggregation\n",
    "* Try different distance metrics such as cosine, euclidean, and Jaccard distance"
   ]
  },
  {
   "cell_type": "code",
   "execution_count": 18,
   "metadata": {},
   "outputs": [],
   "source": [
    "def get_user_profile(user_ratings_nonzero, items_df):\n",
    "    \"\"\"\n",
    "    Return series representing aggregated user profile\n",
    "    \"\"\"\n",
    "    nonzero_asins = user_ratings_nonzero.index.tolist()\n",
    "    user_profile = items_df.mul(user_ratings_nonzero, axis=0).sum(\n",
    "        axis=0) / user_ratings_nonzero.notna().sum()\n",
    "    return user_profile, nonzero_asins\n",
    "\n",
    "\n",
    "def get_recommendations(user_profile, items_df,\n",
    "        n, user_history, eval, dist):\n",
    "    \"\"\"\n",
    "    Return dictionary of sorted recommendations\n",
    "    \"\"\"\n",
    "    if dist == 'cos':\n",
    "        dist_func = distance.cosine\n",
    "    if dist == 'euc':\n",
    "        dist_func = distance.euclidean\n",
    "    if dist == 'jac':\n",
    "        dist_func = distance.jaccard\n",
    "    similarities = {}\n",
    "    for ind, feats in items_df.iterrows():\n",
    "        if ind not in user_history:\n",
    "            similarities[ind] = np.abs(dist_func(feats, user_profile))\n",
    "        if eval:\n",
    "            similarities[ind] = np.abs(dist_func(feats, user_profile))\n",
    "    if dist == 'euc':\n",
    "        rev = False\n",
    "    if dist == 'cos' or dist == 'jac':\n",
    "        rev = True\n",
    "    sorted_similarites = dict(sorted(\n",
    "        similarities.items(), key=lambda item: item[1], reverse=rev)[:n])\n",
    "    return sorted_similarites\n",
    "\n",
    "\n",
    "def dcg(user_history, recommendations):\n",
    "    \"\"\"\n",
    "    Return dcg for this user given their history\n",
    "    and recommendations\n",
    "    \"\"\"\n",
    "    ranking = 1\n",
    "    dcg_final = 0\n",
    "    actual_ratings = user_history.reset_index()[\n",
    "        ['ASIN', 'customerReview']].set_index('ASIN').to_dict()['customerReview']\n",
    "    for key, value in recommendations.items():\n",
    "        dcg_final += ((2**actual_ratings[key]) - 1) / log(ranking + 1)\n",
    "        ranking += 1\n",
    "    return dcg_final / len(recommendations)\n",
    "\n",
    "\n",
    "def idcg(user_history, recommendations):\n",
    "    \"\"\"\n",
    "    Return ndcg for this user given their history\n",
    "    and recommendations\n",
    "    \"\"\"\n",
    "    actual_ratings = user_history.reset_index()[\n",
    "        ['ASIN', 'customerReview']].set_index('ASIN').to_dict()['customerReview']\n",
    "    ranking = 1\n",
    "    idcg_final = 0\n",
    "    for key in actual_ratings.keys():\n",
    "        idcg_final += ((2**actual_ratings[key]) - 1) / log(ranking + 1)\n",
    "        ranking += 1\n",
    "    return idcg_final / len(recommendations)\n",
    "\n",
    "\n",
    "def basic_content_based_recommender(\n",
    "    userids, df_utility, items_df,\n",
    "    reviews_df, n, eval, dist):\n",
    "    \"\"\"\n",
    "    Return recommendations for the list of users.\n",
    "\n",
    "    Parameters:\n",
    "    userids: STRING list\n",
    "    df_utility: DataFrame representing the utility matrix\n",
    "    items_df: DataFrame representing the itemset\n",
    "    reviews_df: DataFrame representing user history\n",
    "    asins_df: DataFrame that contains mapping between ASINs and Product Names\n",
    "    n: INTEGER Number of recommendations to output\n",
    "    dist: STRING distance function to be used\n",
    "    \"\"\"\n",
    "    recommendations = {}\n",
    "    ndcg = None\n",
    "    dcg_list = []\n",
    "    idcg_list = []\n",
    "    ndcg_list = []\n",
    "    iter = 0\n",
    "    for user in userids:\n",
    "        user_ratings = df_utility.loc[user]\n",
    "        user_ratings_nonzero = user_ratings[user_ratings > 0]\n",
    "        user_profile, nonzero_asins = get_user_profile(user_ratings_nonzero, items_df)\n",
    "        user_history_df = reviews_df.loc[user].drop([\n",
    "            \"Unnamed: 0\", \"reviewDate\", \"reviewLocation\", \"reviewVotes\"\n",
    "        ], axis=1)\n",
    "        user_history_df = user_history_df.sort_values('customerReview', ascending=False)\n",
    "        if eval:\n",
    "            recos = get_recommendations(\n",
    "                user_profile,\n",
    "                items_df.loc[nonzero_asins],\n",
    "                len(user_profile),\n",
    "                reviews_df.loc[user]['ASIN'].tolist(),\n",
    "                eval,\n",
    "                dist\n",
    "            )\n",
    "            dcg_list.append(dcg(user_history_df, recos))\n",
    "            idcg_list.append(idcg(user_history_df, recos))\n",
    "        else:\n",
    "            recos = get_recommendations(\n",
    "                user_profile,\n",
    "                items_df,\n",
    "                n,\n",
    "                reviews_df.loc[user]['ASIN'].tolist(),\n",
    "                eval,\n",
    "                dist\n",
    "            )\n",
    "        #print(f\"sorted user history: {user}\")\n",
    "        #display(user_history_df)\n",
    "        #print(f\"recommended items\")\n",
    "        #df_reco = asins_df.loc[list(recos.keys())]\n",
    "        #display(df_reco)\n",
    "        recommendations[user] = recos\n",
    "        iter += 1\n",
    "    if eval:\n",
    "        dcg_final = np.mean(dcg_list)\n",
    "        idcg_final = np.mean(idcg_list)\n",
    "        ndcg = dcg_final / idcg_final\n",
    "        ndcg_list.append(ndcg)\n",
    "    return recommendations, ndcg_list"
   ]
  },
  {
   "cell_type": "markdown",
   "metadata": {},
   "source": [
    "## Evaluation: NDCG @ K\n",
    "\n",
    "Get average NDCG across all users. Compare NDCG across different distance metrics."
   ]
  },
  {
   "cell_type": "code",
   "execution_count": 19,
   "metadata": {},
   "outputs": [
    {
     "name": "stdout",
     "output_type": "stream",
     "text": [
      "shape of df_utility: (378, 33510)\n",
      "shape of items_df: (33510, 2429)\n",
      "shape of asins_df: (33510, 1)\n",
      "average ndcg with distance metric euc is 0.9698216240443229\n"
     ]
    }
   ],
   "source": [
    "np.seterr(invalid='ignore')\n",
    "ndcg_content = {}\n",
    "items_df, df_utility, reviews_df, asins_df = load_dataset()\n",
    "df_utility.fillna(0, inplace=True)\n",
    "items_df.fillna(0, inplace=True)\n",
    "recommendations_content = {}\n",
    "try:\n",
    "    items_df.drop(['level_0'], inplace=True, axis=1)\n",
    "except:\n",
    "    pass\n",
    "try:\n",
    "    reviews_df.set_index('reviewerID', inplace=True)\n",
    "except:\n",
    "    pass\n",
    "try:\n",
    "    asins_df.set_index('ASIN', inplace=True)\n",
    "except:\n",
    "    pass\n",
    "\n",
    "# evaluate ndcg\n",
    "recommendations, ndcg_list = basic_content_based_recommender(\n",
    "    top_uids, df_utility, items_df.copy(),\n",
    "    reviews_df, 10, True, 'euc')\n",
    "ave_ndcg = np.mean(ndcg_list)\n",
    "print(f\"average ndcg with distance metric euc is {ave_ndcg}\")\n",
    "\n",
    "# generate actual recommendations\n",
    "recommendations_content['euc'], _ = basic_content_based_recommender(\n",
    "    top_uids, df_utility, items_df.copy(),\n",
    "    reviews_df, 10, False, 'euc')"
   ]
  },
  {
   "cell_type": "markdown",
   "metadata": {},
   "source": [
    "## Hybrid Recommender Using LightFM\n",
    "\n",
    "A hybrid latent representation recommender model.\n",
    "\n",
    "The model learns embeddings (latent representations in a high-dimensional space) for users and items in a way that encodes user preferences over items. When multiplied together, these representations produce scores for every item for a given user; items scored highly are more likely to be interesting to the user."
   ]
  },
  {
   "cell_type": "markdown",
   "metadata": {},
   "source": [
    "### LightFM Training Model\n",
    "\n",
    "- Logistic: useful when both positive (1) and negative (-1) interactions are present.\n",
    "- BPR: Bayesian Personalised Ranking 1 pairwise loss. Maximises the prediction difference between a positive example and a randomly chosen negative example. Useful when only positive interactions are present and optimising ROC AUC is desired.\n",
    "- WARP: Weighted Approximate-Rank Pairwise 2 loss. Maximises the rank of positive examples by repeatedly sampling negative examples until rank violating one is found. Useful when only positive interactions are present and optimising the top of the recommendation list (precision@k) is desired.\n",
    "- k-OS WARP: k-th order statistic loss 3. A modification of WARP that uses the k-th positive example for any given user as a basis for pairwise updates."
   ]
  },
  {
   "cell_type": "code",
   "execution_count": 20,
   "metadata": {},
   "outputs": [
    {
     "name": "stdout",
     "output_type": "stream",
     "text": [
      "shape of df_utility: (378, 33510)\n",
      "shape of items_df: (33510, 2429)\n",
      "shape of asins_df: (33510, 1)\n"
     ]
    }
   ],
   "source": [
    "items_df, df_utility, reviews_df, asins_df = load_dataset()\n",
    "melted_user_df = df_utility.copy().reset_index().melt(\n",
    "    'reviewerID', var_name='ASIN', value_name='rating').dropna()\n",
    "udf = melted_user_df"
   ]
  },
  {
   "cell_type": "code",
   "execution_count": 21,
   "metadata": {},
   "outputs": [],
   "source": [
    "dataset = LightFMDataset()\n",
    "dataset.fit(users=udf['reviewerID'].unique(),\n",
    "            items=udf['ASIN'].unique())\n",
    "\n",
    "(interactions, _) = dataset.build_interactions(zip(udf['reviewerID'], \n",
    "                                                   udf['ASIN'],\n",
    "                                                   udf['rating']))"
   ]
  },
  {
   "cell_type": "code",
   "execution_count": 22,
   "metadata": {},
   "outputs": [
    {
     "data": {
      "text/plain": [
       "<lightfm.lightfm.LightFM at 0x1077f7ed0>"
      ]
     },
     "execution_count": 22,
     "metadata": {},
     "output_type": "execute_result"
    }
   ],
   "source": [
    "Train, Test = random_train_test_split(interactions, test_percentage=0.2, random_state=42)\n",
    "model = LightFM(loss='warp', no_components=50)\n",
    "model.fit(Train, epochs=30, num_threads=1)"
   ]
  },
  {
   "cell_type": "code",
   "execution_count": 23,
   "metadata": {},
   "outputs": [
    {
     "name": "stderr",
     "output_type": "stream",
     "text": [
      "Processing Train: 100%|██████████| 10/10 [00:00<00:00, 18.79it/s]"
     ]
    },
    {
     "name": "stdout",
     "output_type": "stream",
     "text": [
      "Train Results:\n",
      "K = 1: AUC score: 0.9999663829803467, Precision: 0.9973404407501221, Recall: 0.21849170072730778\n",
      "K = 2: AUC score: 0.9999663829803467, Precision: 0.9920212626457214, Recall: 0.4311323376248283\n",
      "K = 3: AUC score: 0.9999663829803467, Precision: 0.9796099662780762, Recall: 0.6308467606652838\n",
      "K = 4: AUC score: 0.9999663829803467, Precision: 0.9434840679168701, Recall: 0.7909778503724059\n",
      "K = 5: AUC score: 0.9999663829803467, Precision: 0.8686171174049377, Recall: 0.8855333808869479\n",
      "K = 6: AUC score: 0.9999663829803467, Precision: 0.7819148898124695, Recall: 0.9346101879972342\n",
      "K = 7: AUC score: 0.9999663829803467, Precision: 0.6979482769966125, Recall: 0.9584346617434855\n",
      "K = 8: AUC score: 0.9999663829803467, Precision: 0.6256648898124695, Recall: 0.9711925129869435\n",
      "K = 9: AUC score: 0.9999663829803467, Precision: 0.5653073787689209, Recall: 0.9790639238386422\n",
      "K = 10: AUC score: 0.9999663829803467, Precision: 0.5159574747085571, Recall: 0.9852486643866494\n"
     ]
    },
    {
     "name": "stderr",
     "output_type": "stream",
     "text": [
      "\n"
     ]
    }
   ],
   "source": [
    "from lightfm.evaluation import precision_at_k, recall_at_k, auc_score\n",
    "\n",
    "k_values = range(1, 11)\n",
    "auc_scores = []\n",
    "precision_scores = []\n",
    "recall_scores = []\n",
    "\n",
    "for k in tqdm(k_values, desc=\"Processing Train\"):\n",
    "    auc = auc_score(model, Train).mean()\n",
    "    precision = precision_at_k(model, Train, k=k).mean()\n",
    "    recall = recall_at_k(model, Train, k=k).mean()\n",
    "\n",
    "    auc_scores.append(auc)\n",
    "    precision_scores.append(precision)\n",
    "    recall_scores.append(recall)\n",
    "\n",
    "print(\"Train Results:\")\n",
    "for k, auc, precision, recall in zip(k_values, auc_scores, precision_scores, recall_scores):\n",
    "    print(f'K = {k}: AUC score: {auc}, Precision: {precision}, Recall: {recall}')"
   ]
  },
  {
   "cell_type": "code",
   "execution_count": 24,
   "metadata": {},
   "outputs": [
    {
     "name": "stderr",
     "output_type": "stream",
     "text": [
      "Processing Test: 100%|██████████| 10/10 [00:00<00:00, 20.80it/s]"
     ]
    },
    {
     "name": "stdout",
     "output_type": "stream",
     "text": [
      "Test Results:\n",
      "K = 1: AUC score: 0.2799954414367676, Precision: 0.0, Recall: 0.0\n",
      "K = 2: AUC score: 0.2799954414367676, Precision: 0.0017605633474886417, Recall: 0.0011737089201877935\n",
      "K = 3: AUC score: 0.2799954414367676, Precision: 0.004694835748523474, Recall: 0.00528169014084507\n",
      "K = 4: AUC score: 0.2799954414367676, Precision: 0.004401408601552248, Recall: 0.007042253521126761\n",
      "K = 5: AUC score: 0.2799954414367676, Precision: 0.0063380287028849125, Recall: 0.017018779342723004\n",
      "K = 6: AUC score: 0.2799954414367676, Precision: 0.008215962909162045, Recall: 0.025234741784037555\n",
      "K = 7: AUC score: 0.2799954414367676, Precision: 0.009557344950735569, Recall: 0.03873239436619718\n",
      "K = 8: AUC score: 0.2799954414367676, Precision: 0.009242957457900047, Recall: 0.045774647887323945\n",
      "K = 9: AUC score: 0.2799954414367676, Precision: 0.008998434990644455, Recall: 0.04870892018779342\n",
      "K = 10: AUC score: 0.2799954414367676, Precision: 0.008450704626739025, Recall: 0.04988262910798121\n"
     ]
    },
    {
     "name": "stderr",
     "output_type": "stream",
     "text": [
      "\n"
     ]
    }
   ],
   "source": [
    "k_values = range(1, 11)\n",
    "auc_scores = []\n",
    "precision_scores = []\n",
    "recall_scores = []\n",
    "\n",
    "for k in tqdm(k_values, desc=\"Processing Test\"):\n",
    "    auc = auc_score(model, Test).mean()\n",
    "    precision = precision_at_k(model, Test, k=k).mean()\n",
    "    recall = recall_at_k(model, Test, k=k).mean()\n",
    "    \n",
    "    auc_scores.append(auc)\n",
    "    precision_scores.append(precision)\n",
    "    recall_scores.append(recall)\n",
    "\n",
    "print(\"Test Results:\")\n",
    "for k, auc, precision, recall in zip(k_values, auc_scores, precision_scores, recall_scores):\n",
    "    print(f'K = {k}: AUC score: {auc}, Precision: {precision}, Recall: {recall}')"
   ]
  },
  {
   "cell_type": "code",
   "execution_count": 25,
   "metadata": {},
   "outputs": [
    {
     "name": "stdout",
     "output_type": "stream",
     "text": [
      "NDCG@10: 0.988124553198101\n"
     ]
    }
   ],
   "source": [
    "def dcg_at_k(r, k, method=1):\n",
    "    r = np.asfarray(r)[:k]\n",
    "    if r.size:\n",
    "        if method == 0:\n",
    "            return r[0] + np.sum(r[1:] / np.log2(np.arange(2, r.size + 1)))\n",
    "        elif method == 1:\n",
    "            return np.sum(r / np.log2(np.arange(2, r.size + 2)))\n",
    "    return 0.\n",
    "\n",
    "def ndcg_at_k(r, k, method=1):\n",
    "    dcg_max = dcg_at_k(sorted(r, reverse=True), k, method)\n",
    "    if not dcg_max:\n",
    "        return 0.\n",
    "    return dcg_at_k(r, k, method) / dcg_max\n",
    "\n",
    "def calculate_ndcg(model, dataset, interactions, k=10):\n",
    "    ndcg_scores = []\n",
    "    \n",
    "    for user_id in dataset.mapping()[0].keys():\n",
    "        try:\n",
    "            user_index = dataset.mapping()[0][user_id]\n",
    "            true_items = interactions.tocsr()[user_index].indices\n",
    "            \n",
    "            predicted_scores = model.predict(user_index, np.arange(dataset.interactions_shape()[1]))\n",
    "            sorted_item_indices = np.argsort(-predicted_scores)\n",
    "            \n",
    "            r = [1 if i in true_items else 0 for i in sorted_item_indices]\n",
    "            ndcg_score = ndcg_at_k(r, k)\n",
    "            ndcg_scores.append(ndcg_score)\n",
    "        except KeyError:\n",
    "            continue\n",
    "    \n",
    "    return np.mean(ndcg_scores)\n",
    "\n",
    "k = 10\n",
    "ndcg_score = calculate_ndcg(model, dataset, Train, k=k)\n",
    "\n",
    "print(f\"NDCG@{k}: {ndcg_score}\")"
   ]
  },
  {
   "cell_type": "code",
   "execution_count": 26,
   "metadata": {},
   "outputs": [],
   "source": [
    "def get_top_n_recommendations_with_latest_transactions(model, dataset, user_id, transactions_df, user_histories, n=10):\n",
    "    try:\n",
    "        transactions_df.reset_index(inplace=True)\n",
    "    except:\n",
    "        pass\n",
    "\n",
    "    # Generate predictions for all items for this user\n",
    "    user_index = dataset.mapping()[0][user_id]\n",
    "    \n",
    "    # Retrieve the actual item indices from the dataset mapping\n",
    "    item_indices = list(dataset.mapping()[2].values())  # This ensures you're using the correct item indices\n",
    "    \n",
    "    # Generate predictions using the correct item indices\n",
    "    scores = model.predict(user_index, np.array(item_indices))\n",
    "    \n",
    "    \n",
    "    \n",
    "    # Map scores to item IDs\n",
    "    reverse_item_map = {v: k for k, v in dataset.mapping()[2].items()}\n",
    "    scored_items = [(score, reverse_item_map[i]) for score, i in zip(scores, item_indices)]\n",
    "    \n",
    "    # Proceed with filtering scores for latest items and ranking them as before\n",
    "    #latest_transactions = transactions_df[transactions_df['reviewerID'] == user_id]\\\n",
    "    #                        .sort_values('reviewDate', ascending=False)\\\n",
    "    #                        .head(10)\n",
    "    #latest_items = set(latest_transactions['ASIN'])\n",
    "    latest_scores = [score for score in scored_items if score[1] not in user_histories[user_id]]\n",
    "    latest_scores.sort(reverse=True, key=lambda x: x[0])  # Sort based on scores\n",
    "    top_item_ids = [item for _, item in latest_scores[:n]]\n",
    "\n",
    "    return top_item_ids\n",
    "\n",
    "recommendations_lightfm = {}\n",
    "for uid in top_uids:\n",
    "    recommendations_lightfm[uid] = get_top_n_recommendations_with_latest_transactions(\n",
    "        model, dataset, uid, reviews_df, user_histories, n=10)"
   ]
  },
  {
   "cell_type": "markdown",
   "metadata": {},
   "source": [
    "# Compare NDCG across algorithms"
   ]
  },
  {
   "cell_type": "code",
   "execution_count": 27,
   "metadata": {},
   "outputs": [
    {
     "data": {
      "text/html": [
       "<div>\n",
       "<style scoped>\n",
       "    .dataframe tbody tr th:only-of-type {\n",
       "        vertical-align: middle;\n",
       "    }\n",
       "\n",
       "    .dataframe tbody tr th {\n",
       "        vertical-align: top;\n",
       "    }\n",
       "\n",
       "    .dataframe thead th {\n",
       "        text-align: right;\n",
       "    }\n",
       "</style>\n",
       "<table border=\"1\" class=\"dataframe\">\n",
       "  <thead>\n",
       "    <tr style=\"text-align: right;\">\n",
       "      <th></th>\n",
       "      <th>NDCG</th>\n",
       "    </tr>\n",
       "  </thead>\n",
       "  <tbody>\n",
       "    <tr>\n",
       "      <th>KNNBasic</th>\n",
       "      <td>0.150956</td>\n",
       "    </tr>\n",
       "    <tr>\n",
       "      <th>KNNWithMeans</th>\n",
       "      <td>0.150958</td>\n",
       "    </tr>\n",
       "    <tr>\n",
       "      <th>SVD</th>\n",
       "      <td>0.150928</td>\n",
       "    </tr>\n",
       "    <tr>\n",
       "      <th>ALS</th>\n",
       "      <td>0.997667</td>\n",
       "    </tr>\n",
       "    <tr>\n",
       "      <th>Content-based</th>\n",
       "      <td>0.969822</td>\n",
       "    </tr>\n",
       "    <tr>\n",
       "      <th>LightFM</th>\n",
       "      <td>0.988125</td>\n",
       "    </tr>\n",
       "  </tbody>\n",
       "</table>\n",
       "</div>"
      ],
      "text/plain": [
       "                   NDCG\n",
       "KNNBasic       0.150956\n",
       "KNNWithMeans   0.150958\n",
       "SVD            0.150928\n",
       "ALS            0.997667\n",
       "Content-based  0.969822\n",
       "LightFM        0.988125"
      ]
     },
     "metadata": {},
     "output_type": "display_data"
    },
    {
     "data": {
      "image/png": "[encoded data removed]",
      "text/plain": [
       "<Figure size 1000x500 with 1 Axes>"
      ]
     },
     "metadata": {},
     "output_type": "display_data"
    }
   ],
   "source": [
    "df_surprise_ndcg = df_metrics_surprise.loc[[\n",
    "    (\"KNNBasic\", \"ndcg\"), (\"KNNWithMeans\", \"ndcg\"), (\"SVD\", \"ndcg\")\n",
    "    ]]\n",
    "df_surprise_ndcg.rename(index={\n",
    "    (\"KNNBasic\", \"ndcg\"): \"KNNBasic\",\n",
    "    (\"KNNWithMeans\", \"ndcg\"): \"KNNWithMeans\",\n",
    "    (\"SVD\", \"ndcg\"): \"SVD\"\n",
    "    }, inplace=True)\n",
    "\n",
    "ndcg_dict = {\n",
    "    \"KNNBasic\": df_surprise_ndcg.loc[\"KNNBasic\"]['NDCG'],\n",
    "    \"KNNWithMeans\": df_surprise_ndcg.loc[\"KNNWithMeans\"]['NDCG'],\n",
    "    \"SVD\": df_surprise_ndcg.loc[\"SVD\"]['NDCG'],\n",
    "    \"ALS\": ndcg_als,\n",
    "    \"Content-based\": ave_ndcg,\n",
    "    \"LightFM\": ndcg_score\n",
    "}\n",
    "\n",
    "ndcg_df = pd.DataFrame.from_dict(ndcg_dict, orient=\"index\")\n",
    "ndcg_df.rename(columns={0: \"NDCG\"}, inplace=True)\n",
    "display(ndcg_df)\n",
    "\n",
    "ndcg_df.plot(kind='bar', figsize=(10, 5))\n",
    "plt.title(\"NDCG across different algorithms\")\n",
    "plt.show()"
   ]
  },
  {
   "cell_type": "markdown",
   "metadata": {},
   "source": [
    "### Interpretation of Results\n",
    "\n",
    "- The AUC score is consistently high (0.9986754059791565) across all K values, indicating excellent overall model performance in distinguishing between positive and negative interactions.\n",
    "\n",
    "- Precision at K measures the proportion of recommended items in the top-K set that are relevant. Precision decreases as K increases in your results, which is expected. When you recommend more items (increase K), the likelihood of including irrelevant items increases, thus lowering precision. However, a precision above 0.08 even at K=10 is quite good, suggesting that the top recommended items are largely relevant.\n",
    "\n",
    "- Recall at K measures the proportion of relevant items that are successfully recommended in the top-K set. Your results show increasing recall with K, which is typical. As you recommend more items, you're more likely to cover a higher fraction of the relevant items, hence the recall increases. A recall of 0.8549128186215507 at K=10 indicates that about 85% of the relevant items are captured in the top 10 recommendations."
   ]
  },
  {
   "cell_type": "markdown",
   "metadata": {},
   "source": [
    "## Sample Recommendations Per Algorithm"
   ]
  },
  {
   "cell_type": "code",
   "execution_count": 44,
   "metadata": {},
   "outputs": [],
   "source": [
    "try:\n",
    "    reviews_df.set_index(\"reviewerID\", inplace=True)\n",
    "except:\n",
    "    pass\n",
    "df_list_of_recos = []\n",
    "uid_recos = {}\n",
    "pd.set_option('display.max_colwidth', 800)\n",
    "index = 1\n",
    "for uid in top_uids:\n",
    "    user_hist_df = reviews_df.loc[uid][['ASIN', 'ProductName']]\n",
    "    # display(user_hist_df)\n",
    "    uid_recos[f'User {index}'] = {\n",
    "        'Payak': [],\n",
    "        'Damayan': [],\n",
    "        'Aparte': [],\n",
    "        'Barkadahan': [],\n",
    "        'Suki': [],\n",
    "        'Sari-Sari': []\n",
    "    }\n",
    "    uid_recos[f'User {index}'][\"Payak\"] = (user_hist_df, recommendations_surprise['KNNBasic'][uid])\n",
    "    uid_recos[f'User {index}'][\"Damayan\"] = (user_hist_df, recommendations_surprise['KNNWithMeans'][uid])\n",
    "    uid_recos[f'User {index}'][\"Aparte\"] = (user_hist_df, recommendations_surprise['SVD'][uid])\n",
    "    uid_recos[f'User {index}'][\"Barkadahan\"] = (user_hist_df, list(recommendations_als[uid].keys()))\n",
    "    uid_recos[f'User {index}'][\"Suki\"] = (user_hist_df,list(recommendations_content['euc'][uid].keys()))\n",
    "    uid_recos[f'User {index}'][\"Sari-Sari\"] = (user_hist_df, recommendations_lightfm[uid])\n",
    "\n",
    "    df_dict = {}\n",
    "    for algo in uid_recos[f'User {index}']:\n",
    "        df_dict[algo] = asins_df.loc[list(uid_recos[f'User {index}'][algo][1])]['name'].tolist()\n",
    "    df_recos_across_algos = pd.DataFrame.from_dict(df_dict, orient='index').T\n",
    "    df_list_of_recos.append(df_recos_across_algos)\n",
    "    index+=1"
   ]
  },
  {
   "cell_type": "markdown",
   "metadata": {},
   "source": [
    "## Build Pickle File For Streamlit Application"
   ]
  },
  {
   "cell_type": "markdown",
   "metadata": {},
   "source": [
    "#### Export User History and Recommendations as Pickle file"
   ]
  },
  {
   "cell_type": "code",
   "execution_count": 43,
   "metadata": {},
   "outputs": [],
   "source": [
    "# Save the dictionary to a pickle file\n",
    "pd.to_pickle(uid_recos, 'user_hist_reco.pkl')"
   ]
  },
  {
   "cell_type": "markdown",
   "metadata": {},
   "source": [
    "# Results and Recommendations\n",
    "\n",
    "## Results\n",
    "\n",
    "The recommendations served by the algorithms are more personalized compared to the baseline global average. There is a clear connection between the user's history and characteristics with the algorithm's recommendations, unlike the recommendations served by the baseline global average, which essentially is just the top K most popular items.\n",
    "\n",
    "In terms of metrics, the offline evaluation metrics for the different algorithms demonstrated above are all by definition \"good\". However, the researchers would like to stress that the real determining factor for whether a recommender system performs well or not is based on eventual online evaluation metrics. That said, the researchers still expect the various recommender systems to perform well. For instance, the vision is that the recommendations are two-pronged:\n",
    "\n",
    "* *Customers who bought this item also bought*: User-based collaborative filtering, ALS\n",
    "* *Recommended for you*: Content-based filtering / Hybrid recommender using LightFM\n",
    "\n",
    "In any case, future work on this project can simply mix and match or swap out algorithms.\n",
    "\n",
    "The exact metrics for each algorithm is as follows:\n",
    "\n",
    "\n",
    "* KNNBasic\t0.266200\n",
    "* KNNWithMeans\t0.263800\n",
    "* SVD\t0.266397\n",
    "* ALS\t0.997882\n",
    "* Content-based with Euclidean distance\t0.965205\n",
    "* Content-based with Cosine distance\t0.984095\n",
    "* Content-based with Jaccard distance\t0.951475\n",
    "\n",
    "Here we see that most algorithms except for KNNBasic, KNNWithMeans, and SVD perform well on a ranking basis.\n",
    "\n",
    "## Recommendations\n",
    "\n",
    "To make the recommender system more robust, the researchers suggest the following:\n",
    "\n",
    "* Include items that are less popular than the ones included in the current itemset\n",
    "* Include reviewers with less reviews than the ones included in the current userbase\n",
    "* Fully understand and implement a hybrid recommender with tuned hyperparameters. In the case of this project, LightFM and ALS were used but hyperparameter tuning was not implemented. Hence, there is a possibility that these algorithms can actually improve after tuning.\n",
    "* Use NLP techniques to extract keywords from the long-form features tag of products to identify more specific features."
   ]
  },
  {
   "cell_type": "markdown",
   "metadata": {},
   "source": []
  }
 ],
 "metadata": {
  "kernelspec": {
   "display_name": "Python 3",
   "language": "python",
   "name": "python3"
  },
  "language_info": {
   "codemirror_mode": {
    "name": "ipython",
    "version": 3
   },
   "file_extension": ".py",
   "mimetype": "text/x-python",
   "name": "python",
   "nbconvert_exporter": "python",
   "pygments_lexer": "ipython3",
   "version": "3.11.3"
  }
 },
 "nbformat": 4,
 "nbformat_minor": 2
}
