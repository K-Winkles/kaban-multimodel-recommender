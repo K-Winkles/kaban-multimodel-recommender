{
 "cells": [
  {
   "cell_type": "code",
   "execution_count": 1,
   "id": "26a43076-2caf-49eb-8f63-902a4d853109",
   "metadata": {
    "execution": {
     "iopub.execute_input": "2024-03-02T18:01:13.003424Z",
     "iopub.status.busy": "2024-03-02T18:01:13.002803Z",
     "iopub.status.idle": "2024-03-02T18:01:14.372513Z",
     "shell.execute_reply": "2024-03-02T18:01:14.370546Z",
     "shell.execute_reply.started": "2024-03-02T18:01:13.003350Z"
    },
    "tags": []
   },
   "outputs": [],
   "source": [
    "import numpy as np\n",
    "import pandas as pd\n",
    "import matplotlib.pyplot as plt\n",
    "\n",
    "from lightfm import LightFM\n",
    "from lightfm.data import Dataset\n",
    "from scipy.sparse import coo_matrix\n",
    "from lightfm.evaluation import precision_at_k,recall_at_k,auc_score,reciprocal_rank\n",
    "from lightfm.cross_validation import random_train_test_split"
   ]
  },
  {
   "cell_type": "code",
   "execution_count": 2,
   "id": "7ecc828a-de6c-419f-8398-e4495e934ac7",
   "metadata": {
    "execution": {
     "iopub.execute_input": "2024-03-02T18:01:14.377941Z",
     "iopub.status.busy": "2024-03-02T18:01:14.376713Z",
     "iopub.status.idle": "2024-03-02T18:01:35.677125Z",
     "shell.execute_reply": "2024-03-02T18:01:35.676299Z",
     "shell.execute_reply.started": "2024-03-02T18:01:14.377876Z"
    },
    "tags": []
   },
   "outputs": [
    {
     "name": "stdout",
     "output_type": "stream",
     "text": [
      "shape of df_utility: (445, 33510)\n",
      "shape of items_df: (33510, 2429)\n",
      "shape of asins_df: (33510, 1)\n"
     ]
    }
   ],
   "source": [
    "dir = \"../dataset/\"\n",
    "\n",
    "def load_dataset():\n",
    "    items_df = pd.read_csv(f\"{dir}/itemset_preprocessed.csv\")\n",
    "    items_df.set_index(\"ASIN\", inplace=True)\n",
    " \n",
    "    df_utility = pd.read_csv(f\"{dir}/utility_topn.csv\", index_col=0)\n",
    "    df_utility.set_index(\"reviewerID\", inplace=True)\n",
    "\n",
    "    reviews_df = pd.read_csv(f\"{dir}/reviews.csv\")\n",
    "    reviews_df.set_index('reviewerID', inplace=True)\n",
    "    \n",
    "    asins_df = pd.read_csv(f\"{dir}/asin_product_mapping.csv\")\n",
    "    asins_df.set_index('ASIN', inplace=True)\n",
    "\n",
    "    print(f\"shape of df_utility: {df_utility.shape}\")\n",
    "    print(f\"shape of items_df: {items_df.shape}\")\n",
    "    print(f\"shape of asins_df: {asins_df.shape}\")\n",
    "    return items_df, df_utility, reviews_df, asins_df\n",
    "\n",
    "items_df, df_utility, reviews_df, asins_df = load_dataset()"
   ]
  },
  {
   "cell_type": "code",
   "execution_count": 34,
   "id": "c01337a0-e392-4ddf-a268-c26a476e1990",
   "metadata": {
    "execution": {
     "iopub.execute_input": "2024-03-02T18:13:11.525950Z",
     "iopub.status.busy": "2024-03-02T18:13:11.525232Z",
     "iopub.status.idle": "2024-03-02T18:13:44.607760Z",
     "shell.execute_reply": "2024-03-02T18:13:44.606819Z",
     "shell.execute_reply.started": "2024-03-02T18:13:11.525888Z"
    },
    "tags": []
   },
   "outputs": [
    {
     "data": {
      "text/html": [
       "<div>\n",
       "<style scoped>\n",
       "    .dataframe tbody tr th:only-of-type {\n",
       "        vertical-align: middle;\n",
       "    }\n",
       "\n",
       "    .dataframe tbody tr th {\n",
       "        vertical-align: top;\n",
       "    }\n",
       "\n",
       "    .dataframe thead th {\n",
       "        text-align: right;\n",
       "    }\n",
       "</style>\n",
       "<table border=\"1\" class=\"dataframe\">\n",
       "  <thead>\n",
       "    <tr style=\"text-align: right;\">\n",
       "      <th></th>\n",
       "      <th>reviewerID</th>\n",
       "      <th>ASIN</th>\n",
       "      <th>rating</th>\n",
       "    </tr>\n",
       "  </thead>\n",
       "  <tbody>\n",
       "    <tr>\n",
       "      <th>356</th>\n",
       "      <td>Richard_</td>\n",
       "      <td>b001f30182</td>\n",
       "      <td>5.0</td>\n",
       "    </tr>\n",
       "    <tr>\n",
       "      <th>945</th>\n",
       "      <td>Bob_</td>\n",
       "      <td>b00askv7fe</td>\n",
       "      <td>5.0</td>\n",
       "    </tr>\n",
       "    <tr>\n",
       "      <th>3227</th>\n",
       "      <td>Dave_</td>\n",
       "      <td>b01jcuyul8</td>\n",
       "      <td>5.0</td>\n",
       "    </tr>\n",
       "    <tr>\n",
       "      <th>3294</th>\n",
       "      <td>JJ_</td>\n",
       "      <td>b01jcuyul8</td>\n",
       "      <td>2.0</td>\n",
       "    </tr>\n",
       "    <tr>\n",
       "      <th>4758</th>\n",
       "      <td>Mitch_</td>\n",
       "      <td>b07dj594h7</td>\n",
       "      <td>5.0</td>\n",
       "    </tr>\n",
       "    <tr>\n",
       "      <th>4863</th>\n",
       "      <td>Tammy_</td>\n",
       "      <td>b07dj594h7</td>\n",
       "      <td>5.0</td>\n",
       "    </tr>\n",
       "    <tr>\n",
       "      <th>5801</th>\n",
       "      <td>AlexAlex_</td>\n",
       "      <td>b07h9rsg7l</td>\n",
       "      <td>1.0</td>\n",
       "    </tr>\n",
       "    <tr>\n",
       "      <th>6803</th>\n",
       "      <td>Elena_</td>\n",
       "      <td>b07kw82btn</td>\n",
       "      <td>1.0</td>\n",
       "    </tr>\n",
       "    <tr>\n",
       "      <th>9400</th>\n",
       "      <td>Bob_</td>\n",
       "      <td>b07v64g152</td>\n",
       "      <td>5.0</td>\n",
       "    </tr>\n",
       "    <tr>\n",
       "      <th>10793</th>\n",
       "      <td>David_</td>\n",
       "      <td>b07wghzmh1</td>\n",
       "      <td>5.0</td>\n",
       "    </tr>\n",
       "  </tbody>\n",
       "</table>\n",
       "</div>"
      ],
      "text/plain": [
       "      reviewerID        ASIN  rating\n",
       "356     Richard_  b001f30182     5.0\n",
       "945         Bob_  b00askv7fe     5.0\n",
       "3227       Dave_  b01jcuyul8     5.0\n",
       "3294         JJ_  b01jcuyul8     2.0\n",
       "4758      Mitch_  b07dj594h7     5.0\n",
       "4863      Tammy_  b07dj594h7     5.0\n",
       "5801   AlexAlex_  b07h9rsg7l     1.0\n",
       "6803      Elena_  b07kw82btn     1.0\n",
       "9400        Bob_  b07v64g152     5.0\n",
       "10793     David_  b07wghzmh1     5.0"
      ]
     },
     "execution_count": 34,
     "metadata": {},
     "output_type": "execute_result"
    }
   ],
   "source": [
    "melted_user_df = df_utility.copy().reset_index().melt(\n",
    "    'reviewerID', var_name='ASIN', value_name='rating').dropna()\n",
    "\n",
    "# Remove Generic Accounts\n",
    "reviewers_to_remove = [\n",
    "    'Amazon CustomerAmazon Customer_',\n",
    "    'Amazon Customer_',\n",
    "    'Cliente de Amazon_',\n",
    "    'Cliente Amazon_',\n",
    "    'Kindle Customer_',\n",
    "    'Client d\\'Amazon_',\n",
    "    'Amazon Customer',\n",
    "    'Amazon Customer_',\n",
    "    'Amazon Kunde_',\n",
    "    'Amazon カスタマー_',\n",
    "    'Cliente Kindle_',\n",
    "    'Cliente de Kindle_'\n",
    "]\n",
    "\n",
    "udf = melted_user_df[~melted_user_df['reviewerID'].isin(reviewers_to_remove)]\n",
    "udf.head(10)"
   ]
  },
  {
   "cell_type": "code",
   "execution_count": 52,
   "id": "c9288a9b-b9f2-4cfc-8546-d29af37b3ca5",
   "metadata": {
    "execution": {
     "iopub.execute_input": "2024-03-02T18:19:41.660119Z",
     "iopub.status.busy": "2024-03-02T18:19:41.659324Z",
     "iopub.status.idle": "2024-03-02T18:20:13.466391Z",
     "shell.execute_reply": "2024-03-02T18:20:13.464911Z",
     "shell.execute_reply.started": "2024-03-02T18:19:41.660054Z"
    },
    "tags": []
   },
   "outputs": [
    {
     "data": {
      "text/html": [
       "<div>\n",
       "<style scoped>\n",
       "    .dataframe tbody tr th:only-of-type {\n",
       "        vertical-align: middle;\n",
       "    }\n",
       "\n",
       "    .dataframe tbody tr th {\n",
       "        vertical-align: top;\n",
       "    }\n",
       "\n",
       "    .dataframe thead th {\n",
       "        text-align: right;\n",
       "    }\n",
       "</style>\n",
       "<table border=\"1\" class=\"dataframe\">\n",
       "  <thead>\n",
       "    <tr style=\"text-align: right;\">\n",
       "      <th></th>\n",
       "      <th>reviewerID</th>\n",
       "      <th>ASIN</th>\n",
       "      <th>rating</th>\n",
       "    </tr>\n",
       "  </thead>\n",
       "  <tbody>\n",
       "    <tr>\n",
       "      <th>356</th>\n",
       "      <td>Richard_</td>\n",
       "      <td>b001f30182</td>\n",
       "      <td>5.0</td>\n",
       "    </tr>\n",
       "    <tr>\n",
       "      <th>945</th>\n",
       "      <td>Bob_</td>\n",
       "      <td>b00askv7fe</td>\n",
       "      <td>5.0</td>\n",
       "    </tr>\n",
       "    <tr>\n",
       "      <th>3227</th>\n",
       "      <td>Dave_</td>\n",
       "      <td>b01jcuyul8</td>\n",
       "      <td>5.0</td>\n",
       "    </tr>\n",
       "    <tr>\n",
       "      <th>3294</th>\n",
       "      <td>JJ_</td>\n",
       "      <td>b01jcuyul8</td>\n",
       "      <td>2.0</td>\n",
       "    </tr>\n",
       "    <tr>\n",
       "      <th>4758</th>\n",
       "      <td>Mitch_</td>\n",
       "      <td>b07dj594h7</td>\n",
       "      <td>5.0</td>\n",
       "    </tr>\n",
       "  </tbody>\n",
       "</table>\n",
       "</div>"
      ],
      "text/plain": [
       "     reviewerID        ASIN  rating\n",
       "356    Richard_  b001f30182     5.0\n",
       "945        Bob_  b00askv7fe     5.0\n",
       "3227      Dave_  b01jcuyul8     5.0\n",
       "3294        JJ_  b01jcuyul8     2.0\n",
       "4758     Mitch_  b07dj594h7     5.0"
      ]
     },
     "execution_count": 52,
     "metadata": {},
     "output_type": "execute_result"
    }
   ],
   "source": [
    "top_100_df = df_utility.head(10_000)\n",
    "\n",
    "melted_user_df_top_100 = top_100_df.reset_index().melt(\n",
    "    'reviewerID', var_name='ASIN', value_name='rating').dropna()\n",
    "\n",
    "reviewers_to_remove = [\n",
    "    'Amazon CustomerAmazon Customer_',\n",
    "    'Amazon Customer_',\n",
    "    'Cliente de Amazon_',\n",
    "    'Cliente Amazon_',\n",
    "    'Kindle Customer_',\n",
    "    'Client d\\'Amazon_',\n",
    "    'Amazon Customer',\n",
    "    'Amazon Customer_',\n",
    "    'Amazon Kunde_',\n",
    "    'Amazon カスタマー_',\n",
    "    'Cliente Kindle_',\n",
    "    'Cliente de Kindle_'\n",
    "]\n",
    "\n",
    "udf_top_100 = melted_user_df_top_100[~melted_user_df_top_100['reviewerID'].isin(reviewers_to_remove)]\n",
    "udf_top_100.head()"
   ]
  },
  {
   "cell_type": "code",
   "execution_count": 53,
   "id": "754f3344-ea3a-48b1-b674-8487331986df",
   "metadata": {
    "execution": {
     "iopub.execute_input": "2024-03-02T18:20:13.467991Z",
     "iopub.status.busy": "2024-03-02T18:20:13.467748Z",
     "iopub.status.idle": "2024-03-02T18:20:13.497622Z",
     "shell.execute_reply": "2024-03-02T18:20:13.496103Z",
     "shell.execute_reply.started": "2024-03-02T18:20:13.467969Z"
    },
    "tags": []
   },
   "outputs": [],
   "source": [
    "# Create a dataset object\n",
    "dataset = Dataset()\n",
    "dataset.fit(users=udf_top_100['reviewerID'].unique(),\n",
    "            items=udf_top_100['ASIN'].unique())\n",
    "\n",
    "# Build the interactions matrix\n",
    "(interactions, _) = dataset.build_interactions(zip(udf_top_100['reviewerID'], \n",
    "                                                   udf_top_100['ASIN'],\n",
    "                                                   udf_top_100['rating']))"
   ]
  },
  {
   "cell_type": "code",
   "execution_count": 54,
   "id": "cc1906be-c593-4d8d-9139-3c705afa8e01",
   "metadata": {
    "execution": {
     "iopub.execute_input": "2024-03-02T18:20:13.498766Z",
     "iopub.status.busy": "2024-03-02T18:20:13.498550Z",
     "iopub.status.idle": "2024-03-02T18:20:13.686218Z",
     "shell.execute_reply": "2024-03-02T18:20:13.684736Z",
     "shell.execute_reply.started": "2024-03-02T18:20:13.498746Z"
    },
    "tags": []
   },
   "outputs": [
    {
     "data": {
      "text/plain": [
       "<lightfm.lightfm.LightFM at 0x7f1d77e99de0>"
      ]
     },
     "execution_count": 54,
     "metadata": {},
     "output_type": "execute_result"
    }
   ],
   "source": [
    "Train, Test = random_train_test_split(interactions, test_percentage=0.2, random_state=42)\n",
    "\n",
    "model = LightFM(loss='warp', no_components=30)\n",
    "\n",
    "model.fit(Train, epochs=30, num_threads=2)"
   ]
  },
  {
   "cell_type": "code",
   "execution_count": 55,
   "id": "89cdcd0f-c61e-4ea9-a688-d158be2b42ca",
   "metadata": {
    "execution": {
     "iopub.execute_input": "2024-03-02T18:20:13.688159Z",
     "iopub.status.busy": "2024-03-02T18:20:13.687927Z",
     "iopub.status.idle": "2024-03-02T18:20:19.929599Z",
     "shell.execute_reply": "2024-03-02T18:20:19.928500Z",
     "shell.execute_reply.started": "2024-03-02T18:20:13.688138Z"
    },
    "tags": []
   },
   "outputs": [
    {
     "name": "stderr",
     "output_type": "stream",
     "text": [
      "Processing Train: 100%|██████████| 10/10 [00:06<00:00,  1.61it/s]"
     ]
    },
    {
     "name": "stdout",
     "output_type": "stream",
     "text": [
      "Train Results:\n",
      "K = 1: AUC score: 0.9999808073043823, Precision: 0.9909706711769104, Recall: 0.08588239994356696\n",
      "K = 2: AUC score: 0.9999808073043823, Precision: 0.9887133240699768, Recall: 0.17146654972996728\n",
      "K = 3: AUC score: 0.9999808073043823, Precision: 0.9902182817459106, Recall: 0.2574176388223588\n",
      "K = 4: AUC score: 0.9999808073043823, Precision: 0.990406334400177, Recall: 0.3433493060273827\n",
      "K = 5: AUC score: 0.9999808073043823, Precision: 0.991422176361084, Recall: 0.42943713760978985\n",
      "K = 6: AUC score: 0.9999808073043823, Precision: 0.9890894889831543, Recall: 0.5129196268295183\n",
      "K = 7: AUC score: 0.9999808073043823, Precision: 0.984521210193634, Recall: 0.5923275757162414\n",
      "K = 8: AUC score: 0.9999808073043823, Precision: 0.9754514694213867, Recall: 0.6657867267241441\n",
      "K = 9: AUC score: 0.9999808073043823, Precision: 0.9581139087677002, Recall: 0.7276735022770529\n",
      "K = 10: AUC score: 0.9999808073043823, Precision: 0.9316027164459229, Recall: 0.7755372116059923\n"
     ]
    },
    {
     "name": "stderr",
     "output_type": "stream",
     "text": [
      "\n"
     ]
    }
   ],
   "source": [
    "from tqdm import tqdm\n",
    "\n",
    "k_values = range(1, 11)\n",
    "auc_scores = []\n",
    "precision_scores = []\n",
    "recall_scores = []\n",
    "\n",
    "for k in tqdm(k_values, desc=\"Processing Train\"):\n",
    "    auc = auc_score(model, Train, ).mean()\n",
    "    precision = precision_at_k(model, Train, k=k).mean()\n",
    "    recall = recall_at_k(model, Train, k=k).mean()\n",
    "    \n",
    "    auc_scores.append(auc)\n",
    "    precision_scores.append(precision)\n",
    "    recall_scores.append(recall)\n",
    "\n",
    "print(\"Train Results:\")\n",
    "for k, auc, precision, recall in zip(k_values, auc_scores, precision_scores, recall_scores):\n",
    "    print(f'K = {k}: AUC score: {auc}, Precision: {precision}, Recall: {recall}')"
   ]
  },
  {
   "cell_type": "code",
   "execution_count": 56,
   "id": "2ec11517-c250-4b18-a40f-0554645da5a4",
   "metadata": {
    "execution": {
     "iopub.execute_input": "2024-03-02T18:20:19.930782Z",
     "iopub.status.busy": "2024-03-02T18:20:19.930552Z",
     "iopub.status.idle": "2024-03-02T18:20:26.430123Z",
     "shell.execute_reply": "2024-03-02T18:20:26.429064Z",
     "shell.execute_reply.started": "2024-03-02T18:20:19.930761Z"
    },
    "tags": []
   },
   "outputs": [
    {
     "name": "stderr",
     "output_type": "stream",
     "text": [
      "Processing Test: 100%|██████████| 10/10 [00:06<00:00,  1.54it/s]"
     ]
    },
    {
     "name": "stdout",
     "output_type": "stream",
     "text": [
      "Test Results:\n",
      "K = 1: AUC score: 0.3328709900379181, Precision: 0.0, Recall: 0.0\n",
      "K = 2: AUC score: 0.3328709900379181, Precision: 0.0, Recall: 0.0\n",
      "K = 3: AUC score: 0.3328709900379181, Precision: 0.0, Recall: 0.0\n",
      "K = 4: AUC score: 0.3328709900379181, Precision: 0.0005854800692759454, Recall: 0.000585480093676815\n",
      "K = 5: AUC score: 0.3328709900379181, Precision: 0.000936768192332238, Recall: 0.001053864168618267\n",
      "K = 6: AUC score: 0.3328709900379181, Precision: 0.0011709601385518909, Recall: 0.001522248243559719\n",
      "K = 7: AUC score: 0.3328709900379181, Precision: 0.0010036802850663662, Recall: 0.001522248243559719\n",
      "K = 8: AUC score: 0.3328709900379181, Precision: 0.0008782201330177486, Recall: 0.001522248243559719\n",
      "K = 9: AUC score: 0.3328709900379181, Precision: 0.0007806401699781418, Recall: 0.001522248243559719\n",
      "K = 10: AUC score: 0.3328709900379181, Precision: 0.000936768192332238, Recall: 0.002107728337236534\n"
     ]
    },
    {
     "name": "stderr",
     "output_type": "stream",
     "text": [
      "\n"
     ]
    }
   ],
   "source": [
    "k_values = range(1, 11)\n",
    "auc_scores = []\n",
    "precision_scores = []\n",
    "recall_scores = []\n",
    "\n",
    "for k in tqdm(k_values, desc=\"Processing Test\"):\n",
    "    auc = auc_score(model, Test).mean()\n",
    "    precision = precision_at_k(model, Test, k=k).mean()\n",
    "    recall = recall_at_k(model, Test, k=k).mean()\n",
    "    \n",
    "    auc_scores.append(auc)\n",
    "    precision_scores.append(precision)\n",
    "    recall_scores.append(recall)\n",
    "\n",
    "print(\"Test Results:\")\n",
    "for k, auc, precision, recall in zip(k_values, auc_scores, precision_scores, recall_scores):\n",
    "    print(f'K = {k}: AUC score: {auc}, Precision: {precision}, Recall: {recall}')"
   ]
  }
 ],
 "metadata": {
  "kernelspec": {
   "display_name": "Python 3 (ipykernel)",
   "language": "python",
   "name": "python3"
  },
  "language_info": {
   "codemirror_mode": {
    "name": "ipython",
    "version": 3
   },
   "file_extension": ".py",
   "mimetype": "text/x-python",
   "name": "python",
   "nbconvert_exporter": "python",
   "pygments_lexer": "ipython3",
   "version": "3.10.12"
  }
 },
 "nbformat": 4,
 "nbformat_minor": 5
}
