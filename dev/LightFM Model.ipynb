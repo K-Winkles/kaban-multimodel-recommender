{
 "cells": [
  {
   "cell_type": "markdown",
   "id": "7c99ff29-81e9-419a-962f-237653895c83",
   "metadata": {},
   "source": [
    "## LightFM"
   ]
  },
  {
   "cell_type": "markdown",
   "id": "802bdcc4-74d1-4907-8940-8c94158be11e",
   "metadata": {},
   "source": [
    "A hybrid latent representation recommender model.\n",
    "\n",
    "The model learns embeddings (latent representations in a high-dimensional space) for users and items in a way that encodes user preferences over items. When multiplied together, these representations produce scores for every item for a given user; items scored highly are more likely to be interesting to the user."
   ]
  },
  {
   "cell_type": "markdown",
   "id": "e687713f-7085-42eb-802e-df98d327a3e1",
   "metadata": {
    "execution": {
     "iopub.execute_input": "2024-03-01T16:27:35.917544Z",
     "iopub.status.busy": "2024-03-01T16:27:35.915918Z",
     "iopub.status.idle": "2024-03-01T16:27:35.924915Z",
     "shell.execute_reply": "2024-03-01T16:27:35.922927Z",
     "shell.execute_reply.started": "2024-03-01T16:27:35.917477Z"
    },
    "tags": []
   },
   "source": [
    "### Python Packages"
   ]
  },
  {
   "cell_type": "code",
   "execution_count": 1,
   "id": "7e7a8cf7-30d2-483e-ba5e-08c63feda4b6",
   "metadata": {
    "execution": {
     "iopub.execute_input": "2024-03-02T16:18:05.152654Z",
     "iopub.status.busy": "2024-03-02T16:18:05.152063Z",
     "iopub.status.idle": "2024-03-02T16:18:06.214753Z",
     "shell.execute_reply": "2024-03-02T16:18:06.213211Z",
     "shell.execute_reply.started": "2024-03-02T16:18:05.152596Z"
    },
    "tags": []
   },
   "outputs": [],
   "source": [
    "import numpy as np\n",
    "import pandas as pd\n",
    "import matplotlib.pyplot as plt"
   ]
  },
  {
   "cell_type": "code",
   "execution_count": 2,
   "id": "1e2f3dfa-6ec9-4397-b4e3-52c4b1374df7",
   "metadata": {
    "execution": {
     "iopub.execute_input": "2024-03-02T16:18:06.216874Z",
     "iopub.status.busy": "2024-03-02T16:18:06.216582Z",
     "iopub.status.idle": "2024-03-02T16:18:06.519671Z",
     "shell.execute_reply": "2024-03-02T16:18:06.517910Z",
     "shell.execute_reply.started": "2024-03-02T16:18:06.216855Z"
    },
    "tags": []
   },
   "outputs": [],
   "source": [
    "from lightfm import LightFM\n",
    "from lightfm.data import Dataset\n",
    "from scipy.sparse import coo_matrix\n",
    "from lightfm.evaluation import precision_at_k,recall_at_k,auc_score,reciprocal_rank\n",
    "from lightfm.cross_validation import random_train_test_split"
   ]
  },
  {
   "cell_type": "markdown",
   "id": "b45e8dff-e9fe-4b75-a37c-837be65f36a2",
   "metadata": {},
   "source": [
    "### Data Source"
   ]
  },
  {
   "cell_type": "code",
   "execution_count": 3,
   "id": "84733141-67bf-49a2-a545-31ca299b67cb",
   "metadata": {
    "execution": {
     "iopub.execute_input": "2024-03-02T16:18:06.521383Z",
     "iopub.status.busy": "2024-03-02T16:18:06.521075Z",
     "iopub.status.idle": "2024-03-02T16:18:15.950991Z",
     "shell.execute_reply": "2024-03-02T16:18:15.949500Z",
     "shell.execute_reply.started": "2024-03-02T16:18:06.521364Z"
    },
    "tags": []
   },
   "outputs": [
    {
     "data": {
      "text/html": [
       "<div>\n",
       "<style scoped>\n",
       "    .dataframe tbody tr th:only-of-type {\n",
       "        vertical-align: middle;\n",
       "    }\n",
       "\n",
       "    .dataframe tbody tr th {\n",
       "        vertical-align: top;\n",
       "    }\n",
       "\n",
       "    .dataframe thead th {\n",
       "        text-align: right;\n",
       "    }\n",
       "</style>\n",
       "<table border=\"1\" class=\"dataframe\">\n",
       "  <thead>\n",
       "    <tr style=\"text-align: right;\">\n",
       "      <th></th>\n",
       "      <th>ASIN</th>\n",
       "      <th>ProductName</th>\n",
       "      <th>reviewerID</th>\n",
       "      <th>reviewRating</th>\n",
       "      <th>reviewDate</th>\n",
       "      <th>reviewLocation</th>\n",
       "      <th>reviewVotes</th>\n",
       "    </tr>\n",
       "  </thead>\n",
       "  <tbody>\n",
       "    <tr>\n",
       "      <th>0</th>\n",
       "      <td>b001f30182</td>\n",
       "      <td>star_wars_the_black_series_dark_trooper_toy_6i...</td>\n",
       "      <td>TK-815TK-815_AH4NM3KGMDME7SKRSJD73TIBABIQ</td>\n",
       "      <td>5.0</td>\n",
       "      <td>September 21, 2022</td>\n",
       "      <td>United States</td>\n",
       "      <td>13</td>\n",
       "    </tr>\n",
       "    <tr>\n",
       "      <th>1</th>\n",
       "      <td>b001f30182</td>\n",
       "      <td>star_wars_the_black_series_dark_trooper_toy_6i...</td>\n",
       "      <td>vyeranos_AESWEZHPRRYTZRW2FBIJSXEKGTFA</td>\n",
       "      <td>5.0</td>\n",
       "      <td>January 13, 2024</td>\n",
       "      <td>United States</td>\n",
       "      <td>0</td>\n",
       "    </tr>\n",
       "    <tr>\n",
       "      <th>2</th>\n",
       "      <td>b001f30182</td>\n",
       "      <td>star_wars_the_black_series_dark_trooper_toy_6i...</td>\n",
       "      <td>Marty_AHGIPPEB6HKSXNPB6Y3DLBKCVRHQ</td>\n",
       "      <td>5.0</td>\n",
       "      <td>November 24, 2023</td>\n",
       "      <td>United States</td>\n",
       "      <td>0</td>\n",
       "    </tr>\n",
       "    <tr>\n",
       "      <th>3</th>\n",
       "      <td>b001f30182</td>\n",
       "      <td>star_wars_the_black_series_dark_trooper_toy_6i...</td>\n",
       "      <td>Kati_AHWQ73WR7MVGBKDB5YE6C4WDPNJA</td>\n",
       "      <td>5.0</td>\n",
       "      <td>January 2, 2024</td>\n",
       "      <td>United States</td>\n",
       "      <td>0</td>\n",
       "    </tr>\n",
       "    <tr>\n",
       "      <th>4</th>\n",
       "      <td>b001f30182</td>\n",
       "      <td>star_wars_the_black_series_dark_trooper_toy_6i...</td>\n",
       "      <td>Lochlan LongstriderLochlan Longstrider_AHSHUIZ...</td>\n",
       "      <td>4.0</td>\n",
       "      <td>September 18, 2023</td>\n",
       "      <td>United States</td>\n",
       "      <td>0</td>\n",
       "    </tr>\n",
       "  </tbody>\n",
       "</table>\n",
       "</div>"
      ],
      "text/plain": [
       "         ASIN                                        ProductName  \\\n",
       "0  b001f30182  star_wars_the_black_series_dark_trooper_toy_6i...   \n",
       "1  b001f30182  star_wars_the_black_series_dark_trooper_toy_6i...   \n",
       "2  b001f30182  star_wars_the_black_series_dark_trooper_toy_6i...   \n",
       "3  b001f30182  star_wars_the_black_series_dark_trooper_toy_6i...   \n",
       "4  b001f30182  star_wars_the_black_series_dark_trooper_toy_6i...   \n",
       "\n",
       "                                          reviewerID  reviewRating  \\\n",
       "0          TK-815TK-815_AH4NM3KGMDME7SKRSJD73TIBABIQ           5.0   \n",
       "1              vyeranos_AESWEZHPRRYTZRW2FBIJSXEKGTFA           5.0   \n",
       "2                 Marty_AHGIPPEB6HKSXNPB6Y3DLBKCVRHQ           5.0   \n",
       "3                  Kati_AHWQ73WR7MVGBKDB5YE6C4WDPNJA           5.0   \n",
       "4  Lochlan LongstriderLochlan Longstrider_AHSHUIZ...           4.0   \n",
       "\n",
       "           reviewDate  reviewLocation  reviewVotes  \n",
       "0  September 21, 2022  United States            13  \n",
       "1    January 13, 2024  United States             0  \n",
       "2   November 24, 2023  United States             0  \n",
       "3     January 2, 2024  United States             0  \n",
       "4  September 18, 2023  United States             0  "
      ]
     },
     "execution_count": 3,
     "metadata": {},
     "output_type": "execute_result"
    }
   ],
   "source": [
    "#Products Dataset\n",
    "asin_product_mapping = pd.read_csv('dataset/asin_product_mapping.csv')\n",
    "\n",
    "#Item Categories\n",
    "itemset_preprocessed = pd.read_csv('dataset/itemset_preprocessed.csv')\n",
    "\n",
    "#Utility\n",
    "df_utility = pd.read_csv('dataset/utility_topn.csv')\n",
    "reviews.drop(['Unnamed: 0'], axis=1, inplace=True)\n",
    "\n",
    "#Main Dataset\n",
    "reviews = pd.read_csv('dataset/reviews.csv')\n",
    "reviews.drop(['Unnamed: 0'], axis=1, inplace=True)\n",
    "reviews.head()"
   ]
  },
  {
   "cell_type": "code",
   "execution_count": 4,
   "id": "0ab339ef-ddea-487f-b9e9-986f1dc9120c",
   "metadata": {
    "execution": {
     "iopub.execute_input": "2024-03-02T16:18:15.952691Z",
     "iopub.status.busy": "2024-03-02T16:18:15.952442Z",
     "iopub.status.idle": "2024-03-02T16:18:16.013425Z",
     "shell.execute_reply": "2024-03-02T16:18:16.011546Z",
     "shell.execute_reply.started": "2024-03-02T16:18:15.952670Z"
    },
    "tags": []
   },
   "outputs": [],
   "source": [
    "reviews['reviewDate'] = pd.to_datetime(reviews['reviewDate'])"
   ]
  },
  {
   "cell_type": "code",
   "execution_count": 5,
   "id": "d4a0a149-8a43-4645-921e-ec8dbfd000aa",
   "metadata": {
    "execution": {
     "iopub.execute_input": "2024-03-02T16:18:16.014794Z",
     "iopub.status.busy": "2024-03-02T16:18:16.014581Z",
     "iopub.status.idle": "2024-03-02T16:18:16.071508Z",
     "shell.execute_reply": "2024-03-02T16:18:16.069651Z",
     "shell.execute_reply.started": "2024-03-02T16:18:16.014776Z"
    },
    "tags": []
   },
   "outputs": [],
   "source": [
    "# Remove Duplicate Accounts\n",
    "reviewers_to_remove = [\n",
    "    'Amazon CustomerAmazon Customer_',\n",
    "    'Amazon Customer_',\n",
    "    'Cliente de Amazon_',\n",
    "    'Cliente Amazon_',\n",
    "    'Kindle Customer_',\n",
    "    'Client d\\'Amazon_',\n",
    "    'Amazon Customer',\n",
    "    'Amazon Customer_',\n",
    "    'Amazon Kunde_',\n",
    "    'Amazon カスタマー_',\n",
    "    'Cliente Kindle_',\n",
    "    'Cliente de Kindle_'\n",
    "]\n",
    "\n",
    "reviews = reviews[~reviews['reviewerID'].isin(reviewers_to_remove)]"
   ]
  },
  {
   "cell_type": "markdown",
   "id": "b6089aba-b8f4-4be8-a10f-95790bfaa840",
   "metadata": {
    "execution": {
     "iopub.execute_input": "2024-03-01T16:28:09.755770Z",
     "iopub.status.busy": "2024-03-01T16:28:09.755056Z",
     "iopub.status.idle": "2024-03-01T16:28:09.763287Z",
     "shell.execute_reply": "2024-03-01T16:28:09.761534Z",
     "shell.execute_reply.started": "2024-03-01T16:28:09.755711Z"
    },
    "tags": []
   },
   "source": [
    "### Build Dataset Requirement for LightFM\n",
    "\n",
    "Tool for building interaction and feature matrices, taking care of the mapping between user/item ids and feature names and internal feature indices."
   ]
  },
  {
   "cell_type": "code",
   "execution_count": 6,
   "id": "9d1e2c2b-e5b0-4f93-9c05-a933496ede65",
   "metadata": {
    "execution": {
     "iopub.execute_input": "2024-03-02T16:18:16.073306Z",
     "iopub.status.busy": "2024-03-02T16:18:16.073065Z",
     "iopub.status.idle": "2024-03-02T16:18:16.948516Z",
     "shell.execute_reply": "2024-03-02T16:18:16.946699Z",
     "shell.execute_reply.started": "2024-03-02T16:18:16.073288Z"
    },
    "tags": []
   },
   "outputs": [],
   "source": [
    "# Create a dataset object\n",
    "dataset = Dataset()\n",
    "dataset.fit(users=reviews['reviewerID'].unique(),\n",
    "            items=reviews['ASIN'].unique())\n",
    "\n",
    "# Build the interactions matrix\n",
    "(interactions, _) = dataset.build_interactions(zip(reviews['reviewerID'], \n",
    "                                                   reviews['ASIN']))\n",
    "                                                   #reviews['reviewRating']))"
   ]
  },
  {
   "cell_type": "markdown",
   "id": "6af9ec88-e98a-4176-bf03-bcc524e09bca",
   "metadata": {},
   "source": [
    "Call build_interactions with an iterable of (user id, item id) or (user id, item id, weight) to build an interactions and weights matrix"
   ]
  },
  {
   "cell_type": "markdown",
   "id": "329123c5-aed3-4df3-8143-ee7d9bc6329b",
   "metadata": {},
   "source": [
    "### LightFM Training Model"
   ]
  },
  {
   "cell_type": "markdown",
   "id": "29947e55-fcef-4d6f-9897-252010449e2b",
   "metadata": {},
   "source": [
    "- Logistic: useful when both positive (1) and negative (-1) interactions are present.\n",
    "- BPR: Bayesian Personalised Ranking 1 pairwise loss. Maximises the prediction difference between a positive example and a randomly chosen negative example. Useful when only positive interactions are present and optimising ROC AUC is desired.\n",
    "- WARP: Weighted Approximate-Rank Pairwise 2 loss. Maximises the rank of positive examples by repeatedly sampling negative examples until rank violating one is found. Useful when only positive interactions are present and optimising the top of the recommendation list (precision@k) is desired.\n",
    "- k-OS WARP: k-th order statistic loss 3. A modification of WARP that uses the k-th positive example for any given user as a basis for pairwise updates."
   ]
  },
  {
   "cell_type": "code",
   "execution_count": 7,
   "id": "067a71b5-e9a7-4a5e-b239-0cde2a4193e0",
   "metadata": {
    "execution": {
     "iopub.execute_input": "2024-03-02T16:18:16.953776Z",
     "iopub.status.busy": "2024-03-02T16:18:16.953232Z",
     "iopub.status.idle": "2024-03-02T16:18:22.167901Z",
     "shell.execute_reply": "2024-03-02T16:18:22.166323Z",
     "shell.execute_reply.started": "2024-03-02T16:18:16.953730Z"
    },
    "tags": []
   },
   "outputs": [
    {
     "data": {
      "text/plain": [
       "<lightfm.lightfm.LightFM at 0x7fe7a6ee7400>"
      ]
     },
     "execution_count": 7,
     "metadata": {},
     "output_type": "execute_result"
    }
   ],
   "source": [
    "Train, Test = random_train_test_split(interactions, test_percentage=0.3, random_state=42)\n",
    "\n",
    "model = LightFM(loss='warp', no_components=5, random_state=42)\n",
    "                #learning_rate=0.1,\n",
    "                #no_components=5,\n",
    "                #item_alpha=0.01,\n",
    "                #user_alpha=0.01)\n",
    "\n",
    "model.fit(Train, epochs=30, num_threads=2)"
   ]
  },
  {
   "cell_type": "markdown",
   "id": "24a27179-3d70-49b9-b799-7077dbc028fe",
   "metadata": {},
   "source": [
    "### Model Recommendations (Predictions)"
   ]
  },
  {
   "cell_type": "code",
   "execution_count": 8,
   "id": "ad63bec9-bfcd-4e90-8710-8273cd81eaa8",
   "metadata": {
    "execution": {
     "iopub.execute_input": "2024-03-02T16:18:22.169590Z",
     "iopub.status.busy": "2024-03-02T16:18:22.169324Z",
     "iopub.status.idle": "2024-03-02T16:18:22.370091Z",
     "shell.execute_reply": "2024-03-02T16:18:22.368730Z",
     "shell.execute_reply.started": "2024-03-02T16:18:22.169569Z"
    },
    "tags": []
   },
   "outputs": [
    {
     "data": {
      "text/plain": [
       "reviewerID\n",
       "Chris_     67\n",
       "David_     65\n",
       "Laura_     62\n",
       "Maria_     61\n",
       "Sarah_     60\n",
       "Alex_      58\n",
       "Andrea_    50\n",
       "Daniel_    50\n",
       "Carlos_    46\n",
       "John_      45\n",
       "Name: count, dtype: int64"
      ]
     },
     "execution_count": 8,
     "metadata": {},
     "output_type": "execute_result"
    }
   ],
   "source": [
    "reviews['reviewerID'].value_counts().head(10)"
   ]
  },
  {
   "cell_type": "code",
   "execution_count": 9,
   "id": "112a42d0-5ffd-4af9-bc73-e539ba4e5279",
   "metadata": {
    "execution": {
     "iopub.execute_input": "2024-03-02T16:18:22.371592Z",
     "iopub.status.busy": "2024-03-02T16:18:22.371351Z",
     "iopub.status.idle": "2024-03-02T16:18:22.379052Z",
     "shell.execute_reply": "2024-03-02T16:18:22.377725Z",
     "shell.execute_reply.started": "2024-03-02T16:18:22.371572Z"
    },
    "tags": []
   },
   "outputs": [],
   "source": [
    "def get_top_n_recommendations(model, dataset, user_id, n=10):\n",
    "    # Map the user ID to the internal user index in LightFM\n",
    "    user_index = dataset.mapping()[0][user_id]\n",
    "    \n",
    "    # Number of items in the dataset\n",
    "    n_items = dataset.interactions_shape()[1]\n",
    "    \n",
    "    # Generate predictions for all items for this user\n",
    "    scores = model.predict(user_index, np.arange(n_items))\n",
    "    \n",
    "    # Rank items by score in descending order\n",
    "    top_items_indices = np.argsort(-scores)[:n]\n",
    "    \n",
    "    # Map the item indices back to their original IDs\n",
    "    reverse_item_map = {v: k for k, v in dataset.mapping()[2].items()}\n",
    "    top_item_ids = [reverse_item_map[i] for i in top_items_indices]\n",
    "    \n",
    "    return top_item_ids"
   ]
  },
  {
   "cell_type": "code",
   "execution_count": 10,
   "id": "90dffce4-5f32-475a-95bf-fca54364ee7f",
   "metadata": {
    "execution": {
     "iopub.execute_input": "2024-03-02T16:18:22.380182Z",
     "iopub.status.busy": "2024-03-02T16:18:22.379967Z",
     "iopub.status.idle": "2024-03-02T16:18:22.389134Z",
     "shell.execute_reply": "2024-03-02T16:18:22.388053Z",
     "shell.execute_reply.started": "2024-03-02T16:18:22.380163Z"
    },
    "tags": []
   },
   "outputs": [],
   "source": [
    "def get_top_n_recommendations_with_latest_transactions(model, dataset, user_id, transactions_df, n=10):\n",
    "\n",
    "    # Generate predictions for all items for this user\n",
    "    user_index = dataset.mapping()[0][user_id]\n",
    "    \n",
    "    # Retrieve the actual item indices from the dataset mapping\n",
    "    item_indices = list(dataset.mapping()[2].values())  # This ensures you're using the correct item indices\n",
    "    \n",
    "    # Generate predictions using the correct item indices\n",
    "    scores = model.predict(user_index, np.array(item_indices))\n",
    "    \n",
    "    # Map scores to item IDs\n",
    "    reverse_item_map = {v: k for k, v in dataset.mapping()[2].items()}\n",
    "    scored_items = [(score, reverse_item_map[i]) for score, i in zip(scores, item_indices)]\n",
    "    \n",
    "    # Proceed with filtering scores for latest items and ranking them as before\n",
    "    latest_transactions = transactions_df[transactions_df['reviewerID'] == user_id]\\\n",
    "                            .sort_values('reviewDate', ascending=False)\\\n",
    "                            .head(10)\n",
    "    latest_items = set(latest_transactions['ASIN'])\n",
    "    latest_scores = [score for score in scored_items if score[1] in latest_items]\n",
    "    latest_scores.sort(reverse=True, key=lambda x: x[0])  # Sort based on scores\n",
    "    top_item_ids = [item for _, item in latest_scores[:n]]\n",
    "\n",
    "    return top_item_ids\n"
   ]
  },
  {
   "cell_type": "code",
   "execution_count": 11,
   "id": "7f12874d-bb94-49b3-b9d8-00fd01179409",
   "metadata": {
    "execution": {
     "iopub.execute_input": "2024-03-02T16:18:22.390399Z",
     "iopub.status.busy": "2024-03-02T16:18:22.390171Z",
     "iopub.status.idle": "2024-03-02T16:18:22.430693Z",
     "shell.execute_reply": "2024-03-02T16:18:22.429370Z",
     "shell.execute_reply.started": "2024-03-02T16:18:22.390379Z"
    },
    "tags": []
   },
   "outputs": [
    {
     "name": "stdout",
     "output_type": "stream",
     "text": [
      "Top 10 Latest Reviews by Laura_\n"
     ]
    },
    {
     "data": {
      "text/html": [
       "<div>\n",
       "<style scoped>\n",
       "    .dataframe tbody tr th:only-of-type {\n",
       "        vertical-align: middle;\n",
       "    }\n",
       "\n",
       "    .dataframe tbody tr th {\n",
       "        vertical-align: top;\n",
       "    }\n",
       "\n",
       "    .dataframe thead th {\n",
       "        text-align: right;\n",
       "    }\n",
       "</style>\n",
       "<table border=\"1\" class=\"dataframe\">\n",
       "  <thead>\n",
       "    <tr style=\"text-align: right;\">\n",
       "      <th></th>\n",
       "      <th>ASIN</th>\n",
       "      <th>ProductName</th>\n",
       "      <th>reviewRating</th>\n",
       "      <th>reviewDate</th>\n",
       "    </tr>\n",
       "  </thead>\n",
       "  <tbody>\n",
       "    <tr>\n",
       "      <th>223577</th>\n",
       "      <td>0593321200</td>\n",
       "      <td>tomorrow_and_tomorrow_and_tomorrow:_a_novel</td>\n",
       "      <td>5.0</td>\n",
       "      <td>2024-02-14</td>\n",
       "    </tr>\n",
       "    <tr>\n",
       "      <th>243390</th>\n",
       "      <td>b0cl49tw5w</td>\n",
       "      <td>stanley_classic_legendary_camp_mug</td>\n",
       "      <td>5.0</td>\n",
       "      <td>2024-02-12</td>\n",
       "    </tr>\n",
       "    <tr>\n",
       "      <th>206156</th>\n",
       "      <td>b0b52zy9j9</td>\n",
       "      <td>otostar_throw_pillow_insert_12_x_20_cushion_in...</td>\n",
       "      <td>5.0</td>\n",
       "      <td>2024-01-27</td>\n",
       "    </tr>\n",
       "    <tr>\n",
       "      <th>255791</th>\n",
       "      <td>b0c9pdfttl</td>\n",
       "      <td>byybuo_android_13_tablet101_inch_tablet_with_c...</td>\n",
       "      <td>5.0</td>\n",
       "      <td>2024-01-25</td>\n",
       "    </tr>\n",
       "    <tr>\n",
       "      <th>280203</th>\n",
       "      <td>b0ckp5c4y8</td>\n",
       "      <td>atumtek_55\"_selfie_stick_tripod_allinone_exten...</td>\n",
       "      <td>4.0</td>\n",
       "      <td>2024-01-21</td>\n",
       "    </tr>\n",
       "    <tr>\n",
       "      <th>205446</th>\n",
       "      <td>b07kq2j3vr</td>\n",
       "      <td>elegant_comfort_luxury_ultrasoft_2piece_pillow...</td>\n",
       "      <td>5.0</td>\n",
       "      <td>2024-01-17</td>\n",
       "    </tr>\n",
       "    <tr>\n",
       "      <th>304814</th>\n",
       "      <td>b0c7jpypmv</td>\n",
       "      <td>levi's_women's_726_high_rise_flare_jeans_also_...</td>\n",
       "      <td>5.0</td>\n",
       "      <td>2024-01-05</td>\n",
       "    </tr>\n",
       "    <tr>\n",
       "      <th>275628</th>\n",
       "      <td>b0bmzzv6r3</td>\n",
       "      <td>mattel_disney_wish_singing_asha_of_rosas_fashi...</td>\n",
       "      <td>5.0</td>\n",
       "      <td>2024-01-05</td>\n",
       "    </tr>\n",
       "    <tr>\n",
       "      <th>314457</th>\n",
       "      <td>b09pzsljz6</td>\n",
       "      <td>oqq_women's_3_piece_medium_support_crop_top_se...</td>\n",
       "      <td>5.0</td>\n",
       "      <td>2024-01-05</td>\n",
       "    </tr>\n",
       "    <tr>\n",
       "      <th>31215</th>\n",
       "      <td>b09jkyy9yj</td>\n",
       "      <td>lego_speed_champions_1970_ferrari_512_m_76906_...</td>\n",
       "      <td>5.0</td>\n",
       "      <td>2024-01-04</td>\n",
       "    </tr>\n",
       "  </tbody>\n",
       "</table>\n",
       "</div>"
      ],
      "text/plain": [
       "              ASIN                                        ProductName  \\\n",
       "223577  0593321200        tomorrow_and_tomorrow_and_tomorrow:_a_novel   \n",
       "243390  b0cl49tw5w                 stanley_classic_legendary_camp_mug   \n",
       "206156  b0b52zy9j9  otostar_throw_pillow_insert_12_x_20_cushion_in...   \n",
       "255791  b0c9pdfttl  byybuo_android_13_tablet101_inch_tablet_with_c...   \n",
       "280203  b0ckp5c4y8  atumtek_55\"_selfie_stick_tripod_allinone_exten...   \n",
       "205446  b07kq2j3vr  elegant_comfort_luxury_ultrasoft_2piece_pillow...   \n",
       "304814  b0c7jpypmv  levi's_women's_726_high_rise_flare_jeans_also_...   \n",
       "275628  b0bmzzv6r3  mattel_disney_wish_singing_asha_of_rosas_fashi...   \n",
       "314457  b09pzsljz6  oqq_women's_3_piece_medium_support_crop_top_se...   \n",
       "31215   b09jkyy9yj  lego_speed_champions_1970_ferrari_512_m_76906_...   \n",
       "\n",
       "        reviewRating reviewDate  \n",
       "223577           5.0 2024-02-14  \n",
       "243390           5.0 2024-02-12  \n",
       "206156           5.0 2024-01-27  \n",
       "255791           5.0 2024-01-25  \n",
       "280203           4.0 2024-01-21  \n",
       "205446           5.0 2024-01-17  \n",
       "304814           5.0 2024-01-05  \n",
       "275628           5.0 2024-01-05  \n",
       "314457           5.0 2024-01-05  \n",
       "31215            5.0 2024-01-04  "
      ]
     },
     "execution_count": 11,
     "metadata": {},
     "output_type": "execute_result"
    }
   ],
   "source": [
    "uid = 'Laura_'\n",
    "\n",
    "# Filter the DataFrame for the given reviewerID and select relevant columns\n",
    "print(f\"Top 10 Latest Reviews by {uid}\")\n",
    "reviewer_reviews_df = reviews[reviews['reviewerID'] == uid][['ASIN','ProductName','reviewRating','reviewDate']]\n",
    "reviewer_reviews_df.sort_values(by='reviewDate', ascending=False).head(10)"
   ]
  },
  {
   "cell_type": "code",
   "execution_count": 12,
   "id": "77a6fcb2-6d96-47a0-8773-bbe707aaa3b1",
   "metadata": {
    "execution": {
     "iopub.execute_input": "2024-03-02T16:18:22.431873Z",
     "iopub.status.busy": "2024-03-02T16:18:22.431631Z",
     "iopub.status.idle": "2024-03-02T16:18:22.473621Z",
     "shell.execute_reply": "2024-03-02T16:18:22.472294Z",
     "shell.execute_reply.started": "2024-03-02T16:18:22.431852Z"
    },
    "tags": []
   },
   "outputs": [
    {
     "name": "stdout",
     "output_type": "stream",
     "text": [
      "Top-N Recommendations for Laura_ based on All Transactions\n"
     ]
    },
    {
     "data": {
      "text/html": [
       "<div>\n",
       "<style scoped>\n",
       "    .dataframe tbody tr th:only-of-type {\n",
       "        vertical-align: middle;\n",
       "    }\n",
       "\n",
       "    .dataframe tbody tr th {\n",
       "        vertical-align: top;\n",
       "    }\n",
       "\n",
       "    .dataframe thead th {\n",
       "        text-align: right;\n",
       "    }\n",
       "</style>\n",
       "<table border=\"1\" class=\"dataframe\">\n",
       "  <thead>\n",
       "    <tr style=\"text-align: right;\">\n",
       "      <th></th>\n",
       "      <th>ASIN</th>\n",
       "      <th>ProductName</th>\n",
       "      <th>reviewRating</th>\n",
       "    </tr>\n",
       "  </thead>\n",
       "  <tbody>\n",
       "    <tr>\n",
       "      <th>17732</th>\n",
       "      <td>b07rshbsht</td>\n",
       "      <td>duracell_optimum_aa_batteries_with_power_boost...</td>\n",
       "      <td>5.0</td>\n",
       "    </tr>\n",
       "    <tr>\n",
       "      <th>62998</th>\n",
       "      <td>b004guu7zs</td>\n",
       "      <td>jayden_4in1_mini_convertible_crib_and_changer_...</td>\n",
       "      <td>5.0</td>\n",
       "    </tr>\n",
       "    <tr>\n",
       "      <th>66314</th>\n",
       "      <td>b08l4s8cbv</td>\n",
       "      <td>homeideas_sage_green_sheer_curtains_52_x_63_in...</td>\n",
       "      <td>5.0</td>\n",
       "    </tr>\n",
       "    <tr>\n",
       "      <th>109667</th>\n",
       "      <td>b0cn2vlq4x</td>\n",
       "      <td>utag_hidden_gps_tracker_for_kids_2_pack_blueto...</td>\n",
       "      <td>5.0</td>\n",
       "    </tr>\n",
       "    <tr>\n",
       "      <th>149872</th>\n",
       "      <td>b0cmqrhzqn</td>\n",
       "      <td>etronik_weekender_bag_for_men_women_travel_duf...</td>\n",
       "      <td>5.0</td>\n",
       "    </tr>\n",
       "    <tr>\n",
       "      <th>164644</th>\n",
       "      <td>b0b99h35tb</td>\n",
       "      <td>jeoyoo_wall_mirror_full_length_cheap_over_/_on...</td>\n",
       "      <td>5.0</td>\n",
       "    </tr>\n",
       "    <tr>\n",
       "      <th>253616</th>\n",
       "      <td>b085sypmlv</td>\n",
       "      <td>firstime_cor_westbrook_farmhouse_cottage_galva...</td>\n",
       "      <td>5.0</td>\n",
       "    </tr>\n",
       "    <tr>\n",
       "      <th>272298</th>\n",
       "      <td>b00iowbkqo</td>\n",
       "      <td>wiggle_car_ride_on_toy__no_batteries_gears_or_...</td>\n",
       "      <td>5.0</td>\n",
       "    </tr>\n",
       "    <tr>\n",
       "      <th>286205</th>\n",
       "      <td>b091sy2byw</td>\n",
       "      <td>bellsal_silverware_organizer_kitchen_drawer_or...</td>\n",
       "      <td>5.0</td>\n",
       "    </tr>\n",
       "    <tr>\n",
       "      <th>292315</th>\n",
       "      <td>b081lj5dp6</td>\n",
       "      <td>bariatric_fusion_high_adek_multivitamin_capsul...</td>\n",
       "      <td>5.0</td>\n",
       "    </tr>\n",
       "  </tbody>\n",
       "</table>\n",
       "</div>"
      ],
      "text/plain": [
       "              ASIN                                        ProductName  \\\n",
       "17732   b07rshbsht  duracell_optimum_aa_batteries_with_power_boost...   \n",
       "62998   b004guu7zs  jayden_4in1_mini_convertible_crib_and_changer_...   \n",
       "66314   b08l4s8cbv  homeideas_sage_green_sheer_curtains_52_x_63_in...   \n",
       "109667  b0cn2vlq4x  utag_hidden_gps_tracker_for_kids_2_pack_blueto...   \n",
       "149872  b0cmqrhzqn  etronik_weekender_bag_for_men_women_travel_duf...   \n",
       "164644  b0b99h35tb  jeoyoo_wall_mirror_full_length_cheap_over_/_on...   \n",
       "253616  b085sypmlv  firstime_cor_westbrook_farmhouse_cottage_galva...   \n",
       "272298  b00iowbkqo  wiggle_car_ride_on_toy__no_batteries_gears_or_...   \n",
       "286205  b091sy2byw  bellsal_silverware_organizer_kitchen_drawer_or...   \n",
       "292315  b081lj5dp6  bariatric_fusion_high_adek_multivitamin_capsul...   \n",
       "\n",
       "        reviewRating  \n",
       "17732            5.0  \n",
       "62998            5.0  \n",
       "66314            5.0  \n",
       "109667           5.0  \n",
       "149872           5.0  \n",
       "164644           5.0  \n",
       "253616           5.0  \n",
       "272298           5.0  \n",
       "286205           5.0  \n",
       "292315           5.0  "
      ]
     },
     "execution_count": 12,
     "metadata": {},
     "output_type": "execute_result"
    }
   ],
   "source": [
    "top_recommendations = get_top_n_recommendations(model, dataset, user_id=uid, n=10)\n",
    "recommended_products_df = reviews[reviews['ASIN'].isin(top_recommendations)].drop_duplicates(subset=['ASIN'])\n",
    "recommended_products_names = recommended_products_df[['ASIN', 'ProductName', 'reviewRating']].drop_duplicates()\n",
    "print(f'Top-N Recommendations for {uid} based on All Transactions')\n",
    "recommended_products_names"
   ]
  },
  {
   "cell_type": "code",
   "execution_count": 13,
   "id": "a9a0ecec-0c92-4e49-8606-ec1d83c3c855",
   "metadata": {
    "execution": {
     "iopub.execute_input": "2024-03-02T16:18:22.474874Z",
     "iopub.status.busy": "2024-03-02T16:18:22.474643Z",
     "iopub.status.idle": "2024-03-02T16:18:22.631976Z",
     "shell.execute_reply": "2024-03-02T16:18:22.630617Z",
     "shell.execute_reply.started": "2024-03-02T16:18:22.474854Z"
    },
    "tags": []
   },
   "outputs": [
    {
     "name": "stdout",
     "output_type": "stream",
     "text": [
      "Top-N Recommendations for Laura_ Based on Latest Reviews\n"
     ]
    },
    {
     "data": {
      "text/html": [
       "<div>\n",
       "<style scoped>\n",
       "    .dataframe tbody tr th:only-of-type {\n",
       "        vertical-align: middle;\n",
       "    }\n",
       "\n",
       "    .dataframe tbody tr th {\n",
       "        vertical-align: top;\n",
       "    }\n",
       "\n",
       "    .dataframe thead th {\n",
       "        text-align: right;\n",
       "    }\n",
       "</style>\n",
       "<table border=\"1\" class=\"dataframe\">\n",
       "  <thead>\n",
       "    <tr style=\"text-align: right;\">\n",
       "      <th></th>\n",
       "      <th>ASIN</th>\n",
       "      <th>ProductName</th>\n",
       "      <th>reviewRating</th>\n",
       "    </tr>\n",
       "  </thead>\n",
       "  <tbody>\n",
       "    <tr>\n",
       "      <th>31203</th>\n",
       "      <td>b09jkyy9yj</td>\n",
       "      <td>lego_speed_champions_1970_ferrari_512_m_76906_...</td>\n",
       "      <td>5.0</td>\n",
       "    </tr>\n",
       "    <tr>\n",
       "      <th>205438</th>\n",
       "      <td>b07kq2j3vr</td>\n",
       "      <td>elegant_comfort_luxury_ultrasoft_2piece_pillow...</td>\n",
       "      <td>5.0</td>\n",
       "    </tr>\n",
       "    <tr>\n",
       "      <th>206148</th>\n",
       "      <td>b0b52zy9j9</td>\n",
       "      <td>otostar_throw_pillow_insert_12_x_20_cushion_in...</td>\n",
       "      <td>5.0</td>\n",
       "    </tr>\n",
       "    <tr>\n",
       "      <th>223573</th>\n",
       "      <td>0593321200</td>\n",
       "      <td>tomorrow_and_tomorrow_and_tomorrow:_a_novel</td>\n",
       "      <td>5.0</td>\n",
       "    </tr>\n",
       "    <tr>\n",
       "      <th>243381</th>\n",
       "      <td>b0cl49tw5w</td>\n",
       "      <td>stanley_classic_legendary_camp_mug</td>\n",
       "      <td>5.0</td>\n",
       "    </tr>\n",
       "    <tr>\n",
       "      <th>255781</th>\n",
       "      <td>b0c9pdfttl</td>\n",
       "      <td>byybuo_android_13_tablet101_inch_tablet_with_c...</td>\n",
       "      <td>5.0</td>\n",
       "    </tr>\n",
       "    <tr>\n",
       "      <th>275618</th>\n",
       "      <td>b0bmzzv6r3</td>\n",
       "      <td>mattel_disney_wish_singing_asha_of_rosas_fashi...</td>\n",
       "      <td>5.0</td>\n",
       "    </tr>\n",
       "    <tr>\n",
       "      <th>280195</th>\n",
       "      <td>b0ckp5c4y8</td>\n",
       "      <td>atumtek_55\"_selfie_stick_tripod_allinone_exten...</td>\n",
       "      <td>5.0</td>\n",
       "    </tr>\n",
       "    <tr>\n",
       "      <th>304804</th>\n",
       "      <td>b0c7jpypmv</td>\n",
       "      <td>levi's_women's_726_high_rise_flare_jeans_also_...</td>\n",
       "      <td>5.0</td>\n",
       "    </tr>\n",
       "    <tr>\n",
       "      <th>314449</th>\n",
       "      <td>b09pzsljz6</td>\n",
       "      <td>oqq_women's_3_piece_medium_support_crop_top_se...</td>\n",
       "      <td>5.0</td>\n",
       "    </tr>\n",
       "  </tbody>\n",
       "</table>\n",
       "</div>"
      ],
      "text/plain": [
       "              ASIN                                        ProductName  \\\n",
       "31203   b09jkyy9yj  lego_speed_champions_1970_ferrari_512_m_76906_...   \n",
       "205438  b07kq2j3vr  elegant_comfort_luxury_ultrasoft_2piece_pillow...   \n",
       "206148  b0b52zy9j9  otostar_throw_pillow_insert_12_x_20_cushion_in...   \n",
       "223573  0593321200        tomorrow_and_tomorrow_and_tomorrow:_a_novel   \n",
       "243381  b0cl49tw5w                 stanley_classic_legendary_camp_mug   \n",
       "255781  b0c9pdfttl  byybuo_android_13_tablet101_inch_tablet_with_c...   \n",
       "275618  b0bmzzv6r3  mattel_disney_wish_singing_asha_of_rosas_fashi...   \n",
       "280195  b0ckp5c4y8  atumtek_55\"_selfie_stick_tripod_allinone_exten...   \n",
       "304804  b0c7jpypmv  levi's_women's_726_high_rise_flare_jeans_also_...   \n",
       "314449  b09pzsljz6  oqq_women's_3_piece_medium_support_crop_top_se...   \n",
       "\n",
       "        reviewRating  \n",
       "31203            5.0  \n",
       "205438           5.0  \n",
       "206148           5.0  \n",
       "223573           5.0  \n",
       "243381           5.0  \n",
       "255781           5.0  \n",
       "275618           5.0  \n",
       "280195           5.0  \n",
       "304804           5.0  \n",
       "314449           5.0  "
      ]
     },
     "execution_count": 13,
     "metadata": {},
     "output_type": "execute_result"
    }
   ],
   "source": [
    "top_recommendations_latest = get_top_n_recommendations_with_latest_transactions(\n",
    "    model=model,\n",
    "    dataset=dataset,\n",
    "    user_id=uid,\n",
    "    transactions_df=reviews,\n",
    "    n=10\n",
    ")\n",
    "\n",
    "latest_recommended_products_df = reviews[reviews['ASIN'].isin(top_recommendations_latest)].drop_duplicates(subset=['ASIN'])\n",
    "latest_recommended_products_names = latest_recommended_products_df[['ASIN', 'ProductName', 'reviewRating']].drop_duplicates()\n",
    "print(f'Top-N Recommendations for {uid} Based on Latest Reviews')\n",
    "latest_recommended_products_names"
   ]
  },
  {
   "cell_type": "markdown",
   "id": "30b2ece6-e036-40ec-996f-0c7793c06262",
   "metadata": {
    "tags": []
   },
   "source": [
    "### Model Evaluation"
   ]
  },
  {
   "cell_type": "markdown",
   "id": "00a90fb9-8680-4041-8826-3d509ed55e84",
   "metadata": {},
   "source": [
    "- **ROC AUC metric:** the probability that a randomly chosen positive example has a higher score than a randomly chosen negative example. A perfect score is 1.0.\n",
    "- **Precision at k**: the fraction of known positives in the first k positions of the ranked list of results. A perfect score is 1.0.\n",
    "- **Recall at k**: the number of positive items in the first k positions of the ranked list of results divided by the number of positive items in the test period. A perfect score is 1.0."
   ]
  },
  {
   "cell_type": "code",
   "execution_count": 15,
   "id": "51d7c53d-5340-40ae-8b0b-231370313c5a",
   "metadata": {
    "execution": {
     "iopub.execute_input": "2024-03-02T16:18:29.268291Z",
     "iopub.status.busy": "2024-03-02T16:18:29.267508Z",
     "iopub.status.idle": "2024-03-02T16:35:58.820385Z",
     "shell.execute_reply": "2024-03-02T16:35:58.819062Z",
     "shell.execute_reply.started": "2024-03-02T16:18:29.268230Z"
    },
    "tags": []
   },
   "outputs": [
    {
     "name": "stderr",
     "output_type": "stream",
     "text": [
      "Processing: 100%|██████████| 6/6 [17:29<00:00, 174.92s/it]"
     ]
    },
    {
     "name": "stdout",
     "output_type": "stream",
     "text": [
      "Test Results:\n",
      "K = 5: AUC score: 0.5017999410629272, Precision: 3.720993117894977e-05, Recall: 0.00016913605304106624\n",
      "K = 6: AUC score: 0.5017999410629272, Precision: 3.6646146327257156e-05, Recall: 0.00020296326364927948\n",
      "K = 7: AUC score: 0.5017999410629272, Precision: 3.141098204650916e-05, Recall: 0.00020296326364927948\n",
      "K = 8: AUC score: 0.5017999410629272, Precision: 2.959880839625839e-05, Recall: 0.00021987686895338611\n",
      "K = 9: AUC score: 0.5017999410629272, Precision: 2.631005372677464e-05, Recall: 0.00021987686895338611\n",
      "K = 10: AUC score: 0.5017999410629272, Precision: 2.8753129299730062e-05, Recall: 0.000270617684865706\n"
     ]
    },
    {
     "name": "stderr",
     "output_type": "stream",
     "text": [
      "\n"
     ]
    }
   ],
   "source": [
    "from tqdm import tqdm\n",
    "\n",
    "k_values = range(5, 11)\n",
    "auc_scores = []\n",
    "precision_scores = []\n",
    "recall_scores = []\n",
    "\n",
    "# Wrapping k_values with tqdm for progress bar\n",
    "for k in tqdm(k_values, desc=\"Processing\"):\n",
    "    auc = auc_score(model, Test).mean()\n",
    "    precision = precision_at_k(model, Test, k=k).mean()\n",
    "    recall = recall_at_k(model, Test, k=k).mean()\n",
    "    \n",
    "    auc_scores.append(auc)\n",
    "    precision_scores.append(precision)\n",
    "    recall_scores.append(recall)\n",
    "\n",
    "print(\"Test Results:\")\n",
    "for k, auc, precision, recall in zip(k_values, auc_scores, precision_scores, recall_scores):\n",
    "    print(f'K = {k}: AUC score: {auc}, Precision: {precision}, Recall: {recall}')"
   ]
  },
  {
   "cell_type": "code",
   "execution_count": 17,
   "id": "98af3dc8-d9b2-40bb-a3fd-0203dc062291",
   "metadata": {
    "execution": {
     "iopub.execute_input": "2024-03-02T16:36:26.618072Z",
     "iopub.status.busy": "2024-03-02T16:36:26.617353Z",
     "iopub.status.idle": "2024-03-02T17:42:08.735048Z",
     "shell.execute_reply": "2024-03-02T17:42:08.733132Z",
     "shell.execute_reply.started": "2024-03-02T16:36:26.618013Z"
    },
    "tags": []
   },
   "outputs": [
    {
     "name": "stderr",
     "output_type": "stream",
     "text": [
      "Processing Train: 100%|██████████| 6/6 [1:05:42<00:00, 657.02s/it]"
     ]
    },
    {
     "name": "stdout",
     "output_type": "stream",
     "text": [
      "Train Results:\n",
      "K = 5: AUC score: 0.5231432914733887, Precision: 3.082041075685993e-05, Recall: 0.00012917378633296018\n",
      "K = 6: AUC score: 0.5231432914733887, Precision: 3.1726893212180585e-05, Recall: 0.00014654803829587294\n",
      "K = 7: AUC score: 0.5231432914733887, Precision: 3.237438068026677e-05, Recall: 0.00018054113996244142\n",
      "K = 8: AUC score: 0.5231432914733887, Precision: 3.285999991931021e-05, Recall: 0.00021377883936975282\n",
      "K = 9: AUC score: 0.5231432914733887, Precision: 3.323769851704128e-05, Recall: 0.0002500381478140925\n",
      "K = 10: AUC score: 0.5231432914733887, Precision: 3.35398581228219e-05, Recall: 0.0002810096404436326\n"
     ]
    },
    {
     "name": "stderr",
     "output_type": "stream",
     "text": [
      "\n"
     ]
    }
   ],
   "source": [
    "k_values = range(5, 11)\n",
    "auc_scores = []\n",
    "precision_scores = []\n",
    "recall_scores = []\n",
    "\n",
    "# Wrapping k_values with tqdm for progress bar\n",
    "for k in tqdm(k_values, desc=\"Processing Train\"):\n",
    "    auc = auc_score(model, Train).mean()\n",
    "    precision = precision_at_k(model, Train, k=k).mean()\n",
    "    recall = recall_at_k(model, Train, k=k).mean()\n",
    "    \n",
    "    auc_scores.append(auc)\n",
    "    precision_scores.append(precision)\n",
    "    recall_scores.append(recall)\n",
    "\n",
    "print(\"Train Results:\")\n",
    "for k, auc, precision, recall in zip(k_values, auc_scores, precision_scores, recall_scores):\n",
    "    print(f'K = {k}: AUC score: {auc}, Precision: {precision}, Recall: {recall}')"
   ]
  },
  {
   "cell_type": "markdown",
   "id": "dd1923ed-3421-44af-bba3-d22e1ca9c89f",
   "metadata": {},
   "source": [
    "### Interpretation of Results"
   ]
  },
  {
   "cell_type": "markdown",
   "id": "434595bc-cdd6-4ee1-808f-020159995c19",
   "metadata": {},
   "source": [
    "- The AUC score is consistently high (0.9986754059791565) across all K values, indicating excellent overall model performance in distinguishing between positive and negative interactions.\n",
    "\n",
    "- Precision at K measures the proportion of recommended items in the top-K set that are relevant. Precision decreases as K increases in your results, which is expected. When you recommend more items (increase K), the likelihood of including irrelevant items increases, thus lowering precision. However, a precision above 0.08 even at K=10 is quite good, suggesting that the top recommended items are largely relevant.\n",
    "\n",
    "- Recall at K measures the proportion of relevant items that are successfully recommended in the top-K set. Your results show increasing recall with K, which is typical. As you recommend more items, you're more likely to cover a higher fraction of the relevant items, hence the recall increases. A recall of 0.8549128186215507 at K=10 indicates that about 85% of the relevant items are captured in the top 10 recommendations."
   ]
  },
  {
   "cell_type": "code",
   "execution_count": null,
   "id": "cc07ce36-a2f1-4b65-93fd-dd8430e12e3f",
   "metadata": {},
   "outputs": [],
   "source": []
  }
 ],
 "metadata": {
  "kernelspec": {
   "display_name": "Python 3 (ipykernel)",
   "language": "python",
   "name": "python3"
  },
  "language_info": {
   "codemirror_mode": {
    "name": "ipython",
    "version": 3
   },
   "file_extension": ".py",
   "mimetype": "text/x-python",
   "name": "python",
   "nbconvert_exporter": "python",
   "pygments_lexer": "ipython3",
   "version": "3.10.12"
  }
 },
 "nbformat": 4,
 "nbformat_minor": 5
}
